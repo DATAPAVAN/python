{
  "nbformat": 4,
  "nbformat_minor": 0,
  "metadata": {
    "colab": {
      "provenance": []
    },
    "kernelspec": {
      "name": "python3",
      "display_name": "Python 3"
    },
    "language_info": {
      "name": "python"
    }
  },
  "cells": [
    {
      "cell_type": "markdown",
      "source": [
        "# **Properties of Sets:**\n",
        "\n",
        "\n",
        "*   sets are like lists,with an exception that they don't contain duplicates entries.And also set is an unordered collection.\n",
        "*   while storing an element in a set, it's hash value is computed using a hash technique  to determine where it should be stored in the set.\n",
        "*   since hash  value of an element will always be same,no matter in which order we insert the elements in a set, they get stored in the same order.\n",
        "*   it is possible to create set of strings and tuples but not set of lists.\n",
        "*   since strings and tuples are immutable , their hash value remains same at all times. Hence a set of strings or tuples is permitted.However ,a  list may change ,so its hash value may change ,hence set of lists is not permitted.\n",
        "*   sets are commonly used for eliminating duplicate entries and membership testing.\n",
        "*   sets can't be sliced using [ ].\n",
        "*   iteration process is same for sets as like lists and tuples.\n",
        "*   enumerate fuction can be used to give an index for set also,but here it's just an accessing order not an insertion order.\n",
        "*   if we want an immutable set ,we should use a frozenset function.\n",
        "*   These operations can be performed in sets.\n",
        "          \n",
        "1.   conversion\n",
        "2.   aliasing\n",
        "3.   cloning\n",
        "4.   searching\n",
        "5.   identity\n",
        "6.   comparision\n",
        "7.   emptiness\n",
        "\n",
        "*  These operations can't be performed in sets.\n",
        "1. concatenation\n",
        "2. merging\n",
        "\n",
        "\n",
        "\n",
        "\n",
        "\n",
        "\n",
        "\n",
        "\n",
        "\n",
        "\n",
        "\n",
        "\n",
        "\n"
      ],
      "metadata": {
        "id": "upULVQ9FjadW"
      }
    },
    {
      "cell_type": "code",
      "execution_count": 1,
      "metadata": {
        "id": "qJJ2r5qaPvS4"
      },
      "outputs": [],
      "source": [
        "a=set()\n",
        "b={2}\n",
        "c={'sanjay',35,34555.50}\n",
        "d={20,20,20,20}\n",
        "d1={(0.1*3),0.3}"
      ]
    },
    {
      "cell_type": "code",
      "source": [
        "d"
      ],
      "metadata": {
        "colab": {
          "base_uri": "https://localhost:8080/"
        },
        "id": "QluAgFShQmH4",
        "outputId": "dbe6b522-8fd5-48f8-e315-c166e38e6654"
      },
      "execution_count": 2,
      "outputs": [
        {
          "output_type": "execute_result",
          "data": {
            "text/plain": [
              "{20}"
            ]
          },
          "metadata": {},
          "execution_count": 2
        }
      ]
    },
    {
      "cell_type": "code",
      "source": [
        "d1"
      ],
      "metadata": {
        "colab": {
          "base_uri": "https://localhost:8080/"
        },
        "id": "P-HosJWaQpXf",
        "outputId": "bd8cb2ab-5d72-475b-887a-f63e74991aac"
      },
      "execution_count": 3,
      "outputs": [
        {
          "output_type": "execute_result",
          "data": {
            "text/plain": [
              "{0.3, 0.30000000000000004}"
            ]
          },
          "metadata": {},
          "execution_count": 3
        }
      ]
    },
    {
      "cell_type": "code",
      "source": [
        "s={12,23,45,16,52}\n",
        "t={16,52,12,23,45}\n",
        "u={52,12,16,45,23}\n",
        "print(t)\n",
        "print(u)\n",
        "print(s)"
      ],
      "metadata": {
        "colab": {
          "base_uri": "https://localhost:8080/"
        },
        "id": "BLknsOQfQqZy",
        "outputId": "8474a65d-bcc3-410e-de1f-887d9e977196"
      },
      "execution_count": 4,
      "outputs": [
        {
          "output_type": "stream",
          "name": "stdout",
          "text": [
            "{12, 45, 16, 52, 23}\n",
            "{12, 45, 16, 52, 23}\n",
            "{12, 45, 16, 52, 23}\n"
          ]
        }
      ]
    },
    {
      "cell_type": "code",
      "source": [
        "for ele in s:\n",
        "  print(ele)"
      ],
      "metadata": {
        "colab": {
          "base_uri": "https://localhost:8080/"
        },
        "id": "HFGlj4CURTHa",
        "outputId": "7cb0dd6f-764c-46b1-907c-35a0dc352769"
      },
      "execution_count": 5,
      "outputs": [
        {
          "output_type": "stream",
          "name": "stdout",
          "text": [
            "12\n",
            "45\n",
            "16\n",
            "52\n",
            "23\n"
          ]
        }
      ]
    },
    {
      "cell_type": "code",
      "source": [
        "s={'gate','fate','late'}\n",
        "s.add('rate')"
      ],
      "metadata": {
        "id": "Ai-Mid9-RuHL"
      },
      "execution_count": 6,
      "outputs": []
    },
    {
      "cell_type": "code",
      "source": [
        "s"
      ],
      "metadata": {
        "colab": {
          "base_uri": "https://localhost:8080/"
        },
        "id": "CXZeKLCvR7KZ",
        "outputId": "ecadda20-86ff-4281-89f3-2ff468414815"
      },
      "execution_count": 7,
      "outputs": [
        {
          "output_type": "execute_result",
          "data": {
            "text/plain": [
              "{'fate', 'gate', 'late', 'rate'}"
            ]
          },
          "metadata": {},
          "execution_count": 7
        }
      ]
    },
    {
      "cell_type": "code",
      "source": [
        "s1={'morning','evening'}\n",
        "s2={(12,323),(33,34),(344,343)}\n",
        "s2={[23,44],[55,43]}"
      ],
      "metadata": {
        "colab": {
          "base_uri": "https://localhost:8080/",
          "height": 209
        },
        "id": "3AAaZTy9R8CM",
        "outputId": "7384e0c5-1387-4a98-a1c6-196ebdb7a30c"
      },
      "execution_count": 8,
      "outputs": [
        {
          "output_type": "error",
          "ename": "TypeError",
          "evalue": "ignored",
          "traceback": [
            "\u001b[0;31m---------------------------------------------------------------------------\u001b[0m",
            "\u001b[0;31mTypeError\u001b[0m                                 Traceback (most recent call last)",
            "\u001b[0;32m<ipython-input-8-0ebe254dfe10>\u001b[0m in \u001b[0;36m<module>\u001b[0;34m\u001b[0m\n\u001b[1;32m      1\u001b[0m \u001b[0ms1\u001b[0m\u001b[0;34m=\u001b[0m\u001b[0;34m{\u001b[0m\u001b[0;34m'morning'\u001b[0m\u001b[0;34m,\u001b[0m\u001b[0;34m'evening'\u001b[0m\u001b[0;34m}\u001b[0m\u001b[0;34m\u001b[0m\u001b[0;34m\u001b[0m\u001b[0m\n\u001b[1;32m      2\u001b[0m \u001b[0ms2\u001b[0m\u001b[0;34m=\u001b[0m\u001b[0;34m{\u001b[0m\u001b[0;34m(\u001b[0m\u001b[0;36m12\u001b[0m\u001b[0;34m,\u001b[0m\u001b[0;36m323\u001b[0m\u001b[0;34m)\u001b[0m\u001b[0;34m,\u001b[0m\u001b[0;34m(\u001b[0m\u001b[0;36m33\u001b[0m\u001b[0;34m,\u001b[0m\u001b[0;36m34\u001b[0m\u001b[0;34m)\u001b[0m\u001b[0;34m,\u001b[0m\u001b[0;34m(\u001b[0m\u001b[0;36m344\u001b[0m\u001b[0;34m,\u001b[0m\u001b[0;36m343\u001b[0m\u001b[0;34m)\u001b[0m\u001b[0;34m}\u001b[0m\u001b[0;34m\u001b[0m\u001b[0;34m\u001b[0m\u001b[0m\n\u001b[0;32m----> 3\u001b[0;31m \u001b[0ms2\u001b[0m\u001b[0;34m=\u001b[0m\u001b[0;34m{\u001b[0m\u001b[0;34m[\u001b[0m\u001b[0;36m23\u001b[0m\u001b[0;34m,\u001b[0m\u001b[0;36m44\u001b[0m\u001b[0;34m]\u001b[0m\u001b[0;34m,\u001b[0m\u001b[0;34m[\u001b[0m\u001b[0;36m55\u001b[0m\u001b[0;34m,\u001b[0m\u001b[0;36m43\u001b[0m\u001b[0;34m]\u001b[0m\u001b[0;34m}\u001b[0m\u001b[0;34m\u001b[0m\u001b[0;34m\u001b[0m\u001b[0m\n\u001b[0m",
            "\u001b[0;31mTypeError\u001b[0m: unhashable type: 'list'"
          ]
        }
      ]
    },
    {
      "cell_type": "code",
      "source": [
        "s1"
      ],
      "metadata": {
        "colab": {
          "base_uri": "https://localhost:8080/"
        },
        "id": "3Pw9Nly0SbHS",
        "outputId": "0268b339-9d9a-4f63-882e-1bc1ce8ca42e"
      },
      "execution_count": 9,
      "outputs": [
        {
          "output_type": "execute_result",
          "data": {
            "text/plain": [
              "{'evening', 'morning'}"
            ]
          },
          "metadata": {},
          "execution_count": 9
        }
      ]
    },
    {
      "cell_type": "code",
      "source": [
        "s2"
      ],
      "metadata": {
        "colab": {
          "base_uri": "https://localhost:8080/"
        },
        "id": "8YC7-NazSkJh",
        "outputId": "eb62325c-8e88-4104-9fc4-08c6d13e7dd0"
      },
      "execution_count": 10,
      "outputs": [
        {
          "output_type": "execute_result",
          "data": {
            "text/plain": [
              "{(12, 323), (33, 34), (344, 343)}"
            ]
          },
          "metadata": {},
          "execution_count": 10
        }
      ]
    },
    {
      "cell_type": "code",
      "source": [
        "s=frozenset({'gate','fate','rate'})\n",
        "s.add('late')"
      ],
      "metadata": {
        "colab": {
          "base_uri": "https://localhost:8080/",
          "height": 190
        },
        "id": "SlxnubicSklg",
        "outputId": "71ddef93-428a-41f4-ffde-72d316e13370"
      },
      "execution_count": 12,
      "outputs": [
        {
          "output_type": "error",
          "ename": "AttributeError",
          "evalue": "ignored",
          "traceback": [
            "\u001b[0;31m---------------------------------------------------------------------------\u001b[0m",
            "\u001b[0;31mAttributeError\u001b[0m                            Traceback (most recent call last)",
            "\u001b[0;32m<ipython-input-12-705641810c4b>\u001b[0m in \u001b[0;36m<module>\u001b[0;34m\u001b[0m\n\u001b[1;32m      1\u001b[0m \u001b[0ms\u001b[0m\u001b[0;34m=\u001b[0m\u001b[0mfrozenset\u001b[0m\u001b[0;34m(\u001b[0m\u001b[0;34m{\u001b[0m\u001b[0;34m'gate'\u001b[0m\u001b[0;34m,\u001b[0m\u001b[0;34m'fate'\u001b[0m\u001b[0;34m,\u001b[0m\u001b[0;34m'rate'\u001b[0m\u001b[0;34m}\u001b[0m\u001b[0;34m)\u001b[0m\u001b[0;34m\u001b[0m\u001b[0;34m\u001b[0m\u001b[0m\n\u001b[0;32m----> 2\u001b[0;31m \u001b[0ms\u001b[0m\u001b[0;34m.\u001b[0m\u001b[0madd\u001b[0m\u001b[0;34m(\u001b[0m\u001b[0;34m'late'\u001b[0m\u001b[0;34m)\u001b[0m\u001b[0;34m\u001b[0m\u001b[0;34m\u001b[0m\u001b[0m\n\u001b[0m",
            "\u001b[0;31mAttributeError\u001b[0m: 'frozenset' object has no attribute 'add'"
          ]
        }
      ]
    },
    {
      "cell_type": "code",
      "source": [
        "s"
      ],
      "metadata": {
        "colab": {
          "base_uri": "https://localhost:8080/"
        },
        "id": "wWOCmfoWS35r",
        "outputId": "8b0cfbbf-cb6b-483b-9a8e-30157d35a981"
      },
      "execution_count": 13,
      "outputs": [
        {
          "output_type": "execute_result",
          "data": {
            "text/plain": [
              "frozenset({'fate', 'gate', 'rate'})"
            ]
          },
          "metadata": {},
          "execution_count": 13
        }
      ]
    },
    {
      "cell_type": "code",
      "source": [
        "lst=[1,2,3,45,5]\n",
        "s=set(lst)"
      ],
      "metadata": {
        "id": "7YakfCRkS_JF"
      },
      "execution_count": 15,
      "outputs": []
    },
    {
      "cell_type": "code",
      "source": [
        "s"
      ],
      "metadata": {
        "colab": {
          "base_uri": "https://localhost:8080/"
        },
        "id": "zk2Y5v5TTL49",
        "outputId": "2089887d-edeb-4d75-8a1b-d48b464d7f52"
      },
      "execution_count": 16,
      "outputs": [
        {
          "output_type": "execute_result",
          "data": {
            "text/plain": [
              "{1, 2, 3, 5, 45}"
            ]
          },
          "metadata": {},
          "execution_count": 16
        }
      ]
    },
    {
      "cell_type": "code",
      "source": [
        "s=set(lst)\n",
        "t={'A','B','C'}\n",
        "u=set() ## creates an empty set.\n",
        "s.add('Hello')\n",
        "s.remove(2)\n",
        "#s.remove(55) gives an error because s dont have that number...\n",
        "s.discard(55)  # it wont give an error,even though it don't have that number...\n",
        "s.update(t)\n",
        "c=s.copy()\n",
        "s.clear()"
      ],
      "metadata": {
        "id": "TYIs1MigTO71"
      },
      "execution_count": 22,
      "outputs": []
    },
    {
      "cell_type": "code",
      "source": [
        "c"
      ],
      "metadata": {
        "colab": {
          "base_uri": "https://localhost:8080/"
        },
        "id": "1LV7MWkcUFKg",
        "outputId": "b757a61e-3d12-4cce-e249-b56a635b9441"
      },
      "execution_count": 23,
      "outputs": [
        {
          "output_type": "execute_result",
          "data": {
            "text/plain": [
              "{1, 3, 45, 5, 'A', 'B', 'C', 'Hello'}"
            ]
          },
          "metadata": {},
          "execution_count": 23
        }
      ]
    },
    {
      "cell_type": "code",
      "source": [
        "u"
      ],
      "metadata": {
        "colab": {
          "base_uri": "https://localhost:8080/"
        },
        "id": "9PTDg_BlUHdX",
        "outputId": "4712356f-c21f-4169-af29-031c6332461d"
      },
      "execution_count": 24,
      "outputs": [
        {
          "output_type": "execute_result",
          "data": {
            "text/plain": [
              "set()"
            ]
          },
          "metadata": {},
          "execution_count": 24
        }
      ]
    },
    {
      "cell_type": "code",
      "source": [
        "s={12,15,13,23,22,16,17}\n",
        "t={13,15,22}\n",
        "print(s.issuperset(t))\n",
        "print(s.issubset(t))\n",
        "print(s.isdisjoint(t))# If the intersection of two sets is null then those are called as disjoint sets"
      ],
      "metadata": {
        "colab": {
          "base_uri": "https://localhost:8080/"
        },
        "id": "VT7q2-lkUJ6k",
        "outputId": "6b525550-0503-4fe8-ba13-7b8373cbff29"
      },
      "execution_count": 27,
      "outputs": [
        {
          "output_type": "stream",
          "name": "stdout",
          "text": [
            "True\n",
            "False\n",
            "False\n"
          ]
        }
      ]
    },
    {
      "cell_type": "code",
      "source": [
        "#Mathematical set operations.\n",
        "#sets\n",
        "engineers={'Vijay','Sanjay','Ajay','Sujay','Dinesh'}\n",
        "managers={'Aditya','Sanjay'}\n",
        "print(engineers|managers)# union opeation....\n",
        "print(engineers & managers)# intersection operation..\n",
        "print(engineers - managers)# difference operation..\n",
        "print(managers - engineers)# difference operation..\n",
        "print(managers^engineers)# symmetric difference operation..\n",
        "print(engineers^managers)# symmmetric difference operation.."
      ],
      "metadata": {
        "colab": {
          "base_uri": "https://localhost:8080/"
        },
        "id": "7SmlryhWVHsy",
        "outputId": "5bfd2396-2858-4cad-bef6-b2a77dfdb892"
      },
      "execution_count": 32,
      "outputs": [
        {
          "output_type": "stream",
          "name": "stdout",
          "text": [
            "{'Ajay', 'Aditya', 'Sujay', 'Sanjay', 'Dinesh', 'Vijay'}\n",
            "{'Sanjay'}\n",
            "{'Ajay', 'Dinesh', 'Vijay', 'Sujay'}\n",
            "{'Aditya'}\n",
            "{'Ajay', 'Aditya', 'Sujay', 'Dinesh', 'Vijay'}\n",
            "{'Aditya', 'Sujay', 'Dinesh', 'Vijay', 'Ajay'}\n"
          ]
        }
      ]
    },
    {
      "cell_type": "code",
      "source": [
        "a={1,2,3,4,5}\n",
        "b={2,4,5}\n",
        "print(a>=b)"
      ],
      "metadata": {
        "colab": {
          "base_uri": "https://localhost:8080/"
        },
        "id": "O_nHUr16WPbx",
        "outputId": "d17fea6e-2f08-45ea-9555-da92ccd23518"
      },
      "execution_count": 34,
      "outputs": [
        {
          "output_type": "stream",
          "name": "stdout",
          "text": [
            "True\n"
          ]
        }
      ]
    },
    {
      "cell_type": "code",
      "source": [
        "print(a<=b)"
      ],
      "metadata": {
        "colab": {
          "base_uri": "https://localhost:8080/"
        },
        "id": "5CUm08NMe2Sd",
        "outputId": "34150cba-f5da-4275-8822-3ef64634658f"
      },
      "execution_count": 35,
      "outputs": [
        {
          "output_type": "stream",
          "name": "stdout",
          "text": [
            "False\n"
          ]
        }
      ]
    },
    {
      "cell_type": "code",
      "source": [
        "s={'gate',{'fate','rate','late'}} # embedded list is not permitted."
      ],
      "metadata": {
        "colab": {
          "base_uri": "https://localhost:8080/",
          "height": 172
        },
        "id": "1GvFXDk5e_nZ",
        "outputId": "5ac9d653-b07c-4eae-f508-c9cd0baef4d7"
      },
      "execution_count": 36,
      "outputs": [
        {
          "output_type": "error",
          "ename": "TypeError",
          "evalue": "ignored",
          "traceback": [
            "\u001b[0;31m---------------------------------------------------------------------------\u001b[0m",
            "\u001b[0;31mTypeError\u001b[0m                                 Traceback (most recent call last)",
            "\u001b[0;32m<ipython-input-36-94d8c992c518>\u001b[0m in \u001b[0;36m<module>\u001b[0;34m\u001b[0m\n\u001b[0;32m----> 1\u001b[0;31m \u001b[0ms\u001b[0m\u001b[0;34m=\u001b[0m\u001b[0;34m{\u001b[0m\u001b[0;34m'gate'\u001b[0m\u001b[0;34m,\u001b[0m\u001b[0;34m{\u001b[0m\u001b[0;34m'fate'\u001b[0m\u001b[0;34m,\u001b[0m\u001b[0;34m'rate'\u001b[0m\u001b[0;34m,\u001b[0m\u001b[0;34m'late'\u001b[0m\u001b[0;34m}\u001b[0m\u001b[0;34m}\u001b[0m\u001b[0;34m\u001b[0m\u001b[0;34m\u001b[0m\u001b[0m\n\u001b[0m",
            "\u001b[0;31mTypeError\u001b[0m: unhashable type: 'set'"
          ]
        }
      ]
    },
    {
      "cell_type": "code",
      "source": [
        "x={1,2,3,4}\n",
        "print(*x)"
      ],
      "metadata": {
        "colab": {
          "base_uri": "https://localhost:8080/"
        },
        "id": "GgFzD3hDfQii",
        "outputId": "eb52347c-dc79-4b62-8035-bb523eed5f24"
      },
      "execution_count": 38,
      "outputs": [
        {
          "output_type": "stream",
          "name": "stdout",
          "text": [
            "1 2 3 4\n"
          ]
        }
      ]
    },
    {
      "cell_type": "code",
      "source": [
        "# What will be the output of the following program.\n",
        "a={10,20,30,40,50,60}\n",
        "b={33,44,51,10,20,50,30,33}\n",
        "print(a | b)\n",
        "print(a & b)\n",
        "print(a - b)\n",
        "print(a ^ b)\n",
        "print(a <= b)\n",
        "print(a >= b)\n"
      ],
      "metadata": {
        "colab": {
          "base_uri": "https://localhost:8080/"
        },
        "id": "dKTbhisbfcn6",
        "outputId": "ab7444d7-949d-4671-dbf2-1744bde194d4"
      },
      "execution_count": 39,
      "outputs": [
        {
          "output_type": "stream",
          "name": "stdout",
          "text": [
            "{33, 40, 10, 44, 50, 51, 20, 60, 30}\n",
            "{10, 50, 20, 30}\n",
            "{40, 60}\n",
            "{33, 40, 44, 51, 60}\n",
            "False\n",
            "False\n"
          ]
        }
      ]
    },
    {
      "cell_type": "code",
      "source": [
        "# What will be the output of the following program.\n",
        "a={1,2,3,4,5,6,7}\n",
        "b={1,2,3,4,5,6,7}\n",
        "c={1,2,3,4,5,6,7}\n",
        "d={1,2,3,4,5,6,7}\n",
        "e={3,4,1,0,2,5,8,9}\n",
        "a|=e\n",
        "print(a)\n",
        "b&=e\n",
        "print(b)\n",
        "c-=e\n",
        "print(c)\n",
        "d^=e\n",
        "print(d)"
      ],
      "metadata": {
        "colab": {
          "base_uri": "https://localhost:8080/"
        },
        "id": "0T5-p0xJgavb",
        "outputId": "b517ea2e-88dc-45f3-fa90-953e0ff095e8"
      },
      "execution_count": 41,
      "outputs": [
        {
          "output_type": "stream",
          "name": "stdout",
          "text": [
            "{0, 1, 2, 3, 4, 5, 6, 7, 8, 9}\n",
            "{1, 2, 3, 4, 5}\n",
            "{6, 7}\n",
            "{0, 6, 7, 8, 9}\n"
          ]
        }
      ]
    },
    {
      "cell_type": "code",
      "source": [
        "# Write a program to carry out the following operations on the given set,\n",
        "s={10,2,-3,4,5,88}\n",
        "print(len(s))\n",
        "print(max(s))\n",
        "print(min(s))\n",
        "print(sum(s))\n",
        "t=sorted(s)\n",
        "print(t)\n",
        "print(100 in s)\n",
        "print(-3 not in s)"
      ],
      "metadata": {
        "colab": {
          "base_uri": "https://localhost:8080/"
        },
        "id": "v22ophLIhdv3",
        "outputId": "6566c050-b5ec-4313-db5c-543e0aeadceb"
      },
      "execution_count": 42,
      "outputs": [
        {
          "output_type": "stream",
          "name": "stdout",
          "text": [
            "6\n",
            "88\n",
            "-3\n",
            "106\n",
            "[-3, 2, 4, 5, 10, 88]\n",
            "False\n",
            "False\n"
          ]
        }
      ]
    },
    {
      "cell_type": "code",
      "source": [
        "# What will be the output of the following program?\n",
        "l=[10,20,30,40,50]\n",
        "t=('Sundeep',25,79.58)\n",
        "s='set theory'\n",
        "s1=set(l)\n",
        "s2=set(t)\n",
        "s3=set(s)\n",
        "print(s1)\n",
        "print(s2)\n",
        "print(s3)\n"
      ],
      "metadata": {
        "colab": {
          "base_uri": "https://localhost:8080/"
        },
        "id": "Msqi9ScliOq8",
        "outputId": "24d4816e-1024-4e98-82fb-9832e7c142f5"
      },
      "execution_count": 44,
      "outputs": [
        {
          "output_type": "stream",
          "name": "stdout",
          "text": [
            "{40, 10, 50, 20, 30}\n",
            "{'Sundeep', 25, 79.58}\n",
            "{' ', 's', 'r', 'h', 't', 'e', 'o', 'y'}\n"
          ]
        }
      ]
    },
    {
      "cell_type": "code",
      "source": [],
      "metadata": {
        "id": "ijXZ5Yr0i3ee"
      },
      "execution_count": null,
      "outputs": []
    },
    {
      "cell_type": "markdown",
      "source": [
        "# Properties Of Dictionaries:\n",
        "\n",
        "\n",
        "*   Dictionary is a collection of key-value pairs.\n",
        "*   Dictionaries are also known as maps or associative arrays.\n",
        "*   Different keys may have same values.\n",
        "*   Keys must be unique . If keys are same, but values are different ,latest key value pair get stored.\n",
        "*   Unlike sets ,dictionaries preserve insertion order. However ,elements are not accessed using the position, but using the key.\n",
        "*  Thus elements are not position indexed, but key indexed.\n",
        "*  Dictionaries can't be sliced using [ ].\n",
        "*  Like strings ,lists ,tuples and sets ,dictionaries too can be iterated over using a for loop. There are three ways to do so.\n",
        "*  While iterating through a dictionary using a for loop.if we wish to keep track of index of the key-value pairs that is being referred to.we can do so using the built-in enumerate() function.\n",
        "*  Dictionaries are mutable. So, we can perform add/delete/modify operations on a dictionary.\n",
        "*  Dictionary keys can't be changed in place.\n",
        "*  Following operations won't work in dictionaries.\n",
        "1.  concatenation\n",
        "2.  merging\n",
        "3.  comparision\n",
        "\n",
        "\n"
      ],
      "metadata": {
        "id": "wPbHh0nESsHD"
      }
    },
    {
      "cell_type": "code",
      "source": [
        "d1={}\n",
        "d2={'A101':'Amol','A102':'Anil','A103':'Ravi'}\n",
        "d={\n",
        "    10:'a',20:'b',30:'z'\n",
        "}\n"
      ],
      "metadata": {
        "id": "J4AXBIG-f_Bx"
      },
      "execution_count": 1,
      "outputs": []
    },
    {
      "cell_type": "code",
      "source": [
        "d"
      ],
      "metadata": {
        "colab": {
          "base_uri": "https://localhost:8080/"
        },
        "id": "wCq99Sb8hqmr",
        "outputId": "1315ad18-6f68-432f-fe18-bd0661dfafa1"
      },
      "execution_count": 2,
      "outputs": [
        {
          "output_type": "execute_result",
          "data": {
            "text/plain": [
              "{10: 'a', 20: 'b', 30: 'z'}"
            ]
          },
          "metadata": {},
          "execution_count": 2
        }
      ]
    },
    {
      "cell_type": "code",
      "source": [
        "d1"
      ],
      "metadata": {
        "colab": {
          "base_uri": "https://localhost:8080/"
        },
        "id": "YrnJwtvfhsYz",
        "outputId": "a19ba54b-e5f5-450b-b09b-2cf4b7ed82e7"
      },
      "execution_count": 3,
      "outputs": [
        {
          "output_type": "execute_result",
          "data": {
            "text/plain": [
              "{}"
            ]
          },
          "metadata": {},
          "execution_count": 3
        }
      ]
    },
    {
      "cell_type": "code",
      "source": [
        "d2"
      ],
      "metadata": {
        "colab": {
          "base_uri": "https://localhost:8080/"
        },
        "id": "gQUr-Tz-hs3v",
        "outputId": "95e283f3-b7a3-4575-fcf2-751fc85ccfb3"
      },
      "execution_count": 4,
      "outputs": [
        {
          "output_type": "execute_result",
          "data": {
            "text/plain": [
              "{'A101': 'Amol', 'A102': 'Anil', 'A103': 'Ravi'}"
            ]
          },
          "metadata": {},
          "execution_count": 4
        }
      ]
    },
    {
      "cell_type": "code",
      "source": [
        "d={\n",
        "    10:'a',20:'b',10:'c'\n",
        "}"
      ],
      "metadata": {
        "id": "YYjvYqCBhtU_"
      },
      "execution_count": 5,
      "outputs": []
    },
    {
      "cell_type": "code",
      "source": [
        "d"
      ],
      "metadata": {
        "colab": {
          "base_uri": "https://localhost:8080/"
        },
        "id": "5Yi4bbL1h33j",
        "outputId": "b9fdcbd1-0d2f-49e7-9bbe-93007110c665"
      },
      "execution_count": 6,
      "outputs": [
        {
          "output_type": "execute_result",
          "data": {
            "text/plain": [
              "{10: 'c', 20: 'b'}"
            ]
          },
          "metadata": {},
          "execution_count": 6
        }
      ]
    },
    {
      "cell_type": "code",
      "source": [
        "d={10:'a',20:'b',10:'a'}"
      ],
      "metadata": {
        "id": "xk44PhFyh4oZ"
      },
      "execution_count": 7,
      "outputs": []
    },
    {
      "cell_type": "code",
      "source": [
        "d"
      ],
      "metadata": {
        "colab": {
          "base_uri": "https://localhost:8080/"
        },
        "id": "Va8Ej_u-iGtR",
        "outputId": "d52b0f2f-8bce-4fbe-99cd-a7b52971a3c7"
      },
      "execution_count": 8,
      "outputs": [
        {
          "output_type": "execute_result",
          "data": {
            "text/plain": [
              "{10: 'a', 20: 'b'}"
            ]
          },
          "metadata": {},
          "execution_count": 8
        }
      ]
    },
    {
      "cell_type": "code",
      "source": [
        "courses={'Daa':'cs','aoa':'me','svy':'ce'}\n",
        "for k,v in courses.items():\n",
        "  print(k,v)\n",
        "for k in courses.keys():\n",
        "  print(k)\n",
        "for v in courses.values():\n",
        "  print(v)"
      ],
      "metadata": {
        "colab": {
          "base_uri": "https://localhost:8080/"
        },
        "id": "OZtmR40viHAi",
        "outputId": "5137346b-99f9-40ae-f7ad-805e62361e02"
      },
      "execution_count": 9,
      "outputs": [
        {
          "output_type": "stream",
          "name": "stdout",
          "text": [
            "Daa cs\n",
            "aoa me\n",
            "svy ce\n",
            "Daa\n",
            "aoa\n",
            "svy\n",
            "cs\n",
            "me\n",
            "ce\n"
          ]
        }
      ]
    },
    {
      "cell_type": "code",
      "source": [
        "courses={'CS101':'CPP','CS102':'DS','CS201':'OOP','CS226':'DAA','CS601':'crypt','CS442':'Web'}\n",
        "courses['CS444']='Web services'\n",
        "courses['CS201']='OOP with java'\n",
        "del(courses['CS102'])\n"
      ],
      "metadata": {
        "id": "D3l_5EN4iqi-"
      },
      "execution_count": 10,
      "outputs": []
    },
    {
      "cell_type": "code",
      "source": [
        "for key,value in courses.items():\n",
        "  print(key,':',value)"
      ],
      "metadata": {
        "colab": {
          "base_uri": "https://localhost:8080/"
        },
        "id": "nUCUE3BUjmIz",
        "outputId": "3906fa3c-537e-4918-b1a7-4143bbb9724b"
      },
      "execution_count": 13,
      "outputs": [
        {
          "output_type": "stream",
          "name": "stdout",
          "text": [
            "CS101 : CPP\n",
            "CS201 : OOP with java\n",
            "CS226 : DAA\n",
            "CS601 : crypt\n",
            "CS442 : Web\n",
            "CS444 : Web services\n"
          ]
        }
      ]
    },
    {
      "cell_type": "code",
      "source": [
        "for k,v in reversed(courses.items()):\n",
        "  print(k,v)"
      ],
      "metadata": {
        "colab": {
          "base_uri": "https://localhost:8080/"
        },
        "id": "1xHxB_VOj03j",
        "outputId": "8e2e1502-8f57-426d-90f5-052d6adcaa2c"
      },
      "execution_count": 14,
      "outputs": [
        {
          "output_type": "stream",
          "name": "stdout",
          "text": [
            "CS444 Web services\n",
            "CS442 Web\n",
            "CS601 crypt\n",
            "CS226 DAA\n",
            "CS201 OOP with java\n",
            "CS101 CPP\n"
          ]
        }
      ]
    },
    {
      "cell_type": "code",
      "source": [
        "c={'hi':'bro'}\n",
        "c.update(courses)"
      ],
      "metadata": {
        "id": "sDBvsxfakG0f"
      },
      "execution_count": 15,
      "outputs": []
    },
    {
      "cell_type": "code",
      "source": [
        "c"
      ],
      "metadata": {
        "colab": {
          "base_uri": "https://localhost:8080/"
        },
        "id": "P5_GVU-LkjRH",
        "outputId": "610b2788-3331-474e-8881-cd5ca132c183"
      },
      "execution_count": 16,
      "outputs": [
        {
          "output_type": "execute_result",
          "data": {
            "text/plain": [
              "{'hi': 'bro',\n",
              " 'CS101': 'CPP',\n",
              " 'CS201': 'OOP with java',\n",
              " 'CS226': 'DAA',\n",
              " 'CS601': 'crypt',\n",
              " 'CS442': 'Web',\n",
              " 'CS444': 'Web services'}"
            ]
          },
          "metadata": {},
          "execution_count": 16
        }
      ]
    },
    {
      "cell_type": "code",
      "source": [
        "c.popitem()"
      ],
      "metadata": {
        "colab": {
          "base_uri": "https://localhost:8080/"
        },
        "id": "lDISROfwkj30",
        "outputId": "d2e461be-826c-4b65-bf9f-4d281b440f7b"
      },
      "execution_count": 17,
      "outputs": [
        {
          "output_type": "execute_result",
          "data": {
            "text/plain": [
              "('CS444', 'Web services')"
            ]
          },
          "metadata": {},
          "execution_count": 17
        }
      ]
    },
    {
      "cell_type": "code",
      "source": [
        "c.pop('CS101')"
      ],
      "metadata": {
        "colab": {
          "base_uri": "https://localhost:8080/",
          "height": 36
        },
        "id": "NyYR1S3rkop_",
        "outputId": "bd7d2370-8f7a-4579-b25b-2ce5ccf4554e"
      },
      "execution_count": 20,
      "outputs": [
        {
          "output_type": "execute_result",
          "data": {
            "text/plain": [
              "'CPP'"
            ],
            "application/vnd.google.colaboratory.intrinsic+json": {
              "type": "string"
            }
          },
          "metadata": {},
          "execution_count": 20
        }
      ]
    },
    {
      "cell_type": "code",
      "source": [
        "c"
      ],
      "metadata": {
        "colab": {
          "base_uri": "https://localhost:8080/"
        },
        "id": "sZlkx3SMkz0d",
        "outputId": "5144cfdb-e7ab-44b4-a190-286ee37379d0"
      },
      "execution_count": 21,
      "outputs": [
        {
          "output_type": "execute_result",
          "data": {
            "text/plain": [
              "{'hi': 'bro',\n",
              " 'CS201': 'OOP with java',\n",
              " 'CS226': 'DAA',\n",
              " 'CS601': 'crypt',\n",
              " 'CS442': 'Web'}"
            ]
          },
          "metadata": {},
          "execution_count": 21
        }
      ]
    },
    {
      "cell_type": "code",
      "source": [
        "d={(2,5):'me126',(3,2):'me102'}\n",
        "contacts={\n",
        "    'Anil':{'dob':'17/01/98','favorite':'Igloo'},\n",
        "    'Amol':{'dob':'14/04/99','favorite':'Tundra'},\n",
        "    'Ravi':{'dob':'19/11/97','favorite':'Artic'}\n",
        "}"
      ],
      "metadata": {
        "id": "hTnqPFN9k9EK"
      },
      "execution_count": 22,
      "outputs": []
    },
    {
      "cell_type": "code",
      "source": [
        "animals={'Tiger':141,'Lion':152,'Leopard':110}\n",
        "birds={'Eagle':38,'Crow':3,'Parrot':2}"
      ],
      "metadata": {
        "id": "2fQtw7uil8Nk"
      },
      "execution_count": 23,
      "outputs": []
    },
    {
      "cell_type": "code",
      "source": [
        "combined={**animals , **birds}"
      ],
      "metadata": {
        "id": "NZ8DCwqNmdKx"
      },
      "execution_count": 25,
      "outputs": []
    },
    {
      "cell_type": "code",
      "source": [
        "combined"
      ],
      "metadata": {
        "colab": {
          "base_uri": "https://localhost:8080/"
        },
        "id": "nj9x-MO9mnQT",
        "outputId": "a2f3e338-9e6c-488e-ac10-0c899bc72433"
      },
      "execution_count": 26,
      "outputs": [
        {
          "output_type": "execute_result",
          "data": {
            "text/plain": [
              "{'Tiger': 141,\n",
              " 'Lion': 152,\n",
              " 'Leopard': 110,\n",
              " 'Eagle': 38,\n",
              " 'Crow': 3,\n",
              " 'Parrot': 2}"
            ]
          },
          "metadata": {},
          "execution_count": 26
        }
      ]
    },
    {
      "cell_type": "code",
      "source": [
        "lst=[12,1,2,5,6]\n",
        "d=dict.fromkeys(lst,lst)"
      ],
      "metadata": {
        "id": "QLN9rPW9mvWI"
      },
      "execution_count": 29,
      "outputs": []
    },
    {
      "cell_type": "code",
      "source": [
        "d"
      ],
      "metadata": {
        "colab": {
          "base_uri": "https://localhost:8080/"
        },
        "id": "GK87O4cinP5k",
        "outputId": "1dd5b006-bc9e-4e90-b3f8-9c3c2da9a6e6"
      },
      "execution_count": 30,
      "outputs": [
        {
          "output_type": "execute_result",
          "data": {
            "text/plain": [
              "{12: [12, 1, 2, 5, 6],\n",
              " 1: [12, 1, 2, 5, 6],\n",
              " 2: [12, 1, 2, 5, 6],\n",
              " 5: [12, 1, 2, 5, 6],\n",
              " 6: [12, 1, 2, 5, 6]}"
            ]
          },
          "metadata": {},
          "execution_count": 30
        }
      ]
    },
    {
      "cell_type": "code",
      "source": [
        "#Create a list of cricketers. Use this list to create a dictionary in which the list values become keys of the dictionary.\n",
        "# Set the values of all to 50 in the dictionary created.\n",
        "lst=['Sunil','Sachin','Rahul','Kapil','Sunil','Rahul']\n",
        "d=dict.fromkeys(lst,50)\n",
        "print(d)"
      ],
      "metadata": {
        "colab": {
          "base_uri": "https://localhost:8080/"
        },
        "id": "QJ7kl5dlnR7D",
        "outputId": "9459ab3b-aef3-41c2-d075-a72aa547d989"
      },
      "execution_count": 31,
      "outputs": [
        {
          "output_type": "stream",
          "name": "stdout",
          "text": [
            "{'Sunil': 50, 'Sachin': 50, 'Rahul': 50, 'Kapil': 50}\n"
          ]
        }
      ]
    },
    {
      "cell_type": "code",
      "source": [
        "#Write a program to sort a dictionary in ascending / descending order by key and ascending/descending by value.\n",
        "import operator\n",
        "d={'Oil':230,'Clip':150,'Stud':175,'Nut':35}\n",
        "d\n",
        "d1=sorted(d.items())\n",
        "print(d1)\n",
        "d2=sorted(d.items(),reverse=True)\n",
        "print(d2)\n",
        "d01=sorted(d.items(),key=operator.itemgetter(1))\n",
        "print(d01)\n",
        "d02=sorted(d.items(),key=operator.itemgetter(1),reverse=True)\n",
        "print(d02)"
      ],
      "metadata": {
        "colab": {
          "base_uri": "https://localhost:8080/"
        },
        "id": "GSOBfkU4ogbw",
        "outputId": "d1cfdbee-8382-479b-e41c-6ae2dc6c21ed"
      },
      "execution_count": 34,
      "outputs": [
        {
          "output_type": "stream",
          "name": "stdout",
          "text": [
            "[('Clip', 150), ('Nut', 35), ('Oil', 230), ('Stud', 175)]\n",
            "[('Stud', 175), ('Oil', 230), ('Nut', 35), ('Clip', 150)]\n",
            "[('Nut', 35), ('Clip', 150), ('Stud', 175), ('Oil', 230)]\n",
            "[('Oil', 230), ('Stud', 175), ('Clip', 150), ('Nut', 35)]\n"
          ]
        }
      ]
    },
    {
      "cell_type": "code",
      "source": [
        "# Write a program to create three dictionaries and concatenate them to create fourth dictionary.\n",
        "d1={'Mango':30,'Guava':20}\n",
        "d2={'Apple':70,'Pineapple':50}\n",
        "d3={'Kiwi':90,'Banana':35}\n",
        "d4={}\n",
        "for d in (d1,d2,d3):\n",
        "  d4.update(d)\n",
        "print(d4)\n"
      ],
      "metadata": {
        "colab": {
          "base_uri": "https://localhost:8080/"
        },
        "id": "pm9RCyEVpqXn",
        "outputId": "fa14a7e4-e6dc-4a22-d3c1-434cda7e8cce"
      },
      "execution_count": 35,
      "outputs": [
        {
          "output_type": "stream",
          "name": "stdout",
          "text": [
            "{'Mango': 30, 'Guava': 20, 'Apple': 70, 'Pineapple': 50, 'Kiwi': 90, 'Banana': 35}\n"
          ]
        }
      ]
    },
    {
      "cell_type": "code",
      "source": [
        "d5={**d1,**d2,**d3}"
      ],
      "metadata": {
        "id": "5HbAzhAnq71k"
      },
      "execution_count": 37,
      "outputs": []
    },
    {
      "cell_type": "code",
      "source": [
        "d5"
      ],
      "metadata": {
        "colab": {
          "base_uri": "https://localhost:8080/"
        },
        "id": "LJuLiWG9rKCl",
        "outputId": "abe310ad-1176-4f55-b745-4a95af04bcb6"
      },
      "execution_count": 38,
      "outputs": [
        {
          "output_type": "execute_result",
          "data": {
            "text/plain": [
              "{'Mango': 30,\n",
              " 'Guava': 20,\n",
              " 'Apple': 70,\n",
              " 'Pineapple': 50,\n",
              " 'Kiwi': 90,\n",
              " 'Banana': 35}"
            ]
          },
          "metadata": {},
          "execution_count": 38
        }
      ]
    },
    {
      "cell_type": "code",
      "source": [
        "d6=list({*d1,*d2,*d3})"
      ],
      "metadata": {
        "id": "quDkoZQjrNQ4"
      },
      "execution_count": 39,
      "outputs": []
    },
    {
      "cell_type": "code",
      "source": [
        "d6"
      ],
      "metadata": {
        "colab": {
          "base_uri": "https://localhost:8080/"
        },
        "id": "tPOI_x-qrYnL",
        "outputId": "4683c8ed-b82c-483e-f14b-f8b5fd61b191"
      },
      "execution_count": 40,
      "outputs": [
        {
          "output_type": "execute_result",
          "data": {
            "text/plain": [
              "['Mango', 'Apple', 'Kiwi', 'Banana', 'Pineapple', 'Guava']"
            ]
          },
          "metadata": {},
          "execution_count": 40
        }
      ]
    },
    {
      "cell_type": "code",
      "source": [
        "#Write a program to check whether a dictionary is empty or not.\n",
        "d1={'Anil':45,'Amol':32}\n",
        "d2={}\n",
        "if bool(d1):\n",
        "  print('Dictionary is not empty')\n",
        "if not bool(d2):\n",
        "  print('Dictionary is empty')"
      ],
      "metadata": {
        "colab": {
          "base_uri": "https://localhost:8080/"
        },
        "id": "wKl5O7JLrZm1",
        "outputId": "56903b29-641b-4d7e-df19-97a1717657f9"
      },
      "execution_count": 41,
      "outputs": [
        {
          "output_type": "stream",
          "name": "stdout",
          "text": [
            "Dictionary is not empty\n",
            "Dictionary is empty\n"
          ]
        }
      ]
    },
    {
      "cell_type": "code",
      "source": [
        "  #Suppose there are two dictionaries called boys and girls containing names as keys and ages as values.\n",
        "  #Write a program to merge the two dictionaries into a third dictionary.\n",
        "boys={'Nilesh':41,'Soumitra':42,'Nadeem':47}\n",
        "girls={'Rasika':38,'Rajashree':43,'Rasika':45}\n",
        "combined={**boys,**girls}\n",
        "print(combined)"
      ],
      "metadata": {
        "colab": {
          "base_uri": "https://localhost:8080/"
        },
        "id": "cuG1F0Mrr9Ub",
        "outputId": "8fa1f8df-66d0-4843-be0c-4c4adb1d243c"
      },
      "execution_count": 42,
      "outputs": [
        {
          "output_type": "stream",
          "name": "stdout",
          "text": [
            "{'Nilesh': 41, 'Soumitra': 42, 'Nadeem': 47, 'Rasika': 45, 'Rajashree': 43}\n"
          ]
        }
      ]
    },
    {
      "cell_type": "code",
      "source": [
        "#For the following dictionary , write a program to report the maximum and minimum salary.\n",
        "d={\n",
        "    'anuj':{'Salary':10000,'age':20,'height':6},\n",
        "   'aditya':{'Salary':20000,'age':25,'height':5.9}   \n",
        "}\n",
        "lst=[]\n",
        "for v in d.values():\n",
        "  lst.append(v['Salary'])\n",
        "print(max(lst))\n",
        "print(min(lst))"
      ],
      "metadata": {
        "colab": {
          "base_uri": "https://localhost:8080/"
        },
        "id": "MWNpGQLLs_Lw",
        "outputId": "a991d1bd-0f67-48d4-d6ec-860c24607c0d"
      },
      "execution_count": 43,
      "outputs": [
        {
          "output_type": "stream",
          "name": "stdout",
          "text": [
            "20000\n",
            "10000\n"
          ]
        }
      ]
    },
    {
      "cell_type": "code",
      "source": [
        "#Suppose a dictionary contains roll numbers and names of students.\n",
        "#Write a program to recieve the roll number, extract the name corresponding to the roll number and display a message congratulating the student by his name.\n",
        "#if the roll number doesn't exist in the dictionary, the message should be 'Congratulations Student!'.\n",
        "students={554:'ramesh',355:'suresh',552:'ganesh'}\n",
        "rollno=int(input('Enter roll number:'))\n",
        "name=students.get(rollno,'Student')\n",
        "print(f'Congratulations   {name}!')\n",
        "rollno=int(input('Enter roll number:'))\n",
        "name=students.get(rollno,'Student')\n",
        "print(f'Congratulations  {name} !')"
      ],
      "metadata": {
        "colab": {
          "base_uri": "https://localhost:8080/"
        },
        "id": "0_TuFFJmt515",
        "outputId": "07f0b3e2-d357-4e39-b26d-40e530f4aaab"
      },
      "execution_count": 46,
      "outputs": [
        {
          "output_type": "stream",
          "name": "stdout",
          "text": [
            "Enter roll number:554\n",
            "Congratulations   ramesh!\n",
            "Enter roll number:25\n",
            "Congratulations  Student !\n"
          ]
        }
      ]
    },
    {
      "cell_type": "code",
      "source": [],
      "metadata": {
        "id": "rkVETIx7zypm"
      },
      "execution_count": null,
      "outputs": []
    }
  ]
}
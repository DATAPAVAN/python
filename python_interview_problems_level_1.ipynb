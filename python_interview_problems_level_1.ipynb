{
  "nbformat": 4,
  "nbformat_minor": 0,
  "metadata": {
    "colab": {
      "provenance": []
    },
    "kernelspec": {
      "name": "python3",
      "display_name": "Python 3"
    },
    "language_info": {
      "name": "python"
    }
  },
  "cells": [
    {
      "cell_type": "code",
      "source": [
        "def reverse_integer(num,no_digits):\n",
        "  \n",
        "  if num<0:\n",
        "    reverse_num=0\n",
        "    num = abs(num)\n",
        "    while num>0:\n",
        "      remainder = num % 10\n",
        "      reverse_num = (reverse_num * 10) + remainder\n",
        "      num = num // 10\n",
        "    reverse_num = -reverse_num\n",
        "  else:\n",
        "    reverse_num=0\n",
        "    while num > 0:\n",
        "      remainder = num % 10 \n",
        "      reverse_num = (reverse_num * 10) + remainder\n",
        "      num = num // 10\n",
        "\n",
        "  return '{:0{}d}' .format(reverse_num,no_digits)\n",
        "\n",
        "\n",
        "\n",
        "print(reverse_integer(0,1))\n",
        "print(reverse_integer(-225,3))\n",
        "print(reverse_integer(5500,4))"
      ],
      "metadata": {
        "colab": {
          "base_uri": "https://localhost:8080/"
        },
        "id": "tCFlBPGBDE7j",
        "outputId": "85a69371-f085-4b98-f1b2-64fee99edd50"
      },
      "execution_count": null,
      "outputs": [
        {
          "output_type": "stream",
          "name": "stdout",
          "text": [
            "0\n",
            "-522\n",
            "0055\n"
          ]
        }
      ]
    },
    {
      "cell_type": "code",
      "source": [
        "def check_armstrong_no(num):\n",
        "  no_of_digits = len(str(num))\n",
        "  sum_of_exps=0\n",
        "  for digit in str(num):\n",
        "    sum_of_exps += int(digit) ** no_of_digits\n",
        "  if sum_of_exps==num:\n",
        "    return True\n",
        "  else:\n",
        "    return False\n",
        "\n",
        "print(check_armstrong_no(153))\n",
        "print(check_armstrong_no(154))\n",
        "print(check_armstrong_no(1634))"
      ],
      "metadata": {
        "colab": {
          "base_uri": "https://localhost:8080/"
        },
        "id": "wgvNuOlwKrZb",
        "outputId": "75170322-298b-4bce-e0be-d933e2eceaa9"
      },
      "execution_count": null,
      "outputs": [
        {
          "output_type": "stream",
          "name": "stdout",
          "text": [
            "True\n",
            "False\n",
            "True\n"
          ]
        }
      ]
    },
    {
      "cell_type": "code",
      "source": [
        "def check_prime(num):\n",
        "  if num < 2:\n",
        "    return False\n",
        "  for i in range(2,int(num ** 0.5)+1):\n",
        "    if num % i == 0:\n",
        "      return False\n",
        "  return True\n",
        "\n",
        "print(check_prime(15))\n",
        "print(check_prime(5))"
      ],
      "metadata": {
        "colab": {
          "base_uri": "https://localhost:8080/"
        },
        "id": "S9Q7vla_OxLO",
        "outputId": "2ac9972c-55a3-473c-c490-e7bc3a294b97"
      },
      "execution_count": null,
      "outputs": [
        {
          "output_type": "stream",
          "name": "stdout",
          "text": [
            "False\n",
            "True\n"
          ]
        }
      ]
    },
    {
      "cell_type": "code",
      "source": [
        "def fibonacci_gen(n):\n",
        "    if n==0:\n",
        "      return []\n",
        "    elif n==1:\n",
        "      return [0]\n",
        "    else:\n",
        "      fib=[0,1]\n",
        "      for i in range(2,n):\n",
        "        fib.append(fib[i-1]+fib[i-2])\n",
        "      return fib\n",
        "\n",
        "print(fibonacci_gen(5))\n",
        "print(fibonacci_gen(0))\n",
        "print(fibonacci_gen(1))\n"
      ],
      "metadata": {
        "colab": {
          "base_uri": "https://localhost:8080/"
        },
        "id": "p6EJ9YCDVbrY",
        "outputId": "bda6b606-6c7f-4cc0-b3cd-f4f5f4294701"
      },
      "execution_count": null,
      "outputs": [
        {
          "output_type": "stream",
          "name": "stdout",
          "text": [
            "[0, 1, 1, 2, 3]\n",
            "[]\n",
            "[0]\n"
          ]
        }
      ]
    },
    {
      "cell_type": "code",
      "source": [
        "def check_palindrome(num):\n",
        "  num_str=str(num)\n",
        "  length=len(num_str)\n",
        "  for i in range(length // 2):\n",
        "    if num_str[i] != num_str[length-i-1]:\n",
        "      return False\n",
        "  return True\n",
        "\n",
        "print(check_palindrome(12321))\n",
        "print(check_palindrome(12320))\n",
        "print(check_palindrome(121))\n"
      ],
      "metadata": {
        "colab": {
          "base_uri": "https://localhost:8080/"
        },
        "id": "sWcrcyfKYfOA",
        "outputId": "9911859e-9903-4961-f22c-e28084a09a12"
      },
      "execution_count": null,
      "outputs": [
        {
          "output_type": "stream",
          "name": "stdout",
          "text": [
            "True\n",
            "False\n",
            "True\n"
          ]
        }
      ]
    },
    {
      "cell_type": "code",
      "source": [
        "def find_greatest(*args):\n",
        "  greatest= float('-inf')\n",
        "  for num in args:\n",
        "    if num > greatest:\n",
        "      greatest = num\n",
        "  return greatest\n",
        "\n",
        "nums=[1,2,85454,54,24545,2454,2454,2644,854,8]\n",
        "find_greatest(*nums)"
      ],
      "metadata": {
        "colab": {
          "base_uri": "https://localhost:8080/"
        },
        "id": "jjsldbQgbFV5",
        "outputId": "723b84f7-99e7-48c7-ce8a-a777c3287d77"
      },
      "execution_count": null,
      "outputs": [
        {
          "output_type": "execute_result",
          "data": {
            "text/plain": [
              "85454"
            ]
          },
          "metadata": {},
          "execution_count": 36
        }
      ]
    },
    {
      "cell_type": "code",
      "source": [
        "def check_binary(num):\n",
        "  for digit in str(num):\n",
        "    if digit not in ['0','1']:\n",
        "      return False\n",
        "  return True\n",
        "num1=110000111\n",
        "print(f\"{num1} is binary: {check_binary(num1)}\")\n",
        "num1=1001112\n",
        "print(f\"{num1} is binary: {check_binary(num1)}\")"
      ],
      "metadata": {
        "colab": {
          "base_uri": "https://localhost:8080/"
        },
        "id": "NGKWBxkGdgNz",
        "outputId": "3123d33f-8858-4eea-c462-4f5a18be11f2"
      },
      "execution_count": null,
      "outputs": [
        {
          "output_type": "stream",
          "name": "stdout",
          "text": [
            "110000111 is binary: True\n",
            "1001112 is binary: False\n"
          ]
        }
      ]
    },
    {
      "cell_type": "code",
      "source": [
        "def check_perfect_number(num):\n",
        "  sum=0\n",
        "  for divisor in range(1,num):\n",
        "    if num%divisor==0:\n",
        "      sum+=divisor\n",
        "      print(divisor)\n",
        "  if sum==num:\n",
        "    return True\n",
        "  else:\n",
        "    return False\n",
        "\n",
        "\n",
        "check_perfect_number(28)"
      ],
      "metadata": {
        "colab": {
          "base_uri": "https://localhost:8080/"
        },
        "id": "jyScNgr8fZ43",
        "outputId": "edc2232b-bc3e-4599-8726-991f3f5f21cc"
      },
      "execution_count": null,
      "outputs": [
        {
          "output_type": "stream",
          "name": "stdout",
          "text": [
            "1\n",
            "2\n",
            "4\n",
            "7\n",
            "14\n"
          ]
        },
        {
          "output_type": "execute_result",
          "data": {
            "text/plain": [
              "True"
            ]
          },
          "metadata": {},
          "execution_count": 8
        }
      ]
    },
    {
      "cell_type": "code",
      "source": [
        "def is_leap_year(y):\n",
        "  if y%4==0 and (y%100!=0 or y%400==0):\n",
        "    return True\n",
        "  else:\n",
        "    return False\n",
        "\n",
        "is_leap_year(2020)\n"
      ],
      "metadata": {
        "colab": {
          "base_uri": "https://localhost:8080/"
        },
        "id": "3bQhBwDIHup4",
        "outputId": "88028357-e682-404c-e55f-1efdb1582c07"
      },
      "execution_count": null,
      "outputs": [
        {
          "output_type": "execute_result",
          "data": {
            "text/plain": [
              "True"
            ]
          },
          "metadata": {},
          "execution_count": 10
        }
      ]
    },
    {
      "cell_type": "code",
      "source": [
        "def sp_interest(p,r,t):\n",
        "  si=(p*r*t)/100\n",
        "  p=print('simple interest is:',si)\n",
        "  return p\n",
        "\n",
        "\n",
        "sp_interest(10000,5,2)"
      ],
      "metadata": {
        "colab": {
          "base_uri": "https://localhost:8080/"
        },
        "id": "mlZcvyahSovD",
        "outputId": "a62d3a0d-502a-49e5-d712-40835f4a9233"
      },
      "execution_count": null,
      "outputs": [
        {
          "output_type": "stream",
          "name": "stdout",
          "text": [
            "simple interest is: 1000.0\n"
          ]
        }
      ]
    },
    {
      "cell_type": "code",
      "source": [
        "def cel_to_far(c):\n",
        "  far=(c*1.8)+32\n",
        "  return far\n",
        "\n",
        "cel_to_far(300)"
      ],
      "metadata": {
        "colab": {
          "base_uri": "https://localhost:8080/"
        },
        "id": "zkNPVjyuT8m2",
        "outputId": "e20986c1-b3ec-47b0-a1b8-232f7c25cc47"
      },
      "execution_count": null,
      "outputs": [
        {
          "output_type": "execute_result",
          "data": {
            "text/plain": [
              "572.0"
            ]
          },
          "metadata": {},
          "execution_count": 14
        }
      ]
    },
    {
      "cell_type": "code",
      "source": [
        "def swap_two(a,b):\n",
        "  a=a+b\n",
        "  b=a-b\n",
        "  a=a-b\n",
        "  return a,b\n",
        "swap_two(2,3)"
      ],
      "metadata": {
        "colab": {
          "base_uri": "https://localhost:8080/"
        },
        "id": "lMCAywlLW9Bz",
        "outputId": "6ac7ba8f-6ad9-4ed6-8062-e83aac66e0ac"
      },
      "execution_count": null,
      "outputs": [
        {
          "output_type": "execute_result",
          "data": {
            "text/plain": [
              "(3, 2)"
            ]
          },
          "metadata": {},
          "execution_count": 15
        }
      ]
    },
    {
      "cell_type": "code",
      "source": [
        "def swap_two1(a,b):\n",
        "  t=a\n",
        "  a=b\n",
        "  b=t\n",
        "  return a,b\n",
        "\n",
        "swap_two1(2,3)"
      ],
      "metadata": {
        "colab": {
          "base_uri": "https://localhost:8080/"
        },
        "id": "sj2idfMtXx9K",
        "outputId": "3b304db3-1c7c-491e-c34a-b19c39acd551"
      },
      "execution_count": null,
      "outputs": [
        {
          "output_type": "execute_result",
          "data": {
            "text/plain": [
              "(3, 2)"
            ]
          },
          "metadata": {},
          "execution_count": 16
        }
      ]
    },
    {
      "cell_type": "code",
      "source": [
        "def add_two(a,b):\n",
        "  while b!=0:\n",
        "    carry = a & b\n",
        "    a = a ^ b\n",
        "    b = carry<<1\n",
        "  return a\n",
        "add_two(2,3)"
      ],
      "metadata": {
        "colab": {
          "base_uri": "https://localhost:8080/"
        },
        "id": "xCzgOfAxYFUU",
        "outputId": "4786cf79-95fb-419c-92ef-292583ba2daf"
      },
      "execution_count": null,
      "outputs": [
        {
          "output_type": "execute_result",
          "data": {
            "text/plain": [
              "5"
            ]
          },
          "metadata": {},
          "execution_count": 18
        }
      ]
    },
    {
      "cell_type": "code",
      "source": [
        "def check_perfect(n):\n",
        "  sum=0\n",
        "  for divisor in range(1,n):\n",
        "    if n%divisor==0:\n",
        "      sum+=divisor\n",
        "  if sum==n:\n",
        "      return True\n",
        "  else:\n",
        "    return False\n",
        "\n",
        "check_perfect(6)\n"
      ],
      "metadata": {
        "colab": {
          "base_uri": "https://localhost:8080/"
        },
        "id": "-Svgplw2YkXM",
        "outputId": "a1e2791b-b7ec-4218-a5e8-4cbebf22b472"
      },
      "execution_count": null,
      "outputs": [
        {
          "output_type": "execute_result",
          "data": {
            "text/plain": [
              "True"
            ]
          },
          "metadata": {},
          "execution_count": 19
        }
      ]
    },
    {
      "cell_type": "code",
      "source": [
        "def even_odd(num):\n",
        "  if num>0 or num<0:\n",
        "    num=abs(num)\n",
        "    if num%2==0:\n",
        "      return 'even'\n",
        "    else:\n",
        "      return 'odd'\n",
        "  else:\n",
        "    return 'please enter a value greater than zero.'\n",
        "even_odd(2)\n"
      ],
      "metadata": {
        "colab": {
          "base_uri": "https://localhost:8080/",
          "height": 35
        },
        "id": "u_XYZN0xaGHX",
        "outputId": "8a05c1ca-bf37-44ba-8e4a-68dd18a23a36"
      },
      "execution_count": null,
      "outputs": [
        {
          "output_type": "execute_result",
          "data": {
            "text/plain": [
              "'even'"
            ],
            "application/vnd.google.colaboratory.intrinsic+json": {
              "type": "string"
            }
          },
          "metadata": {},
          "execution_count": 22
        }
      ]
    },
    {
      "cell_type": "code",
      "source": [
        "def pow(x,n):\n",
        "  value=1\n",
        "  for i in range(1,n+1):\n",
        "    value*=x\n",
        "  return value\n",
        "\n",
        "pow(2,3)"
      ],
      "metadata": {
        "colab": {
          "base_uri": "https://localhost:8080/"
        },
        "id": "y8R0pe65a9b5",
        "outputId": "4b9d2859-1f86-4e20-f1c7-0cc075e918b1"
      },
      "execution_count": null,
      "outputs": [
        {
          "output_type": "execute_result",
          "data": {
            "text/plain": [
              "8"
            ]
          },
          "metadata": {},
          "execution_count": 23
        }
      ]
    },
    {
      "cell_type": "code",
      "source": [
        "def pow1(x,n):\n",
        "  value=1\n",
        "  while n!=0:\n",
        "    value*=x\n",
        "    n-=1\n",
        "  return value\n",
        "pow1(2,5)"
      ],
      "metadata": {
        "colab": {
          "base_uri": "https://localhost:8080/"
        },
        "id": "JINS_e8Ub6SD",
        "outputId": "4205a21e-ebc1-4bff-9e46-414bfb75de70"
      },
      "execution_count": null,
      "outputs": [
        {
          "output_type": "execute_result",
          "data": {
            "text/plain": [
              "32"
            ]
          },
          "metadata": {},
          "execution_count": 25
        }
      ]
    },
    {
      "cell_type": "code",
      "source": [
        "def gcd(a,b):\n",
        "  while b!=0:\n",
        "    a,b=b,a%b\n",
        "  return a\n",
        "\n",
        "def lcm(a,b):\n",
        "  l=int(a*b/gcd(a,b))\n",
        "  return l\n",
        "\n",
        "print(gcd(2,6))\n",
        "print(lcm(2,6))\n"
      ],
      "metadata": {
        "id": "3Gf4KQ2bcEuA",
        "colab": {
          "base_uri": "https://localhost:8080/"
        },
        "outputId": "b3b59cc0-4d0f-4d71-bcae-46aece2b4807"
      },
      "execution_count": 3,
      "outputs": [
        {
          "output_type": "stream",
          "name": "stdout",
          "text": [
            "2\n",
            "6\n"
          ]
        }
      ]
    },
    {
      "cell_type": "code",
      "source": [
        "def factorial(n):\n",
        "  fact=1\n",
        "  for i in range(1,n+1):\n",
        "    fact*=i\n",
        "  return fact\n",
        "\n",
        "factorial(5)"
      ],
      "metadata": {
        "colab": {
          "base_uri": "https://localhost:8080/"
        },
        "id": "pj5cagkQIEln",
        "outputId": "74fb9dbb-3840-4188-9c2a-c47fb5cbf43a"
      },
      "execution_count": 5,
      "outputs": [
        {
          "output_type": "execute_result",
          "data": {
            "text/plain": [
              "120"
            ]
          },
          "metadata": {},
          "execution_count": 5
        }
      ]
    },
    {
      "cell_type": "code",
      "source": [
        "def remove_char(s,c):\n",
        "  new_string=''\n",
        "  for i in s:\n",
        "    if i!=c:\n",
        "      new_string+=i\n",
        "  return new_string\n",
        "\n",
        "remove_char('pavan','a')"
      ],
      "metadata": {
        "colab": {
          "base_uri": "https://localhost:8080/",
          "height": 36
        },
        "id": "pkkecYp5JO8S",
        "outputId": "9db99c21-f426-4791-8abe-71f26fbbaced"
      },
      "execution_count": 7,
      "outputs": [
        {
          "output_type": "execute_result",
          "data": {
            "text/plain": [
              "'pvn'"
            ],
            "application/vnd.google.colaboratory.intrinsic+json": {
              "type": "string"
            }
          },
          "metadata": {},
          "execution_count": 7
        }
      ]
    },
    {
      "cell_type": "code",
      "source": [
        "def count_occurences(s,chars):\n",
        "  occurences={}\n",
        "  for c in chars:\n",
        "    occurences[c]=0\n",
        "  for c in s:\n",
        "    if c in chars:\n",
        "      occurences[c]+=1\n",
        "  for c in chars:\n",
        "    print(f\"{c}:{occurences[c]}\")\n",
        "\n",
        "count_occurences('pavan','av')"
      ],
      "metadata": {
        "colab": {
          "base_uri": "https://localhost:8080/"
        },
        "id": "IXKQGZxYKiqV",
        "outputId": "76087b61-ec7e-41cf-8184-6c4abbd1b725"
      },
      "execution_count": 12,
      "outputs": [
        {
          "output_type": "stream",
          "name": "stdout",
          "text": [
            "a:2\n",
            "v:1\n"
          ]
        }
      ]
    },
    {
      "cell_type": "code",
      "source": [
        "def count_occuraence(s,c):\n",
        "  count=0\n",
        "  for i in s:\n",
        "    if i==c:\n",
        "      count+=1\n",
        "  return count\n",
        "\n",
        "count_occuraence('pavan','n')"
      ],
      "metadata": {
        "colab": {
          "base_uri": "https://localhost:8080/"
        },
        "id": "p5zhSCVLNRdh",
        "outputId": "99d6c3b4-5eed-4f63-df06-2d6092c5b112"
      },
      "execution_count": 14,
      "outputs": [
        {
          "output_type": "execute_result",
          "data": {
            "text/plain": [
              "1"
            ]
          },
          "metadata": {},
          "execution_count": 14
        }
      ]
    },
    {
      "cell_type": "code",
      "source": [
        "def remove_chars(s,chars):\n",
        "  result=''\n",
        "  for c in s:\n",
        "    if c not in chars:\n",
        "      result+=c\n",
        "  return result\n",
        "\n",
        "remove_chars('pavan','pv')"
      ],
      "metadata": {
        "colab": {
          "base_uri": "https://localhost:8080/",
          "height": 36
        },
        "id": "kZFMIWB2ORyK",
        "outputId": "474f0728-8f87-4cb6-d248-e28a478c0c92"
      },
      "execution_count": 16,
      "outputs": [
        {
          "output_type": "execute_result",
          "data": {
            "text/plain": [
              "'aan'"
            ],
            "application/vnd.google.colaboratory.intrinsic+json": {
              "type": "string"
            }
          },
          "metadata": {},
          "execution_count": 16
        }
      ]
    },
    {
      "cell_type": "code",
      "source": [
        "def check_anagram(s1,s2):\n",
        "  s1=s1.lower()\n",
        "  s2=s2.lower()\n",
        "  freq1={}\n",
        "  freq2={}\n",
        "  for char in s1:\n",
        "    if char in freq1:\n",
        "      freq1[char]+=1\n",
        "    else:\n",
        "      freq1[char]=1\n",
        "  for char in s2:\n",
        "    if char in freq2:\n",
        "      freq2[char]+=1\n",
        "    else:\n",
        "      freq2[char]=1\n",
        "  if freq1==freq2:\n",
        "    return True\n",
        "  else:\n",
        "    return False\n",
        "\n",
        "\n",
        "print(check_anagram('pavan','naavp'))\n",
        "print(check_anagram('apvan','panava'))"
      ],
      "metadata": {
        "colab": {
          "base_uri": "https://localhost:8080/"
        },
        "id": "6Og8vognOerr",
        "outputId": "3b31e799-0e1b-4662-8802-d59d8368226b"
      },
      "execution_count": 3,
      "outputs": [
        {
          "output_type": "stream",
          "name": "stdout",
          "text": [
            "True\n",
            "False\n"
          ]
        }
      ]
    },
    {
      "cell_type": "code",
      "source": [
        "def check_palindrome(s):\n",
        "  s=s.lower()\n",
        "  n=len(s)\n",
        "  for i in range(len(s)):\n",
        "    if s[i]!=s[n-i-1]:\n",
        "      return False\n",
        "  return True\n",
        "\n",
        "print(check_palindrome('pavap'))\n",
        "print(check_palindrome('pajvn'))\n"
      ],
      "metadata": {
        "colab": {
          "base_uri": "https://localhost:8080/"
        },
        "id": "41K736I6SYEd",
        "outputId": "3127cf2a-ce46-418d-b6b8-651a5a086f71"
      },
      "execution_count": 5,
      "outputs": [
        {
          "output_type": "stream",
          "name": "stdout",
          "text": [
            "True\n",
            "False\n"
          ]
        }
      ]
    },
    {
      "cell_type": "code",
      "source": [
        "def check_v_or_c(char):\n",
        "  char=char.lower()\n",
        "  if char in ('a','e','i','o','u'):\n",
        "    return 'vowel'\n",
        "  return 'consonant'\n",
        "\n",
        "\n",
        "check_v_or_c('p')\n"
      ],
      "metadata": {
        "colab": {
          "base_uri": "https://localhost:8080/",
          "height": 36
        },
        "id": "uEE5eLusTUrT",
        "outputId": "201341cd-1550-4d8b-c1bf-322b5f6f1e3d"
      },
      "execution_count": 7,
      "outputs": [
        {
          "output_type": "execute_result",
          "data": {
            "text/plain": [
              "'consonant'"
            ],
            "application/vnd.google.colaboratory.intrinsic+json": {
              "type": "string"
            }
          },
          "metadata": {},
          "execution_count": 7
        }
      ]
    },
    {
      "cell_type": "code",
      "source": [
        "def check_digit(char):\n",
        "  digits={'1','2','3','4','5','6','7','8','9'}\n",
        "  if char in digits:\n",
        "     return True\n",
        "  return False\n",
        "\n",
        "check_digit('s')\n",
        "\n"
      ],
      "metadata": {
        "colab": {
          "base_uri": "https://localhost:8080/"
        },
        "id": "xKNJBFzsUDfq",
        "outputId": "b1fe60f0-cd07-4432-a681-1c4c39189402"
      },
      "execution_count": 16,
      "outputs": [
        {
          "output_type": "execute_result",
          "data": {
            "text/plain": [
              "False"
            ]
          },
          "metadata": {},
          "execution_count": 16
        }
      ]
    },
    {
      "cell_type": "code",
      "source": [
        "def str_replace_gap(s,char):\n",
        "  new_string=''\n",
        "  for i in s:\n",
        "    if i==' ':\n",
        "      new_string+=char\n",
        "    else:\n",
        "      new_string+=i\n",
        "\n",
        "  return new_string\n",
        "\n",
        "str_replace_gap('pavan kumar','+') \n"
      ],
      "metadata": {
        "colab": {
          "base_uri": "https://localhost:8080/",
          "height": 36
        },
        "id": "ZqcmBUZdU7v9",
        "outputId": "1e4ee054-d5dd-4d8b-d63c-1846dd6a7665"
      },
      "execution_count": 17,
      "outputs": [
        {
          "output_type": "execute_result",
          "data": {
            "text/plain": [
              "'pavan+kumar'"
            ],
            "application/vnd.google.colaboratory.intrinsic+json": {
              "type": "string"
            }
          },
          "metadata": {},
          "execution_count": 17
        }
      ]
    },
    {
      "cell_type": "code",
      "source": [
        "def to_lower(s):\n",
        "  new_string=''\n",
        "  for c in s:\n",
        "    if ord(c)>=65 and ord(c)<=90:\n",
        "       new_string+=chr(ord(c)+32)\n",
        "    else:\n",
        "      new_string+=c\n",
        "  return new_string\n",
        "\n",
        "\n",
        "print(to_lower('PaVan'))"
      ],
      "metadata": {
        "colab": {
          "base_uri": "https://localhost:8080/"
        },
        "id": "t8I0sRYIWY1v",
        "outputId": "91b69e1a-e278-4edb-ab4a-77898aaa4e74"
      },
      "execution_count": 20,
      "outputs": [
        {
          "output_type": "stream",
          "name": "stdout",
          "text": [
            "pavan\n"
          ]
        }
      ]
    },
    {
      "cell_type": "code",
      "source": [
        "def al_num_sp_count(s):\n",
        "  s=to_lower(s)\n",
        "  alpha=num=special=0\n",
        "\n",
        "  for i in s:\n",
        "    if i >='a' and i<='z':\n",
        "      alpha+=1\n",
        "    elif i>='0' and i<='9':\n",
        "      num+=1\n",
        "    else:\n",
        "      special+=1\n",
        "  return alpha,num,special\n",
        "\n",
        "\n",
        "al_num_sp_count('odhfohdofhoh546463@#%$$%#')\n"
      ],
      "metadata": {
        "colab": {
          "base_uri": "https://localhost:8080/"
        },
        "id": "zu9DBr9rXPFR",
        "outputId": "affe4427-beff-4089-eb2a-be5e3bb53e36"
      },
      "execution_count": 22,
      "outputs": [
        {
          "output_type": "execute_result",
          "data": {
            "text/plain": [
              "(12, 6, 7)"
            ]
          },
          "metadata": {},
          "execution_count": 22
        }
      ]
    },
    {
      "cell_type": "code",
      "source": [
        "def str_split(s):\n",
        "    characters=[]\n",
        "    for i in range(len(s)):\n",
        "      characters+=s[i]\n",
        "    return characters\n",
        "\n",
        "str_split('pavan')"
      ],
      "metadata": {
        "colab": {
          "base_uri": "https://localhost:8080/"
        },
        "id": "vWANC7voY13P",
        "outputId": "53ae701c-2499-4712-cc97-f6b9e1c49532"
      },
      "execution_count": 23,
      "outputs": [
        {
          "output_type": "execute_result",
          "data": {
            "text/plain": [
              "['p', 'a', 'v', 'a', 'n']"
            ]
          },
          "metadata": {},
          "execution_count": 23
        }
      ]
    },
    {
      "cell_type": "code",
      "source": [
        "def remove_repeating_char(s):\n",
        "  result=''\n",
        "  for c in s:\n",
        "    if c not in result:\n",
        "      result+=c\n",
        "  return result\n",
        "\n",
        "remove_repeating_char('pavnakdjll')"
      ],
      "metadata": {
        "colab": {
          "base_uri": "https://localhost:8080/",
          "height": 36
        },
        "id": "-hHWTQ-ba2Vt",
        "outputId": "80c30060-32b2-4dbf-f351-cca21800ef60"
      },
      "execution_count": 1,
      "outputs": [
        {
          "output_type": "execute_result",
          "data": {
            "text/plain": [
              "'pavnkdjl'"
            ],
            "application/vnd.google.colaboratory.intrinsic+json": {
              "type": "string"
            }
          },
          "metadata": {},
          "execution_count": 1
        }
      ]
    },
    {
      "cell_type": "code",
      "source": [
        "def ch_ascend(s):\n",
        "  chars=[]\n",
        "  for i in s:\n",
        "    chars.append(i)\n",
        "  for i in range(len(chars)):\n",
        "    for j in range(i+1, len(chars)):\n",
        "      if chars[i] > chars[j]:\n",
        "        chars[i],chars[j] = chars[j],chars[i]\n",
        "  sorted_str=''\n",
        "  for i in chars:\n",
        "    sorted_str+=i\n",
        "  return sorted_str\n",
        "\n",
        "ch_ascend('pavna')"
      ],
      "metadata": {
        "colab": {
          "base_uri": "https://localhost:8080/",
          "height": 36
        },
        "id": "Qn4T9_CMVfd1",
        "outputId": "608d550d-0b0f-4c6e-b31e-856f1faea4f7"
      },
      "execution_count": 4,
      "outputs": [
        {
          "output_type": "execute_result",
          "data": {
            "text/plain": [
              "'aanpv'"
            ],
            "application/vnd.google.colaboratory.intrinsic+json": {
              "type": "string"
            }
          },
          "metadata": {},
          "execution_count": 4
        }
      ]
    },
    {
      "cell_type": "code",
      "source": [
        "#Write a program in Python for, In array 1-100 numbers are stored, one number is missing how do you find it.\n",
        "arr=list(range(1,101))\n",
        "n=int(input('Enter the number of numbers:'))\n",
        "m=int(input('Enter the number to remove:'))\n",
        "arr.remove(m)\n",
        "sum_all = n * (n+1)//2\n",
        "sum_arr=sum(arr)\n",
        "missing_num=sum_all-sum_arr\n",
        "print(missing_num)\n"
      ],
      "metadata": {
        "colab": {
          "base_uri": "https://localhost:8080/"
        },
        "id": "uDitQ419XnWR",
        "outputId": "dae02d0a-f3f3-47da-cd33-b7221faa3c24"
      },
      "execution_count": 7,
      "outputs": [
        {
          "output_type": "stream",
          "name": "stdout",
          "text": [
            "Enter the number of numbers:100\n",
            "Enter the number to remove:52\n",
            "52\n"
          ]
        }
      ]
    },
    {
      "cell_type": "code",
      "source": [
        "#Write a program in Python for, In a array 1-100 multiple numbers are duplicates, how do you find it.\n",
        "arr=[1,2,25,5,54,2,54,15,5,1,2,25,7,8,22]\n",
        "freq_dict={}\n",
        "for num in arr:\n",
        "  if num in freq_dict:\n",
        "    freq_dict[num]+=1\n",
        "  else:\n",
        "    freq_dict[num]=1\n",
        "for num, freq in freq_dict.items():\n",
        "  if freq>1:\n",
        "    print(f\"Number {num} is a duplicate with frequency {freq}\")"
      ],
      "metadata": {
        "colab": {
          "base_uri": "https://localhost:8080/"
        },
        "id": "OILuiPOnaEFO",
        "outputId": "db84324c-581f-4ed7-fd26-e611601968c5"
      },
      "execution_count": 8,
      "outputs": [
        {
          "output_type": "stream",
          "name": "stdout",
          "text": [
            "Number 1 is a duplicate with frequency 2\n",
            "Number 2 is a duplicate with frequency 3\n",
            "Number 25 is a duplicate with frequency 2\n",
            "Number 5 is a duplicate with frequency 2\n",
            "Number 54 is a duplicate with frequency 2\n"
          ]
        }
      ]
    },
    {
      "cell_type": "code",
      "source": [
        "def find_pairs(arr, num):\n",
        "    pairs = []\n",
        "    for i in range(len(arr)):\n",
        "        for j in range(i+1, len(arr)):\n",
        "            if arr[i] + arr[j] == num:\n",
        "                pairs.append((arr[i], arr[j]))\n",
        "    return pairs\n",
        "\n",
        "# example usage\n",
        "arr = [2, 4, 6, 8, 10, 12]\n",
        "num = 14\n",
        "pairs = find_pairs(arr, num)\n",
        "print(pairs)\n"
      ],
      "metadata": {
        "colab": {
          "base_uri": "https://localhost:8080/"
        },
        "id": "bbwrRq62b6eB",
        "outputId": "8c4a167c-d4e2-4e98-be64-ff9e3167a269"
      },
      "execution_count": 13,
      "outputs": [
        {
          "output_type": "stream",
          "name": "stdout",
          "text": [
            "[(2, 12), (4, 10), (6, 8)]\n"
          ]
        }
      ]
    },
    {
      "cell_type": "code",
      "source": [
        "def find_top_two(arr):\n",
        "  max1=max2=float('-inf')\n",
        "  for num in arr:\n",
        "    if num>max1:\n",
        "      max2=max1\n",
        "      max1=num\n",
        "    elif num>max2 and num!=max1:\n",
        "      max2=num\n",
        "  return max1,max2\n",
        "arr=[1,235,4545,512,541,2584,552]\n",
        "find_top_two(arr)"
      ],
      "metadata": {
        "colab": {
          "base_uri": "https://localhost:8080/"
        },
        "id": "b4VJi3wIdOFR",
        "outputId": "b106d9f1-b288-42ad-db9f-733b0efb2010"
      },
      "execution_count": 1,
      "outputs": [
        {
          "output_type": "execute_result",
          "data": {
            "text/plain": [
              "(4545, 2584)"
            ]
          },
          "metadata": {},
          "execution_count": 1
        }
      ]
    },
    {
      "cell_type": "code",
      "source": [
        "def remove_duplicate(arr):\n",
        "    new_arr=[]\n",
        "    for i in arr:\n",
        "        if i not in new_arr:\n",
        "          new_arr+=[i]\n",
        "       \n",
        "    return new_arr\n",
        "arr=[1,1,225,52,42,11,22,12,121,22,42]\n",
        "remove_duplicate(arr)\n",
        "\n"
      ],
      "metadata": {
        "colab": {
          "base_uri": "https://localhost:8080/"
        },
        "id": "VMhIw_Um06ut",
        "outputId": "12221134-2c1a-40f5-be3e-7b57798eceb9"
      },
      "execution_count": 4,
      "outputs": [
        {
          "output_type": "execute_result",
          "data": {
            "text/plain": [
              "[1, 225, 52, 42, 11, 22, 12, 121]"
            ]
          },
          "metadata": {},
          "execution_count": 4
        }
      ]
    },
    {
      "cell_type": "code",
      "source": [
        "def reverse_array(arr):\n",
        "  n=len(arr)\n",
        "  for i in range(n//2):\n",
        "      temp=arr[i]\n",
        "      arr[i]=arr[n-i-1]\n",
        "      arr[n-i-1]=temp\n",
        "  return arr\n",
        "arr = [2, 4, 6, 8, 10, 12]\n",
        "reverse_array(arr)\n",
        "  "
      ],
      "metadata": {
        "colab": {
          "base_uri": "https://localhost:8080/"
        },
        "id": "9R4iF0IN2JLY",
        "outputId": "e859137f-ae8f-474a-d798-e018bdfa45f9"
      },
      "execution_count": 6,
      "outputs": [
        {
          "output_type": "execute_result",
          "data": {
            "text/plain": [
              "[12, 10, 8, 6, 4, 2]"
            ]
          },
          "metadata": {},
          "execution_count": 6
        }
      ]
    },
    {
      "cell_type": "code",
      "source": [
        "def remove_ele(p,arr):\n",
        "  for i in range(p,len(arr)-1):\n",
        "    arr[i]=arr[i+1]\n",
        "  arr.pop()\n",
        "  return arr\n",
        "\n",
        "arr = [2, 4, 6, 8, 10, 12]\n",
        "remove_ele(2,arr)"
      ],
      "metadata": {
        "colab": {
          "base_uri": "https://localhost:8080/"
        },
        "id": "xxiyjd6f4N_4",
        "outputId": "69e4ec7b-bd1d-4c10-dd8a-77c9e6d7db20"
      },
      "execution_count": 11,
      "outputs": [
        {
          "output_type": "execute_result",
          "data": {
            "text/plain": [
              "[2, 4, 8, 10, 12]"
            ]
          },
          "metadata": {},
          "execution_count": 11
        }
      ]
    },
    {
      "cell_type": "code",
      "source": [
        "def arr_odd(arr):\n",
        "  odd=[]\n",
        "  for i in arr:\n",
        "    if not i%2==0:\n",
        "      odd+=[i]\n",
        "  return odd\n",
        "arr=[1,2,3,1,4,5,6,8,89,9]\n",
        "arr_odd(arr)"
      ],
      "metadata": {
        "colab": {
          "base_uri": "https://localhost:8080/"
        },
        "id": "TFMGoRMjD4s8",
        "outputId": "c9e50936-2ec9-40ea-a0ae-1c8685db2919"
      },
      "execution_count": 14,
      "outputs": [
        {
          "output_type": "execute_result",
          "data": {
            "text/plain": [
              "[1, 3, 1, 5, 89, 9]"
            ]
          },
          "metadata": {},
          "execution_count": 14
        }
      ]
    },
    {
      "cell_type": "code",
      "source": [
        "def remove_ele(arr,ele):\n",
        "  new_arr=[]\n",
        "  for i in arr:\n",
        "    if i!=ele:\n",
        "      new_arr+=[i]\n",
        "  return new_arr\n",
        "arr=[1,2,3,1,4,5,6,8,89,9]\n",
        "remove_ele(arr,3)\n",
        "      "
      ],
      "metadata": {
        "colab": {
          "base_uri": "https://localhost:8080/"
        },
        "id": "ESA8lcSxFP-o",
        "outputId": "b4f0a3d6-654e-4371-dcda-36fde1461b91"
      },
      "execution_count": 18,
      "outputs": [
        {
          "output_type": "execute_result",
          "data": {
            "text/plain": [
              "[1, 2, 1, 4, 5, 6, 8, 89, 9]"
            ]
          },
          "metadata": {},
          "execution_count": 18
        }
      ]
    },
    {
      "cell_type": "code",
      "source": [
        "def rotate_left(arr,k):\n",
        "  n=len(arr)\n",
        "  k=k%n\n",
        "  for i in range(k):\n",
        "    temp=arr[0]\n",
        "    for j in range(n-1):\n",
        "      arr[j]=arr[j+1]\n",
        "    arr[n-1]=temp\n",
        "  return arr\n",
        "arr=[1,2,3,4,5]\n",
        "rotate_left(arr,3)"
      ],
      "metadata": {
        "colab": {
          "base_uri": "https://localhost:8080/"
        },
        "id": "0A71p8OlGg44",
        "outputId": "89db7528-172a-47b2-b01a-3f52583a4263"
      },
      "execution_count": 20,
      "outputs": [
        {
          "output_type": "execute_result",
          "data": {
            "text/plain": [
              "[4, 5, 1, 2, 3]"
            ]
          },
          "metadata": {},
          "execution_count": 20
        }
      ]
    },
    {
      "cell_type": "code",
      "source": [],
      "metadata": {
        "id": "vkHHr1TqIsmH"
      },
      "execution_count": null,
      "outputs": []
    }
  ]
}
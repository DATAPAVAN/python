{
  "nbformat": 4,
  "nbformat_minor": 0,
  "metadata": {
    "colab": {
      "provenance": []
    },
    "kernelspec": {
      "name": "python3",
      "display_name": "Python 3"
    },
    "language_info": {
      "name": "python"
    }
  },
  "cells": [
    {
      "cell_type": "code",
      "execution_count": null,
      "metadata": {
        "colab": {
          "base_uri": "https://localhost:8080/"
        },
        "id": "3mP6DcKPhS1d",
        "outputId": "743cea6f-7f18-427b-a294-72694c9311a2"
      },
      "outputs": [
        {
          "name": "stdout",
          "output_type": "stream",
          "text": [
            "Enter full name:uppalapavankumar\n",
            "Enter full name:uppala pavan kumar\n"
          ]
        }
      ],
      "source": [
        "#recieve full name\n",
        "name=input('Enter full name:')\n",
        "#seperate first and middle, last name\n",
        "fname,mname,lname=input('Enter full name:').split()"
      ]
    },
    {
      "cell_type": "code",
      "source": [
        "fname"
      ],
      "metadata": {
        "colab": {
          "base_uri": "https://localhost:8080/",
          "height": 36
        },
        "id": "Wy0XiIeEiIwF",
        "outputId": "6a9227df-7ace-4f28-8813-cd77dda65b3a"
      },
      "execution_count": null,
      "outputs": [
        {
          "output_type": "execute_result",
          "data": {
            "text/plain": [
              "'uppala'"
            ],
            "application/vnd.google.colaboratory.intrinsic+json": {
              "type": "string"
            }
          },
          "metadata": {},
          "execution_count": 2
        }
      ]
    },
    {
      "cell_type": "code",
      "source": [
        "lname"
      ],
      "metadata": {
        "colab": {
          "base_uri": "https://localhost:8080/",
          "height": 36
        },
        "id": "gtfvEbcliTNR",
        "outputId": "89ced0a8-5342-4a9e-9767-672040497ec9"
      },
      "execution_count": null,
      "outputs": [
        {
          "output_type": "execute_result",
          "data": {
            "text/plain": [
              "'kumar'"
            ],
            "application/vnd.google.colaboratory.intrinsic+json": {
              "type": "string"
            }
          },
          "metadata": {},
          "execution_count": 3
        }
      ]
    },
    {
      "cell_type": "code",
      "source": [
        "n,n1,n2=[int(n) for n in input('Enter three values:').split()]\n",
        "print(n+n1+n2)"
      ],
      "metadata": {
        "colab": {
          "base_uri": "https://localhost:8080/"
        },
        "id": "2L79jZnZiVTU",
        "outputId": "b5d35b40-853b-4bdb-d879-a75e531c124b"
      },
      "execution_count": null,
      "outputs": [
        {
          "output_type": "stream",
          "name": "stdout",
          "text": [
            "Enter three values:5 4 5\n",
            "14\n"
          ]
        }
      ]
    },
    {
      "cell_type": "code",
      "source": [
        "n1,n3,n4=input('Enter three values:').split()"
      ],
      "metadata": {
        "colab": {
          "base_uri": "https://localhost:8080/"
        },
        "id": "OdfgfL0WioWg",
        "outputId": "23faca85-9e3d-4c60-9564-e8831ed578b6"
      },
      "execution_count": null,
      "outputs": [
        {
          "name": "stdout",
          "output_type": "stream",
          "text": [
            "Enter three values:5 6 8\n"
          ]
        }
      ]
    },
    {
      "cell_type": "code",
      "source": [
        "n4"
      ],
      "metadata": {
        "colab": {
          "base_uri": "https://localhost:8080/",
          "height": 36
        },
        "id": "Ri5Z2QKIi_i8",
        "outputId": "aa864949-a003-4e54-ef61-e0426919b725"
      },
      "execution_count": null,
      "outputs": [
        {
          "output_type": "execute_result",
          "data": {
            "text/plain": [
              "'8'"
            ],
            "application/vnd.google.colaboratory.intrinsic+json": {
              "type": "string"
            }
          },
          "metadata": {},
          "execution_count": 8
        }
      ]
    },
    {
      "cell_type": "code",
      "source": [
        "print(int(n1)+int(n2)+int(n3))"
      ],
      "metadata": {
        "colab": {
          "base_uri": "https://localhost:8080/"
        },
        "id": "CkUo__OqjqLF",
        "outputId": "07458e04-17bb-44a7-bf29-b8ec99af5d21"
      },
      "execution_count": null,
      "outputs": [
        {
          "output_type": "stream",
          "name": "stdout",
          "text": [
            "16\n"
          ]
        }
      ]
    },
    {
      "cell_type": "code",
      "source": [
        "numbers =[int(x) for  x in input('Enter the values:').split()]\n",
        "for n in numbers:\n",
        "  print(n+10)"
      ],
      "metadata": {
        "colab": {
          "base_uri": "https://localhost:8080/"
        },
        "id": "SLs23VnIj21W",
        "outputId": "b1d45231-c0fb-4a61-aca7-6ea02044dbc7"
      },
      "execution_count": null,
      "outputs": [
        {
          "output_type": "stream",
          "name": "stdout",
          "text": [
            "Enter the values:2 25 588 888 21 2 5\n",
            "12\n",
            "35\n",
            "598\n",
            "898\n",
            "31\n",
            "12\n",
            "15\n"
          ]
        }
      ]
    },
    {
      "cell_type": "code",
      "source": [
        "data=input('Enter name,age,salary:').split()\n",
        "name=data[0]\n",
        "age=int(data[1])\n",
        "salary=float(data[2])\n",
        "print(data)\n",
        "age"
      ],
      "metadata": {
        "colab": {
          "base_uri": "https://localhost:8080/"
        },
        "id": "HvL-SicqkoTY",
        "outputId": "7641c4ac-4fc6-46e4-e906-8dadf9413273"
      },
      "execution_count": null,
      "outputs": [
        {
          "output_type": "stream",
          "name": "stdout",
          "text": [
            "Enter name,age,salary:saivinay 26 25000.154\n",
            "['saivinay', '26', '25000.154']\n"
          ]
        },
        {
          "output_type": "execute_result",
          "data": {
            "text/plain": [
              "26"
            ]
          },
          "metadata": {},
          "execution_count": 13
        }
      ]
    },
    {
      "cell_type": "code",
      "source": [
        "print(name,age,sep='1',end='@gmail.com')"
      ],
      "metadata": {
        "colab": {
          "base_uri": "https://localhost:8080/"
        },
        "id": "AY8iO9IOlHbx",
        "outputId": "fdf73481-9caf-4027-e9e8-6f55d5ae35a5"
      },
      "execution_count": null,
      "outputs": [
        {
          "output_type": "stream",
          "name": "stdout",
          "text": [
            "saivinay126@gmail.com"
          ]
        }
      ]
    },
    {
      "cell_type": "code",
      "source": [
        "r,l,b=1.5678,10.5,2.66\n",
        "print(f'radius={r}')\n",
        "print('radius',r,sep='=',end=' metre\\n')\n",
        "print(f'length={l},breadth={b},radius={r}')\n",
        "print('length={} breadth={} radius={}'.format(l,b,r))\n",
        "print('length={2} breadth={1} radius={0}'.format(l,b,r))"
      ],
      "metadata": {
        "colab": {
          "base_uri": "https://localhost:8080/"
        },
        "id": "ZlbrMCjWl3z9",
        "outputId": "d49de122-9dc7-451d-e35b-5ff586a09462"
      },
      "execution_count": null,
      "outputs": [
        {
          "output_type": "stream",
          "name": "stdout",
          "text": [
            "radius=1.5678\n",
            "radius=1.5678 metre\n",
            "length=10.5,breadth=2.66,radius=1.5678\n",
            "length=10.5 breadth=2.66 radius=1.5678\n",
            "length=1.5678 breadth=2.66 radius=10.5\n"
          ]
        }
      ]
    },
    {
      "cell_type": "code",
      "source": [
        "name='Sushant Ajay Raje'\n",
        "for n in name.split():\n",
        "  print(f'{n:1}') #prints in 1column.\n"
      ],
      "metadata": {
        "colab": {
          "base_uri": "https://localhost:8080/"
        },
        "id": "I9Lbayqlm8F3",
        "outputId": "e603b58a-4b97-4390-b9ab-4a7fc84f70c2"
      },
      "execution_count": null,
      "outputs": [
        {
          "output_type": "stream",
          "name": "stdout",
          "text": [
            "Sushant\n",
            "Ajay\n",
            "Raje\n"
          ]
        }
      ]
    },
    {
      "cell_type": "code",
      "source": [
        "#Write a program to recieve radius of a circle , and length and breadth of a rectangle in one call input().Calculate and print the circumference of circle and perimeter of a rectangle.\n",
        "r,l,b=[int(n) for n in input('Enter the radius and length,breadth :').split()]\n",
        "circumference=2*3.14*r\n",
        "perimetre=2*(l+b)\n",
        "print(round(circumference,2),perimetre)"
      ],
      "metadata": {
        "colab": {
          "base_uri": "https://localhost:8080/"
        },
        "id": "l1VmDcwFoTA3",
        "outputId": "fe40134d-bd6a-4264-e640-054fa874db90"
      },
      "execution_count": null,
      "outputs": [
        {
          "output_type": "stream",
          "name": "stdout",
          "text": [
            "Enter the radius and length,breadth :5 6 8\n",
            "31.4 28\n"
          ]
        }
      ]
    },
    {
      "cell_type": "code",
      "source": [
        "#Write a program to recieve 3 integers using one call to input(). \n",
        "#The three integers signify value, ending value and step value for a range. \n",
        "#The program should use these values to print the number,its square and its cube,all properly right-aligned.\n",
        "# Also output the same values left-aligned.\n",
        "start,end,step=[int(n) for n in input('Enter start, end,step values:').split()]\n",
        "for n in range(start,end,step):\n",
        "  print(f'{n:>3}{n**2:>4}{n**3:>4}')\n",
        "print()\n",
        "for n in range(start,end,step):\n",
        "  print('{0:<3}{1:<3}{2:<3}'.format(n,n**2,n**3))\n"
      ],
      "metadata": {
        "colab": {
          "base_uri": "https://localhost:8080/"
        },
        "id": "RwuwT6OMqvaP",
        "outputId": "08f45488-873d-4212-815e-e9cbceeae081"
      },
      "execution_count": null,
      "outputs": [
        {
          "output_type": "stream",
          "name": "stdout",
          "text": [
            "Enter start, end,step values:1 10 2\n",
            "  1   1   1\n",
            "  3   9  27\n",
            "  5  25 125\n",
            "  7  49 343\n",
            "  9  81 729\n",
            "\n",
            "1  1  1  \n",
            "3  9  27 \n",
            "5  25 125\n",
            "7  49 343\n",
            "9  81 729\n"
          ]
        }
      ]
    },
    {
      "cell_type": "code",
      "source": [
        "#Write a program to maintain names and cell numbers of 4 persons and then print them systematically in a tabular form.\n",
        "contacts={\n",
        "    'Dilip':9823077892 , 'Shekhar':6784512345,'Vivek':9823011245}\n",
        "for name ,cellno in contacts.items():\n",
        "  print(f'{name:15}:{cellno:11}')"
      ],
      "metadata": {
        "colab": {
          "base_uri": "https://localhost:8080/"
        },
        "id": "7nXWzOLJT-nY",
        "outputId": "7546dfb6-9c82-45a4-bdd8-c735ee9cfb07"
      },
      "execution_count": null,
      "outputs": [
        {
          "output_type": "stream",
          "name": "stdout",
          "text": [
            "Dilip          : 9823077892\n",
            "Shekhar        : 6784512345\n",
            "Vivek          : 9823011245\n"
          ]
        }
      ]
    },
    {
      "cell_type": "code",
      "source": [
        "#Suppose there are 5 variables in a program-max,min,mean and sd and var,having some suitable values.\n",
        "#Write a program to print these variables properly aligned using multiple fstrings,but one call to print().\n",
        "min,max=25,56\n",
        "mean=35\n",
        "sd=0.56\n",
        "var=0.9\n",
        "print(\n",
        "    f'\\n{\"Max value:\":<15}{max:>10}',\n",
        "    f'\\n{\"Min value:\":<15}{min:>10}',\n",
        "    f'\\n{\"Mean:\":<15}{mean:>10}',\n",
        "    f'\\n{\"sd:\":<15}{sd:>10}',\n",
        "    f'\\n{\"var:\":<15}{var:>10}'\n",
        ")"
      ],
      "metadata": {
        "colab": {
          "base_uri": "https://localhost:8080/"
        },
        "id": "lyy-E6aaYci5",
        "outputId": "42f0d13a-9f98-4555-b7da-4672274e712d"
      },
      "execution_count": null,
      "outputs": [
        {
          "output_type": "stream",
          "name": "stdout",
          "text": [
            "\n",
            "Max value:             56 \n",
            "Min value:             25 \n",
            "Mean:                  35 \n",
            "sd:                  0.56 \n",
            "var:                  0.9\n"
          ]
        }
      ]
    },
    {
      "cell_type": "code",
      "source": [
        "#Write a program that prints square root and cube root of numbers from 1 to 10,up to 3 decimal places. \n",
        "#Ensure that the output is displayed in separate lines, with number center-justified and square and cube roots,right-justified.\n",
        "import math\n",
        "for n in range(1,10):\n",
        "  s=round(math.sqrt(n),3)\n",
        "  c=round(math.pow(n,1/3),3)\n",
        "  print(f'{n:^5}{s:10}{c:10}') # here we use '^' for center...."
      ],
      "metadata": {
        "id": "KgO6uezEdDAv",
        "colab": {
          "base_uri": "https://localhost:8080/"
        },
        "outputId": "883cdd38-1361-4e94-9fc0-7c9b2b259c48"
      },
      "execution_count": 18,
      "outputs": [
        {
          "output_type": "stream",
          "name": "stdout",
          "text": [
            "  1         1.0       1.0\n",
            "  2       1.414      1.26\n",
            "  3       1.732     1.442\n",
            "  4         2.0     1.587\n",
            "  5       2.236      1.71\n",
            "  6       2.449     1.817\n",
            "  7       2.646     1.913\n",
            "  8       2.828       2.0\n",
            "  9         3.0      2.08\n"
          ]
        }
      ]
    },
    {
      "cell_type": "code",
      "source": [],
      "metadata": {
        "id": "nS70yUGaiEjd"
      },
      "execution_count": null,
      "outputs": []
    }
  ]
}
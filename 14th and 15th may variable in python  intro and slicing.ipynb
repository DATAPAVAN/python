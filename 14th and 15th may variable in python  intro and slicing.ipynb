{
 "cells": [
  {
   "cell_type": "code",
   "execution_count": 5,
   "id": "de50a08b",
   "metadata": {},
   "outputs": [
    {
     "data": {
      "text/plain": [
       "0"
      ]
     },
     "execution_count": 5,
     "metadata": {},
     "output_type": "execute_result"
    }
   ],
   "source": [
    "1-1"
   ]
  },
  {
   "cell_type": "code",
   "execution_count": 6,
   "id": "77d8b4ca",
   "metadata": {},
   "outputs": [
    {
     "data": {
      "text/plain": [
       "1.0"
      ]
     },
     "execution_count": 6,
     "metadata": {},
     "output_type": "execute_result"
    }
   ],
   "source": [
    "2/2"
   ]
  },
  {
   "cell_type": "code",
   "execution_count": 7,
   "id": "59c98a04",
   "metadata": {},
   "outputs": [
    {
     "data": {
      "text/plain": [
       "1288"
      ]
     },
     "execution_count": 7,
     "metadata": {},
     "output_type": "execute_result"
    }
   ],
   "source": [
    "56*23"
   ]
  },
  {
   "cell_type": "markdown",
   "id": "c5184cd3",
   "metadata": {},
   "source": [
    "hi this is your friend pavan kumar"
   ]
  },
  {
   "cell_type": "code",
   "execution_count": 8,
   "id": "3206fb09",
   "metadata": {},
   "outputs": [
    {
     "ename": "SyntaxError",
     "evalue": "invalid syntax (40072641.py, line 1)",
     "output_type": "error",
     "traceback": [
      "\u001b[1;36m  Input \u001b[1;32mIn [8]\u001b[1;36m\u001b[0m\n\u001b[1;33m    hi this is your friend pavan kumar\u001b[0m\n\u001b[1;37m       ^\u001b[0m\n\u001b[1;31mSyntaxError\u001b[0m\u001b[1;31m:\u001b[0m invalid syntax\n"
     ]
    }
   ],
   "source": [
    "hi this is your friend pavan kumar"
   ]
  },
  {
   "cell_type": "raw",
   "id": "91b99a86",
   "metadata": {},
   "source": [
    "hi this is your friend pavan kumar"
   ]
  },
  {
   "cell_type": "markdown",
   "id": "cf15e152",
   "metadata": {},
   "source": [
    "# hi this is your friend pavan kumar"
   ]
  },
  {
   "cell_type": "code",
   "execution_count": 9,
   "id": "129cb46a",
   "metadata": {},
   "outputs": [],
   "source": [
    "pavan = 15000001"
   ]
  },
  {
   "cell_type": "code",
   "execution_count": 10,
   "id": "5594a199",
   "metadata": {},
   "outputs": [
    {
     "data": {
      "text/plain": [
       "7500000.5"
      ]
     },
     "execution_count": 10,
     "metadata": {},
     "output_type": "execute_result"
    }
   ],
   "source": [
    "pavan/2"
   ]
  },
  {
   "cell_type": "code",
   "execution_count": 11,
   "id": "d988433f",
   "metadata": {},
   "outputs": [
    {
     "data": {
      "text/plain": [
       "7500000.5"
      ]
     },
     "execution_count": 11,
     "metadata": {},
     "output_type": "execute_result"
    }
   ],
   "source": [
    "pavan-7500000.5"
   ]
  },
  {
   "cell_type": "code",
   "execution_count": 12,
   "id": "882e2c60",
   "metadata": {},
   "outputs": [
    {
     "data": {
      "text/plain": [
       "int"
      ]
     },
     "execution_count": 12,
     "metadata": {},
     "output_type": "execute_result"
    }
   ],
   "source": [
    "type(pavan)\n"
   ]
  },
  {
   "cell_type": "code",
   "execution_count": 13,
   "id": "99db64c6",
   "metadata": {},
   "outputs": [
    {
     "ename": "NameError",
     "evalue": "name 'HI' is not defined",
     "output_type": "error",
     "traceback": [
      "\u001b[1;31m---------------------------------------------------------------------------\u001b[0m",
      "\u001b[1;31mNameError\u001b[0m                                 Traceback (most recent call last)",
      "Input \u001b[1;32mIn [13]\u001b[0m, in \u001b[0;36m<cell line: 1>\u001b[1;34m()\u001b[0m\n\u001b[1;32m----> 1\u001b[0m PAVAN\u001b[38;5;241m=\u001b[39m\u001b[43mHI\u001b[49m\n",
      "\u001b[1;31mNameError\u001b[0m: name 'HI' is not defined"
     ]
    }
   ],
   "source": [
    "PAVAN=HI"
   ]
  },
  {
   "cell_type": "code",
   "execution_count": 15,
   "id": "c6596311",
   "metadata": {},
   "outputs": [],
   "source": [
    "PAVAN = \"HI\""
   ]
  },
  {
   "cell_type": "code",
   "execution_count": 18,
   "id": "c0f7626d",
   "metadata": {},
   "outputs": [
    {
     "data": {
      "text/plain": [
       "'HI'"
      ]
     },
     "execution_count": 18,
     "metadata": {},
     "output_type": "execute_result"
    }
   ],
   "source": [
    "PAVAN"
   ]
  },
  {
   "cell_type": "code",
   "execution_count": 19,
   "id": "65daecf6",
   "metadata": {},
   "outputs": [],
   "source": [
    "PAVAN = 25.06"
   ]
  },
  {
   "cell_type": "code",
   "execution_count": 20,
   "id": "d7278ea1",
   "metadata": {},
   "outputs": [
    {
     "data": {
      "text/plain": [
       "25.06"
      ]
     },
     "execution_count": 20,
     "metadata": {},
     "output_type": "execute_result"
    }
   ],
   "source": [
    "PAVAN"
   ]
  },
  {
   "cell_type": "code",
   "execution_count": 22,
   "id": "fa5f3912",
   "metadata": {},
   "outputs": [
    {
     "data": {
      "text/plain": [
       "float"
      ]
     },
     "execution_count": 22,
     "metadata": {},
     "output_type": "execute_result"
    }
   ],
   "source": [
    "type(PAVAN)"
   ]
  },
  {
   "cell_type": "code",
   "execution_count": 24,
   "id": "e2d05424",
   "metadata": {},
   "outputs": [],
   "source": [
    "P= True"
   ]
  },
  {
   "cell_type": "code",
   "execution_count": 25,
   "id": "f9117ac0",
   "metadata": {},
   "outputs": [
    {
     "data": {
      "text/plain": [
       "True"
      ]
     },
     "execution_count": 25,
     "metadata": {},
     "output_type": "execute_result"
    }
   ],
   "source": [
    "P"
   ]
  },
  {
   "cell_type": "code",
   "execution_count": 26,
   "id": "f96b4097",
   "metadata": {},
   "outputs": [
    {
     "data": {
      "text/plain": [
       "bool"
      ]
     },
     "execution_count": 26,
     "metadata": {},
     "output_type": "execute_result"
    }
   ],
   "source": [
    "type(P)"
   ]
  },
  {
   "cell_type": "code",
   "execution_count": 27,
   "id": "e0edeea9",
   "metadata": {},
   "outputs": [],
   "source": [
    "Q=False"
   ]
  },
  {
   "cell_type": "code",
   "execution_count": 28,
   "id": "94323e48",
   "metadata": {},
   "outputs": [
    {
     "data": {
      "text/plain": [
       "1"
      ]
     },
     "execution_count": 28,
     "metadata": {},
     "output_type": "execute_result"
    }
   ],
   "source": [
    "P-Q"
   ]
  },
  {
   "cell_type": "code",
   "execution_count": 29,
   "id": "2d3bea9a",
   "metadata": {},
   "outputs": [
    {
     "ename": "ZeroDivisionError",
     "evalue": "division by zero",
     "output_type": "error",
     "traceback": [
      "\u001b[1;31m---------------------------------------------------------------------------\u001b[0m",
      "\u001b[1;31mZeroDivisionError\u001b[0m                         Traceback (most recent call last)",
      "Input \u001b[1;32mIn [29]\u001b[0m, in \u001b[0;36m<cell line: 1>\u001b[1;34m()\u001b[0m\n\u001b[1;32m----> 1\u001b[0m \u001b[43mP\u001b[49m\u001b[38;5;241;43m/\u001b[39;49m\u001b[43mQ\u001b[49m\n",
      "\u001b[1;31mZeroDivisionError\u001b[0m: division by zero"
     ]
    }
   ],
   "source": [
    "P/Q"
   ]
  },
  {
   "cell_type": "code",
   "execution_count": 30,
   "id": "06a6b18c",
   "metadata": {},
   "outputs": [
    {
     "data": {
      "text/plain": [
       "0"
      ]
     },
     "execution_count": 30,
     "metadata": {},
     "output_type": "execute_result"
    }
   ],
   "source": [
    "P*Q"
   ]
  },
  {
   "cell_type": "code",
   "execution_count": 31,
   "id": "060248b2",
   "metadata": {},
   "outputs": [
    {
     "data": {
      "text/plain": [
       "0.0"
      ]
     },
     "execution_count": 31,
     "metadata": {},
     "output_type": "execute_result"
    }
   ],
   "source": [
    "Q/P"
   ]
  },
  {
   "cell_type": "code",
   "execution_count": 32,
   "id": "a2f33a80",
   "metadata": {},
   "outputs": [],
   "source": [
    "R=6-2j"
   ]
  },
  {
   "cell_type": "code",
   "execution_count": 33,
   "id": "f8830a8a",
   "metadata": {},
   "outputs": [
    {
     "data": {
      "text/plain": [
       "complex"
      ]
     },
     "execution_count": 33,
     "metadata": {},
     "output_type": "execute_result"
    }
   ],
   "source": [
    "type(R)"
   ]
  },
  {
   "cell_type": "code",
   "execution_count": 35,
   "id": "41a8f773",
   "metadata": {},
   "outputs": [
    {
     "data": {
      "text/plain": [
       "(32-24j)"
      ]
     },
     "execution_count": 35,
     "metadata": {},
     "output_type": "execute_result"
    }
   ],
   "source": [
    "R*R"
   ]
  },
  {
   "cell_type": "code",
   "execution_count": 36,
   "id": "532d90eb",
   "metadata": {},
   "outputs": [
    {
     "ename": "AttributeError",
     "evalue": "'complex' object has no attribute 'img'",
     "output_type": "error",
     "traceback": [
      "\u001b[1;31m---------------------------------------------------------------------------\u001b[0m",
      "\u001b[1;31mAttributeError\u001b[0m                            Traceback (most recent call last)",
      "Input \u001b[1;32mIn [36]\u001b[0m, in \u001b[0;36m<cell line: 1>\u001b[1;34m()\u001b[0m\n\u001b[1;32m----> 1\u001b[0m \u001b[43mR\u001b[49m\u001b[38;5;241;43m.\u001b[39;49m\u001b[43mimg\u001b[49m\n",
      "\u001b[1;31mAttributeError\u001b[0m: 'complex' object has no attribute 'img'"
     ]
    }
   ],
   "source": [
    "R.img"
   ]
  },
  {
   "cell_type": "code",
   "execution_count": 37,
   "id": "55ab4bcb",
   "metadata": {},
   "outputs": [
    {
     "data": {
      "text/plain": [
       "6.0"
      ]
     },
     "execution_count": 37,
     "metadata": {},
     "output_type": "execute_result"
    }
   ],
   "source": [
    "R.real"
   ]
  },
  {
   "cell_type": "code",
   "execution_count": 38,
   "id": "aeec1ab3",
   "metadata": {},
   "outputs": [
    {
     "data": {
      "text/plain": [
       "-2.0"
      ]
     },
     "execution_count": 38,
     "metadata": {},
     "output_type": "execute_result"
    }
   ],
   "source": [
    "R.imag"
   ]
  },
  {
   "cell_type": "code",
   "execution_count": 39,
   "id": "35af024d",
   "metadata": {},
   "outputs": [
    {
     "data": {
      "text/plain": [
       "(36-12j)"
      ]
     },
     "execution_count": 39,
     "metadata": {},
     "output_type": "execute_result"
    }
   ],
   "source": [
    "R*R.real"
   ]
  },
  {
   "cell_type": "code",
   "execution_count": 42,
   "id": "efbd8f78",
   "metadata": {},
   "outputs": [
    {
     "ename": "SyntaxError",
     "evalue": "cannot assign to operator (3837798339.py, line 1)",
     "output_type": "error",
     "traceback": [
      "\u001b[1;36m  Input \u001b[1;32mIn [42]\u001b[1;36m\u001b[0m\n\u001b[1;33m    R*R=\"S\"\u001b[0m\n\u001b[1;37m    ^\u001b[0m\n\u001b[1;31mSyntaxError\u001b[0m\u001b[1;31m:\u001b[0m cannot assign to operator\n"
     ]
    }
   ],
   "source": [
    "R*R=\"S\""
   ]
  },
  {
   "cell_type": "code",
   "execution_count": 43,
   "id": "a78d67dd",
   "metadata": {},
   "outputs": [
    {
     "data": {
      "text/plain": [
       "complex"
      ]
     },
     "execution_count": 43,
     "metadata": {},
     "output_type": "execute_result"
    }
   ],
   "source": [
    "type(R)"
   ]
  },
  {
   "cell_type": "code",
   "execution_count": 44,
   "id": "da9ed4e6",
   "metadata": {},
   "outputs": [
    {
     "data": {
      "text/plain": [
       "<function complex.conjugate>"
      ]
     },
     "execution_count": 44,
     "metadata": {},
     "output_type": "execute_result"
    }
   ],
   "source": [
    "R.conjugate"
   ]
  },
  {
   "cell_type": "code",
   "execution_count": 45,
   "id": "b8df4337",
   "metadata": {},
   "outputs": [],
   "source": [
    "p=[1,2,5,9555,100000,\"kknk\",20.22]"
   ]
  },
  {
   "cell_type": "code",
   "execution_count": 46,
   "id": "23bb1a9f",
   "metadata": {},
   "outputs": [
    {
     "data": {
      "text/plain": [
       "list"
      ]
     },
     "execution_count": 46,
     "metadata": {},
     "output_type": "execute_result"
    }
   ],
   "source": [
    "type(p)"
   ]
  },
  {
   "cell_type": "code",
   "execution_count": 47,
   "id": "6fc6de4c",
   "metadata": {},
   "outputs": [
    {
     "ename": "TypeError",
     "evalue": "unsupported operand type(s) for -: 'int' and 'list'",
     "output_type": "error",
     "traceback": [
      "\u001b[1;31m---------------------------------------------------------------------------\u001b[0m",
      "\u001b[1;31mTypeError\u001b[0m                                 Traceback (most recent call last)",
      "Input \u001b[1;32mIn [47]\u001b[0m, in \u001b[0;36m<cell line: 1>\u001b[1;34m()\u001b[0m\n\u001b[1;32m----> 1\u001b[0m \u001b[38;5;241;43m5\u001b[39;49m\u001b[38;5;241;43m-\u001b[39;49m\u001b[43mp\u001b[49m\n",
      "\u001b[1;31mTypeError\u001b[0m: unsupported operand type(s) for -: 'int' and 'list'"
     ]
    }
   ],
   "source": [
    "5-p"
   ]
  },
  {
   "cell_type": "code",
   "execution_count": 50,
   "id": "36bf5978",
   "metadata": {},
   "outputs": [
    {
     "data": {
      "text/plain": [
       "99998"
      ]
     },
     "execution_count": 50,
     "metadata": {},
     "output_type": "execute_result"
    }
   ],
   "source": [
    "p[4]-2"
   ]
  },
  {
   "cell_type": "code",
   "execution_count": 51,
   "id": "67f03434",
   "metadata": {},
   "outputs": [
    {
     "data": {
      "text/plain": [
       "'kknks'"
      ]
     },
     "execution_count": 51,
     "metadata": {},
     "output_type": "execute_result"
    }
   ],
   "source": [
    "p[5]+'s'"
   ]
  },
  {
   "cell_type": "code",
   "execution_count": 55,
   "id": "c9481dcc",
   "metadata": {},
   "outputs": [],
   "source": [
    "t=(1,2,3,5.0,\"jkjdj\",5-1j )"
   ]
  },
  {
   "cell_type": "code",
   "execution_count": 56,
   "id": "24c99e68",
   "metadata": {},
   "outputs": [
    {
     "data": {
      "text/plain": [
       "tuple"
      ]
     },
     "execution_count": 56,
     "metadata": {},
     "output_type": "execute_result"
    }
   ],
   "source": [
    "type(t)"
   ]
  },
  {
   "cell_type": "code",
   "execution_count": 61,
   "id": "f8b4185d",
   "metadata": {},
   "outputs": [],
   "source": [
    "D={'a':12,'b':23}"
   ]
  },
  {
   "cell_type": "code",
   "execution_count": 62,
   "id": "cf86241b",
   "metadata": {},
   "outputs": [
    {
     "data": {
      "text/plain": [
       "dict"
      ]
     },
     "execution_count": 62,
     "metadata": {},
     "output_type": "execute_result"
    }
   ],
   "source": [
    "type(D)"
   ]
  },
  {
   "cell_type": "code",
   "execution_count": 63,
   "id": "371ef36a",
   "metadata": {},
   "outputs": [],
   "source": [
    "D={25,22}"
   ]
  },
  {
   "cell_type": "code",
   "execution_count": 64,
   "id": "e0c1f940",
   "metadata": {},
   "outputs": [
    {
     "data": {
      "text/plain": [
       "set"
      ]
     },
     "execution_count": 64,
     "metadata": {},
     "output_type": "execute_result"
    }
   ],
   "source": [
    "type(D)"
   ]
  },
  {
   "cell_type": "code",
   "execution_count": 65,
   "id": "4023d3fa",
   "metadata": {},
   "outputs": [
    {
     "ename": "NameError",
     "evalue": "name 'L' is not defined",
     "output_type": "error",
     "traceback": [
      "\u001b[1;31m---------------------------------------------------------------------------\u001b[0m",
      "\u001b[1;31mNameError\u001b[0m                                 Traceback (most recent call last)",
      "Input \u001b[1;32mIn [65]\u001b[0m, in \u001b[0;36m<cell line: 1>\u001b[1;34m()\u001b[0m\n\u001b[1;32m----> 1\u001b[0m \u001b[43mL\u001b[49m\n",
      "\u001b[1;31mNameError\u001b[0m: name 'L' is not defined"
     ]
    }
   ],
   "source": [
    "L"
   ]
  },
  {
   "cell_type": "code",
   "execution_count": 66,
   "id": "5693ab53",
   "metadata": {},
   "outputs": [
    {
     "data": {
      "text/plain": [
       "(1, 2, 3, 5.0, 'jkjdj', (5-1j))"
      ]
     },
     "execution_count": 66,
     "metadata": {},
     "output_type": "execute_result"
    }
   ],
   "source": [
    "t"
   ]
  },
  {
   "cell_type": "code",
   "execution_count": 67,
   "id": "e32d59d9",
   "metadata": {},
   "outputs": [],
   "source": [
    "s='ineuron'"
   ]
  },
  {
   "cell_type": "code",
   "execution_count": 68,
   "id": "392f6ded",
   "metadata": {},
   "outputs": [
    {
     "data": {
      "text/plain": [
       "str"
      ]
     },
     "execution_count": 68,
     "metadata": {},
     "output_type": "execute_result"
    }
   ],
   "source": [
    "type(s)"
   ]
  },
  {
   "cell_type": "code",
   "execution_count": 69,
   "id": "3a16f086",
   "metadata": {},
   "outputs": [
    {
     "data": {
      "text/plain": [
       "'i'"
      ]
     },
     "execution_count": 69,
     "metadata": {},
     "output_type": "execute_result"
    }
   ],
   "source": [
    "s[0]"
   ]
  },
  {
   "cell_type": "code",
   "execution_count": 70,
   "id": "52b056da",
   "metadata": {},
   "outputs": [
    {
     "data": {
      "text/plain": [
       "'r'"
      ]
     },
     "execution_count": 70,
     "metadata": {},
     "output_type": "execute_result"
    }
   ],
   "source": [
    "s[5]"
   ]
  },
  {
   "cell_type": "code",
   "execution_count": 71,
   "id": "3b227acd",
   "metadata": {},
   "outputs": [
    {
     "data": {
      "text/plain": [
       "'r'"
      ]
     },
     "execution_count": 71,
     "metadata": {},
     "output_type": "execute_result"
    }
   ],
   "source": [
    "s[5]"
   ]
  },
  {
   "cell_type": "code",
   "execution_count": 72,
   "id": "d1127dd7",
   "metadata": {},
   "outputs": [
    {
     "data": {
      "text/plain": [
       "'n'"
      ]
     },
     "execution_count": 72,
     "metadata": {},
     "output_type": "execute_result"
    }
   ],
   "source": [
    "s[-6]"
   ]
  },
  {
   "cell_type": "code",
   "execution_count": 73,
   "id": "056149d0",
   "metadata": {},
   "outputs": [
    {
     "ename": "IndexError",
     "evalue": "string index out of range",
     "output_type": "error",
     "traceback": [
      "\u001b[1;31m---------------------------------------------------------------------------\u001b[0m",
      "\u001b[1;31mIndexError\u001b[0m                                Traceback (most recent call last)",
      "Input \u001b[1;32mIn [73]\u001b[0m, in \u001b[0;36m<cell line: 1>\u001b[1;34m()\u001b[0m\n\u001b[1;32m----> 1\u001b[0m \u001b[43ms\u001b[49m\u001b[43m[\u001b[49m\u001b[38;5;241;43m9\u001b[39;49m\u001b[43m]\u001b[49m\n",
      "\u001b[1;31mIndexError\u001b[0m: string index out of range"
     ]
    }
   ],
   "source": [
    "s[9]"
   ]
  },
  {
   "cell_type": "code",
   "execution_count": 75,
   "id": "e8ce913e",
   "metadata": {},
   "outputs": [
    {
     "ename": "SyntaxError",
     "evalue": "invalid syntax (913216578.py, line 1)",
     "output_type": "error",
     "traceback": [
      "\u001b[1;36m  Input \u001b[1;32mIn [75]\u001b[1;36m\u001b[0m\n\u001b[1;33m    'this is my very first programming class's'\u001b[0m\n\u001b[1;37m                                             ^\u001b[0m\n\u001b[1;31mSyntaxError\u001b[0m\u001b[1;31m:\u001b[0m invalid syntax\n"
     ]
    }
   ],
   "source": [
    "    'this is my very first programming class's'"
   ]
  },
  {
   "cell_type": "code",
   "execution_count": 76,
   "id": "924a8dfe",
   "metadata": {},
   "outputs": [
    {
     "data": {
      "text/plain": [
       "\"this is my very first programming class's\""
      ]
     },
     "execution_count": 76,
     "metadata": {},
     "output_type": "execute_result"
    }
   ],
   "source": [
    "\"this is my very first programming class's\""
   ]
  },
  {
   "cell_type": "code",
   "execution_count": 77,
   "id": "5a1f8b38",
   "metadata": {},
   "outputs": [],
   "source": [
    "s=\"this is my very first programming class\""
   ]
  },
  {
   "cell_type": "code",
   "execution_count": 78,
   "id": "b5ffa4ad",
   "metadata": {},
   "outputs": [
    {
     "data": {
      "text/plain": [
       "'s'"
      ]
     },
     "execution_count": 78,
     "metadata": {},
     "output_type": "execute_result"
    }
   ],
   "source": [
    "s[6]"
   ]
  },
  {
   "cell_type": "code",
   "execution_count": 79,
   "id": "5aa35907",
   "metadata": {},
   "outputs": [
    {
     "data": {
      "text/plain": [
       "'his '"
      ]
     },
     "execution_count": 79,
     "metadata": {},
     "output_type": "execute_result"
    }
   ],
   "source": [
    "s[1:5]"
   ]
  },
  {
   "cell_type": "code",
   "execution_count": 80,
   "id": "63323e86",
   "metadata": {},
   "outputs": [
    {
     "data": {
      "text/plain": [
       "'t'"
      ]
     },
     "execution_count": 80,
     "metadata": {},
     "output_type": "execute_result"
    }
   ],
   "source": [
    "s[0]"
   ]
  },
  {
   "cell_type": "code",
   "execution_count": 81,
   "id": "3014b42e",
   "metadata": {},
   "outputs": [
    {
     "data": {
      "text/plain": [
       "' '"
      ]
     },
     "execution_count": 81,
     "metadata": {},
     "output_type": "execute_result"
    }
   ],
   "source": [
    "s[4]"
   ]
  },
  {
   "cell_type": "code",
   "execution_count": 83,
   "id": "67b64a57",
   "metadata": {},
   "outputs": [
    {
     "data": {
      "text/plain": [
       "'mrr'"
      ]
     },
     "execution_count": 83,
     "metadata": {},
     "output_type": "execute_result"
    }
   ],
   "source": [
    "s[8:22:5]"
   ]
  },
  {
   "cell_type": "code",
   "execution_count": 84,
   "id": "665989b9",
   "metadata": {},
   "outputs": [
    {
     "data": {
      "text/plain": [
       "'h'"
      ]
     },
     "execution_count": 84,
     "metadata": {},
     "output_type": "execute_result"
    }
   ],
   "source": [
    "s[1:2]"
   ]
  },
  {
   "cell_type": "code",
   "execution_count": 85,
   "id": "4efa7e9a",
   "metadata": {},
   "outputs": [
    {
     "data": {
      "text/plain": [
       "'hi'"
      ]
     },
     "execution_count": 85,
     "metadata": {},
     "output_type": "execute_result"
    }
   ],
   "source": [
    "s[1:3]"
   ]
  },
  {
   "cell_type": "code",
   "execution_count": 86,
   "id": "908fd775",
   "metadata": {},
   "outputs": [
    {
     "data": {
      "text/plain": [
       "'this '"
      ]
     },
     "execution_count": 86,
     "metadata": {},
     "output_type": "execute_result"
    }
   ],
   "source": [
    "s[0:5]"
   ]
  },
  {
   "cell_type": "code",
   "execution_count": 87,
   "id": "331f5b8b",
   "metadata": {},
   "outputs": [],
   "source": [
    "s='pavan'"
   ]
  },
  {
   "cell_type": "code",
   "execution_count": 88,
   "id": "10f2ccff",
   "metadata": {},
   "outputs": [
    {
     "data": {
      "text/plain": [
       "''"
      ]
     },
     "execution_count": 88,
     "metadata": {},
     "output_type": "execute_result"
    }
   ],
   "source": [
    "s[0:4:-1]"
   ]
  },
  {
   "cell_type": "code",
   "execution_count": 89,
   "id": "82119cfd",
   "metadata": {},
   "outputs": [
    {
     "data": {
      "text/plain": [
       "'nava'"
      ]
     },
     "execution_count": 89,
     "metadata": {},
     "output_type": "execute_result"
    }
   ],
   "source": [
    "s[4:0:-1]"
   ]
  },
  {
   "cell_type": "code",
   "execution_count": 90,
   "id": "80bacca1",
   "metadata": {},
   "outputs": [
    {
     "data": {
      "text/plain": [
       "'pav'"
      ]
     },
     "execution_count": 90,
     "metadata": {},
     "output_type": "execute_result"
    }
   ],
   "source": [
    "s[:-2]"
   ]
  },
  {
   "cell_type": "code",
   "execution_count": 91,
   "id": "97e6fe29",
   "metadata": {},
   "outputs": [
    {
     "data": {
      "text/plain": [
       "'pav'"
      ]
     },
     "execution_count": 91,
     "metadata": {},
     "output_type": "execute_result"
    }
   ],
   "source": [
    "s[0:3]"
   ]
  },
  {
   "cell_type": "code",
   "execution_count": 92,
   "id": "5508da64",
   "metadata": {},
   "outputs": [
    {
     "data": {
      "text/plain": [
       "'a'"
      ]
     },
     "execution_count": 92,
     "metadata": {},
     "output_type": "execute_result"
    }
   ],
   "source": [
    "s[-2]"
   ]
  },
  {
   "cell_type": "code",
   "execution_count": 93,
   "id": "732c1d9a",
   "metadata": {},
   "outputs": [
    {
     "data": {
      "text/plain": [
       "'an'"
      ]
     },
     "execution_count": 93,
     "metadata": {},
     "output_type": "execute_result"
    }
   ],
   "source": [
    "s[-2:]"
   ]
  },
  {
   "cell_type": "code",
   "execution_count": 94,
   "id": "9c19f5da",
   "metadata": {},
   "outputs": [
    {
     "data": {
      "text/plain": [
       "'an'"
      ]
     },
     "execution_count": 94,
     "metadata": {},
     "output_type": "execute_result"
    }
   ],
   "source": [
    "s[3:25]"
   ]
  },
  {
   "cell_type": "code",
   "execution_count": 98,
   "id": "314a99c2",
   "metadata": {},
   "outputs": [
    {
     "data": {
      "text/plain": [
       "'na'"
      ]
     },
     "execution_count": 98,
     "metadata": {},
     "output_type": "execute_result"
    }
   ],
   "source": [
    "s[::-3] "
   ]
  },
  {
   "cell_type": "code",
   "execution_count": 96,
   "id": "1a9f5ead",
   "metadata": {},
   "outputs": [
    {
     "data": {
      "text/plain": [
       "'pavan'"
      ]
     },
     "execution_count": 96,
     "metadata": {},
     "output_type": "execute_result"
    }
   ],
   "source": [
    "s[::1]"
   ]
  },
  {
   "cell_type": "code",
   "execution_count": 97,
   "id": "e0d329d6",
   "metadata": {},
   "outputs": [
    {
     "data": {
      "text/plain": [
       "'navap'"
      ]
     },
     "execution_count": 97,
     "metadata": {},
     "output_type": "execute_result"
    }
   ],
   "source": [
    "s[::-1]"
   ]
  },
  {
   "cell_type": "code",
   "execution_count": 100,
   "id": "00ffe028",
   "metadata": {},
   "outputs": [
    {
     "data": {
      "text/plain": [
       "'pvn'"
      ]
     },
     "execution_count": 100,
     "metadata": {},
     "output_type": "execute_result"
    }
   ],
   "source": [
    " s[::2]\n",
    "    "
   ]
  },
  {
   "cell_type": "code",
   "execution_count": 101,
   "id": "e1d8db89",
   "metadata": {},
   "outputs": [
    {
     "data": {
      "text/plain": [
       "'pava'"
      ]
     },
     "execution_count": 101,
     "metadata": {},
     "output_type": "execute_result"
    }
   ],
   "source": [
    "s[0:4]"
   ]
  },
  {
   "cell_type": "code",
   "execution_count": 102,
   "id": "a3c6b299",
   "metadata": {},
   "outputs": [
    {
     "data": {
      "text/plain": [
       "'ava'"
      ]
     },
     "execution_count": 102,
     "metadata": {},
     "output_type": "execute_result"
    }
   ],
   "source": [
    "s[1:4]"
   ]
  },
  {
   "cell_type": "code",
   "execution_count": 104,
   "id": "21f10e68",
   "metadata": {},
   "outputs": [
    {
     "data": {
      "text/plain": [
       "'nava'"
      ]
     },
     "execution_count": 104,
     "metadata": {},
     "output_type": "execute_result"
    }
   ],
   "source": [
    "s[4:0:-1]"
   ]
  },
  {
   "cell_type": "code",
   "execution_count": 105,
   "id": "82a0526e",
   "metadata": {},
   "outputs": [
    {
     "data": {
      "text/plain": [
       "''"
      ]
     },
     "execution_count": 105,
     "metadata": {},
     "output_type": "execute_result"
    }
   ],
   "source": [
    "s[4:0]"
   ]
  },
  {
   "cell_type": "code",
   "execution_count": 106,
   "id": "bf67ba71",
   "metadata": {},
   "outputs": [
    {
     "data": {
      "text/plain": [
       "''"
      ]
     },
     "execution_count": 106,
     "metadata": {},
     "output_type": "execute_result"
    }
   ],
   "source": [
    "s[4:0:1]"
   ]
  },
  {
   "cell_type": "code",
   "execution_count": 107,
   "id": "20a654c3",
   "metadata": {},
   "outputs": [
    {
     "data": {
      "text/plain": [
       "''"
      ]
     },
     "execution_count": 107,
     "metadata": {},
     "output_type": "execute_result"
    }
   ],
   "source": [
    "s[4:2]"
   ]
  },
  {
   "cell_type": "code",
   "execution_count": 108,
   "id": "59f1934c",
   "metadata": {},
   "outputs": [
    {
     "data": {
      "text/plain": [
       "'va'"
      ]
     },
     "execution_count": 108,
     "metadata": {},
     "output_type": "execute_result"
    }
   ],
   "source": [
    "s[2:4]"
   ]
  },
  {
   "cell_type": "code",
   "execution_count": 109,
   "id": "d404df94",
   "metadata": {},
   "outputs": [
    {
     "data": {
      "text/plain": [
       "''"
      ]
     },
     "execution_count": 109,
     "metadata": {},
     "output_type": "execute_result"
    }
   ],
   "source": [
    "s[-5:0:1]"
   ]
  },
  {
   "cell_type": "code",
   "execution_count": 118,
   "id": "18972a9c",
   "metadata": {},
   "outputs": [
    {
     "data": {
      "text/plain": [
       "'pavankumar'"
      ]
     },
     "execution_count": 118,
     "metadata": {},
     "output_type": "execute_result"
    }
   ],
   "source": [
    "s+'kumar'"
   ]
  },
  {
   "cell_type": "code",
   "execution_count": 119,
   "id": "e7091909",
   "metadata": {},
   "outputs": [
    {
     "data": {
      "text/plain": [
       "'pavanpavanpavanpavanpavanpavanpavanpavanpavanpavanpavanpavanpavanpavanpavanpavanpavanpavanpavanpavanpavanpavan'"
      ]
     },
     "execution_count": 119,
     "metadata": {},
     "output_type": "execute_result"
    }
   ],
   "source": [
    "s*22"
   ]
  },
  {
   "cell_type": "code",
   "execution_count": 124,
   "id": "c96d947f",
   "metadata": {},
   "outputs": [
    {
     "data": {
      "text/plain": [
       "'Pavan'"
      ]
     },
     "execution_count": 124,
     "metadata": {},
     "output_type": "execute_result"
    }
   ],
   "source": [
    "s.capitalize()"
   ]
  },
  {
   "cell_type": "code",
   "execution_count": 122,
   "id": "86be15b6",
   "metadata": {},
   "outputs": [
    {
     "data": {
      "text/plain": [
       "'pavan'"
      ]
     },
     "execution_count": 122,
     "metadata": {},
     "output_type": "execute_result"
    }
   ],
   "source": [
    "s"
   ]
  },
  {
   "cell_type": "code",
   "execution_count": 127,
   "id": "a5605ff3",
   "metadata": {},
   "outputs": [
    {
     "data": {
      "text/plain": [
       "0"
      ]
     },
     "execution_count": 127,
     "metadata": {},
     "output_type": "execute_result"
    }
   ],
   "source": [
    "s.count('c')"
   ]
  },
  {
   "cell_type": "code",
   "execution_count": 128,
   "id": "a3b1e297",
   "metadata": {},
   "outputs": [
    {
     "data": {
      "text/plain": [
       "2"
      ]
     },
     "execution_count": 128,
     "metadata": {},
     "output_type": "execute_result"
    }
   ],
   "source": [
    "s.count('a')"
   ]
  },
  {
   "cell_type": "code",
   "execution_count": 133,
   "id": "dae65117",
   "metadata": {},
   "outputs": [
    {
     "data": {
      "text/plain": [
       "['p', 'v', 'n']"
      ]
     },
     "execution_count": 133,
     "metadata": {},
     "output_type": "execute_result"
    }
   ],
   "source": [
    "s.split('a')"
   ]
  },
  {
   "cell_type": "code",
   "execution_count": 134,
   "id": "5ac6f342",
   "metadata": {},
   "outputs": [],
   "source": [
    "s1='uppala pavan kumar'"
   ]
  },
  {
   "cell_type": "code",
   "execution_count": 136,
   "id": "0cf77ed1",
   "metadata": {},
   "outputs": [
    {
     "data": {
      "text/plain": [
       "['upp', 'l', ' p', 'v', 'n kum', 'r']"
      ]
     },
     "execution_count": 136,
     "metadata": {},
     "output_type": "execute_result"
    }
   ],
   "source": [
    "s1.split('a')"
   ]
  },
  {
   "cell_type": "code",
   "execution_count": 137,
   "id": "18946d5f",
   "metadata": {},
   "outputs": [
    {
     "data": {
      "text/plain": [
       "'UPPALA PAVAN KUMAR'"
      ]
     },
     "execution_count": 137,
     "metadata": {},
     "output_type": "execute_result"
    }
   ],
   "source": [
    "s1.upper()"
   ]
  },
  {
   "cell_type": "code",
   "execution_count": 138,
   "id": "c75a17f8",
   "metadata": {},
   "outputs": [
    {
     "data": {
      "text/plain": [
       "'pavan'"
      ]
     },
     "execution_count": 138,
     "metadata": {},
     "output_type": "execute_result"
    }
   ],
   "source": [
    "s.lower()"
   ]
  },
  {
   "cell_type": "code",
   "execution_count": 140,
   "id": "5d187149",
   "metadata": {},
   "outputs": [
    {
     "data": {
      "text/plain": [
       "'Uppala Pavan Kumar'"
      ]
     },
     "execution_count": 140,
     "metadata": {},
     "output_type": "execute_result"
    }
   ],
   "source": [
    "s1.title()"
   ]
  },
  {
   "cell_type": "code",
   "execution_count": 141,
   "id": "7b583019",
   "metadata": {},
   "outputs": [
    {
     "data": {
      "text/plain": [
       "'Uppala pavan kumar'"
      ]
     },
     "execution_count": 141,
     "metadata": {},
     "output_type": "execute_result"
    }
   ],
   "source": [
    "s1.capitalize()"
   ]
  },
  {
   "cell_type": "code",
   "execution_count": 142,
   "id": "fba7f7b5",
   "metadata": {},
   "outputs": [],
   "source": [
    "s='UPPAla pavaAN'"
   ]
  },
  {
   "cell_type": "code",
   "execution_count": 143,
   "id": "ae984a3a",
   "metadata": {},
   "outputs": [
    {
     "data": {
      "text/plain": [
       "'uppaLA PAVAan'"
      ]
     },
     "execution_count": 143,
     "metadata": {},
     "output_type": "execute_result"
    }
   ],
   "source": [
    "s.swapcase()"
   ]
  },
  {
   "cell_type": "code",
   "execution_count": 144,
   "id": "b7f4e850",
   "metadata": {},
   "outputs": [
    {
     "data": {
      "text/plain": [
       "'Uppala Pavaan'"
      ]
     },
     "execution_count": 144,
     "metadata": {},
     "output_type": "execute_result"
    }
   ],
   "source": [
    "s.title()"
   ]
  },
  {
   "cell_type": "code",
   "execution_count": 145,
   "id": "1d92d980",
   "metadata": {},
   "outputs": [
    {
     "data": {
      "text/plain": [
       "'Uppala pavaan'"
      ]
     },
     "execution_count": 145,
     "metadata": {},
     "output_type": "execute_result"
    }
   ],
   "source": [
    "s.capitalize()"
   ]
  },
  {
   "cell_type": "code",
   "execution_count": 146,
   "id": "5cc5be6d",
   "metadata": {},
   "outputs": [
    {
     "data": {
      "text/plain": [
       "'NAavap alAPPU'"
      ]
     },
     "execution_count": 146,
     "metadata": {},
     "output_type": "execute_result"
    }
   ],
   "source": [
    "s[::-1]"
   ]
  },
  {
   "cell_type": "code",
   "execution_count": 147,
   "id": "de6bcf66",
   "metadata": {},
   "outputs": [],
   "source": [
    "s='  pavan  kumar  '"
   ]
  },
  {
   "cell_type": "code",
   "execution_count": 148,
   "id": "2e930af0",
   "metadata": {},
   "outputs": [
    {
     "data": {
      "text/plain": [
       "'pavan  kumar'"
      ]
     },
     "execution_count": 148,
     "metadata": {},
     "output_type": "execute_result"
    }
   ],
   "source": [
    "s.strip()"
   ]
  },
  {
   "cell_type": "code",
   "execution_count": 149,
   "id": "c806ee97",
   "metadata": {},
   "outputs": [
    {
     "data": {
      "text/plain": [
       "'pavan  kumar  '"
      ]
     },
     "execution_count": 149,
     "metadata": {},
     "output_type": "execute_result"
    }
   ],
   "source": [
    "s.lstrip()"
   ]
  },
  {
   "cell_type": "code",
   "execution_count": 151,
   "id": "e4eab00d",
   "metadata": {},
   "outputs": [
    {
     "data": {
      "text/plain": [
       "'  pavan  kumar'"
      ]
     },
     "execution_count": 151,
     "metadata": {},
     "output_type": "execute_result"
    }
   ],
   "source": [
    "s.rstrip()"
   ]
  },
  {
   "cell_type": "code",
   "execution_count": 153,
   "id": "140212b3",
   "metadata": {},
   "outputs": [
    {
     "data": {
      "text/plain": [
       "'p a v a n'"
      ]
     },
     "execution_count": 153,
     "metadata": {},
     "output_type": "execute_result"
    }
   ],
   "source": [
    "' '.join('pavan')"
   ]
  },
  {
   "cell_type": "code",
   "execution_count": 154,
   "id": "1b4b5b98",
   "metadata": {},
   "outputs": [
    {
     "data": {
      "text/plain": [
       "'pavan'"
      ]
     },
     "execution_count": 154,
     "metadata": {},
     "output_type": "execute_result"
    }
   ],
   "source": [
    "'a'.join('pvn')"
   ]
  },
  {
   "cell_type": "code",
   "execution_count": 157,
   "id": "ebdbcc14",
   "metadata": {},
   "outputs": [],
   "source": [
    "s='pavankumar'"
   ]
  },
  {
   "cell_type": "code",
   "execution_count": 162,
   "id": "412cbdf2",
   "metadata": {},
   "outputs": [
    {
     "data": {
      "text/plain": [
       "'xxxxxxxxpavankumarxxxxxxx'"
      ]
     },
     "execution_count": 162,
     "metadata": {},
     "output_type": "execute_result"
    }
   ],
   "source": [
    "s.center(25 , 'x')"
   ]
  },
  {
   "cell_type": "code",
   "execution_count": 163,
   "id": "e9f7e0d7",
   "metadata": {},
   "outputs": [
    {
     "data": {
      "text/plain": [
       "True"
      ]
     },
     "execution_count": 163,
     "metadata": {},
     "output_type": "execute_result"
    }
   ],
   "source": [
    "s.islower()"
   ]
  },
  {
   "cell_type": "code",
   "execution_count": 164,
   "id": "aecca48b",
   "metadata": {},
   "outputs": [
    {
     "data": {
      "text/plain": [
       "False"
      ]
     },
     "execution_count": 164,
     "metadata": {},
     "output_type": "execute_result"
    }
   ],
   "source": [
    "s.isupper()"
   ]
  },
  {
   "cell_type": "code",
   "execution_count": 166,
   "id": "43ba6337",
   "metadata": {},
   "outputs": [
    {
     "data": {
      "text/plain": [
       "False"
      ]
     },
     "execution_count": 166,
     "metadata": {},
     "output_type": "execute_result"
    }
   ],
   "source": [
    "s.isspace()"
   ]
  },
  {
   "cell_type": "code",
   "execution_count": 167,
   "id": "482ae936",
   "metadata": {},
   "outputs": [
    {
     "data": {
      "text/plain": [
       "False"
      ]
     },
     "execution_count": 167,
     "metadata": {},
     "output_type": "execute_result"
    }
   ],
   "source": [
    "s.isdigit()"
   ]
  },
  {
   "cell_type": "code",
   "execution_count": 169,
   "id": "d113203e",
   "metadata": {},
   "outputs": [],
   "source": [
    "s3='k2m5'"
   ]
  },
  {
   "cell_type": "code",
   "execution_count": 170,
   "id": "cc7e2a8b",
   "metadata": {},
   "outputs": [
    {
     "data": {
      "text/plain": [
       "False"
      ]
     },
     "execution_count": 170,
     "metadata": {},
     "output_type": "execute_result"
    }
   ],
   "source": [
    "s3.isdigit()"
   ]
  },
  {
   "cell_type": "code",
   "execution_count": 172,
   "id": "fe5608d2",
   "metadata": {},
   "outputs": [
    {
     "data": {
      "text/plain": [
       "True"
      ]
     },
     "execution_count": 172,
     "metadata": {},
     "output_type": "execute_result"
    }
   ],
   "source": [
    "s3.isalnum()"
   ]
  },
  {
   "cell_type": "code",
   "execution_count": 175,
   "id": "ceee8e2a",
   "metadata": {},
   "outputs": [
    {
     "data": {
      "text/plain": [
       "True"
      ]
     },
     "execution_count": 175,
     "metadata": {},
     "output_type": "execute_result"
    }
   ],
   "source": [
    "s.isalpha()"
   ]
  },
  {
   "cell_type": "code",
   "execution_count": 176,
   "id": "0eb7ce22",
   "metadata": {},
   "outputs": [
    {
     "data": {
      "text/plain": [
       "False"
      ]
     },
     "execution_count": 176,
     "metadata": {},
     "output_type": "execute_result"
    }
   ],
   "source": [
    "s3.isalpha()"
   ]
  },
  {
   "cell_type": "code",
   "execution_count": 177,
   "id": "6dad5165",
   "metadata": {},
   "outputs": [
    {
     "data": {
      "text/plain": [
       "False"
      ]
     },
     "execution_count": 177,
     "metadata": {},
     "output_type": "execute_result"
    }
   ],
   "source": [
    "s.endswith('5')"
   ]
  },
  {
   "cell_type": "code",
   "execution_count": 178,
   "id": "0ec7b5b3",
   "metadata": {},
   "outputs": [
    {
     "data": {
      "text/plain": [
       "True"
      ]
     },
     "execution_count": 178,
     "metadata": {},
     "output_type": "execute_result"
    }
   ],
   "source": [
    "s.startswith('p')"
   ]
  },
  {
   "cell_type": "code",
   "execution_count": 179,
   "id": "010eb4b5",
   "metadata": {},
   "outputs": [
    {
     "data": {
      "text/plain": [
       "False"
      ]
     },
     "execution_count": 179,
     "metadata": {},
     "output_type": "execute_result"
    }
   ],
   "source": [
    "s3.isdigit()"
   ]
  },
  {
   "cell_type": "code",
   "execution_count": 180,
   "id": "abe2e5ec",
   "metadata": {},
   "outputs": [
    {
     "data": {
      "text/plain": [
       "False"
      ]
     },
     "execution_count": 180,
     "metadata": {},
     "output_type": "execute_result"
    }
   ],
   "source": [
    "s3.isnumeric()"
   ]
  },
  {
   "cell_type": "code",
   "execution_count": 181,
   "id": "66f5297d",
   "metadata": {},
   "outputs": [],
   "source": [
    "s4='pavan kumar45656'"
   ]
  },
  {
   "cell_type": "code",
   "execution_count": 182,
   "id": "39d96887",
   "metadata": {},
   "outputs": [
    {
     "data": {
      "text/plain": [
       "False"
      ]
     },
     "execution_count": 182,
     "metadata": {},
     "output_type": "execute_result"
    }
   ],
   "source": [
    "s4.isalnum()"
   ]
  },
  {
   "cell_type": "code",
   "execution_count": 183,
   "id": "965974b3",
   "metadata": {},
   "outputs": [],
   "source": [
    "s='pkbk'"
   ]
  },
  {
   "cell_type": "code",
   "execution_count": 184,
   "id": "8d58b020",
   "metadata": {},
   "outputs": [
    {
     "data": {
      "text/plain": [
       "True"
      ]
     },
     "execution_count": 184,
     "metadata": {},
     "output_type": "execute_result"
    }
   ],
   "source": [
    "s.isalnum()"
   ]
  },
  {
   "cell_type": "code",
   "execution_count": 185,
   "id": "2641e12b",
   "metadata": {},
   "outputs": [],
   "source": [
    "s5='     '"
   ]
  },
  {
   "cell_type": "code",
   "execution_count": 186,
   "id": "568ce5ba",
   "metadata": {},
   "outputs": [
    {
     "data": {
      "text/plain": [
       "True"
      ]
     },
     "execution_count": 186,
     "metadata": {},
     "output_type": "execute_result"
    }
   ],
   "source": [
    "s5.isspace()"
   ]
  },
  {
   "cell_type": "code",
   "execution_count": 187,
   "id": "e5ed10a3",
   "metadata": {},
   "outputs": [],
   "source": [
    "s6='5502 0231 7656'"
   ]
  },
  {
   "cell_type": "code",
   "execution_count": 188,
   "id": "a1278fdc",
   "metadata": {},
   "outputs": [
    {
     "data": {
      "text/plain": [
       "False"
      ]
     },
     "execution_count": 188,
     "metadata": {},
     "output_type": "execute_result"
    }
   ],
   "source": [
    "s6.isnumeric()"
   ]
  },
  {
   "cell_type": "code",
   "execution_count": 189,
   "id": "9c0d72e5",
   "metadata": {},
   "outputs": [
    {
     "data": {
      "text/plain": [
       "False"
      ]
     },
     "execution_count": 189,
     "metadata": {},
     "output_type": "execute_result"
    }
   ],
   "source": [
    "s6.isdigit()"
   ]
  },
  {
   "cell_type": "code",
   "execution_count": 190,
   "id": "693ecd79",
   "metadata": {},
   "outputs": [
    {
     "data": {
      "text/plain": [
       "'pavanakamar'"
      ]
     },
     "execution_count": 190,
     "metadata": {},
     "output_type": "execute_result"
    }
   ],
   "source": [
    "'a'.join('pvnkmr')"
   ]
  },
  {
   "cell_type": "code",
   "execution_count": 191,
   "id": "c71a2016",
   "metadata": {},
   "outputs": [
    {
     "data": {
      "text/plain": [
       "'ramakanavap'"
      ]
     },
     "execution_count": 191,
     "metadata": {},
     "output_type": "execute_result"
    }
   ],
   "source": [
    "'a'.join(reversed('pvnkmr'))"
   ]
  },
  {
   "cell_type": "code",
   "execution_count": 192,
   "id": "63de7916",
   "metadata": {},
   "outputs": [],
   "source": [
    "s='456.236'"
   ]
  },
  {
   "cell_type": "code",
   "execution_count": 193,
   "id": "814267eb",
   "metadata": {},
   "outputs": [
    {
     "data": {
      "text/plain": [
       "False"
      ]
     },
     "execution_count": 193,
     "metadata": {},
     "output_type": "execute_result"
    }
   ],
   "source": [
    "s.isdigit()"
   ]
  },
  {
   "cell_type": "code",
   "execution_count": 194,
   "id": "c7afe856",
   "metadata": {},
   "outputs": [
    {
     "data": {
      "text/plain": [
       "''"
      ]
     },
     "execution_count": 194,
     "metadata": {},
     "output_type": "execute_result"
    }
   ],
   "source": [
    "s[5:0]"
   ]
  },
  {
   "cell_type": "code",
   "execution_count": 195,
   "id": "e0739403",
   "metadata": {},
   "outputs": [],
   "source": [
    "x='/156'"
   ]
  },
  {
   "cell_type": "code",
   "execution_count": 196,
   "id": "924bdb2f",
   "metadata": {},
   "outputs": [
    {
     "data": {
      "text/plain": [
       "False"
      ]
     },
     "execution_count": 196,
     "metadata": {},
     "output_type": "execute_result"
    }
   ],
   "source": [
    "x.isspace()"
   ]
  },
  {
   "cell_type": "code",
   "execution_count": 199,
   "id": "84ccb1d1",
   "metadata": {},
   "outputs": [],
   "source": [
    "x='\\5'"
   ]
  },
  {
   "cell_type": "code",
   "execution_count": 200,
   "id": "6c6625f0",
   "metadata": {},
   "outputs": [
    {
     "data": {
      "text/plain": [
       "False"
      ]
     },
     "execution_count": 200,
     "metadata": {},
     "output_type": "execute_result"
    }
   ],
   "source": [
    "x.isspace()"
   ]
  },
  {
   "cell_type": "code",
   "execution_count": 201,
   "id": "62f76eb5",
   "metadata": {},
   "outputs": [],
   "source": [
    "s='pavan kumar uppala'"
   ]
  },
  {
   "cell_type": "code",
   "execution_count": 202,
   "id": "fe36437d",
   "metadata": {},
   "outputs": [
    {
     "data": {
      "text/plain": [
       "'alappu ramuk nava'"
      ]
     },
     "execution_count": 202,
     "metadata": {},
     "output_type": "execute_result"
    }
   ],
   "source": [
    "s[50:0:-1]"
   ]
  },
  {
   "cell_type": "code",
   "execution_count": 203,
   "id": "079f73d0",
   "metadata": {},
   "outputs": [
    {
     "data": {
      "text/plain": [
       "'alappu ramuk navap'"
      ]
     },
     "execution_count": 203,
     "metadata": {},
     "output_type": "execute_result"
    }
   ],
   "source": [
    "s[::-1]"
   ]
  },
  {
   "cell_type": "code",
   "execution_count": 208,
   "id": "9013bf73",
   "metadata": {},
   "outputs": [
    {
     "data": {
      "text/plain": [
       "'al'"
      ]
     },
     "execution_count": 208,
     "metadata": {},
     "output_type": "execute_result"
    }
   ],
   "source": [
    "s[:-3:-1]"
   ]
  },
  {
   "cell_type": "code",
   "execution_count": 205,
   "id": "3d8432b1",
   "metadata": {},
   "outputs": [
    {
     "data": {
      "text/plain": [
       "'van kumar uppala'"
      ]
     },
     "execution_count": 205,
     "metadata": {},
     "output_type": "execute_result"
    }
   ],
   "source": [
    "s[2:]"
   ]
  },
  {
   "cell_type": "code",
   "execution_count": 207,
   "id": "8abfe8bb",
   "metadata": {},
   "outputs": [
    {
     "data": {
      "text/plain": [
       "'pavan kumar uppala'"
      ]
     },
     "execution_count": 207,
     "metadata": {},
     "output_type": "execute_result"
    }
   ],
   "source": [
    "s[:]"
   ]
  },
  {
   "cell_type": "code",
   "execution_count": null,
   "id": "f606c21a",
   "metadata": {},
   "outputs": [],
   "source": []
  }
 ],
 "metadata": {
  "kernelspec": {
   "display_name": "Python 3 (ipykernel)",
   "language": "python",
   "name": "python3"
  },
  "language_info": {
   "codemirror_mode": {
    "name": "ipython",
    "version": 3
   },
   "file_extension": ".py",
   "mimetype": "text/x-python",
   "name": "python",
   "nbconvert_exporter": "python",
   "pygments_lexer": "ipython3",
   "version": "3.9.12"
  }
 },
 "nbformat": 4,
 "nbformat_minor": 5
}

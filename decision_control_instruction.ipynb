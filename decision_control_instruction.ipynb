{
  "nbformat": 4,
  "nbformat_minor": 0,
  "metadata": {
    "colab": {
      "provenance": []
    },
    "kernelspec": {
      "name": "python3",
      "display_name": "Python 3"
    },
    "language_info": {
      "name": "python"
    }
  },
  "cells": [
    {
      "cell_type": "code",
      "execution_count": null,
      "metadata": {
        "id": "4M3RGFqDvvw2"
      },
      "outputs": [],
      "source": []
    },
    {
      "cell_type": "markdown",
      "source": [
        "# properties:\n",
        "\n",
        "\n",
        "\n",
        "*   So far statements in all our programs got executed sequentially or one after the other.\n",
        "*   Sequence of execution of instructions in a program can be altered using:\n",
        "*   a.Decision control instruction\n",
        "*   b.Repetition control instruction\n",
        "*   The colon(:) is compulsory after the if,elif ,else.\n",
        "*   Statements in if block , else ,block , elif block have to be indented . indented statements are treated as a block of statements.\n",
        "*   Indentation is used to group statements. Use either 4 spaces or a tab for indentation. Don't mix tabs and spaces.They may appear ok on screen, but would be reported as an error.\n",
        "* In the first form shown above else and elif are optional.\n",
        "*  In the second form shown above ,if condition is True all statements in if block get executed. If condition is False then statements in else block will get executed.\n",
        "*   In the third form shown above, if a condition fails , then condition in the following elif block is checked. The else block goes to work if all conditions fail.\n",
        "* if-else statements can be nested . Nesting can be as deep as the program logic demands.\n"
      ],
      "metadata": {
        "id": "upO85dEgwgEr"
      }
    },
    {
      "cell_type": "code",
      "source": [
        "print(bool(3.14))"
      ],
      "metadata": {
        "colab": {
          "base_uri": "https://localhost:8080/"
        },
        "id": "ALZqpKihzVgC",
        "outputId": "bdb01dc9-5033-409b-a487-4751c7e29757"
      },
      "execution_count": 1,
      "outputs": [
        {
          "output_type": "stream",
          "name": "stdout",
          "text": [
            "True\n"
          ]
        }
      ]
    },
    {
      "cell_type": "code",
      "source": [
        "print(bool(-235))"
      ],
      "metadata": {
        "colab": {
          "base_uri": "https://localhost:8080/"
        },
        "id": "VBQpaJ-QzbPW",
        "outputId": "80a0f382-eff4-4bfb-d1b7-e1a30be00d90"
      },
      "execution_count": 2,
      "outputs": [
        {
          "output_type": "stream",
          "name": "stdout",
          "text": [
            "True\n"
          ]
        }
      ]
    },
    {
      "cell_type": "code",
      "source": [
        "print(bool(0))"
      ],
      "metadata": {
        "colab": {
          "base_uri": "https://localhost:8080/"
        },
        "id": "bKkxpNtvzgXW",
        "outputId": "170452e9-a312-4294-edf9-1befb97eaab9"
      },
      "execution_count": 3,
      "outputs": [
        {
          "output_type": "stream",
          "name": "stdout",
          "text": [
            "False\n"
          ]
        }
      ]
    },
    {
      "cell_type": "code",
      "source": [
        "a=3\n",
        "b=6\n",
        "x=53 and a<=30 and b<60 and 35"
      ],
      "metadata": {
        "id": "B_1NbJPXzjlq"
      },
      "execution_count": 4,
      "outputs": []
    },
    {
      "cell_type": "code",
      "source": [
        "x"
      ],
      "metadata": {
        "colab": {
          "base_uri": "https://localhost:8080/"
        },
        "id": "L_l2C-zSzu3G",
        "outputId": "49268f03-115b-4f6d-be94-150397a5aca9"
      },
      "execution_count": 5,
      "outputs": [
        {
          "output_type": "execute_result",
          "data": {
            "text/plain": [
              "35"
            ]
          },
          "metadata": {},
          "execution_count": 5
        }
      ]
    },
    {
      "cell_type": "code",
      "source": [
        "y=-30 and a>=20 and b<15 and 15\n",
        "z=-20 and a>=20 and 0 and 25"
      ],
      "metadata": {
        "id": "JMzclKjM0_-m"
      },
      "execution_count": 6,
      "outputs": []
    },
    {
      "cell_type": "code",
      "source": [
        "y"
      ],
      "metadata": {
        "colab": {
          "base_uri": "https://localhost:8080/"
        },
        "id": "DSvCU5pQ1ho4",
        "outputId": "9cb4e6eb-cc96-48e4-dbe8-886cc3d1a806"
      },
      "execution_count": 7,
      "outputs": [
        {
          "output_type": "execute_result",
          "data": {
            "text/plain": [
              "False"
            ]
          },
          "metadata": {},
          "execution_count": 7
        }
      ]
    },
    {
      "cell_type": "code",
      "source": [
        "z"
      ],
      "metadata": {
        "colab": {
          "base_uri": "https://localhost:8080/"
        },
        "id": "3ib0jgos2Jwr",
        "outputId": "acc7dd50-cd9c-452e-ea86-7b3a32d7e1e0"
      },
      "execution_count": 8,
      "outputs": [
        {
          "output_type": "execute_result",
          "data": {
            "text/plain": [
              "False"
            ]
          },
          "metadata": {},
          "execution_count": 8
        }
      ]
    },
    {
      "cell_type": "code",
      "source": [
        "a=50\n",
        "b=30\n",
        "not (a<=b)\n",
        "not(a>=b)\n"
      ],
      "metadata": {
        "colab": {
          "base_uri": "https://localhost:8080/"
        },
        "id": "OrS44I0-2KQz",
        "outputId": "8d8eabd4-32dd-4830-bb0f-03882f91d1af"
      },
      "execution_count": 9,
      "outputs": [
        {
          "output_type": "execute_result",
          "data": {
            "text/plain": [
              "False"
            ]
          },
          "metadata": {},
          "execution_count": 9
        }
      ]
    },
    {
      "cell_type": "code",
      "source": [
        "a=input('Enter 0 or 1')\n",
        "a=not a"
      ],
      "metadata": {
        "colab": {
          "base_uri": "https://localhost:8080/"
        },
        "id": "f7vEstHS2S0I",
        "outputId": "c45154b7-e580-4649-ee82-d92523063897"
      },
      "execution_count": 10,
      "outputs": [
        {
          "name": "stdout",
          "output_type": "stream",
          "text": [
            "Enter 0 or 10\n"
          ]
        }
      ]
    },
    {
      "cell_type": "code",
      "source": [
        "a"
      ],
      "metadata": {
        "colab": {
          "base_uri": "https://localhost:8080/"
        },
        "id": "sMHzmuma2ib6",
        "outputId": "35eae98a-68ff-4500-9c9c-a02d467eac88"
      },
      "execution_count": 11,
      "outputs": [
        {
          "output_type": "execute_result",
          "data": {
            "text/plain": [
              "False"
            ]
          },
          "metadata": {},
          "execution_count": 11
        }
      ]
    },
    {
      "cell_type": "code",
      "source": [
        "age=15\n",
        "status='minor' if age<18 else 'adult'\n",
        "sunny=False\n",
        "print('Let go  to the','beach' if sunny else 'room')"
      ],
      "metadata": {
        "colab": {
          "base_uri": "https://localhost:8080/"
        },
        "id": "LCo8Sul22qNd",
        "outputId": "ed705f0e-9d07-42c7-8d6d-6f02b3729c47"
      },
      "execution_count": 12,
      "outputs": [
        {
          "output_type": "stream",
          "name": "stdout",
          "text": [
            "Let go  to the room\n"
          ]
        }
      ]
    },
    {
      "cell_type": "code",
      "source": [
        "humidity=76.8\n",
        "setting=25 if humidity >75 else 28"
      ],
      "metadata": {
        "id": "-iGBJD1f3Uli"
      },
      "execution_count": 13,
      "outputs": []
    },
    {
      "cell_type": "code",
      "source": [
        "setting"
      ],
      "metadata": {
        "colab": {
          "base_uri": "https://localhost:8080/"
        },
        "id": "soGGtF4A3kIC",
        "outputId": "da278704-243f-4d1b-f1bb-586398d40375"
      },
      "execution_count": 14,
      "outputs": [
        {
          "output_type": "execute_result",
          "data": {
            "text/plain": [
              "25"
            ]
          },
          "metadata": {},
          "execution_count": 14
        }
      ]
    },
    {
      "cell_type": "code",
      "source": [
        "wt=55\n",
        "msg='obese' if wt>85 else 'Hefty' if wt>60 else 'Prim'"
      ],
      "metadata": {
        "id": "0vWdeLs03l1q"
      },
      "execution_count": 15,
      "outputs": []
    },
    {
      "cell_type": "code",
      "source": [
        "msg"
      ],
      "metadata": {
        "colab": {
          "base_uri": "https://localhost:8080/",
          "height": 36
        },
        "id": "yaxEvmw134RC",
        "outputId": "ef1be859-98c0-42e4-9067-0a9b91ecc258"
      },
      "execution_count": 16,
      "outputs": [
        {
          "output_type": "execute_result",
          "data": {
            "text/plain": [
              "'Prim'"
            ],
            "application/vnd.google.colaboratory.intrinsic+json": {
              "type": "string"
            }
          },
          "metadata": {},
          "execution_count": 16
        }
      ]
    },
    {
      "cell_type": "code",
      "source": [
        "# Instead of using and and or logical operations we can use all () and any() built in functions for the same effect.\n",
        "a,b,c=10,20,30\n",
        "res=all((a>5,b>20,c>15))\n",
        "print(res)\n",
        "res=any((a>5,b>20,c>15))\n",
        "print(res)"
      ],
      "metadata": {
        "colab": {
          "base_uri": "https://localhost:8080/"
        },
        "id": "dAU3fL6q35Sp",
        "outputId": "cb938c7e-c120-4fdc-80c4-84154d79f638"
      },
      "execution_count": 17,
      "outputs": [
        {
          "output_type": "stream",
          "name": "stdout",
          "text": [
            "False\n",
            "True\n"
          ]
        }
      ]
    },
    {
      "cell_type": "code",
      "source": [
        "#pass statement is intended to do nothing on execution. Hence it is often called a no-op instruction.\n",
        "#If we wish that on execution of a statement nothing should happen, we can achieve this using a pass statement. Its utility is shown in next problem."
      ],
      "metadata": {
        "id": "-oK_kH8C4kri"
      },
      "execution_count": null,
      "outputs": []
    },
    {
      "cell_type": "code",
      "source": [
        "quantity: '))\n",
        "price= float(input('Enter the value of price: '))\n",
        "if qty>1000:\n",
        "  dis=10\n",
        "else:\n",
        "  dis=0\n",
        "totexp=qty*price-(qty*price*dis/100)\n",
        "print('Total Expenditure: '+str(totexp))"
      ],
      "metadata": {
        "colab": {
          "base_uri": "https://localhost:8080/"
        },
        "id": "lyRmEsOS6K-G",
        "outputId": "ee35b258-f56c-4315-d125-e6f180d05876"
      },
      "execution_count": 20,
      "outputs": [
        {
          "output_type": "stream",
          "name": "stdout",
          "text": [
            "Enter the value of quantity: 1500\n",
            "Enter the value of price: 250.55\n",
            "Total Expenditure: 338242.5\n"
          ]
        }
      ]
    },
    {
      "cell_type": "code",
      "source": [
        "# In a company an employee is paid as under:\n",
        "# If his basic salary is less than Rs. 1500 ,then HRA =10% of basic salary and DA=90% of basic salary . If his salary is either equal to or above Rs. 1500 , then HRA =Rs. 500\n",
        "# then DA =98% of basic salary. If the employee's salary is input through the keyboard write a program to find his gross salary.\n",
        "bs=int(input('Enter the salary: '))\n",
        "if bs>=1500:\n",
        "  hra=500\n",
        "  da=bs*98/100\n",
        "else:\n",
        "  hra=bs*10/100\n",
        "  da=bs*90/100\n",
        "gs=bs+da+hra\n",
        "print('Gross Salary: ',gs)"
      ],
      "metadata": {
        "colab": {
          "base_uri": "https://localhost:8080/"
        },
        "id": "qc_eBC9i70wo",
        "outputId": "fb336580-9f87-40f9-a8c4-6c9ee7c9bf11"
      },
      "execution_count": 23,
      "outputs": [
        {
          "output_type": "stream",
          "name": "stdout",
          "text": [
            "Enter the salary: 1550\n",
            "Gross Salary:  3569.0\n"
          ]
        }
      ]
    },
    {
      "cell_type": "code",
      "source": [
        "# Percentage marks obtained by a student are input through the keyboard.The student gets a division as per following rules.\n",
        "#Percentage above or equal to 60 -first division\n",
        "#Percentage between 50 and 59 - second division \n",
        "#Percentage between 40 and 49- Third division\n",
        "#Percentage less than 40- Fail.\n",
        "per=int(input('Enter value of percentage: '))\n",
        "if per>=60:\n",
        "  print('First division')\n",
        "elif per>=50:\n",
        "  print('Second division')\n",
        "elif per>=40:\n",
        "  print('Third division')\n",
        "else:\n",
        "  print('Fail.')"
      ],
      "metadata": {
        "colab": {
          "base_uri": "https://localhost:8080/"
        },
        "id": "lhkxU18A-MCb",
        "outputId": "65dd5bae-00e1-4845-d1dd-674466616e15"
      },
      "execution_count": 25,
      "outputs": [
        {
          "output_type": "stream",
          "name": "stdout",
          "text": [
            "Enter value of percentage: 55\n",
            "Second division\n"
          ]
        }
      ]
    },
    {
      "cell_type": "code",
      "source": [
        "# Company insures its drivers in the following cases.\n",
        "# if the driver is married , if the driver is unmarried ,male and above 30 years of age.\n",
        "# if the driver is unmarried, female and above 25 years of age.\n",
        "# in all other cases , the driver is not isnsured. if the marital status, sex and age of the driver are the inputs.Write a program to determine whether the driver should be insured or not.\n",
        "sex=input('Enter the gender: ')\n",
        "age=int(input('Enter the age: '))\n",
        "marital_status=str(input('Enter the marital status (yes/no): '))\n",
        "if marital_status == 'yes':\n",
        "  print('person is insured...')\n",
        "elif marital_status=='no' and age>=30 and sex=='male':\n",
        "  print('person is insured')\n",
        "elif marital_status =='no' and age>=25 and sex=='female':\n",
        "  print('person is insured.')\n",
        "else:\n",
        "  print('person is not insured..')"
      ],
      "metadata": {
        "colab": {
          "base_uri": "https://localhost:8080/"
        },
        "id": "Rm8kiCTNAKNu",
        "outputId": "8520c874-0151-46f7-bd45-8d486a0580dc"
      },
      "execution_count": 5,
      "outputs": [
        {
          "output_type": "stream",
          "name": "stdout",
          "text": [
            "Enter the gender: male\n",
            "Enter the age: 34\n",
            "Enter the marital status (yes/no): yes\n",
            "person is insured...\n"
          ]
        }
      ]
    },
    {
      "cell_type": "code",
      "source": [
        "sex=input('Enter the gender: ')\n",
        "age=int(input('Enter the age: '))\n",
        "marital_status=str(input('Enter the marital status (yes/no): '))\n",
        "if(marital_status=='yes') or (marital_status=='no' and sex=='male' and age>=30) or (marital_status=='no' and sex=='female' and age>=25):\n",
        "  print('person get insured..')\n",
        "else:\n",
        "  print('person wont get insurance..')"
      ],
      "metadata": {
        "colab": {
          "base_uri": "https://localhost:8080/"
        },
        "id": "AAd1iGscMO7M",
        "outputId": "03509179-1b74-4fc6-f234-f2a71705997e"
      },
      "execution_count": 7,
      "outputs": [
        {
          "output_type": "stream",
          "name": "stdout",
          "text": [
            "Enter the gender: female\n",
            "Enter the age: 33\n",
            "Enter the marital status (yes/no): no\n",
            "person get insured..\n"
          ]
        }
      ]
    },
    {
      "cell_type": "code",
      "source": [
        "## Suppose there are four flag variables w,x,y,z . Write a program to check in multiple ways whether one of them is true.\n",
        "w,x,y,z=0,1,0,1\n",
        "if w==1 or x==1 or y==1 or z==1:\n",
        "  print('True.')\n",
        "if w or x or y or z:\n",
        "  print('True.')\n",
        "if any((w,x,y,z)):\n",
        "  print('True.')\n",
        "if 1 in (w,x,y,z):\n",
        "  print('True.')"
      ],
      "metadata": {
        "colab": {
          "base_uri": "https://localhost:8080/"
        },
        "id": "gToxyIbZOCC2",
        "outputId": "235f5559-5626-43b4-b763-e6a307446d97"
      },
      "execution_count": 9,
      "outputs": [
        {
          "output_type": "stream",
          "name": "stdout",
          "text": [
            "True.\n",
            "True.\n",
            "True.\n",
            "True.\n"
          ]
        }
      ]
    },
    {
      "cell_type": "code",
      "source": [
        "# Given a number we wish to do the following.\n",
        "# if n is positive-prnt n*n ,set a flag true\n",
        "# if n is negative - print n*n*n ,set a flag to true\n",
        "# if n is 0 - do nothing.\n",
        "#is the code given below is correct for this logic?\n",
        "n=int(input('Enter a number: '))\n",
        "if n>0:\n",
        "  flag=True\n",
        "  print(n*n)\n",
        "elif n<0:\n",
        "  flag=True\n",
        "  print(n*n*n)\n",
        "else:\n",
        "  pass"
      ],
      "metadata": {
        "colab": {
          "base_uri": "https://localhost:8080/"
        },
        "id": "O6j-PNZTPQQ-",
        "outputId": "e75fccce-4d17-4343-e4df-4035d1c85fc5"
      },
      "execution_count": 14,
      "outputs": [
        {
          "name": "stdout",
          "output_type": "stream",
          "text": [
            "Enter a number: 0\n"
          ]
        }
      ]
    },
    {
      "cell_type": "code",
      "source": [],
      "metadata": {
        "id": "FrkMPsQtQdXF"
      },
      "execution_count": 14,
      "outputs": []
    }
  ]
}
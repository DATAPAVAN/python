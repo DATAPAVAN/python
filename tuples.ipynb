{
  "nbformat": 4,
  "nbformat_minor": 0,
  "metadata": {
    "colab": {
      "provenance": []
    },
    "kernelspec": {
      "name": "python3",
      "display_name": "Python 3"
    },
    "language_info": {
      "name": "python"
    }
  },
  "cells": [
    {
      "cell_type": "code",
      "execution_count": 1,
      "metadata": {
        "id": "WGlUtCpHI9rD"
      },
      "outputs": [],
      "source": [
        "# Though a list can store can store dissimalar data , it is commonly used for similar data.\n",
        "#Though  a tuple can store similar data it is commonly used for storing disimillar data. The tuple data is enclosed within () as shown below.\n",
        "a=()\n",
        "b=(10,)\n",
        "c=('Sanjay',25,355540)\n",
        "d=(10,2,0,30)"
      ]
    },
    {
      "cell_type": "code",
      "source": [
        "tpl1=(10,)*5"
      ],
      "metadata": {
        "id": "ytbREDMlKLWm"
      },
      "execution_count": 2,
      "outputs": []
    },
    {
      "cell_type": "code",
      "source": [
        "tpl1"
      ],
      "metadata": {
        "colab": {
          "base_uri": "https://localhost:8080/"
        },
        "id": "ZxN616l_KQXN",
        "outputId": "bb4a3640-21f8-4699-9c85-5cc53c0b8d51"
      },
      "execution_count": 3,
      "outputs": [
        {
          "output_type": "execute_result",
          "data": {
            "text/plain": [
              "(10, 10, 10, 10, 10)"
            ]
          },
          "metadata": {},
          "execution_count": 3
        }
      ]
    },
    {
      "cell_type": "code",
      "source": [
        "tpl2=(10)*5"
      ],
      "metadata": {
        "id": "l9UdNnmHKR44"
      },
      "execution_count": 4,
      "outputs": []
    },
    {
      "cell_type": "code",
      "source": [
        "tpl2"
      ],
      "metadata": {
        "colab": {
          "base_uri": "https://localhost:8080/"
        },
        "id": "nqcL1AT6KUwQ",
        "outputId": "8a8b4cf3-0db0-402b-bf28-f77dc8c36214"
      },
      "execution_count": 5,
      "outputs": [
        {
          "output_type": "execute_result",
          "data": {
            "text/plain": [
              "50"
            ]
          },
          "metadata": {},
          "execution_count": 5
        }
      ]
    },
    {
      "cell_type": "code",
      "source": [
        "msg=('Handle','Exceptions','Like','Boss')\n",
        "msg[2]"
      ],
      "metadata": {
        "colab": {
          "base_uri": "https://localhost:8080/",
          "height": 36
        },
        "id": "QH9-1oyUKWEL",
        "outputId": "8a8284b6-7cca-46b5-f300-4fbb09862116"
      },
      "execution_count": 6,
      "outputs": [
        {
          "output_type": "execute_result",
          "data": {
            "text/plain": [
              "'Like'"
            ],
            "application/vnd.google.colaboratory.intrinsic+json": {
              "type": "string"
            }
          },
          "metadata": {},
          "execution_count": 6
        }
      ]
    },
    {
      "cell_type": "code",
      "source": [
        "msg[:2]"
      ],
      "metadata": {
        "colab": {
          "base_uri": "https://localhost:8080/"
        },
        "id": "qboLwSY6KoSH",
        "outputId": "c54f8dd1-2a9f-4776-e4ad-d78932e8a1cc"
      },
      "execution_count": 7,
      "outputs": [
        {
          "output_type": "execute_result",
          "data": {
            "text/plain": [
              "('Handle', 'Exceptions')"
            ]
          },
          "metadata": {},
          "execution_count": 7
        }
      ]
    },
    {
      "cell_type": "code",
      "source": [
        "d"
      ],
      "metadata": {
        "colab": {
          "base_uri": "https://localhost:8080/"
        },
        "id": "36raj4e0KsRL",
        "outputId": "ac588f25-c250-483c-a511-bd0fdc321692"
      },
      "execution_count": 8,
      "outputs": [
        {
          "output_type": "execute_result",
          "data": {
            "text/plain": [
              "(10, 2, 0, 30)"
            ]
          },
          "metadata": {},
          "execution_count": 8
        }
      ]
    },
    {
      "cell_type": "code",
      "source": [
        "i=0\n",
        "while i<len(d):\n",
        "  print(d[i])\n",
        "  i+=1\n",
        "print('\\n')\n",
        "for i in d:\n",
        "  print(i)"
      ],
      "metadata": {
        "colab": {
          "base_uri": "https://localhost:8080/"
        },
        "id": "6RTSkz7bKxLa",
        "outputId": "dcfd74a0-75d8-4225-a945-a233ea2aa691"
      },
      "execution_count": 10,
      "outputs": [
        {
          "output_type": "stream",
          "name": "stdout",
          "text": [
            "10\n",
            "2\n",
            "0\n",
            "30\n",
            "\n",
            "\n",
            "10\n",
            "2\n",
            "0\n",
            "30\n"
          ]
        }
      ]
    },
    {
      "cell_type": "code",
      "source": [
        "for index,value in enumerate(d):\n",
        "  print(tuple([index,value]))"
      ],
      "metadata": {
        "colab": {
          "base_uri": "https://localhost:8080/"
        },
        "id": "vfJW3aGULAQl",
        "outputId": "78a8c16f-27cb-418e-d0fc-3779598b5051"
      },
      "execution_count": 14,
      "outputs": [
        {
          "output_type": "stream",
          "name": "stdout",
          "text": [
            "(0, 10)\n",
            "(1, 2)\n",
            "(2, 0)\n",
            "(3, 30)\n"
          ]
        }
      ]
    },
    {
      "cell_type": "code",
      "source": [
        "msg[0]='pavan'"
      ],
      "metadata": {
        "colab": {
          "base_uri": "https://localhost:8080/",
          "height": 172
        },
        "id": "QQKv_xVvLUSY",
        "outputId": "ec0842a7-b510-43dc-dc40-2a5f1fbd8f19"
      },
      "execution_count": 15,
      "outputs": [
        {
          "output_type": "error",
          "ename": "TypeError",
          "evalue": "ignored",
          "traceback": [
            "\u001b[0;31m---------------------------------------------------------------------------\u001b[0m",
            "\u001b[0;31mTypeError\u001b[0m                                 Traceback (most recent call last)",
            "\u001b[0;32m<ipython-input-15-4058ebd35d69>\u001b[0m in \u001b[0;36m<module>\u001b[0;34m\u001b[0m\n\u001b[0;32m----> 1\u001b[0;31m \u001b[0mmsg\u001b[0m\u001b[0;34m[\u001b[0m\u001b[0;36m0\u001b[0m\u001b[0;34m]\u001b[0m\u001b[0;34m=\u001b[0m\u001b[0;34m'pavan'\u001b[0m\u001b[0;34m\u001b[0m\u001b[0;34m\u001b[0m\u001b[0m\n\u001b[0m",
            "\u001b[0;31mTypeError\u001b[0m: 'tuple' object does not support item assignment"
          ]
        }
      ]
    },
    {
      "cell_type": "code",
      "source": [
        "# list inside a tuple.\n",
        "s=([1,2,3,4],[10,20],'pavan')\n",
        "s[1][1]='pav'"
      ],
      "metadata": {
        "id": "2Tg3aSQLLrIy"
      },
      "execution_count": 16,
      "outputs": []
    },
    {
      "cell_type": "code",
      "source": [
        "s"
      ],
      "metadata": {
        "colab": {
          "base_uri": "https://localhost:8080/"
        },
        "id": "yf88pwGWL9hF",
        "outputId": "3c582f00-59e3-48c2-fb5b-cfa498665e89"
      },
      "execution_count": 17,
      "outputs": [
        {
          "output_type": "execute_result",
          "data": {
            "text/plain": [
              "([1, 2, 3, 4], [10, 'pav'], 'pavan')"
            ]
          },
          "metadata": {},
          "execution_count": 17
        }
      ]
    },
    {
      "cell_type": "code",
      "source": [
        "#All other operations for tuple are same as lists..."
      ],
      "metadata": {
        "id": "1bemQNTzL-Q5"
      },
      "execution_count": 18,
      "outputs": []
    },
    {
      "cell_type": "code",
      "source": [
        "#Pass a tuple to the divmod() function and obtain the quotient and the remainder.\n",
        "result=divmod(17,5)\n",
        "result"
      ],
      "metadata": {
        "colab": {
          "base_uri": "https://localhost:8080/"
        },
        "id": "GC9TeRyqMsYq",
        "outputId": "5619e89e-1316-4090-c5b2-6d69625d34bd"
      },
      "execution_count": 19,
      "outputs": [
        {
          "output_type": "execute_result",
          "data": {
            "text/plain": [
              "(3, 2)"
            ]
          },
          "metadata": {},
          "execution_count": 19
        }
      ]
    },
    {
      "cell_type": "code",
      "source": [
        "t=(5,2)\n",
        "r=divmod(*t)"
      ],
      "metadata": {
        "id": "UPBe87O0NBrq"
      },
      "execution_count": 20,
      "outputs": []
    },
    {
      "cell_type": "code",
      "source": [
        "r"
      ],
      "metadata": {
        "colab": {
          "base_uri": "https://localhost:8080/"
        },
        "id": "fXaX4t1rNT9M",
        "outputId": "566a9fd7-6201-4112-a229-1611e9601328"
      },
      "execution_count": 21,
      "outputs": [
        {
          "output_type": "execute_result",
          "data": {
            "text/plain": [
              "(2, 1)"
            ]
          },
          "metadata": {},
          "execution_count": 21
        }
      ]
    },
    {
      "cell_type": "code",
      "source": [
        "lst=['Shubha','Nisha','Sudha',('Suresh',),('Rajesh',),'Radha']\n",
        "boys=0\n",
        "girls=0\n",
        "for ele in lst:\n",
        "  if isinstance(ele,tuple):\n",
        "    boys+=1\n",
        "  else:\n",
        "    girls+=1\n",
        "print('Boys:',boys,'Girls:',girls)"
      ],
      "metadata": {
        "colab": {
          "base_uri": "https://localhost:8080/"
        },
        "id": "baws60buNU9b",
        "outputId": "6e017522-d854-4853-bb4a-9e32a5332343"
      },
      "execution_count": 23,
      "outputs": [
        {
          "output_type": "stream",
          "name": "stdout",
          "text": [
            "Boys: 2 Girls: 4\n"
          ]
        }
      ]
    },
    {
      "cell_type": "code",
      "source": [
        "#A list contains tuples containing roll number , names and age of student.Write a Python program to gather all the names from this list into another list.\n",
        "lst=[('A101','Shubha',23),('A104','Nisha',25),('A111','Sudha',24)]\n",
        "nlst=[]\n",
        "for ele in lst:\n",
        "  nlst=nlst+[ele[1]]\n",
        "print(nlst)"
      ],
      "metadata": {
        "colab": {
          "base_uri": "https://localhost:8080/"
        },
        "id": "9TQPytXeOEjE",
        "outputId": "3a0c7180-0fa2-4da8-d649-eb095f88a074"
      },
      "execution_count": 24,
      "outputs": [
        {
          "output_type": "stream",
          "name": "stdout",
          "text": [
            "['Shubha', 'Nisha', 'Sudha']\n"
          ]
        }
      ]
    },
    {
      "cell_type": "code",
      "source": [
        "# Write a python program to carry out the following operations.\n",
        "tpl=('F','I','a','b','b','e','r','g','a','s','t','e','d')\n",
        "tpl=tpl+('!',)\n",
        "str(tpl)\n"
      ],
      "metadata": {
        "colab": {
          "base_uri": "https://localhost:8080/",
          "height": 36
        },
        "id": "uOweiUmBQ6vA",
        "outputId": "15db6bd0-d8c4-4fcb-ae50-2fde73309b48"
      },
      "execution_count": 25,
      "outputs": [
        {
          "output_type": "execute_result",
          "data": {
            "text/plain": [
              "\"('F', 'I', 'a', 'b', 'b', 'e', 'r', 'g', 'a', 's', 't', 'e', 'd', '!')\""
            ],
            "application/vnd.google.colaboratory.intrinsic+json": {
              "type": "string"
            }
          },
          "metadata": {},
          "execution_count": 25
        }
      ]
    },
    {
      "cell_type": "code",
      "source": [
        "s=''.join(tpl)"
      ],
      "metadata": {
        "id": "0GlWTi3TRk18"
      },
      "execution_count": 26,
      "outputs": []
    },
    {
      "cell_type": "code",
      "source": [
        "s"
      ],
      "metadata": {
        "colab": {
          "base_uri": "https://localhost:8080/",
          "height": 36
        },
        "id": "zlIapTxlRuXH",
        "outputId": "f47c88ad-5b98-4b46-95fd-1603da474314"
      },
      "execution_count": 27,
      "outputs": [
        {
          "output_type": "execute_result",
          "data": {
            "text/plain": [
              "'FIabbergasted!'"
            ],
            "application/vnd.google.colaboratory.intrinsic+json": {
              "type": "string"
            }
          },
          "metadata": {},
          "execution_count": 27
        }
      ]
    },
    {
      "cell_type": "code",
      "source": [
        "c=tpl.count('e')"
      ],
      "metadata": {
        "id": "oUnLHDIKRvDX"
      },
      "execution_count": 28,
      "outputs": []
    },
    {
      "cell_type": "code",
      "source": [
        "c"
      ],
      "metadata": {
        "colab": {
          "base_uri": "https://localhost:8080/"
        },
        "id": "hiCFMGiZR17C",
        "outputId": "930f48c4-5864-4af2-a315-2f7316b9f62f"
      },
      "execution_count": 29,
      "outputs": [
        {
          "output_type": "execute_result",
          "data": {
            "text/plain": [
              "2"
            ]
          },
          "metadata": {},
          "execution_count": 29
        }
      ]
    },
    {
      "cell_type": "code",
      "source": [
        "'r' in tpl"
      ],
      "metadata": {
        "colab": {
          "base_uri": "https://localhost:8080/"
        },
        "id": "D_bJsydqR2s4",
        "outputId": "a16ce383-7ead-41d0-c78a-82659a8d6419"
      },
      "execution_count": 30,
      "outputs": [
        {
          "output_type": "execute_result",
          "data": {
            "text/plain": [
              "True"
            ]
          },
          "metadata": {},
          "execution_count": 30
        }
      ]
    },
    {
      "cell_type": "code",
      "source": [
        "'l' in tpl"
      ],
      "metadata": {
        "colab": {
          "base_uri": "https://localhost:8080/"
        },
        "id": "UyAM-xGUR7I4",
        "outputId": "14512f55-fa45-4551-e7ec-aaf4988eaa53"
      },
      "execution_count": 31,
      "outputs": [
        {
          "output_type": "execute_result",
          "data": {
            "text/plain": [
              "False"
            ]
          },
          "metadata": {},
          "execution_count": 31
        }
      ]
    },
    {
      "cell_type": "code",
      "source": [],
      "metadata": {
        "id": "sOICh6RsR_Gd"
      },
      "execution_count": null,
      "outputs": []
    }
  ]
}
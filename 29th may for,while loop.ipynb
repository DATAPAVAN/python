{
 "cells": [
  {
   "cell_type": "code",
   "execution_count": 1,
   "id": "69ca059b",
   "metadata": {},
   "outputs": [
    {
     "name": "stdout",
     "output_type": "stream",
     "text": [
      "1\n",
      "3\n",
      "7\n",
      "15\n"
     ]
    }
   ],
   "source": [
    "a=1\n",
    "b=15\n",
    "while a<=b:\n",
    "    print(a)\n",
    "    a=2*a+1"
   ]
  },
  {
   "cell_type": "code",
   "execution_count": 6,
   "id": "9c835928",
   "metadata": {},
   "outputs": [
    {
     "name": "stdout",
     "output_type": "stream",
     "text": [
      "1\n",
      "2\n",
      "3\n",
      "4\n",
      "5\n",
      "6\n",
      "7\n",
      "8\n",
      "9\n",
      "10\n",
      "11\n",
      "12\n",
      "13\n",
      "14\n",
      "15\n",
      "kkkkkkk\n"
     ]
    }
   ],
   "source": [
    "a=1\n",
    "b=15\n",
    "while a<=b:\n",
    "    print(a)\n",
    "    a=a+1\n",
    "else:\n",
    "    print('kkkkkkk')"
   ]
  },
  {
   "cell_type": "code",
   "execution_count": 4,
   "id": "3f1e565c",
   "metadata": {},
   "outputs": [
    {
     "name": "stdout",
     "output_type": "stream",
     "text": [
      "1\n"
     ]
    }
   ],
   "source": [
    "a=1\n",
    "b=15\n",
    "if a<=b:\n",
    "    print(a)\n",
    "    a=2*a+1"
   ]
  },
  {
   "cell_type": "code",
   "execution_count": 7,
   "id": "a66cbd3a",
   "metadata": {},
   "outputs": [
    {
     "name": "stdout",
     "output_type": "stream",
     "text": [
      "1\n",
      "2\n",
      "3\n",
      "4\n",
      "5\n"
     ]
    }
   ],
   "source": [
    "a=1\n",
    "b=10\n",
    "while a<10:\n",
    "    print(a)\n",
    "    if a==5:\n",
    "        break\n",
    "    a=a+1\n",
    "else:\n",
    "    print('kkkbkkkk')"
   ]
  },
  {
   "cell_type": "code",
   "execution_count": 8,
   "id": "c2e5cb58",
   "metadata": {},
   "outputs": [
    {
     "name": "stdout",
     "output_type": "stream",
     "text": [
      "2\n",
      "3\n",
      "5\n",
      "6\n",
      "7\n",
      "8\n",
      "9\n",
      "10\n"
     ]
    }
   ],
   "source": [
    "a=1\n",
    "b=10\n",
    "while a<b:\n",
    "    a=a+1\n",
    "    if a==4:\n",
    "        continue\n",
    "    print(a)"
   ]
  },
  {
   "cell_type": "code",
   "execution_count": 9,
   "id": "47f94724",
   "metadata": {},
   "outputs": [],
   "source": [
    "l=[1,2,3,4]"
   ]
  },
  {
   "cell_type": "code",
   "execution_count": 11,
   "id": "a11fecbc",
   "metadata": {},
   "outputs": [
    {
     "name": "stdout",
     "output_type": "stream",
     "text": [
      "1\n",
      "2\n",
      "3\n",
      "4\n"
     ]
    }
   ],
   "source": [
    "for i in l:\n",
    "    print(i)"
   ]
  },
  {
   "cell_type": "code",
   "execution_count": 16,
   "id": "a0d51814",
   "metadata": {
    "scrolled": true
   },
   "outputs": [
    {
     "name": "stdout",
     "output_type": "stream",
     "text": [
      "1\n",
      "2\n",
      "3\n",
      "4\n"
     ]
    }
   ],
   "source": [
    "a=0\n",
    "while a<len(l):\n",
    "    print(l[a])\n",
    "    a=a+1"
   ]
  },
  {
   "cell_type": "code",
   "execution_count": 2,
   "id": "af593d11",
   "metadata": {},
   "outputs": [
    {
     "data": {
      "text/plain": [
       "5"
      ]
     },
     "execution_count": 2,
     "metadata": {},
     "output_type": "execute_result"
    }
   ],
   "source": [
    "2+3"
   ]
  },
  {
   "cell_type": "code",
   "execution_count": 1,
   "id": "8274e23e",
   "metadata": {},
   "outputs": [
    {
     "name": "stdout",
     "output_type": "stream",
     "text": [
      "index of 78 is -2\n",
      "index of 46 is -3\n"
     ]
    }
   ],
   "source": [
    "t=(11,265,46,78,9)\n",
    "a=-2\n",
    "while a>-len(t):\n",
    "    if t[a]==46 or t[a]==78:\n",
    "        print('index of',t[a],'is',a)\n",
    "    a=a-1\n",
    "            \n",
    "        "
   ]
  },
  {
   "cell_type": "code",
   "execution_count": 5,
   "id": "9dd267db",
   "metadata": {},
   "outputs": [
    {
     "name": "stdout",
     "output_type": "stream",
     "text": [
      "index of 46 is 2\n",
      "index of 78 is 3\n"
     ]
    }
   ],
   "source": [
    "t=(11,22,46,78,9)\n",
    "a=2\n",
    "while a<len(t):\n",
    "    if t[a]==46 or t[a]==78:\n",
    "        print('index of',t[a],'is',a)\n",
    "    a=a+1"
   ]
  },
  {
   "cell_type": "code",
   "execution_count": 6,
   "id": "9f3674a8",
   "metadata": {},
   "outputs": [],
   "source": [
    "  d={'k1':'pavan','k2':[1,2,3.4],'k3':(2,3,4,5)}"
   ]
  },
  {
   "cell_type": "code",
   "execution_count": 10,
   "id": "2f16226b",
   "metadata": {},
   "outputs": [
    {
     "name": "stdout",
     "output_type": "stream",
     "text": [
      "dict_values(['pavan', [1, 2, 3.4], (2, 3, 4, 5)])\n"
     ]
    }
   ],
   "source": [
    "a=0\n",
    "d={'k1':'pavan','k2':[1,2,3.4],'k3':(2,3,4,5)}\n",
    "while a<len(d):\n",
    "    print(d.values())\n",
    "    if a==0:\n",
    "        break\n",
    "\n",
    "    "
   ]
  },
  {
   "cell_type": "code",
   "execution_count": 11,
   "id": "8e1205c6",
   "metadata": {},
   "outputs": [
    {
     "name": "stdout",
     "output_type": "stream",
     "text": [
      "pavan\n",
      "[1, 2, 3.4]\n",
      "(2, 3, 4, 5)\n"
     ]
    }
   ],
   "source": [
    "a=0\n",
    "b=list(d.keys())\n",
    "while a<len(d):\n",
    "    print(d[b[a]])\n",
    "    a=a+1"
   ]
  },
  {
   "cell_type": "code",
   "execution_count": 20,
   "id": "d30577fe",
   "metadata": {},
   "outputs": [],
   "source": [
    "#function(own creation)"
   ]
  },
  {
   "cell_type": "code",
   "execution_count": 18,
   "id": "24d86683",
   "metadata": {},
   "outputs": [],
   "source": [
    "def pk():\n",
    "    print('best programmer')"
   ]
  },
  {
   "cell_type": "code",
   "execution_count": 19,
   "id": "440b88d8",
   "metadata": {},
   "outputs": [
    {
     "name": "stdout",
     "output_type": "stream",
     "text": [
      "best programmer\n"
     ]
    }
   ],
   "source": [
    "pk()"
   ]
  },
  {
   "cell_type": "code",
   "execution_count": 21,
   "id": "77f85633",
   "metadata": {},
   "outputs": [
    {
     "name": "stdout",
     "output_type": "stream",
     "text": [
      "best programmer\n"
     ]
    },
    {
     "ename": "TypeError",
     "evalue": "unsupported operand type(s) for +: 'NoneType' and 'str'",
     "output_type": "error",
     "traceback": [
      "\u001b[1;31m---------------------------------------------------------------------------\u001b[0m",
      "\u001b[1;31mTypeError\u001b[0m                                 Traceback (most recent call last)",
      "Input \u001b[1;32mIn [21]\u001b[0m, in \u001b[0;36m<cell line: 1>\u001b[1;34m()\u001b[0m\n\u001b[1;32m----> 1\u001b[0m \u001b[43mpk\u001b[49m\u001b[43m(\u001b[49m\u001b[43m)\u001b[49m\u001b[38;5;241;43m+\u001b[39;49m\u001b[38;5;124;43m'\u001b[39;49m\u001b[38;5;124;43mpavan\u001b[39;49m\u001b[38;5;124;43m'\u001b[39;49m\n",
      "\u001b[1;31mTypeError\u001b[0m: unsupported operand type(s) for +: 'NoneType' and 'str'"
     ]
    }
   ],
   "source": [
    "pk()+'pavan'"
   ]
  },
  {
   "cell_type": "code",
   "execution_count": 22,
   "id": "22b32677",
   "metadata": {},
   "outputs": [
    {
     "name": "stdout",
     "output_type": "stream",
     "text": [
      "best programmer\n"
     ]
    },
    {
     "data": {
      "text/plain": [
       "'Nonepavan'"
      ]
     },
     "execution_count": 22,
     "metadata": {},
     "output_type": "execute_result"
    }
   ],
   "source": [
    "str(pk())+'pavan'"
   ]
  },
  {
   "cell_type": "code",
   "execution_count": 23,
   "id": "0a00a644",
   "metadata": {},
   "outputs": [
    {
     "name": "stdout",
     "output_type": "stream",
     "text": [
      "best programmer\n"
     ]
    },
    {
     "data": {
      "text/plain": [
       "NoneType"
      ]
     },
     "execution_count": 23,
     "metadata": {},
     "output_type": "execute_result"
    }
   ],
   "source": [
    "type(pk())"
   ]
  },
  {
   "cell_type": "code",
   "execution_count": 24,
   "id": "4a26b08d",
   "metadata": {},
   "outputs": [],
   "source": [
    "def pk():\n",
    "    return 'the best programmer'"
   ]
  },
  {
   "cell_type": "code",
   "execution_count": 26,
   "id": "a74d73c6",
   "metadata": {},
   "outputs": [
    {
     "data": {
      "text/plain": [
       "'the best programmer uppala pavan kumar'"
      ]
     },
     "execution_count": 26,
     "metadata": {},
     "output_type": "execute_result"
    }
   ],
   "source": [
    "pk()+' uppala pavan kumar'"
   ]
  },
  {
   "cell_type": "code",
   "execution_count": 27,
   "id": "3ba49c86",
   "metadata": {},
   "outputs": [],
   "source": [
    "def test():\n",
    "    return 1,2.3,11,1526,[1,2,3,4]"
   ]
  },
  {
   "cell_type": "code",
   "execution_count": 30,
   "id": "3463d1d1",
   "metadata": {},
   "outputs": [],
   "source": [
    "l=tuple(test())"
   ]
  },
  {
   "cell_type": "code",
   "execution_count": 31,
   "id": "365a827d",
   "metadata": {},
   "outputs": [
    {
     "data": {
      "text/plain": [
       "(1, 2.3, 11, 1526, [1, 2, 3, 4])"
      ]
     },
     "execution_count": 31,
     "metadata": {},
     "output_type": "execute_result"
    }
   ],
   "source": [
    "l"
   ]
  },
  {
   "cell_type": "code",
   "execution_count": 33,
   "id": "b36f8bbb",
   "metadata": {},
   "outputs": [],
   "source": [
    "l=list(test())"
   ]
  },
  {
   "cell_type": "code",
   "execution_count": 34,
   "id": "4fb89169",
   "metadata": {},
   "outputs": [
    {
     "data": {
      "text/plain": [
       "[1, 2.3, 11, 1526, [1, 2, 3, 4]]"
      ]
     },
     "execution_count": 34,
     "metadata": {},
     "output_type": "execute_result"
    }
   ],
   "source": [
    "l"
   ]
  },
  {
   "cell_type": "code",
   "execution_count": 35,
   "id": "a64596d9",
   "metadata": {},
   "outputs": [],
   "source": [
    "a,b,c,d,e=test()"
   ]
  },
  {
   "cell_type": "code",
   "execution_count": 36,
   "id": "878ad134",
   "metadata": {},
   "outputs": [
    {
     "data": {
      "text/plain": [
       "1"
      ]
     },
     "execution_count": 36,
     "metadata": {},
     "output_type": "execute_result"
    }
   ],
   "source": [
    "a"
   ]
  },
  {
   "cell_type": "code",
   "execution_count": 37,
   "id": "570d419a",
   "metadata": {},
   "outputs": [
    {
     "data": {
      "text/plain": [
       "2.3"
      ]
     },
     "execution_count": 37,
     "metadata": {},
     "output_type": "execute_result"
    }
   ],
   "source": [
    "b"
   ]
  },
  {
   "cell_type": "code",
   "execution_count": 38,
   "id": "94047ca6",
   "metadata": {},
   "outputs": [
    {
     "data": {
      "text/plain": [
       "11"
      ]
     },
     "execution_count": 38,
     "metadata": {},
     "output_type": "execute_result"
    }
   ],
   "source": [
    "c"
   ]
  },
  {
   "cell_type": "code",
   "execution_count": 39,
   "id": "a5352e06",
   "metadata": {},
   "outputs": [
    {
     "data": {
      "text/plain": [
       "1526"
      ]
     },
     "execution_count": 39,
     "metadata": {},
     "output_type": "execute_result"
    }
   ],
   "source": [
    "d"
   ]
  },
  {
   "cell_type": "code",
   "execution_count": 40,
   "id": "8b4a6371",
   "metadata": {},
   "outputs": [
    {
     "data": {
      "text/plain": [
       "[1, 2, 3, 4]"
      ]
     },
     "execution_count": 40,
     "metadata": {},
     "output_type": "execute_result"
    }
   ],
   "source": [
    "e"
   ]
  },
  {
   "cell_type": "code",
   "execution_count": 42,
   "id": "9508ece1",
   "metadata": {},
   "outputs": [
    {
     "data": {
      "text/plain": [
       "5"
      ]
     },
     "execution_count": 42,
     "metadata": {},
     "output_type": "execute_result"
    }
   ],
   "source": [
    "len(test())"
   ]
  },
  {
   "cell_type": "code",
   "execution_count": 44,
   "id": "6c936b85",
   "metadata": {},
   "outputs": [],
   "source": [
    "_,_,_,_,e=test()"
   ]
  },
  {
   "cell_type": "code",
   "execution_count": 46,
   "id": "a2bbd8e8",
   "metadata": {},
   "outputs": [
    {
     "data": {
      "text/plain": [
       "[1, 2, 3, 4]"
      ]
     },
     "execution_count": 46,
     "metadata": {},
     "output_type": "execute_result"
    }
   ],
   "source": [
    "e"
   ]
  },
  {
   "cell_type": "code",
   "execution_count": null,
   "id": "b8082986",
   "metadata": {},
   "outputs": [],
   "source": [
    "def pk2():\n",
    "    a=0\n",
    "    b=10\n",
    "    while a<=b:\n",
    "        print(a)\n",
    "        a=a+1"
   ]
  },
  {
   "cell_type": "code",
   "execution_count": null,
   "id": "7b802072",
   "metadata": {},
   "outputs": [],
   "source": [
    "2+3"
   ]
  },
  {
   "cell_type": "code",
   "execution_count": null,
   "id": "5a4042eb",
   "metadata": {},
   "outputs": [],
   "source": [
    "32-56"
   ]
  },
  {
   "cell_type": "code",
   "execution_count": null,
   "id": "069276a9",
   "metadata": {},
   "outputs": [],
   "source": []
  },
  {
   "cell_type": "code",
   "execution_count": null,
   "id": "0c36f801",
   "metadata": {},
   "outputs": [],
   "source": []
  }
 ],
 "metadata": {
  "kernelspec": {
   "display_name": "Python 3 (ipykernel)",
   "language": "python",
   "name": "python3"
  },
  "language_info": {
   "codemirror_mode": {
    "name": "ipython",
    "version": 3
   },
   "file_extension": ".py",
   "mimetype": "text/x-python",
   "name": "python",
   "nbconvert_exporter": "python",
   "pygments_lexer": "ipython3",
   "version": "3.9.12"
  }
 },
 "nbformat": 4,
 "nbformat_minor": 5
}

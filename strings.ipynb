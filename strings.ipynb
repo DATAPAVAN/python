{
  "nbformat": 4,
  "nbformat_minor": 0,
  "metadata": {
    "colab": {
      "provenance": []
    },
    "kernelspec": {
      "name": "python3",
      "display_name": "Python 3"
    },
    "language_info": {
      "name": "python"
    }
  },
  "cells": [
    {
      "cell_type": "code",
      "execution_count": null,
      "metadata": {
        "id": "x_ENnBPkSkMN"
      },
      "outputs": [],
      "source": [
        "msg='He said,\\'Let us python'\n",
        "msg1=r\"He said 'Let us python\""
      ]
    },
    {
      "cell_type": "code",
      "source": [
        "msg"
      ],
      "metadata": {
        "colab": {
          "base_uri": "https://localhost:8080/",
          "height": 36
        },
        "id": "b3rI1xo4XnyM",
        "outputId": "364f5185-de8e-48b6-a085-a8959d19fd6e"
      },
      "execution_count": null,
      "outputs": [
        {
          "output_type": "execute_result",
          "data": {
            "text/plain": [
              "\"He said,'Let us python\""
            ],
            "application/vnd.google.colaboratory.intrinsic+json": {
              "type": "string"
            }
          },
          "metadata": {},
          "execution_count": 2
        }
      ]
    },
    {
      "cell_type": "code",
      "source": [
        "msg1"
      ],
      "metadata": {
        "colab": {
          "base_uri": "https://localhost:8080/",
          "height": 36
        },
        "id": "NxS2zLbhXwso",
        "outputId": "323b71b4-0ec7-4c26-d78a-8e20eceb5ac4"
      },
      "execution_count": null,
      "outputs": [
        {
          "output_type": "execute_result",
          "data": {
            "text/plain": [
              "\"He said 'Let us python\""
            ],
            "application/vnd.google.colaboratory.intrinsic+json": {
              "type": "string"
            }
          },
          "metadata": {},
          "execution_count": 3
        }
      ]
    },
    {
      "cell_type": "code",
      "source": [
        "msg='hello'\n",
        "msg[0]"
      ],
      "metadata": {
        "colab": {
          "base_uri": "https://localhost:8080/",
          "height": 36
        },
        "id": "M_5lK2gzXzU6",
        "outputId": "21810a50-dae8-43a8-e03c-63b0636d8cf8"
      },
      "execution_count": null,
      "outputs": [
        {
          "output_type": "execute_result",
          "data": {
            "text/plain": [
              "'h'"
            ],
            "application/vnd.google.colaboratory.intrinsic+json": {
              "type": "string"
            }
          },
          "metadata": {},
          "execution_count": 4
        }
      ]
    },
    {
      "cell_type": "code",
      "source": [
        "print(msg[1:100])"
      ],
      "metadata": {
        "colab": {
          "base_uri": "https://localhost:8080/"
        },
        "id": "QOjQRfuPX652",
        "outputId": "a8c44594-b906-41b3-aab6-017a4a0dd7cd"
      },
      "execution_count": null,
      "outputs": [
        {
          "output_type": "stream",
          "name": "stdout",
          "text": [
            "ello\n"
          ]
        }
      ]
    },
    {
      "cell_type": "code",
      "source": [
        "msg2='hi'"
      ],
      "metadata": {
        "id": "LfdiKt4kX-X8"
      },
      "execution_count": null,
      "outputs": []
    },
    {
      "cell_type": "code",
      "source": [
        "msg3=msg+msg2"
      ],
      "metadata": {
        "id": "SSA3XR7GYRNv"
      },
      "execution_count": null,
      "outputs": []
    },
    {
      "cell_type": "code",
      "source": [
        "msg3"
      ],
      "metadata": {
        "colab": {
          "base_uri": "https://localhost:8080/",
          "height": 36
        },
        "id": "8w2imGbUYUWe",
        "outputId": "7cc0e217-8854-4c64-8d11-f7b843665076"
      },
      "execution_count": null,
      "outputs": [
        {
          "output_type": "execute_result",
          "data": {
            "text/plain": [
              "'hellohi'"
            ],
            "application/vnd.google.colaboratory.intrinsic+json": {
              "type": "string"
            }
          },
          "metadata": {},
          "execution_count": 8
        }
      ]
    },
    {
      "cell_type": "code",
      "source": [
        "print('-'*25)"
      ],
      "metadata": {
        "colab": {
          "base_uri": "https://localhost:8080/"
        },
        "id": "fy-YDpL9YWNW",
        "outputId": "3e918509-0a48-4f5a-e6ba-e03921029c9a"
      },
      "execution_count": null,
      "outputs": [
        {
          "output_type": "stream",
          "name": "stdout",
          "text": [
            "-------------------------\n"
          ]
        }
      ]
    },
    {
      "cell_type": "code",
      "source": [
        "print('e' in 'hello')"
      ],
      "metadata": {
        "colab": {
          "base_uri": "https://localhost:8080/"
        },
        "id": "pftuWtirYcvk",
        "outputId": "f7a563ad-1735-4ffe-83d7-210fb67f077a"
      },
      "execution_count": null,
      "outputs": [
        {
          "output_type": "stream",
          "name": "stdout",
          "text": [
            "True\n"
          ]
        }
      ]
    },
    {
      "cell_type": "code",
      "source": [
        "print('lo' in 'hello')"
      ],
      "metadata": {
        "colab": {
          "base_uri": "https://localhost:8080/"
        },
        "id": "oNBfPHZ2YiV8",
        "outputId": "37ff093a-11ae-49fe-b806-919074339b5b"
      },
      "execution_count": null,
      "outputs": [
        {
          "output_type": "stream",
          "name": "stdout",
          "text": [
            "True\n"
          ]
        }
      ]
    },
    {
      "cell_type": "code",
      "source": [
        "msg='Surreal'\n",
        "print(len(msg))\n",
        "print(max(msg))\n",
        "print(min(msg))"
      ],
      "metadata": {
        "colab": {
          "base_uri": "https://localhost:8080/"
        },
        "id": "NhiSV25VYn9n",
        "outputId": "21cebda4-8b41-42c0-98b5-faf2f0b5a109"
      },
      "execution_count": null,
      "outputs": [
        {
          "output_type": "stream",
          "name": "stdout",
          "text": [
            "7\n",
            "u\n",
            "S\n"
          ]
        }
      ]
    },
    {
      "cell_type": "code",
      "source": [
        "type(msg)"
      ],
      "metadata": {
        "colab": {
          "base_uri": "https://localhost:8080/"
        },
        "id": "1fjSJsyhYxzo",
        "outputId": "5e6b98ee-a314-463a-9bb6-af5f4ab113bd"
      },
      "execution_count": null,
      "outputs": [
        {
          "output_type": "execute_result",
          "data": {
            "text/plain": [
              "str"
            ]
          },
          "metadata": {},
          "execution_count": 15
        }
      ]
    },
    {
      "cell_type": "code",
      "source": [
        "id(msg)"
      ],
      "metadata": {
        "colab": {
          "base_uri": "https://localhost:8080/"
        },
        "id": "t_qOUyDEY5Ku",
        "outputId": "bbcfb56e-e385-4692-b748-2ad258fa3350"
      },
      "execution_count": null,
      "outputs": [
        {
          "output_type": "execute_result",
          "data": {
            "text/plain": [
              "140357369243696"
            ]
          },
          "metadata": {},
          "execution_count": 16
        }
      ]
    },
    {
      "cell_type": "code",
      "source": [
        "msg"
      ],
      "metadata": {
        "colab": {
          "base_uri": "https://localhost:8080/",
          "height": 36
        },
        "id": "NlAgwgaFZEif",
        "outputId": "3ca502c4-ef81-4031-ca36-e9b84a49d753"
      },
      "execution_count": null,
      "outputs": [
        {
          "output_type": "execute_result",
          "data": {
            "text/plain": [
              "'Surreal'"
            ],
            "application/vnd.google.colaboratory.intrinsic+json": {
              "type": "string"
            }
          },
          "metadata": {},
          "execution_count": 17
        }
      ]
    },
    {
      "cell_type": "code",
      "source": [
        "msg.upper()"
      ],
      "metadata": {
        "colab": {
          "base_uri": "https://localhost:8080/",
          "height": 36
        },
        "id": "gWKIZSMRZHM3",
        "outputId": "46543732-f6d1-431e-cf0f-3fd17b208aa9"
      },
      "execution_count": null,
      "outputs": [
        {
          "output_type": "execute_result",
          "data": {
            "text/plain": [
              "'SURREAL'"
            ],
            "application/vnd.google.colaboratory.intrinsic+json": {
              "type": "string"
            }
          },
          "metadata": {},
          "execution_count": 18
        }
      ]
    },
    {
      "cell_type": "code",
      "source": [
        "msg.lower()"
      ],
      "metadata": {
        "colab": {
          "base_uri": "https://localhost:8080/",
          "height": 36
        },
        "id": "PSMZOO4jZI2I",
        "outputId": "7248bc8f-b409-4eec-9f59-529d8d5d18b9"
      },
      "execution_count": null,
      "outputs": [
        {
          "output_type": "execute_result",
          "data": {
            "text/plain": [
              "'surreal'"
            ],
            "application/vnd.google.colaboratory.intrinsic+json": {
              "type": "string"
            }
          },
          "metadata": {},
          "execution_count": 19
        }
      ]
    },
    {
      "cell_type": "code",
      "source": [
        "msg.capitalize()"
      ],
      "metadata": {
        "colab": {
          "base_uri": "https://localhost:8080/",
          "height": 36
        },
        "id": "8DhR66S0ZJ1P",
        "outputId": "f83b92fe-dfaa-456b-8b37-30362c313753"
      },
      "execution_count": null,
      "outputs": [
        {
          "output_type": "execute_result",
          "data": {
            "text/plain": [
              "'Surreal'"
            ],
            "application/vnd.google.colaboratory.intrinsic+json": {
              "type": "string"
            }
          },
          "metadata": {},
          "execution_count": 20
        }
      ]
    },
    {
      "cell_type": "code",
      "source": [
        "msg.endswith('al')"
      ],
      "metadata": {
        "colab": {
          "base_uri": "https://localhost:8080/"
        },
        "id": "HkNR1NKWZLPh",
        "outputId": "97e9cbbc-65e5-4a6c-ede6-57045f8235d5"
      },
      "execution_count": null,
      "outputs": [
        {
          "output_type": "execute_result",
          "data": {
            "text/plain": [
              "True"
            ]
          },
          "metadata": {},
          "execution_count": 21
        }
      ]
    },
    {
      "cell_type": "code",
      "source": [
        "msg.startswith('S')"
      ],
      "metadata": {
        "colab": {
          "base_uri": "https://localhost:8080/"
        },
        "id": "f828ll9iZPCD",
        "outputId": "843dc43c-c00c-40e3-a483-9acb10adebbb"
      },
      "execution_count": null,
      "outputs": [
        {
          "output_type": "execute_result",
          "data": {
            "text/plain": [
              "True"
            ]
          },
          "metadata": {},
          "execution_count": 22
        }
      ]
    },
    {
      "cell_type": "code",
      "source": [
        "msg.count('s')"
      ],
      "metadata": {
        "colab": {
          "base_uri": "https://localhost:8080/"
        },
        "id": "0KA-hln1ZRVv",
        "outputId": "edca28eb-b1d4-4e77-c356-8166cbe820e4"
      },
      "execution_count": null,
      "outputs": [
        {
          "output_type": "execute_result",
          "data": {
            "text/plain": [
              "0"
            ]
          },
          "metadata": {},
          "execution_count": 24
        }
      ]
    },
    {
      "cell_type": "code",
      "source": [
        "msg.replace('S','s')"
      ],
      "metadata": {
        "colab": {
          "base_uri": "https://localhost:8080/",
          "height": 36
        },
        "id": "cR2oufTUZXsM",
        "outputId": "cf031acb-4d54-4162-86d5-aed0a38ba802"
      },
      "execution_count": null,
      "outputs": [
        {
          "output_type": "execute_result",
          "data": {
            "text/plain": [
              "'surreal'"
            ],
            "application/vnd.google.colaboratory.intrinsic+json": {
              "type": "string"
            }
          },
          "metadata": {},
          "execution_count": 25
        }
      ]
    },
    {
      "cell_type": "code",
      "source": [
        "print('-'.join('Hello'))"
      ],
      "metadata": {
        "colab": {
          "base_uri": "https://localhost:8080/"
        },
        "id": "mxUh982FZiL_",
        "outputId": "f2bf4e87-dd3b-4551-fdf1-e3bb3b147a8e"
      },
      "execution_count": null,
      "outputs": [
        {
          "output_type": "stream",
          "name": "stdout",
          "text": [
            "H-e-l-l-o\n"
          ]
        }
      ]
    },
    {
      "cell_type": "code",
      "source": [
        "msg.isalpha()"
      ],
      "metadata": {
        "colab": {
          "base_uri": "https://localhost:8080/"
        },
        "id": "ENDqIADMZqbd",
        "outputId": "d0fd29e6-1228-4542-e198-cccbf8b05c61"
      },
      "execution_count": null,
      "outputs": [
        {
          "output_type": "execute_result",
          "data": {
            "text/plain": [
              "True"
            ]
          },
          "metadata": {},
          "execution_count": 29
        }
      ]
    },
    {
      "cell_type": "code",
      "source": [
        "msg.isalnum()"
      ],
      "metadata": {
        "colab": {
          "base_uri": "https://localhost:8080/"
        },
        "id": "zsVBGefJaE1u",
        "outputId": "a413092d-d317-4130-8ec1-f016562b1b8e"
      },
      "execution_count": null,
      "outputs": [
        {
          "output_type": "execute_result",
          "data": {
            "text/plain": [
              "True"
            ]
          },
          "metadata": {},
          "execution_count": 30
        }
      ]
    },
    {
      "cell_type": "code",
      "source": [
        "msg.isnumeric()"
      ],
      "metadata": {
        "colab": {
          "base_uri": "https://localhost:8080/"
        },
        "id": "bvCEiGVqaHmq",
        "outputId": "8a884eca-2d45-46af-b51c-38a481a2cf47"
      },
      "execution_count": null,
      "outputs": [
        {
          "output_type": "execute_result",
          "data": {
            "text/plain": [
              "False"
            ]
          },
          "metadata": {},
          "execution_count": 31
        }
      ]
    },
    {
      "cell_type": "code",
      "source": [
        "msg.islower()"
      ],
      "metadata": {
        "colab": {
          "base_uri": "https://localhost:8080/"
        },
        "id": "vQgPDTDQaLmJ",
        "outputId": "777d514b-120a-4031-dfbe-ff9622e3bbde"
      },
      "execution_count": null,
      "outputs": [
        {
          "output_type": "execute_result",
          "data": {
            "text/plain": [
              "False"
            ]
          },
          "metadata": {},
          "execution_count": 33
        }
      ]
    },
    {
      "cell_type": "code",
      "source": [
        "msg.isupper()"
      ],
      "metadata": {
        "colab": {
          "base_uri": "https://localhost:8080/"
        },
        "id": "nv8vsDOSaTMa",
        "outputId": "bf6e0c00-080f-41b2-f913-d88ee64d88ff"
      },
      "execution_count": null,
      "outputs": [
        {
          "output_type": "execute_result",
          "data": {
            "text/plain": [
              "False"
            ]
          },
          "metadata": {},
          "execution_count": 34
        }
      ]
    },
    {
      "cell_type": "code",
      "source": [
        "msg.isdigit()"
      ],
      "metadata": {
        "colab": {
          "base_uri": "https://localhost:8080/"
        },
        "id": "iDrER-5waYJ8",
        "outputId": "7cc26af0-f21f-4476-e60e-edf1c2b0f8d9"
      },
      "execution_count": null,
      "outputs": [
        {
          "output_type": "execute_result",
          "data": {
            "text/plain": [
              "False"
            ]
          },
          "metadata": {},
          "execution_count": 35
        }
      ]
    },
    {
      "cell_type": "code",
      "source": [
        "msg=' pavan   kumar  uppala    '"
      ],
      "metadata": {
        "id": "ozQq_xgxaa-l"
      },
      "execution_count": null,
      "outputs": []
    },
    {
      "cell_type": "code",
      "source": [
        "msg.lstrip()"
      ],
      "metadata": {
        "colab": {
          "base_uri": "https://localhost:8080/",
          "height": 36
        },
        "id": "BOZg9M62alw5",
        "outputId": "e33740c2-812c-4a92-e2d3-70eea7ff23a5"
      },
      "execution_count": null,
      "outputs": [
        {
          "output_type": "execute_result",
          "data": {
            "text/plain": [
              "'pavan   kumar  uppala    '"
            ],
            "application/vnd.google.colaboratory.intrinsic+json": {
              "type": "string"
            }
          },
          "metadata": {},
          "execution_count": 37
        }
      ]
    },
    {
      "cell_type": "code",
      "source": [
        "msg.rstrip()"
      ],
      "metadata": {
        "colab": {
          "base_uri": "https://localhost:8080/",
          "height": 36
        },
        "id": "NGtjlKONapjF",
        "outputId": "80ab31ce-2c19-4468-f130-0fef2eb83896"
      },
      "execution_count": null,
      "outputs": [
        {
          "output_type": "execute_result",
          "data": {
            "text/plain": [
              "' pavan   kumar  uppala'"
            ],
            "application/vnd.google.colaboratory.intrinsic+json": {
              "type": "string"
            }
          },
          "metadata": {},
          "execution_count": 38
        }
      ]
    },
    {
      "cell_type": "code",
      "source": [
        "msg.strip()"
      ],
      "metadata": {
        "colab": {
          "base_uri": "https://localhost:8080/",
          "height": 36
        },
        "id": "iMd5BOvOaq1K",
        "outputId": "6184777b-241f-4568-dafa-7db18066fe77"
      },
      "execution_count": null,
      "outputs": [
        {
          "output_type": "execute_result",
          "data": {
            "text/plain": [
              "'pavan   kumar  uppala'"
            ],
            "application/vnd.google.colaboratory.intrinsic+json": {
              "type": "string"
            }
          },
          "metadata": {},
          "execution_count": 39
        }
      ]
    },
    {
      "cell_type": "code",
      "source": [
        "msg.split()"
      ],
      "metadata": {
        "colab": {
          "base_uri": "https://localhost:8080/"
        },
        "id": "w9q5GlboaruV",
        "outputId": "1e74d4f0-a4f4-4fc9-e089-0680a675a70a"
      },
      "execution_count": null,
      "outputs": [
        {
          "output_type": "execute_result",
          "data": {
            "text/plain": [
              "['pavan', 'kumar', 'uppala']"
            ]
          },
          "metadata": {},
          "execution_count": 41
        }
      ]
    },
    {
      "cell_type": "code",
      "source": [
        "msg.split('a')"
      ],
      "metadata": {
        "colab": {
          "base_uri": "https://localhost:8080/"
        },
        "id": "sn2c_0vya5ca",
        "outputId": "97d8dd78-cac7-4778-8367-1281b3b20560"
      },
      "execution_count": null,
      "outputs": [
        {
          "output_type": "execute_result",
          "data": {
            "text/plain": [
              "[' p', 'v', 'n   kum', 'r  upp', 'l', '    ']"
            ]
          },
          "metadata": {},
          "execution_count": 42
        }
      ]
    },
    {
      "cell_type": "code",
      "source": [
        "msg.partition(')"
      ],
      "metadata": {
        "colab": {
          "base_uri": "https://localhost:8080/"
        },
        "id": "rhvUGfChbADX",
        "outputId": "3056d781-df13-4330-d780-11e5422ff809"
      },
      "execution_count": null,
      "outputs": [
        {
          "output_type": "execute_result",
          "data": {
            "text/plain": [
              "('', ' ', 'pavan   kumar  uppala    ')"
            ]
          },
          "metadata": {},
          "execution_count": 46
        }
      ]
    },
    {
      "cell_type": "code",
      "source": [
        "msg.swapcase()"
      ],
      "metadata": {
        "id": "OP3u3Hm-bEeW",
        "colab": {
          "base_uri": "https://localhost:8080/",
          "height": 36
        },
        "outputId": "8f2f778c-c99c-4588-8c14-4009adaf55b8"
      },
      "execution_count": 50,
      "outputs": [
        {
          "output_type": "execute_result",
          "data": {
            "text/plain": [
              "' PAVAN   KUMAR  UPPALA    '"
            ],
            "application/vnd.google.colaboratory.intrinsic+json": {
              "type": "string"
            }
          },
          "metadata": {},
          "execution_count": 50
        }
      ]
    },
    {
      "cell_type": "code",
      "source": [
        "msg.title()"
      ],
      "metadata": {
        "colab": {
          "base_uri": "https://localhost:8080/",
          "height": 36
        },
        "id": "ejCnOfutcdvU",
        "outputId": "8a16458b-f7c3-40c0-e4b5-e182ce1c016e"
      },
      "execution_count": 51,
      "outputs": [
        {
          "output_type": "execute_result",
          "data": {
            "text/plain": [
              "' Pavan   Kumar  Uppala    '"
            ],
            "application/vnd.google.colaboratory.intrinsic+json": {
              "type": "string"
            }
          },
          "metadata": {},
          "execution_count": 51
        }
      ]
    },
    {
      "cell_type": "code",
      "source": [
        "# Demonstrate how to create simple and multi-line strings and whether a string can change after creation. Also show the usage of built - in functions len(),min(),max()\n",
        "msg1='Hoopla'\n",
        "print(msg1)\n",
        "msg2='He said,\\'Let Us Python\\'.'\n",
        "file1='C:\\\\temp\\\\newfile'\n",
        "file2=r'C:\\temp\\newfile'\n",
        "print(msg2)\n",
        "print(file1)\n",
        "print(file2)\n",
        "msg3='What is this life if full of care....\\\n",
        "      We have no time to stand and stare'\n",
        "msg4=\"\"\" What is this life if full of care... \n",
        "We have no time to stand and stare\"\"\"\n",
        "msg5=('What is this life if full of care...'\n",
        "      'We have no time to stand and stare')\n",
        "print(msg3)\n",
        "print(msg4)\n",
        "print(msg5)\n",
        "msg6='Maclearn!!'\n",
        "print(msg1*3)"
      ],
      "metadata": {
        "colab": {
          "base_uri": "https://localhost:8080/"
        },
        "id": "hDTvN0THcf7-",
        "outputId": "20d90e12-dfcb-4862-9c5b-0d687bc92a7b"
      },
      "execution_count": 55,
      "outputs": [
        {
          "output_type": "stream",
          "name": "stdout",
          "text": [
            "Hoopla\n",
            "He said,'Let Us Python'.\n",
            "C:\\temp\\newfile\n",
            "C:\\temp\\newfile\n",
            "What is this life if full of care....      We have no time to stand and stare\n",
            " What is this life if full of care... \n",
            "We have no time to stand and stare\n",
            "What is this life if full of care...We have no time to stand and stare\n",
            "HooplaHooplaHoopla\n"
          ]
        }
      ]
    },
    {
      "cell_type": "code",
      "source": [
        "# For a given string 'Bamboozled' ,write a program to obtain the following output:\n",
        "''' B a\n",
        "ed\n",
        "ed\n",
        "mboozled\n",
        "mboozled\n",
        "mboozled\n",
        "Bamboo\n",
        "Bamboo\n",
        "Bamboo\n",
        "Bamboo\n",
        "delzoobmaB\n",
        "Bamboozled\n",
        "Bmoze\n",
        "Bbzd\n",
        "Boe\n",
        "BamboozledHype!\n",
        "BambooMonger!\n",
        "'''\n",
        "s='Bamboozled'\n",
        "print(s[0],s[1])\n",
        "print(s[-2],s[-1])\n",
        "print(s[2:])\n",
        "print(s[-8:])\n",
        "print(s[2:15])\n",
        "print(s[:6])\n",
        "print(s[0:6])\n",
        "print(s[-10:-4])\n",
        "print(s[::2])\n",
        "print(s[::3])\n",
        "print(s[::4])\n"
      ],
      "metadata": {
        "colab": {
          "base_uri": "https://localhost:8080/"
        },
        "id": "VcocMAzqc8nQ",
        "outputId": "391adbe9-8da4-4a46-830c-f16f8e2c4785"
      },
      "execution_count": 68,
      "outputs": [
        {
          "output_type": "stream",
          "name": "stdout",
          "text": [
            "B a\n",
            "e d\n",
            "mboozled\n",
            "mboozled\n",
            "mboozled\n",
            "Bamboo\n",
            "Bamboo\n",
            "Bamboo\n",
            "Bmoze\n",
            "Bbzd\n",
            "Boe\n"
          ]
        }
      ]
    },
    {
      "cell_type": "code",
      "source": [
        "# For the following strings find out which are having only alphabets, which are numeric , which are alphanumeric , which are lowercase ,which are uppercase.Also find out whether \n",
        "#'And Quiet Flows The Don't begins with 'And' or ends with 'And':\n",
        "s1='NitiAayog'\n",
        "s2='And Quiet Flows The Don'\n",
        "s3='1234567890'\n",
        "s4='Make $1000 a day'\n",
        "print('s1 =',s1)\n",
        "print('s2 =' ,s2)\n",
        "print('s3 = ',s3)\n",
        "print('s4 = ',s4)\n",
        "print('check isalpha on s1,s2')\n",
        "print(s1.isalpha())\n",
        "print(s2.isalpha())\n",
        "print('check isdigit on s3,s4')\n",
        "print(s3.isdigit())\n",
        "print(s4.isdigit())\n",
        "print('check isalnum on s1,s2,s3,s4')\n",
        "print(s1.isalnum())\n",
        "print(s2.isalnum())\n",
        "print(s3.isalnum())\n",
        "print(s4.isalnum())\n",
        "print('check islower on s1,s2')\n",
        "print(s1.islower())\n",
        "print(s2.islower())\n",
        "print('check isupper on s3,s4')\n",
        "print(s3.isupper())\n",
        "print(s4.isupper())\n",
        "print('check starts with and endswith on s2')\n",
        "print(s2.startswith('And'))\n",
        "print(s2.endswith('And'))"
      ],
      "metadata": {
        "colab": {
          "base_uri": "https://localhost:8080/"
        },
        "id": "3p5QY-cFg2l4",
        "outputId": "751b7ffc-37c8-4943-9ca5-2b7c985e0a99"
      },
      "execution_count": 70,
      "outputs": [
        {
          "output_type": "stream",
          "name": "stdout",
          "text": [
            "s1 = NitiAayog\n",
            "s2 = And Quiet Flows The Don\n",
            "s3 =  1234567890\n",
            "s4 =  Make $1000 a day\n",
            "check isalpha on s1,s2\n",
            "True\n",
            "False\n",
            "check isdigit on s3,s4\n",
            "True\n",
            "False\n",
            "check isalnum on s1,s2,s3,s4\n",
            "True\n",
            "False\n",
            "True\n",
            "False\n",
            "check islower on s1,s2\n",
            "False\n",
            "False\n",
            "check isupper on s3,s4\n",
            "False\n",
            "False\n",
            "check starts with and endswith on s2\n",
            "True\n",
            "False\n"
          ]
        }
      ]
    },
    {
      "cell_type": "code",
      "source": [
        "#Given the following string:\n",
        "'Bring it on'\n",
        "'  Flanked by spaces on either side '\n",
        "'C:\\\\Users\\\\Kanetkar\\\\Documents'\n",
        "# Write a program to produce the following output using appropriate string functions.\n",
        "'''\n",
        "BRING IT ON\n",
        "bring it on\n",
        "Bring it on\n",
        "Bring It On\n",
        "bRING iT oN\n",
        "6\n",
        "9\n",
        "Bring Him On\n",
        "Flanked by spaces on either side \n",
        "  Flanked by spaces on either side\n",
        "['C:','Users','Kanetkar','Documents']\n",
        "('C:','\\\\','Users\\\\Kanetkar\\\\Documents')\n",
        "'''\n",
        "a='Bring It On'\n",
        "b= '  Flanked by spaces on either side  '\n",
        "c='C:\\\\Users\\\\Kanetkar\\\\Documents'\n",
        "print(a.upper())\n",
        "print(a.lower())\n",
        "print(a.capitalize())\n",
        "print(a.title())\n",
        "print(a.swapcase())\n",
        "print(a.find('I'))\n",
        "print(a.find('On'))\n",
        "print(a.replace('It','Him'))\n",
        "print(b.lstrip())\n",
        "print(b.rstrip())\n",
        "print(c.split('\\\\'))\n",
        "print(c.partition('\\\\'))\n"
      ],
      "metadata": {
        "colab": {
          "base_uri": "https://localhost:8080/"
        },
        "id": "rsf7sjZ0kFYq",
        "outputId": "c5f86bc9-55c6-46ce-aa12-948a53843ccc"
      },
      "execution_count": 77,
      "outputs": [
        {
          "output_type": "stream",
          "name": "stdout",
          "text": [
            "BRING IT ON\n",
            "bring it on\n",
            "Bring it on\n",
            "Bring It On\n",
            "bRING iT oN\n",
            "6\n",
            "9\n",
            "Bring Him On\n",
            "Flanked by spaces on either side  \n",
            "  Flanked by spaces on either side\n",
            "['C:', 'Users', 'Kanetkar', 'Documents']\n",
            "('C:', '\\\\', 'Users\\\\Kanetkar\\\\Documents')\n"
          ]
        }
      ]
    },
    {
      "cell_type": "code",
      "source": [],
      "metadata": {
        "id": "QBIefCp_oVTE"
      },
      "execution_count": null,
      "outputs": []
    }
  ]
}
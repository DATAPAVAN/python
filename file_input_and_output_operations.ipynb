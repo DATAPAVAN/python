{
  "nbformat": 4,
  "nbformat_minor": 0,
  "metadata": {
    "colab": {
      "provenance": [],
      "toc_visible": true
    },
    "kernelspec": {
      "name": "python3",
      "display_name": "Python 3"
    },
    "language_info": {
      "name": "python"
    },
    "gpuClass": "standard"
  },
  "cells": [
    {
      "cell_type": "code",
      "execution_count": 46,
      "metadata": {
        "colab": {
          "base_uri": "https://localhost:8080/"
        },
        "id": "e10e28TjdzPw",
        "outputId": "122abb23-425b-408d-cb2e-12d47d51042f"
      },
      "outputs": [
        {
          "output_type": "stream",
          "name": "stdout",
          "text": [
            "pay taxes with a smile...\n",
            "i tried ,but they wanted money!\n",
            "don't feel bad...\n",
            "\n"
          ]
        }
      ],
      "source": [
        "msg1='pay taxes with a smile...\\n'\n",
        "msg2='i tried ,but they wanted money!\\n'\n",
        "msg3='don\\'t feel bad...\\n'\n",
        "f=open('messages','w')\n",
        "f.write(msg1)\n",
        "f.write(msg2)\n",
        "f.write(msg3)\n",
        "f.close()\n",
        "f=open('messages','r')\n",
        "data=f.read()\n",
        "print(data)\n",
        "f.close()"
      ]
    },
    {
      "cell_type": "code",
      "source": [
        "\n",
        "f=open('filename','w')\n",
        "f.close()"
      ],
      "metadata": {
        "id": "UDFFn2eYe4dM"
      },
      "execution_count": 47,
      "outputs": []
    },
    {
      "cell_type": "code",
      "source": [
        "f=open('messages','w')\n",
        "msg='bad officials are elected by good citizens who do not have vote.\\n'\n",
        "msgs=['Humpty\\n','Dumpty\\n','Sat\\n','On\\n','a\\n','wall\\n']\n",
        "f.write(msg)\n",
        "f.writelines(msgs)\n",
        "f.close()\n"
      ],
      "metadata": {
        "id": "NTlvTcdBfWuO"
      },
      "execution_count": 48,
      "outputs": []
    },
    {
      "cell_type": "code",
      "source": [
        "f=open('messages','r')\n",
        "data=f.read()\n",
        "print(data)"
      ],
      "metadata": {
        "colab": {
          "base_uri": "https://localhost:8080/"
        },
        "id": "TKQWTXhYgNY3",
        "outputId": "ff98fd67-3dab-45c9-f222-d0fc598ce277"
      },
      "execution_count": 49,
      "outputs": [
        {
          "output_type": "stream",
          "name": "stdout",
          "text": [
            "bad officials are elected by good citizens who do not have vote.\n",
            "Humpty\n",
            "Dumpty\n",
            "Sat\n",
            "On\n",
            "a\n",
            "wall\n",
            "\n"
          ]
        }
      ]
    },
    {
      "cell_type": "code",
      "source": [
        "f=open('messages','w')\n",
        "tpl=('pavan',22,234333)\n",
        "lst=[23,35,56,45,53]\n",
        "d={'Name':'pavan','Age':44}\n",
        "f.write(str(tpl))\n",
        "f.write(str(lst))\n",
        "f.write(str(d))\n",
        "f.close()\n",
        "f=open('messages','r')"
      ],
      "metadata": {
        "id": "t_jV2xl-gg7_"
      },
      "execution_count": 50,
      "outputs": []
    },
    {
      "cell_type": "code",
      "source": [
        "f.seek(0)\n",
        "data=f.read()\n",
        "print(data)\n"
      ],
      "metadata": {
        "colab": {
          "base_uri": "https://localhost:8080/"
        },
        "id": "sko4zTf6hmWU",
        "outputId": "25841ab5-0234-4bf4-9547-b93b063dcfcf"
      },
      "execution_count": 51,
      "outputs": [
        {
          "output_type": "stream",
          "name": "stdout",
          "text": [
            "('pavan', 22, 234333)[23, 35, 56, 45, 53]{'Name': 'pavan', 'Age': 44}\n"
          ]
        }
      ]
    },
    {
      "cell_type": "code",
      "source": [
        "f.seek(0)\n",
        "data=f.read(10)\n",
        "print(data)\n"
      ],
      "metadata": {
        "colab": {
          "base_uri": "https://localhost:8080/"
        },
        "id": "k3vBrUCZhxyZ",
        "outputId": "89bbd862-93f1-454c-8238-7854e1f11fcd"
      },
      "execution_count": 52,
      "outputs": [
        {
          "output_type": "stream",
          "name": "stdout",
          "text": [
            "('pavan', \n"
          ]
        }
      ]
    },
    {
      "cell_type": "code",
      "source": [
        "f.seek(0)\n",
        "datal=f.readline()\n",
        "print(datal)"
      ],
      "metadata": {
        "colab": {
          "base_uri": "https://localhost:8080/"
        },
        "id": "VFynj6Ouif77",
        "outputId": "4a5bbcc7-637e-4eb8-ed0d-87a12f5cf3d5"
      },
      "execution_count": 53,
      "outputs": [
        {
          "output_type": "stream",
          "name": "stdout",
          "text": [
            "('pavan', 22, 234333)[23, 35, 56, 45, 53]{'Name': 'pavan', 'Age': 44}\n"
          ]
        }
      ]
    },
    {
      "cell_type": "code",
      "source": [
        "f.seek(0)\n",
        "dataalllines=f.readlines()\n",
        "print(dataalllines)"
      ],
      "metadata": {
        "colab": {
          "base_uri": "https://localhost:8080/"
        },
        "id": "uy9ZCKEzimzF",
        "outputId": "3e544b04-22b1-4b39-c002-fd5ce1296106"
      },
      "execution_count": 54,
      "outputs": [
        {
          "output_type": "stream",
          "name": "stdout",
          "text": [
            "[\"('pavan', 22, 234333)[23, 35, 56, 45, 53]{'Name': 'pavan', 'Age': 44}\"]\n"
          ]
        }
      ]
    },
    {
      "cell_type": "code",
      "source": [
        "with open('messages','r') as f:\n",
        "  data=f.read()"
      ],
      "metadata": {
        "id": "Mq7QKpIRi1G6"
      },
      "execution_count": 55,
      "outputs": []
    },
    {
      "cell_type": "code",
      "source": [
        "g=open('story','w')\n",
        "para='For file opened in a text mode ,reference values 0 and 1 and 2 standing for begining of a file,current position in file and end of file respectively.'\n",
        "g.write(para)\n",
        "g.seek(0)\n",
        "g.close()\n",
        "g=open('story','r')\n",
        "data=g.read()\n",
        "print(data)\n"
      ],
      "metadata": {
        "colab": {
          "base_uri": "https://localhost:8080/"
        },
        "id": "THJsmS19jJmD",
        "outputId": "8142409c-d027-42bc-e364-c8d36daf5115"
      },
      "execution_count": 56,
      "outputs": [
        {
          "output_type": "stream",
          "name": "stdout",
          "text": [
            "For file opened in a text mode ,reference values 0 and 1 and 2 standing for begining of a file,current position in file and end of file respectively.\n"
          ]
        }
      ]
    },
    {
      "cell_type": "code",
      "source": [
        "g.seek(12,0)\n",
        "data=g.read()\n",
        "print(data)"
      ],
      "metadata": {
        "colab": {
          "base_uri": "https://localhost:8080/"
        },
        "id": "fupn7ynBkbL_",
        "outputId": "7f0920e4-0fcb-4d6f-85a6-284c2056e88d"
      },
      "execution_count": 57,
      "outputs": [
        {
          "output_type": "stream",
          "name": "stdout",
          "text": [
            "ned in a text mode ,reference values 0 and 1 and 2 standing for begining of a file,current position in file and end of file respectively.\n"
          ]
        }
      ]
    },
    {
      "cell_type": "code",
      "source": [
        "\n",
        "g.close()"
      ],
      "metadata": {
        "id": "BEPXFcTakltP"
      },
      "execution_count": 58,
      "outputs": []
    },
    {
      "cell_type": "code",
      "source": [
        "f=open('numberstxt','w+')\n",
        "f.write(str(233)+'\\n')\n",
        "f.write(str(33.44))\n",
        "f.seek(0)\n",
        "a=int(f.readline())\n",
        "b=float(f.readline())\n",
        "print(a+a)\n",
        "print(b+b)\n",
        "f.close()"
      ],
      "metadata": {
        "colab": {
          "base_uri": "https://localhost:8080/"
        },
        "id": "ebCl6fBXkwW7",
        "outputId": "ba643d51-dcf1-4daa-aefc-b50fc08fb82d"
      },
      "execution_count": 59,
      "outputs": [
        {
          "output_type": "stream",
          "name": "stdout",
          "text": [
            "466\n",
            "66.88\n"
          ]
        }
      ]
    },
    {
      "cell_type": "code",
      "source": [
        "import json\n",
        "f=open('sampledata','w+')\n",
        "lst=[10,20,44,43,333,545]\n",
        "json.dump(lst,f)\n",
        "f.seek(0)\n",
        "inlst=json.load(f)\n",
        "print(inlst)\n",
        "f.close()"
      ],
      "metadata": {
        "colab": {
          "base_uri": "https://localhost:8080/"
        },
        "id": "kgmX21Q5mKCh",
        "outputId": "07c9214e-862c-40dd-b9b6-b1043b48c3b4"
      },
      "execution_count": 60,
      "outputs": [
        {
          "output_type": "stream",
          "name": "stdout",
          "text": [
            "[10, 20, 44, 43, 333, 545]\n"
          ]
        }
      ]
    },
    {
      "cell_type": "code",
      "source": [
        "import json\n",
        "f=open('sampledata','w+')\n",
        "tpl=('Pavan',33,33333)\n",
        "json.dump(tpl,f)\n",
        "f.seek(0)\n",
        "intpl=json.load(f)\n",
        "print(tuple(intpl))\n",
        "f.close()"
      ],
      "metadata": {
        "colab": {
          "base_uri": "https://localhost:8080/"
        },
        "id": "3fgkQSjbm6es",
        "outputId": "b3ce190b-900c-423d-8f52-1493a38ffd13"
      },
      "execution_count": 61,
      "outputs": [
        {
          "output_type": "stream",
          "name": "stdout",
          "text": [
            "('Pavan', 33, 33333)\n"
          ]
        }
      ]
    },
    {
      "cell_type": "code",
      "source": [
        "with open('sampledata','w+') as f:\n",
        "  dct={'Pavan':34,'kumar':33,'uppala':35}\n",
        "  json.dump(dct,f)\n",
        "  f.seek(0)\n",
        "  indct=json.load(f)\n",
        "  print(indct)\n"
      ],
      "metadata": {
        "colab": {
          "base_uri": "https://localhost:8080/"
        },
        "id": "7Yh0uKiyn6nJ",
        "outputId": "4521b0f5-99ba-4bd7-deb2-d4bf13bd2946"
      },
      "execution_count": 62,
      "outputs": [
        {
          "output_type": "stream",
          "name": "stdout",
          "text": [
            "{'Pavan': 34, 'kumar': 33, 'uppala': 35}\n"
          ]
        }
      ]
    },
    {
      "cell_type": "code",
      "source": [
        "f.close()"
      ],
      "metadata": {
        "id": "2Qez3fcRoDps"
      },
      "execution_count": 63,
      "outputs": []
    },
    {
      "cell_type": "code",
      "source": [
        "import json\n",
        "lst=[10,32,34,55,323]\n",
        "tpl=('ajay',33,343233)\n",
        "dct={'pavan':34,'kumar':33}\n",
        "str1=json.dumps(lst)\n",
        "str2=json.dumps(tpl)\n",
        "str3=json.dumps(dct)\n",
        "l=json.loads(str1)\n",
        "t=tuple(json.loads(str2))\n",
        "d=json.loads(str3)\n",
        "print(l)\n",
        "print(t)\n",
        "print(d)"
      ],
      "metadata": {
        "colab": {
          "base_uri": "https://localhost:8080/"
        },
        "id": "W47PvHoepEd-",
        "outputId": "08c99cd3-9689-4564-954a-fdff852c0d0c"
      },
      "execution_count": 65,
      "outputs": [
        {
          "output_type": "stream",
          "name": "stdout",
          "text": [
            "[10, 32, 34, 55, 323]\n",
            "('ajay', 33, 343233)\n",
            "{'pavan': 34, 'kumar': 33}\n"
          ]
        }
      ]
    },
    {
      "cell_type": "code",
      "source": [
        "lofl=[33,333,[335,44,34],3759]\n",
        "f=open('data','w+')\n",
        "json.dump(lofl,f)\n",
        "f.seek(0)\n",
        "inlofl=json.load(f)\n",
        "print(inlofl)\n",
        "f.close()\n"
      ],
      "metadata": {
        "colab": {
          "base_uri": "https://localhost:8080/"
        },
        "id": "68UoxYMK4SuY",
        "outputId": "0298de1a-a6c1-4930-ed93-6fe6a7faae75"
      },
      "execution_count": 67,
      "outputs": [
        {
          "output_type": "stream",
          "name": "stdout",
          "text": [
            "[33, 333, [335, 44, 34], 3759]\n"
          ]
        }
      ]
    },
    {
      "cell_type": "code",
      "source": [
        "contacts={'Anil':{'dob':17/33/33,'favorite':'igloo'},\n",
        "          'Amol':{'dob':12/33/44,'favorite':'tundra'}}\n",
        "with open('data','w+') as f:\n",
        "\n",
        "  json.dump(contacts,f)\n",
        "  f.seek(0)\n",
        "  incontacts=json.load(f)\n",
        "  print(incontacts)\n",
        "  f.close()"
      ],
      "metadata": {
        "colab": {
          "base_uri": "https://localhost:8080/"
        },
        "id": "4VNCbIaa5A3S",
        "outputId": "6ba1c336-9bee-4dcd-85fb-38633fac3029"
      },
      "execution_count": 70,
      "outputs": [
        {
          "output_type": "stream",
          "name": "stdout",
          "text": [
            "{'Anil': {'dob': 0.015610651974288337, 'favorite': 'igloo'}, 'Amol': {'dob': 0.008264462809917356, 'favorite': 'tundra'}}\n"
          ]
        }
      ]
    },
    {
      "cell_type": "code",
      "source": [
        "import os \n",
        "import shutil\n"
      ],
      "metadata": {
        "id": "-3_QAnWL6BvP"
      },
      "execution_count": 71,
      "outputs": []
    },
    {
      "cell_type": "code",
      "source": [
        "print(os.name)\n",
        "print(os.getcwd())\n",
        "print(os.listdir('.'))\n",
        "print(os.listdir(('..')))\n"
      ],
      "metadata": {
        "colab": {
          "base_uri": "https://localhost:8080/"
        },
        "id": "gLIl7-GJ6eJl",
        "outputId": "a4ec8f16-0f8a-4e92-e48c-fb9fb7848ed5"
      },
      "execution_count": 72,
      "outputs": [
        {
          "output_type": "stream",
          "name": "stdout",
          "text": [
            "posix\n",
            "/content\n",
            "['.config', 'sampledata', 'story', 'filename', 'data', 'messages', 'numberstxt', 'sample_data']\n",
            "['usr', 'run', 'dev', 'etc', 'var', 'root', 'proc', 'lib32', 'sbin', 'boot', 'home', 'lib64', 'lib', 'tmp', 'mnt', 'sys', 'media', 'opt', 'libx32', 'bin', 'srv', 'content', '.dockerenv', 'tools', 'datalab', 'NGC-DL-CONTAINER-LICENSE']\n"
          ]
        }
      ]
    },
    {
      "cell_type": "code",
      "source": [
        "os.rename('filename','yourname')"
      ],
      "metadata": {
        "id": "JPm-mo7l6t27"
      },
      "execution_count": 74,
      "outputs": []
    },
    {
      "cell_type": "code",
      "source": [
        "print(os.listdir('.'))"
      ],
      "metadata": {
        "colab": {
          "base_uri": "https://localhost:8080/"
        },
        "id": "KtBwuca27Ch1",
        "outputId": "d18046cd-1cde-40f9-c88c-53147cfdff91"
      },
      "execution_count": 75,
      "outputs": [
        {
          "output_type": "stream",
          "name": "stdout",
          "text": [
            "['.config', 'sampledata', 'story', 'yourname', 'data', 'messages', 'numberstxt', 'sample_data']\n"
          ]
        }
      ]
    },
    {
      "cell_type": "code",
      "source": [
        "shutil.copyfile('yourname','myname')"
      ],
      "metadata": {
        "colab": {
          "base_uri": "https://localhost:8080/",
          "height": 36
        },
        "id": "7pOrYLuh7ZQo",
        "outputId": "f85af681-e04c-4a49-f3d2-1ce44046b632"
      },
      "execution_count": 76,
      "outputs": [
        {
          "output_type": "execute_result",
          "data": {
            "text/plain": [
              "'myname'"
            ],
            "application/vnd.google.colaboratory.intrinsic+json": {
              "type": "string"
            }
          },
          "metadata": {},
          "execution_count": 76
        }
      ]
    },
    {
      "cell_type": "code",
      "source": [
        "print(os.listdir('.'))"
      ],
      "metadata": {
        "colab": {
          "base_uri": "https://localhost:8080/"
        },
        "id": "Vc_QNdsW7nlL",
        "outputId": "d2232cf2-303e-4327-cc8e-288295cee038"
      },
      "execution_count": 77,
      "outputs": [
        {
          "output_type": "stream",
          "name": "stdout",
          "text": [
            "['.config', 'sampledata', 'story', 'myname', 'yourname', 'data', 'messages', 'numberstxt', 'sample_data']\n"
          ]
        }
      ]
    },
    {
      "cell_type": "code",
      "source": [
        "os.remove('yourname')"
      ],
      "metadata": {
        "id": "6yAmY9bt7tU1"
      },
      "execution_count": 78,
      "outputs": []
    },
    {
      "cell_type": "code",
      "source": [
        "print(os.listdir('.'))"
      ],
      "metadata": {
        "colab": {
          "base_uri": "https://localhost:8080/"
        },
        "id": "d9QUPMWy74St",
        "outputId": "25a164e1-feed-45c2-b182-bed36ab8c54a"
      },
      "execution_count": 80,
      "outputs": [
        {
          "output_type": "stream",
          "name": "stdout",
          "text": [
            "['.config', 'sampledata', 'story', 'myname', 'data', 'messages', 'numberstxt', 'sample_data']\n"
          ]
        }
      ]
    },
    {
      "cell_type": "code",
      "source": [
        "f=open('messages','r')\n",
        "while True:\n",
        "  data=f.read(1)\n",
        "  if data=='':\n",
        "    break\n",
        "  print(data,end='')\n",
        "f.close()"
      ],
      "metadata": {
        "colab": {
          "base_uri": "https://localhost:8080/"
        },
        "id": "cJYOp9207509",
        "outputId": "9629d9eb-d6c7-46a1-e329-61649508c852"
      },
      "execution_count": 84,
      "outputs": [
        {
          "output_type": "stream",
          "name": "stdout",
          "text": [
            "('pavan', 22, 234333)[23, 35, 56, 45, 53]{'Name': 'pavan', 'Age': 44}"
          ]
        }
      ]
    },
    {
      "cell_type": "code",
      "source": [
        "f=open('messages','r')\n",
        "while True:\n",
        "  data=f.read(1)\n",
        "  if data=='':\n",
        "    break\n",
        "  print(data)\n",
        "f.close()"
      ],
      "metadata": {
        "colab": {
          "base_uri": "https://localhost:8080/"
        },
        "id": "JbAQJY8b9Pep",
        "outputId": "90b7e6ac-ec07-4c47-ddf3-4e6b09269e81"
      },
      "execution_count": 85,
      "outputs": [
        {
          "output_type": "stream",
          "name": "stdout",
          "text": [
            "(\n",
            "'\n",
            "p\n",
            "a\n",
            "v\n",
            "a\n",
            "n\n",
            "'\n",
            ",\n",
            " \n",
            "2\n",
            "2\n",
            ",\n",
            " \n",
            "2\n",
            "3\n",
            "4\n",
            "3\n",
            "3\n",
            "3\n",
            ")\n",
            "[\n",
            "2\n",
            "3\n",
            ",\n",
            " \n",
            "3\n",
            "5\n",
            ",\n",
            " \n",
            "5\n",
            "6\n",
            ",\n",
            " \n",
            "4\n",
            "5\n",
            ",\n",
            " \n",
            "5\n",
            "3\n",
            "]\n",
            "{\n",
            "'\n",
            "N\n",
            "a\n",
            "m\n",
            "e\n",
            "'\n",
            ":\n",
            " \n",
            "'\n",
            "p\n",
            "a\n",
            "v\n",
            "a\n",
            "n\n",
            "'\n",
            ",\n",
            " \n",
            "'\n",
            "A\n",
            "g\n",
            "e\n",
            "'\n",
            ":\n",
            " \n",
            "4\n",
            "4\n",
            "}\n"
          ]
        }
      ]
    },
    {
      "cell_type": "code",
      "source": [
        "f=open('numbers','wb')\n",
        "f.write(b'231')\n",
        "f.write(b'256')\n",
        "f.write(b'34345')\n",
        "f.close()\n",
        "f=open('numbers','rb')\n",
        "f.seek(20,0)\n",
        "print(f.tell())\n",
        "f.seek(2,1)\n",
        "print(f.tell())\n",
        "f.seek(-5,1)\n",
        "print(f.tell())\n",
        "f.seek(-3,2)\n",
        "print(f.tell())\n",
        "f.close()"
      ],
      "metadata": {
        "colab": {
          "base_uri": "https://localhost:8080/"
        },
        "id": "CFHuvF0r9xYZ",
        "outputId": "4c5e1623-7ede-4833-9ccc-c3ab5fd8617c"
      },
      "execution_count": 89,
      "outputs": [
        {
          "output_type": "stream",
          "name": "stdout",
          "text": [
            "20\n",
            "22\n",
            "17\n",
            "8\n"
          ]
        }
      ]
    },
    {
      "cell_type": "code",
      "source": [
        "with open('messages','r') as file:\n",
        "  file.seek(0,2)\n",
        "  end=file.tell()\n",
        "  while end>0:\n",
        "    end-=1\n",
        "    file.seek(end)\n",
        "    if file.read(1)=='\\n':\n",
        "      line=file.readline()\n",
        "      print(line[::-1],end='')"
      ],
      "metadata": {
        "id": "HFdJ-M0c-4I6"
      },
      "execution_count": 97,
      "outputs": []
    },
    {
      "cell_type": "code",
      "source": [
        "import platform\n",
        "print('Python version:',platform.python_version())"
      ],
      "metadata": {
        "colab": {
          "base_uri": "https://localhost:8080/"
        },
        "id": "M23b1RXwIX4h",
        "outputId": "0d05d2b1-545f-4011-91a4-432753d87bb4"
      },
      "execution_count": 98,
      "outputs": [
        {
          "output_type": "stream",
          "name": "stdout",
          "text": [
            "Python version: 3.8.10\n"
          ]
        }
      ]
    },
    {
      "cell_type": "code",
      "source": [],
      "metadata": {
        "id": "YYtnY7MVNGnT"
      },
      "execution_count": null,
      "outputs": []
    }
  ]
}
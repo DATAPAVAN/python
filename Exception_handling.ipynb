{
  "nbformat": 4,
  "nbformat_minor": 0,
  "metadata": {
    "colab": {
      "provenance": []
    },
    "kernelspec": {
      "name": "python3",
      "display_name": "Python 3"
    },
    "language_info": {
      "name": "python"
    }
  },
  "cells": [
    {
      "cell_type": "code",
      "execution_count": 1,
      "metadata": {
        "colab": {
          "base_uri": "https://localhost:8080/",
          "height": 246
        },
        "id": "4cHEGDNa_Lj1",
        "outputId": "db89e1ad-46af-42f7-d42f-76b4bb2dce7c"
      },
      "outputs": [
        {
          "name": "stdout",
          "output_type": "stream",
          "text": [
            "Enter an integer:1\n",
            "Enter an integer:0\n"
          ]
        },
        {
          "output_type": "error",
          "ename": "ZeroDivisionError",
          "evalue": "ignored",
          "traceback": [
            "\u001b[0;31m---------------------------------------------------------------------------\u001b[0m",
            "\u001b[0;31mZeroDivisionError\u001b[0m                         Traceback (most recent call last)",
            "\u001b[0;32m<ipython-input-1-58cc5e77e2a4>\u001b[0m in \u001b[0;36m<module>\u001b[0;34m\u001b[0m\n\u001b[1;32m      1\u001b[0m \u001b[0ma\u001b[0m\u001b[0;34m=\u001b[0m\u001b[0mint\u001b[0m\u001b[0;34m(\u001b[0m\u001b[0minput\u001b[0m\u001b[0;34m(\u001b[0m\u001b[0;34m'Enter an integer:'\u001b[0m\u001b[0;34m)\u001b[0m\u001b[0;34m)\u001b[0m\u001b[0;34m\u001b[0m\u001b[0;34m\u001b[0m\u001b[0m\n\u001b[1;32m      2\u001b[0m \u001b[0mb\u001b[0m\u001b[0;34m=\u001b[0m\u001b[0mint\u001b[0m\u001b[0;34m(\u001b[0m\u001b[0minput\u001b[0m\u001b[0;34m(\u001b[0m\u001b[0;34m'Enter an integer:'\u001b[0m\u001b[0;34m)\u001b[0m\u001b[0;34m)\u001b[0m\u001b[0;34m\u001b[0m\u001b[0;34m\u001b[0m\u001b[0m\n\u001b[0;32m----> 3\u001b[0;31m \u001b[0ma\u001b[0m\u001b[0;34m/\u001b[0m\u001b[0mb\u001b[0m\u001b[0;34m\u001b[0m\u001b[0;34m\u001b[0m\u001b[0m\n\u001b[0m",
            "\u001b[0;31mZeroDivisionError\u001b[0m: division by zero"
          ]
        }
      ],
      "source": [
        "a=int(input('Enter an integer:'))\n",
        "b=int(input('Enter an integer:'))\n",
        "a/b"
      ]
    },
    {
      "cell_type": "code",
      "source": [
        "try:\n",
        "  a=int(input())\n",
        "  b=int(input())\n",
        "  c=a/b\n",
        "except ZeroDivisionError:\n",
        "  print('denominator shouldn\\'t be zero')"
      ],
      "metadata": {
        "colab": {
          "base_uri": "https://localhost:8080/"
        },
        "id": "HebgHIVC_pv3",
        "outputId": "6496e7e6-e0e3-44ed-9335-2a9a77e5eee0"
      },
      "execution_count": 8,
      "outputs": [
        {
          "output_type": "stream",
          "name": "stdout",
          "text": [
            "1\n",
            "0\n",
            "denominator shouldn't be zero\n"
          ]
        }
      ]
    },
    {
      "cell_type": "code",
      "source": [
        "0\n",
        "a=int(input('Enter an integer:'))\n",
        "b=int(input('Enter an integer:'))\n",
        "try:\n",
        "  c=a/b\n",
        "except ZeroDivisionError:\n",
        "  print('Denominator is zero...')\n",
        "except ValueError:\n",
        "  print('Unable to convert string to int')"
      ],
      "metadata": {
        "colab": {
          "base_uri": "https://localhost:8080/"
        },
        "id": "2lK6ERmhAxFF",
        "outputId": "8f2715d6-b82d-49fc-bc8c-bb450fe8bdbb"
      },
      "execution_count": 6,
      "outputs": [
        {
          "name": "stdout",
          "output_type": "stream",
          "text": [
            "Enter an integer:1\n",
            "Enter an integer:0\n"
          ]
        }
      ]
    },
    {
      "cell_type": "code",
      "source": [],
      "metadata": {
        "id": "2fvoap6JMRx5"
      },
      "execution_count": null,
      "outputs": []
    },
    {
      "cell_type": "code",
      "source": [
        "class InsufficientBalanceError(Exception):\n",
        "  def __init__(self,accno,cb):\n",
        "    self.__accno=accno\n",
        "    self.__curbal=cb\n",
        "  def get_details(self):\n",
        "    return {'Acc no':self.__accno,'Current Balance':self.__curbal}\n",
        "class Customers:\n",
        "  def __init__(self):\n",
        "    self.__dct={}\n",
        "  def append(self,accno,n,bal):\n",
        "    self.__dct[accno]={'Name':n,'Balance':bal}\n",
        "  def deposit(self,accno,amt):\n",
        "    d=self.__dct[accno]\n",
        "    d['Balance']=d['Balance']+amt\n",
        "    self.__dct[accno]=d\n",
        "  def display(self):\n",
        "    for k,v in self.__dct.items():\n",
        "      print(k,v)\n",
        "    print()\n",
        "  def withdraw(self,accno,amt):\n",
        "    d=self.__dct[accno]\n",
        "    curbal=d['Balance']\n",
        "    if curbal-amt<5000:\n",
        "      raise InsufficientBalanceError(accno,curbal)\n",
        "    else:\n",
        "      d['Balance']=d['Balance']-amt\n",
        "      self.__dct[accno]=d\n",
        "c=Customers()\n",
        "c.append(2144,'pavankuamarf',348)\n",
        "c.display()\n",
        "c.deposit(2144,85)\n",
        "c.display()\n",
        "try:\n",
        "  c.withdraw(2144,5000)\n",
        "  print('Amount withdrawn successfully..')\n",
        "  c.display()\n",
        "  c.withdraw(2144,1000)\n",
        "  print('Amount withdrawn successfully...')\n",
        "  c.display()\n",
        "except InsufficientBalanceError as ibe:\n",
        "  print('Withdrawal denied ..')\n",
        "  print('Insufficient balance..')\n",
        "  print(ibe.get_details())"
      ],
      "metadata": {
        "colab": {
          "base_uri": "https://localhost:8080/"
        },
        "id": "SobMxTWhCcPM",
        "outputId": "cd6e98e0-6d31-4899-9c4e-6b56442bbe09"
      },
      "execution_count": 18,
      "outputs": [
        {
          "output_type": "stream",
          "name": "stdout",
          "text": [
            "2144 {'Name': 'pavankuamarf', 'Balance': 348}\n",
            "\n",
            "2144 {'Name': 'pavankuamarf', 'Balance': 433}\n",
            "\n",
            "Withdrawal denied ..\n",
            "Insufficient balance..\n",
            "{'Acc no': 2144, 'Current Balance': 433}\n"
          ]
        }
      ]
    },
    {
      "cell_type": "code",
      "source": [
        "lst=[33,34,53,123,45,'pavan']\n",
        "try:\n",
        "  for num in lst:\n",
        "    i=int(num)\n",
        "    j=i*i\n",
        "    print(i,j)\n",
        "except ValueError:\n",
        "  print(ValueError.args)\n",
        "  print('This value is not an integer...')\n",
        "else:\n",
        "  print('Total numbers processed ... ', len(lst))\n",
        "  del(lst)"
      ],
      "metadata": {
        "colab": {
          "base_uri": "https://localhost:8080/"
        },
        "id": "mtSzskl2MYxS",
        "outputId": "4e6d7722-fa38-41b8-ef83-dca7475a75b7"
      },
      "execution_count": 22,
      "outputs": [
        {
          "output_type": "stream",
          "name": "stdout",
          "text": [
            "33 1089\n",
            "34 1156\n",
            "53 2809\n",
            "123 15129\n",
            "45 2025\n",
            "<attribute 'args' of 'BaseException' objects>\n",
            "This value is not an integer...\n"
          ]
        }
      ]
    },
    {
      "cell_type": "code",
      "source": [
        "lst=[33,34,53,123,45]\n",
        "try:\n",
        "  for num in lst:\n",
        "    i=int(num)\n",
        "    j=i*i\n",
        "    print(i,j)\n",
        "except ValueError:\n",
        "  print(ValueError.args)\n",
        "  print('This value is not an integer...')\n",
        "else:\n",
        "  print('Total numbers processed ... ', len(lst))\n",
        "  del(lst)"
      ],
      "metadata": {
        "colab": {
          "base_uri": "https://localhost:8080/"
        },
        "id": "XohcI1Y7OGCT",
        "outputId": "931df7c0-8ad2-414d-8b08-0b707330964d"
      },
      "execution_count": 23,
      "outputs": [
        {
          "output_type": "stream",
          "name": "stdout",
          "text": [
            "33 1089\n",
            "34 1156\n",
            "53 2809\n",
            "123 15129\n",
            "45 2025\n",
            "Total numbers processed ...  5\n"
          ]
        }
      ]
    },
    {
      "cell_type": "code",
      "source": [],
      "metadata": {
        "id": "CofXR6rSNOE2"
      },
      "execution_count": null,
      "outputs": []
    }
  ]
}
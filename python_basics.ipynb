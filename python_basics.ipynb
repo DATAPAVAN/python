{
  "nbformat": 4,
  "nbformat_minor": 0,
  "metadata": {
    "colab": {
      "provenance": []
    },
    "kernelspec": {
      "name": "python3",
      "display_name": "Python 3"
    },
    "language_info": {
      "name": "python"
    }
  },
  "cells": [
    {
      "cell_type": "code",
      "execution_count": null,
      "metadata": {
        "id": "EWgCUuOarJ8z"
      },
      "outputs": [],
      "source": [
        "   "
      ]
    },
    {
      "cell_type": "markdown",
      "source": [
        "# IDENTIFIERS AND KEYWORDS:\n",
        "\n",
        "\n",
        "*   python is a case sensitive language.\n",
        "\n",
        "*   python identifier is a name used to identify a variable,function ,class or module ,or other object.\n",
        "\n",
        "*   Rules for creating identifiers:\n",
        "  - Starts with alphabet or an underscore.\n",
        "  - Followed by zero or more letters, _,and digits.\n",
        "  - keyword cannot be used as identifier. \n",
        "\n",
        "*   All keywords in lowercase.\n",
        "\n",
        "*   Python has 33 keywords shown below.\n",
        "    - False, continue,from , not, None,def,global,or,True,del,if,else,pass,and,elif, import,raise,as,in,return,assert,except,is,try,break,finally,lambda,while,class,for ,nonlocal,with,yield\n",
        "\n",
        "*   Python supports 3 categories of datatypes:\n",
        "   - Basic types: int,float,complex,bool,string,bytes\n",
        "   - Container types: list,tuple,set,dict\n",
        "   - User-defined types: class\n",
        "*  Out of these ,basic types will be coverd in this chapter in detail. Container types will be covered briefly. A separate chapter is dedicated to each container type, where they are covered in great detail. User-defined types will not be covered in this chapter.\n",
        "\n",
        "*  Types of operators:\n",
        "   - Arithematic operators: add,subtract,division,multiplication,modulo,floor division,and exponentiation\n",
        "   - Assignment operators: These operators are used to assign values to variables.The assignment operataor is '=' other include'+=,-=,*=,/=,**=,%=.\n",
        "   -  Comparision operators: These operators are used to compare the two operands.The comparision operands are '==,!=,>=,<=,<,>.\n",
        "   -  Logical operators: These operators are used to combine Boolean expressions or values.The logical operators are 'and' ,'or' and 'not'.\n",
        "   -  Bitwise operators: These operators are used to perform bitwise operations on the binary representations of integers.The bitwise operators are '&,|,^,~,<<,>>.\n",
        "   - Identity operators:\n",
        "   These operators are used to compare the identity of two objects. The identity operators are 'is' and 'is not'\n",
        "   - Membership operators: These operators are used to test whether a value is a member of a sequence or mapping.The membership operators are 'in' and 'not in.\n",
        "\n",
        "\n",
        "\n",
        "\n"
      ],
      "metadata": {
        "id": "0ThEg4jVtUmO"
      }
    }
  ]
}
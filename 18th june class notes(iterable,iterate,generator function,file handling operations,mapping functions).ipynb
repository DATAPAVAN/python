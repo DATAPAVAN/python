{
 "cells": [
  {
   "cell_type": "code",
   "execution_count": 1,
   "id": "0b03751e",
   "metadata": {},
   "outputs": [],
   "source": [
    "l=[1,2,3]"
   ]
  },
  {
   "cell_type": "code",
   "execution_count": 2,
   "id": "8572dc7f",
   "metadata": {},
   "outputs": [
    {
     "name": "stdout",
     "output_type": "stream",
     "text": [
      "1\n",
      "2\n",
      "3\n"
     ]
    }
   ],
   "source": [
    "for i in l:\n",
    "    print(i)"
   ]
  },
  {
   "cell_type": "code",
   "execution_count": 3,
   "id": "161551a3",
   "metadata": {},
   "outputs": [],
   "source": [
    "b=iter(l)"
   ]
  },
  {
   "cell_type": "code",
   "execution_count": 4,
   "id": "5bb42bca",
   "metadata": {},
   "outputs": [
    {
     "data": {
      "text/plain": [
       "1"
      ]
     },
     "execution_count": 4,
     "metadata": {},
     "output_type": "execute_result"
    }
   ],
   "source": [
    "next(b)"
   ]
  },
  {
   "cell_type": "code",
   "execution_count": 5,
   "id": "a821928a",
   "metadata": {},
   "outputs": [
    {
     "data": {
      "text/plain": [
       "2"
      ]
     },
     "execution_count": 5,
     "metadata": {},
     "output_type": "execute_result"
    }
   ],
   "source": [
    "next(b)"
   ]
  },
  {
   "cell_type": "code",
   "execution_count": 6,
   "id": "b134e57a",
   "metadata": {},
   "outputs": [
    {
     "data": {
      "text/plain": [
       "3"
      ]
     },
     "execution_count": 6,
     "metadata": {},
     "output_type": "execute_result"
    }
   ],
   "source": [
    "next(b)"
   ]
  },
  {
   "cell_type": "code",
   "execution_count": 7,
   "id": "238646f2",
   "metadata": {},
   "outputs": [
    {
     "ename": "StopIteration",
     "evalue": "",
     "output_type": "error",
     "traceback": [
      "\u001b[1;31m---------------------------------------------------------------------------\u001b[0m",
      "\u001b[1;31mStopIteration\u001b[0m                             Traceback (most recent call last)",
      "Input \u001b[1;32mIn [7]\u001b[0m, in \u001b[0;36m<cell line: 1>\u001b[1;34m()\u001b[0m\n\u001b[1;32m----> 1\u001b[0m \u001b[38;5;28;43mnext\u001b[39;49m\u001b[43m(\u001b[49m\u001b[43mb\u001b[49m\u001b[43m)\u001b[49m\n",
      "\u001b[1;31mStopIteration\u001b[0m: "
     ]
    }
   ],
   "source": [
    "next(b)"
   ]
  },
  {
   "cell_type": "code",
   "execution_count": 8,
   "id": "bd14d644",
   "metadata": {},
   "outputs": [
    {
     "ename": "TypeError",
     "evalue": "'list' object is not an iterator",
     "output_type": "error",
     "traceback": [
      "\u001b[1;31m---------------------------------------------------------------------------\u001b[0m",
      "\u001b[1;31mTypeError\u001b[0m                                 Traceback (most recent call last)",
      "Input \u001b[1;32mIn [8]\u001b[0m, in \u001b[0;36m<cell line: 1>\u001b[1;34m()\u001b[0m\n\u001b[1;32m----> 1\u001b[0m \u001b[38;5;28;43mnext\u001b[39;49m\u001b[43m(\u001b[49m\u001b[43ml\u001b[49m\u001b[43m)\u001b[49m\n",
      "\u001b[1;31mTypeError\u001b[0m: 'list' object is not an iterator"
     ]
    }
   ],
   "source": [
    "next(l)"
   ]
  },
  {
   "cell_type": "code",
   "execution_count": 9,
   "id": "1af8fc10",
   "metadata": {},
   "outputs": [],
   "source": [
    "## iter(l)will converts it into iterate"
   ]
  },
  {
   "cell_type": "code",
   "execution_count": 10,
   "id": "cdc84156",
   "metadata": {},
   "outputs": [],
   "source": [
    "## to itearte any object first it should be iterable\n",
    "## so list is by default an iterable object"
   ]
  },
  {
   "cell_type": "code",
   "execution_count": 12,
   "id": "2ddafcbb",
   "metadata": {},
   "outputs": [
    {
     "ename": "TypeError",
     "evalue": "'int' object is not iterable",
     "output_type": "error",
     "traceback": [
      "\u001b[1;31m---------------------------------------------------------------------------\u001b[0m",
      "\u001b[1;31mTypeError\u001b[0m                                 Traceback (most recent call last)",
      "Input \u001b[1;32mIn [12]\u001b[0m, in \u001b[0;36m<cell line: 1>\u001b[1;34m()\u001b[0m\n\u001b[1;32m----> 1\u001b[0m \u001b[38;5;28;01mfor\u001b[39;00m i \u001b[38;5;129;01min\u001b[39;00m \u001b[38;5;241m245678\u001b[39m:\n\u001b[0;32m      2\u001b[0m     \u001b[38;5;28mprint\u001b[39m(i)\n",
      "\u001b[1;31mTypeError\u001b[0m: 'int' object is not iterable"
     ]
    }
   ],
   "source": [
    "for i in 245678:\n",
    "    print(i)\n",
    "    "
   ]
  },
  {
   "cell_type": "code",
   "execution_count": 13,
   "id": "ac52ae51",
   "metadata": {},
   "outputs": [],
   "source": [
    "s='sudh'"
   ]
  },
  {
   "cell_type": "code",
   "execution_count": 14,
   "id": "2d2d9f6b",
   "metadata": {},
   "outputs": [
    {
     "ename": "TypeError",
     "evalue": "'str' object is not an iterator",
     "output_type": "error",
     "traceback": [
      "\u001b[1;31m---------------------------------------------------------------------------\u001b[0m",
      "\u001b[1;31mTypeError\u001b[0m                                 Traceback (most recent call last)",
      "Input \u001b[1;32mIn [14]\u001b[0m, in \u001b[0;36m<cell line: 1>\u001b[1;34m()\u001b[0m\n\u001b[1;32m----> 1\u001b[0m \u001b[38;5;28;43mnext\u001b[39;49m\u001b[43m(\u001b[49m\u001b[43ms\u001b[49m\u001b[43m)\u001b[49m\n",
      "\u001b[1;31mTypeError\u001b[0m: 'str' object is not an iterator"
     ]
    }
   ],
   "source": [
    "next(s)"
   ]
  },
  {
   "cell_type": "code",
   "execution_count": 15,
   "id": "83048e79",
   "metadata": {},
   "outputs": [],
   "source": [
    "c=iter(s)"
   ]
  },
  {
   "cell_type": "code",
   "execution_count": 16,
   "id": "96829c27",
   "metadata": {},
   "outputs": [
    {
     "data": {
      "text/plain": [
       "'s'"
      ]
     },
     "execution_count": 16,
     "metadata": {},
     "output_type": "execute_result"
    }
   ],
   "source": [
    "next(c)"
   ]
  },
  {
   "cell_type": "code",
   "execution_count": 17,
   "id": "e5af223a",
   "metadata": {},
   "outputs": [
    {
     "data": {
      "text/plain": [
       "'u'"
      ]
     },
     "execution_count": 17,
     "metadata": {},
     "output_type": "execute_result"
    }
   ],
   "source": [
    "next(c)"
   ]
  },
  {
   "cell_type": "code",
   "execution_count": 18,
   "id": "f602c1d2",
   "metadata": {},
   "outputs": [
    {
     "data": {
      "text/plain": [
       "'d'"
      ]
     },
     "execution_count": 18,
     "metadata": {},
     "output_type": "execute_result"
    }
   ],
   "source": [
    "next(c)"
   ]
  },
  {
   "cell_type": "code",
   "execution_count": 19,
   "id": "089794ad",
   "metadata": {},
   "outputs": [
    {
     "data": {
      "text/plain": [
       "'h'"
      ]
     },
     "execution_count": 19,
     "metadata": {},
     "output_type": "execute_result"
    }
   ],
   "source": [
    "next(c)"
   ]
  },
  {
   "cell_type": "code",
   "execution_count": 21,
   "id": "bcea4729",
   "metadata": {},
   "outputs": [
    {
     "name": "stdout",
     "output_type": "stream",
     "text": [
      "s\n",
      "u\n",
      "d\n",
      "h\n"
     ]
    }
   ],
   "source": [
    "for i in s:\n",
    "    print(i)"
   ]
  },
  {
   "cell_type": "code",
   "execution_count": 22,
   "id": "6898e423",
   "metadata": {},
   "outputs": [],
   "source": [
    "## for loop working internally = 1.length of the object 2.iterate 3.next"
   ]
  },
  {
   "cell_type": "code",
   "execution_count": 27,
   "id": "596bc6c0",
   "metadata": {},
   "outputs": [],
   "source": [
    "l=list(range(10))"
   ]
  },
  {
   "cell_type": "code",
   "execution_count": 28,
   "id": "50ea524e",
   "metadata": {},
   "outputs": [
    {
     "data": {
      "text/plain": [
       "[0, 1, 2, 3, 4, 5, 6, 7, 8, 9]"
      ]
     },
     "execution_count": 28,
     "metadata": {},
     "output_type": "execute_result"
    }
   ],
   "source": [
    "l"
   ]
  },
  {
   "cell_type": "code",
   "execution_count": 29,
   "id": "144583c3",
   "metadata": {},
   "outputs": [],
   "source": [
    "b=[i*i for i in l]"
   ]
  },
  {
   "cell_type": "code",
   "execution_count": 30,
   "id": "d4623f11",
   "metadata": {},
   "outputs": [
    {
     "data": {
      "text/plain": [
       "[0, 1, 4, 9, 16, 25, 36, 49, 64, 81]"
      ]
     },
     "execution_count": 30,
     "metadata": {},
     "output_type": "execute_result"
    }
   ],
   "source": [
    "b"
   ]
  },
  {
   "cell_type": "code",
   "execution_count": 31,
   "id": "91117d4a",
   "metadata": {},
   "outputs": [
    {
     "name": "stdout",
     "output_type": "stream",
     "text": [
      "0\n",
      "1\n",
      "4\n",
      "9\n",
      "16\n",
      "25\n",
      "36\n",
      "49\n",
      "64\n",
      "81\n"
     ]
    }
   ],
   "source": [
    "for i in l:\n",
    "    print(i*i)"
   ]
  },
  {
   "cell_type": "code",
   "execution_count": 38,
   "id": "1465a89c",
   "metadata": {},
   "outputs": [],
   "source": [
    "l1=[]\n",
    "for i in l:\n",
    "    l1.append(i*i)\n",
    "    if i==3:\n",
    "        break\n",
    "  \n",
    "    "
   ]
  },
  {
   "cell_type": "code",
   "execution_count": 39,
   "id": "b59ca475",
   "metadata": {},
   "outputs": [
    {
     "data": {
      "text/plain": [
       "[0, 1, 4, 9]"
      ]
     },
     "execution_count": 39,
     "metadata": {},
     "output_type": "execute_result"
    }
   ],
   "source": [
    "l1"
   ]
  },
  {
   "cell_type": "code",
   "execution_count": 40,
   "id": "c570a70f",
   "metadata": {},
   "outputs": [],
   "source": [
    "def square_fun(n):\n",
    "    x=[i*i for i in range(n)]\n",
    "    return x"
   ]
  },
  {
   "cell_type": "code",
   "execution_count": 42,
   "id": "9320b139",
   "metadata": {},
   "outputs": [
    {
     "data": {
      "text/plain": [
       "[0, 1, 4, 9, 16]"
      ]
     },
     "execution_count": 42,
     "metadata": {},
     "output_type": "execute_result"
    }
   ],
   "source": [
    "square_fun(5)"
   ]
  },
  {
   "cell_type": "code",
   "execution_count": 44,
   "id": "2f360a66",
   "metadata": {},
   "outputs": [],
   "source": [
    "def square_fun1(n):\n",
    "    x=[i*i for i in range(n)]\n",
    "    yield x\n",
    "    "
   ]
  },
  {
   "cell_type": "raw",
   "id": "22ba6349",
   "metadata": {},
   "source": []
  },
  {
   "cell_type": "code",
   "execution_count": 45,
   "id": "9aff2f45",
   "metadata": {},
   "outputs": [
    {
     "data": {
      "text/plain": [
       "<generator object square_fun1 at 0x000001677EFA8350>"
      ]
     },
     "execution_count": 45,
     "metadata": {},
     "output_type": "execute_result"
    }
   ],
   "source": [
    "square_fun1(14)"
   ]
  },
  {
   "cell_type": "code",
   "execution_count": 46,
   "id": "9c0499ff",
   "metadata": {},
   "outputs": [
    {
     "name": "stdout",
     "output_type": "stream",
     "text": [
      "[0, 1, 4, 9]\n"
     ]
    }
   ],
   "source": [
    "for i in square_fun1(4):\n",
    "    print(i)"
   ]
  },
  {
   "cell_type": "code",
   "execution_count": 47,
   "id": "f91b7e62",
   "metadata": {},
   "outputs": [
    {
     "name": "stdout",
     "output_type": "stream",
     "text": [
      "0\n",
      "1\n",
      "2\n",
      "3\n"
     ]
    }
   ],
   "source": [
    "for i in range(4):\n",
    "    print(i)"
   ]
  },
  {
   "cell_type": "code",
   "execution_count": 48,
   "id": "ede3e3af",
   "metadata": {},
   "outputs": [
    {
     "data": {
      "text/plain": [
       "[0, 1, 4, 9, 16]"
      ]
     },
     "execution_count": 48,
     "metadata": {},
     "output_type": "execute_result"
    }
   ],
   "source": [
    "next(square_fun1(5))"
   ]
  },
  {
   "cell_type": "code",
   "execution_count": 49,
   "id": "a1a39f31",
   "metadata": {},
   "outputs": [
    {
     "ename": "TypeError",
     "evalue": "'range' object is not an iterator",
     "output_type": "error",
     "traceback": [
      "\u001b[1;31m---------------------------------------------------------------------------\u001b[0m",
      "\u001b[1;31mTypeError\u001b[0m                                 Traceback (most recent call last)",
      "Input \u001b[1;32mIn [49]\u001b[0m, in \u001b[0;36m<cell line: 1>\u001b[1;34m()\u001b[0m\n\u001b[1;32m----> 1\u001b[0m \u001b[38;5;28;43mnext\u001b[39;49m\u001b[43m(\u001b[49m\u001b[38;5;28;43mrange\u001b[39;49m\u001b[43m(\u001b[49m\u001b[38;5;241;43m10\u001b[39;49m\u001b[43m)\u001b[49m\u001b[43m)\u001b[49m\n",
      "\u001b[1;31mTypeError\u001b[0m: 'range' object is not an iterator"
     ]
    }
   ],
   "source": [
    "next(range(10))"
   ]
  },
  {
   "cell_type": "code",
   "execution_count": 50,
   "id": "0c08bc40",
   "metadata": {},
   "outputs": [],
   "source": [
    "r=iter(range(10))"
   ]
  },
  {
   "cell_type": "code",
   "execution_count": 51,
   "id": "704e12cf",
   "metadata": {},
   "outputs": [
    {
     "data": {
      "text/plain": [
       "0"
      ]
     },
     "execution_count": 51,
     "metadata": {},
     "output_type": "execute_result"
    }
   ],
   "source": [
    "next(r)"
   ]
  },
  {
   "cell_type": "code",
   "execution_count": 52,
   "id": "99640a10",
   "metadata": {},
   "outputs": [
    {
     "data": {
      "text/plain": [
       "1"
      ]
     },
     "execution_count": 52,
     "metadata": {},
     "output_type": "execute_result"
    }
   ],
   "source": [
    "next(r)"
   ]
  },
  {
   "cell_type": "code",
   "execution_count": 53,
   "id": "e8355f83",
   "metadata": {},
   "outputs": [
    {
     "data": {
      "text/plain": [
       "2"
      ]
     },
     "execution_count": 53,
     "metadata": {},
     "output_type": "execute_result"
    }
   ],
   "source": [
    "next(r)"
   ]
  },
  {
   "cell_type": "code",
   "execution_count": 54,
   "id": "1ee48ce2",
   "metadata": {},
   "outputs": [
    {
     "data": {
      "text/plain": [
       "3"
      ]
     },
     "execution_count": 54,
     "metadata": {},
     "output_type": "execute_result"
    }
   ],
   "source": [
    "next(r)"
   ]
  },
  {
   "cell_type": "code",
   "execution_count": 55,
   "id": "95378735",
   "metadata": {},
   "outputs": [
    {
     "data": {
      "text/plain": [
       "4"
      ]
     },
     "execution_count": 55,
     "metadata": {},
     "output_type": "execute_result"
    }
   ],
   "source": [
    "next(r)"
   ]
  },
  {
   "cell_type": "code",
   "execution_count": 58,
   "id": "6a51ea18",
   "metadata": {},
   "outputs": [],
   "source": [
    "## 'yeild' will gives an object will give return,it is a generator function"
   ]
  },
  {
   "cell_type": "code",
   "execution_count": 68,
   "id": "7fbf1145",
   "metadata": {},
   "outputs": [],
   "source": [
    "def genfib(n):\n",
    "    a=0\n",
    "    b=1\n",
    "    l=[]\n",
    "    for i in range(n):\n",
    "        l.append(a)\n",
    "        a,b=b,a+b\n",
    "    return l"
   ]
  },
  {
   "cell_type": "code",
   "execution_count": 69,
   "id": "5bf032f8",
   "metadata": {},
   "outputs": [
    {
     "data": {
      "text/plain": [
       "[0, 1, 1, 2, 3, 5, 8, 13, 21, 34, 55, 89, 144, 233, 377]"
      ]
     },
     "execution_count": 69,
     "metadata": {},
     "output_type": "execute_result"
    }
   ],
   "source": [
    "genfib(15)"
   ]
  },
  {
   "cell_type": "code",
   "execution_count": 72,
   "id": "c727873f",
   "metadata": {},
   "outputs": [],
   "source": [
    "def genfib1(n):\n",
    "    a=0\n",
    "    b=1\n",
    "    l=[]\n",
    "    for i in range(n):\n",
    "        l.append(a)\n",
    "        a,b=b,a+b\n",
    "    yield l"
   ]
  },
  {
   "cell_type": "code",
   "execution_count": 74,
   "id": "a539c365",
   "metadata": {},
   "outputs": [
    {
     "data": {
      "text/plain": [
       "<generator object genfib1 at 0x000001677F09FC80>"
      ]
     },
     "execution_count": 74,
     "metadata": {},
     "output_type": "execute_result"
    }
   ],
   "source": [
    "genfib1(15)"
   ]
  },
  {
   "cell_type": "code",
   "execution_count": 75,
   "id": "6bdbcb9b",
   "metadata": {},
   "outputs": [
    {
     "name": "stdout",
     "output_type": "stream",
     "text": [
      "[0, 1, 1, 2, 3, 5, 8, 13, 21, 34]\n"
     ]
    }
   ],
   "source": [
    "for i in genfib1(10):\n",
    "    print(i)"
   ]
  },
  {
   "cell_type": "code",
   "execution_count": 76,
   "id": "4fd15811",
   "metadata": {},
   "outputs": [],
   "source": [
    "p=open('pavan.txt','w')"
   ]
  },
  {
   "cell_type": "code",
   "execution_count": 78,
   "id": "3df4e671",
   "metadata": {},
   "outputs": [
    {
     "data": {
      "text/plain": [
       "29"
      ]
     },
     "execution_count": 78,
     "metadata": {},
     "output_type": "execute_result"
    }
   ],
   "source": [
    "p.write('my name is the great asaadhya')"
   ]
  },
  {
   "cell_type": "code",
   "execution_count": 80,
   "id": "6165b632",
   "metadata": {},
   "outputs": [],
   "source": [
    "p.close()"
   ]
  },
  {
   "cell_type": "code",
   "execution_count": 81,
   "id": "d2681090",
   "metadata": {},
   "outputs": [
    {
     "name": "stdout",
     "output_type": "stream",
     "text": [
      " Volume in drive C is SSD OS\n",
      " Volume Serial Number is 1EFD-0D17\n",
      "\n",
      " Directory of C:\\Users\\HP\n",
      "\n",
      "07/28/2022  02:57 PM    <DIR>          .\n",
      "07/28/2022  02:57 PM    <DIR>          ..\n",
      "07/28/2022  11:39 AM    <DIR>          .ipynb_checkpoints\n",
      "07/27/2022  09:56 PM    <DIR>          .ipython\n",
      "07/28/2022  11:38 AM    <DIR>          .jupyter\n",
      "07/28/2022  06:21 AM    <DIR>          3D Objects\n",
      "07/27/2022  09:19 PM    <DIR>          anaconda3\n",
      "07/05/2022  01:14 AM       622,731,992 Anaconda3-2022.05-Windows-x86_64.exe\n",
      "07/05/2022  05:54 PM        19,800,064 chromeremotedesktophost.msi\n",
      "07/05/2022  12:36 AM         1,414,600 ChromeSetup.exe\n",
      "07/28/2022  06:21 AM    <DIR>          Contacts\n",
      "07/28/2022  10:49 AM    <DIR>          Desktop\n",
      "07/27/2022  09:19 PM    <DIR>          Documents\n",
      "07/27/2022  09:16 PM    <DIR>          Downloads\n",
      "07/28/2022  06:21 AM    <DIR>          Favorites\n",
      "07/18/2022  09:41 PM        11,269,528 idman641build2.exe\n",
      "07/28/2022  06:21 AM    <DIR>          Links\n",
      "07/28/2022  06:21 AM    <DIR>          Music\n",
      "07/27/2022  06:16 PM    <DIR>          OneDrive\n",
      "07/28/2022  02:58 PM                29 pavan.txt\n",
      "07/28/2022  06:23 AM    <DIR>          Pictures\n",
      "07/05/2022  01:15 AM       397,076,656 pycharm-community-2022.1.3.exe\n",
      "07/28/2022  06:21 AM    <DIR>          Saved Games\n",
      "07/28/2022  06:23 AM    <DIR>          Searches\n",
      "07/27/2022  10:38 PM             1,934 Untitled.ipynb\n",
      "07/28/2022  02:57 PM            17,177 Untitled1.ipynb\n",
      "07/28/2022  06:21 AM    <DIR>          Videos\n",
      "07/18/2022  10:46 PM        58,058,752 vlc-3.0.17.4-win64.msi\n",
      "               9 File(s)  1,110,370,732 bytes\n",
      "              19 Dir(s)  185,265,205,248 bytes free\n"
     ]
    }
   ],
   "source": [
    "ls"
   ]
  },
  {
   "cell_type": "code",
   "execution_count": 82,
   "id": "3d04b053",
   "metadata": {},
   "outputs": [],
   "source": [
    "p1=open('pavan1.txt','w')"
   ]
  },
  {
   "cell_type": "code",
   "execution_count": 83,
   "id": "93cbb98c",
   "metadata": {},
   "outputs": [],
   "source": [
    "l=[1,2,3,1,4,54]"
   ]
  },
  {
   "cell_type": "code",
   "execution_count": 84,
   "id": "b7342c0e",
   "metadata": {
    "scrolled": true
   },
   "outputs": [
    {
     "ename": "TypeError",
     "evalue": "write() argument must be str, not list",
     "output_type": "error",
     "traceback": [
      "\u001b[1;31m---------------------------------------------------------------------------\u001b[0m",
      "\u001b[1;31mTypeError\u001b[0m                                 Traceback (most recent call last)",
      "Input \u001b[1;32mIn [84]\u001b[0m, in \u001b[0;36m<cell line: 1>\u001b[1;34m()\u001b[0m\n\u001b[1;32m----> 1\u001b[0m \u001b[43mp1\u001b[49m\u001b[38;5;241;43m.\u001b[39;49m\u001b[43mwrite\u001b[49m\u001b[43m(\u001b[49m\u001b[43ml\u001b[49m\u001b[43m)\u001b[49m\n",
      "\u001b[1;31mTypeError\u001b[0m: write() argument must be str, not list"
     ]
    }
   ],
   "source": [
    "p1.write(l)"
   ]
  },
  {
   "cell_type": "code",
   "execution_count": 85,
   "id": "4c7176cc",
   "metadata": {},
   "outputs": [
    {
     "data": {
      "text/plain": [
       "19"
      ]
     },
     "execution_count": 85,
     "metadata": {},
     "output_type": "execute_result"
    }
   ],
   "source": [
    "p1.write(str(l))"
   ]
  },
  {
   "cell_type": "code",
   "execution_count": 86,
   "id": "460a8304",
   "metadata": {},
   "outputs": [],
   "source": [
    "p1.close()"
   ]
  },
  {
   "cell_type": "code",
   "execution_count": 88,
   "id": "b6e1fde1",
   "metadata": {},
   "outputs": [],
   "source": [
    "p2=open('pk.pavan','w')\n",
    "p2.write('iam ok now')\n",
    "p2.close()"
   ]
  },
  {
   "cell_type": "code",
   "execution_count": 89,
   "id": "3dfac8ce",
   "metadata": {},
   "outputs": [
    {
     "name": "stdout",
     "output_type": "stream",
     "text": [
      " Volume in drive C is SSD OS\n",
      " Volume Serial Number is 1EFD-0D17\n",
      "\n",
      " Directory of C:\\Users\\HP\n",
      "\n",
      "07/28/2022  03:10 PM    <DIR>          .\n",
      "07/28/2022  03:10 PM    <DIR>          ..\n",
      "07/28/2022  11:39 AM    <DIR>          .ipynb_checkpoints\n",
      "07/27/2022  09:56 PM    <DIR>          .ipython\n",
      "07/28/2022  11:38 AM    <DIR>          .jupyter\n",
      "07/28/2022  06:21 AM    <DIR>          3D Objects\n",
      "07/27/2022  09:19 PM    <DIR>          anaconda3\n",
      "07/05/2022  01:14 AM       622,731,992 Anaconda3-2022.05-Windows-x86_64.exe\n",
      "07/05/2022  05:54 PM        19,800,064 chromeremotedesktophost.msi\n",
      "07/05/2022  12:36 AM         1,414,600 ChromeSetup.exe\n",
      "07/28/2022  06:21 AM    <DIR>          Contacts\n",
      "07/28/2022  10:49 AM    <DIR>          Desktop\n",
      "07/27/2022  09:19 PM    <DIR>          Documents\n",
      "07/27/2022  09:16 PM    <DIR>          Downloads\n",
      "07/28/2022  06:21 AM    <DIR>          Favorites\n",
      "07/18/2022  09:41 PM        11,269,528 idman641build2.exe\n",
      "07/28/2022  06:21 AM    <DIR>          Links\n",
      "07/28/2022  06:21 AM    <DIR>          Music\n",
      "07/27/2022  06:16 PM    <DIR>          OneDrive\n",
      "07/28/2022  02:58 PM                29 pavan.txt\n",
      "07/28/2022  03:04 PM                19 pavan1.txt\n",
      "07/28/2022  06:23 AM    <DIR>          Pictures\n",
      "07/28/2022  03:11 PM                10 pk.pavan\n",
      "07/05/2022  01:15 AM       397,076,656 pycharm-community-2022.1.3.exe\n",
      "07/28/2022  06:21 AM    <DIR>          Saved Games\n",
      "07/28/2022  06:23 AM    <DIR>          Searches\n",
      "07/27/2022  10:38 PM             1,934 Untitled.ipynb\n",
      "07/28/2022  03:09 PM            21,498 Untitled1.ipynb\n",
      "07/28/2022  06:21 AM    <DIR>          Videos\n",
      "07/18/2022  10:46 PM        58,058,752 vlc-3.0.17.4-win64.msi\n",
      "              11 File(s)  1,110,375,082 bytes\n",
      "              19 Dir(s)  185,275,772,928 bytes free\n"
     ]
    }
   ],
   "source": [
    "ls"
   ]
  },
  {
   "cell_type": "code",
   "execution_count": 90,
   "id": "70289920",
   "metadata": {},
   "outputs": [
    {
     "name": "stdout",
     "output_type": "stream",
     "text": [
      "Writing pk.txt\n"
     ]
    }
   ],
   "source": [
    "%%writefile pk.txt\n",
    "iam the wonderful person in this world"
   ]
  },
  {
   "cell_type": "code",
   "execution_count": 91,
   "id": "8267e9af",
   "metadata": {},
   "outputs": [
    {
     "name": "stdout",
     "output_type": "stream",
     "text": [
      " Volume in drive C is SSD OS\n",
      " Volume Serial Number is 1EFD-0D17\n",
      "\n",
      " Directory of C:\\Users\\HP\n",
      "\n",
      "07/28/2022  03:14 PM    <DIR>          .\n",
      "07/28/2022  03:14 PM    <DIR>          ..\n",
      "07/28/2022  11:39 AM    <DIR>          .ipynb_checkpoints\n",
      "07/27/2022  09:56 PM    <DIR>          .ipython\n",
      "07/28/2022  11:38 AM    <DIR>          .jupyter\n",
      "07/28/2022  06:21 AM    <DIR>          3D Objects\n",
      "07/27/2022  09:19 PM    <DIR>          anaconda3\n",
      "07/05/2022  01:14 AM       622,731,992 Anaconda3-2022.05-Windows-x86_64.exe\n",
      "07/05/2022  05:54 PM        19,800,064 chromeremotedesktophost.msi\n",
      "07/05/2022  12:36 AM         1,414,600 ChromeSetup.exe\n",
      "07/28/2022  06:21 AM    <DIR>          Contacts\n",
      "07/28/2022  10:49 AM    <DIR>          Desktop\n",
      "07/27/2022  09:19 PM    <DIR>          Documents\n",
      "07/27/2022  09:16 PM    <DIR>          Downloads\n",
      "07/28/2022  06:21 AM    <DIR>          Favorites\n",
      "07/18/2022  09:41 PM        11,269,528 idman641build2.exe\n",
      "07/28/2022  06:21 AM    <DIR>          Links\n",
      "07/28/2022  06:21 AM    <DIR>          Music\n",
      "07/27/2022  06:16 PM    <DIR>          OneDrive\n",
      "07/28/2022  02:58 PM                29 pavan.txt\n",
      "07/28/2022  03:04 PM                19 pavan1.txt\n",
      "07/28/2022  06:23 AM    <DIR>          Pictures\n",
      "07/28/2022  03:11 PM                10 pk.pavan\n",
      "07/28/2022  03:14 PM                40 pk.txt\n",
      "07/05/2022  01:15 AM       397,076,656 pycharm-community-2022.1.3.exe\n",
      "07/28/2022  06:21 AM    <DIR>          Saved Games\n",
      "07/28/2022  06:23 AM    <DIR>          Searches\n",
      "07/27/2022  10:38 PM             1,934 Untitled.ipynb\n",
      "07/28/2022  03:13 PM            24,109 Untitled1.ipynb\n",
      "07/28/2022  06:21 AM    <DIR>          Videos\n",
      "07/18/2022  10:46 PM        58,058,752 vlc-3.0.17.4-win64.msi\n",
      "              12 File(s)  1,110,377,733 bytes\n",
      "              19 Dir(s)  185,276,489,728 bytes free\n"
     ]
    }
   ],
   "source": [
    "ls"
   ]
  },
  {
   "cell_type": "code",
   "execution_count": 92,
   "id": "a5d37f93",
   "metadata": {},
   "outputs": [],
   "source": [
    "## another way of creating a text or file"
   ]
  },
  {
   "cell_type": "code",
   "execution_count": 93,
   "id": "e9a1cf59",
   "metadata": {},
   "outputs": [],
   "source": [
    "f=open('pavan.txt')"
   ]
  },
  {
   "cell_type": "code",
   "execution_count": 94,
   "id": "a47979e2",
   "metadata": {},
   "outputs": [
    {
     "data": {
      "text/plain": [
       "'my name is the great asaadhya'"
      ]
     },
     "execution_count": 94,
     "metadata": {},
     "output_type": "execute_result"
    }
   ],
   "source": [
    "f.read()"
   ]
  },
  {
   "cell_type": "code",
   "execution_count": 95,
   "id": "e74a7020",
   "metadata": {},
   "outputs": [],
   "source": [
    "## this is to open perticular file ox txt open and read through python "
   ]
  },
  {
   "cell_type": "code",
   "execution_count": 96,
   "id": "fcd9efbc",
   "metadata": {},
   "outputs": [
    {
     "data": {
      "text/plain": [
       "''"
      ]
     },
     "execution_count": 96,
     "metadata": {},
     "output_type": "execute_result"
    }
   ],
   "source": [
    "f.read()"
   ]
  },
  {
   "cell_type": "code",
   "execution_count": 97,
   "id": "34785c89",
   "metadata": {},
   "outputs": [],
   "source": [
    "## the above output is nil because it is at the pointer in pre opened file."
   ]
  },
  {
   "cell_type": "code",
   "execution_count": 98,
   "id": "ee4b1ba7",
   "metadata": {},
   "outputs": [
    {
     "data": {
      "text/plain": [
       "0"
      ]
     },
     "execution_count": 98,
     "metadata": {},
     "output_type": "execute_result"
    }
   ],
   "source": [
    "f.seek(0)"
   ]
  },
  {
   "cell_type": "code",
   "execution_count": 99,
   "id": "1a91dd9e",
   "metadata": {},
   "outputs": [
    {
     "data": {
      "text/plain": [
       "'my name is the great asaadhya'"
      ]
     },
     "execution_count": 99,
     "metadata": {},
     "output_type": "execute_result"
    }
   ],
   "source": [
    "f.read()"
   ]
  },
  {
   "cell_type": "code",
   "execution_count": 100,
   "id": "c5986bc0",
   "metadata": {},
   "outputs": [],
   "source": [
    "## seek is used to make the cursor to move from last to initial point.  "
   ]
  },
  {
   "cell_type": "code",
   "execution_count": 101,
   "id": "f668893d",
   "metadata": {},
   "outputs": [],
   "source": [
    "p3=open('pavan.txt')"
   ]
  },
  {
   "cell_type": "code",
   "execution_count": 102,
   "id": "ec83f419",
   "metadata": {},
   "outputs": [
    {
     "data": {
      "text/plain": [
       "0"
      ]
     },
     "execution_count": 102,
     "metadata": {},
     "output_type": "execute_result"
    }
   ],
   "source": [
    "p3.tell()"
   ]
  },
  {
   "cell_type": "code",
   "execution_count": 103,
   "id": "3dc8a798",
   "metadata": {},
   "outputs": [
    {
     "data": {
      "text/plain": [
       "'my name is the great asaadhya'"
      ]
     },
     "execution_count": 103,
     "metadata": {},
     "output_type": "execute_result"
    }
   ],
   "source": [
    "p3.read()"
   ]
  },
  {
   "cell_type": "code",
   "execution_count": 104,
   "id": "90b51918",
   "metadata": {},
   "outputs": [
    {
     "data": {
      "text/plain": [
       "29"
      ]
     },
     "execution_count": 104,
     "metadata": {},
     "output_type": "execute_result"
    }
   ],
   "source": [
    "p3.tell()"
   ]
  },
  {
   "cell_type": "code",
   "execution_count": 105,
   "id": "29da97e4",
   "metadata": {},
   "outputs": [],
   "source": [
    "## tell function will give the index of cursor location "
   ]
  },
  {
   "cell_type": "code",
   "execution_count": 109,
   "id": "605f5be3",
   "metadata": {},
   "outputs": [
    {
     "data": {
      "text/plain": [
       "1"
      ]
     },
     "execution_count": 109,
     "metadata": {},
     "output_type": "execute_result"
    }
   ],
   "source": [
    "p3.seek(1)"
   ]
  },
  {
   "cell_type": "code",
   "execution_count": 110,
   "id": "dcaa6de1",
   "metadata": {},
   "outputs": [
    {
     "data": {
      "text/plain": [
       "'y name is the g'"
      ]
     },
     "execution_count": 110,
     "metadata": {},
     "output_type": "execute_result"
    }
   ],
   "source": [
    "p3.read(15)"
   ]
  },
  {
   "cell_type": "code",
   "execution_count": 111,
   "id": "0f4982df",
   "metadata": {},
   "outputs": [],
   "source": [
    "## because of seek 1 cursor goes after index '1'\n",
    "## read 15 will show the information from 2-15 indexes"
   ]
  },
  {
   "cell_type": "code",
   "execution_count": 113,
   "id": "536d7d44",
   "metadata": {},
   "outputs": [
    {
     "data": {
      "text/plain": [
       "0"
      ]
     },
     "execution_count": 113,
     "metadata": {},
     "output_type": "execute_result"
    }
   ],
   "source": [
    "p3.seek(0)"
   ]
  },
  {
   "cell_type": "code",
   "execution_count": 114,
   "id": "e38494e9",
   "metadata": {},
   "outputs": [
    {
     "data": {
      "text/plain": [
       "'my name is the great asaadhya'"
      ]
     },
     "execution_count": 114,
     "metadata": {},
     "output_type": "execute_result"
    }
   ],
   "source": [
    "p3.readline()"
   ]
  },
  {
   "cell_type": "code",
   "execution_count": 115,
   "id": "fdfe30b5",
   "metadata": {},
   "outputs": [
    {
     "data": {
      "text/plain": [
       "[]"
      ]
     },
     "execution_count": 115,
     "metadata": {},
     "output_type": "execute_result"
    }
   ],
   "source": [
    "p3.readlines()"
   ]
  },
  {
   "cell_type": "code",
   "execution_count": 117,
   "id": "1b2a8c78",
   "metadata": {},
   "outputs": [],
   "source": [
    "## the above is empty because there is only one line in the file."
   ]
  },
  {
   "cell_type": "code",
   "execution_count": 118,
   "id": "42101d59",
   "metadata": {},
   "outputs": [
    {
     "data": {
      "text/plain": [
       "<_io.TextIOWrapper name='pavan.txt' mode='r' encoding='cp1252'>"
      ]
     },
     "execution_count": 118,
     "metadata": {},
     "output_type": "execute_result"
    }
   ],
   "source": [
    "p3"
   ]
  },
  {
   "cell_type": "code",
   "execution_count": 119,
   "id": "9b6261b2",
   "metadata": {},
   "outputs": [
    {
     "data": {
      "text/plain": [
       "5"
      ]
     },
     "execution_count": 119,
     "metadata": {},
     "output_type": "execute_result"
    }
   ],
   "source": [
    "p3.fileno()"
   ]
  },
  {
   "cell_type": "code",
   "execution_count": 121,
   "id": "12e105b7",
   "metadata": {},
   "outputs": [
    {
     "data": {
      "text/plain": [
       "'pavan.txt'"
      ]
     },
     "execution_count": 121,
     "metadata": {},
     "output_type": "execute_result"
    }
   ],
   "source": [
    "p3.name"
   ]
  },
  {
   "cell_type": "code",
   "execution_count": 122,
   "id": "bc031c19",
   "metadata": {},
   "outputs": [
    {
     "data": {
      "text/plain": [
       "'r'"
      ]
     },
     "execution_count": 122,
     "metadata": {},
     "output_type": "execute_result"
    }
   ],
   "source": [
    "p3.mode"
   ]
  },
  {
   "cell_type": "code",
   "execution_count": 123,
   "id": "6341258f",
   "metadata": {},
   "outputs": [
    {
     "data": {
      "text/plain": [
       "False"
      ]
     },
     "execution_count": 123,
     "metadata": {},
     "output_type": "execute_result"
    }
   ],
   "source": [
    "p3.closed"
   ]
  },
  {
   "cell_type": "code",
   "execution_count": 124,
   "id": "9cf8f9b0",
   "metadata": {},
   "outputs": [
    {
     "data": {
      "text/plain": [
       "''"
      ]
     },
     "execution_count": 124,
     "metadata": {},
     "output_type": "execute_result"
    }
   ],
   "source": [
    "p3.read()"
   ]
  },
  {
   "cell_type": "code",
   "execution_count": 132,
   "id": "2a233056",
   "metadata": {},
   "outputs": [],
   "source": [
    "l=[2,3,4,5,5,6]\n",
    "l1=[]\n",
    "for i in l:\n",
    "    l1.append(i**2)"
   ]
  },
  {
   "cell_type": "code",
   "execution_count": 133,
   "id": "4431ed13",
   "metadata": {},
   "outputs": [
    {
     "data": {
      "text/plain": [
       "[4, 9, 16, 25, 25, 36]"
      ]
     },
     "execution_count": 133,
     "metadata": {},
     "output_type": "execute_result"
    }
   ],
   "source": [
    "l1"
   ]
  },
  {
   "cell_type": "code",
   "execution_count": 134,
   "id": "f8e83660",
   "metadata": {},
   "outputs": [],
   "source": [
    "def sq(n):\n",
    "    return n**2"
   ]
  },
  {
   "cell_type": "code",
   "execution_count": 135,
   "id": "e5f61e4c",
   "metadata": {},
   "outputs": [
    {
     "data": {
      "text/plain": [
       "4"
      ]
     },
     "execution_count": 135,
     "metadata": {},
     "output_type": "execute_result"
    }
   ],
   "source": [
    "sq(2)"
   ]
  },
  {
   "cell_type": "code",
   "execution_count": 137,
   "id": "3a067409",
   "metadata": {},
   "outputs": [
    {
     "data": {
      "text/plain": [
       "<map at 0x1677d4ae250>"
      ]
     },
     "execution_count": 137,
     "metadata": {},
     "output_type": "execute_result"
    }
   ],
   "source": [
    "map(sq,l)"
   ]
  },
  {
   "cell_type": "code",
   "execution_count": 139,
   "id": "456e8e3a",
   "metadata": {},
   "outputs": [],
   "source": [
    "l2=list(map(sq,l))"
   ]
  },
  {
   "cell_type": "code",
   "execution_count": 140,
   "id": "e1b050b1",
   "metadata": {},
   "outputs": [
    {
     "data": {
      "text/plain": [
       "[4, 9, 16, 25, 25, 36]"
      ]
     },
     "execution_count": 140,
     "metadata": {},
     "output_type": "execute_result"
    }
   ],
   "source": [
    "l2"
   ]
  },
  {
   "cell_type": "code",
   "execution_count": 142,
   "id": "c40d351c",
   "metadata": {},
   "outputs": [
    {
     "data": {
      "text/plain": [
       "[4, 9, 16, 25, 25, 36]"
      ]
     },
     "execution_count": 142,
     "metadata": {},
     "output_type": "execute_result"
    }
   ],
   "source": [
    "list(map(lambda x:x**2,l))"
   ]
  },
  {
   "cell_type": "code",
   "execution_count": 143,
   "id": "12df7011",
   "metadata": {},
   "outputs": [],
   "source": [
    "def str_c(n):\n",
    "    return str(n)\n",
    "        \n",
    "    "
   ]
  },
  {
   "cell_type": "code",
   "execution_count": 145,
   "id": "94fc1be7",
   "metadata": {},
   "outputs": [
    {
     "data": {
      "text/plain": [
       "['2', '3', '4', '5', '5', '6']"
      ]
     },
     "execution_count": 145,
     "metadata": {},
     "output_type": "execute_result"
    }
   ],
   "source": [
    "list(map(str_c,l))"
   ]
  },
  {
   "cell_type": "code",
   "execution_count": 146,
   "id": "4a75ab35",
   "metadata": {},
   "outputs": [
    {
     "data": {
      "text/plain": [
       "['2', '3', '4', '5', '5', '6']"
      ]
     },
     "execution_count": 146,
     "metadata": {},
     "output_type": "execute_result"
    }
   ],
   "source": [
    "list(map(str,l))"
   ]
  },
  {
   "cell_type": "code",
   "execution_count": 148,
   "id": "3f7622ee",
   "metadata": {},
   "outputs": [
    {
     "ename": "NameError",
     "evalue": "name 'reduce' is not defined",
     "output_type": "error",
     "traceback": [
      "\u001b[1;31m---------------------------------------------------------------------------\u001b[0m",
      "\u001b[1;31mNameError\u001b[0m                                 Traceback (most recent call last)",
      "Input \u001b[1;32mIn [148]\u001b[0m, in \u001b[0;36m<cell line: 1>\u001b[1;34m()\u001b[0m\n\u001b[1;32m----> 1\u001b[0m \u001b[43mreduce\u001b[49m(\u001b[38;5;28;01mlambda\u001b[39;00m a,b:a\u001b[38;5;241m+\u001b[39mb,l)\n",
      "\u001b[1;31mNameError\u001b[0m: name 'reduce' is not defined"
     ]
    }
   ],
   "source": [
    "reduce(lambda a,b:a+b,l)"
   ]
  },
  {
   "cell_type": "code",
   "execution_count": 147,
   "id": "cba385fe",
   "metadata": {},
   "outputs": [
    {
     "data": {
      "text/plain": [
       "25"
      ]
     },
     "execution_count": 147,
     "metadata": {},
     "output_type": "execute_result"
    }
   ],
   "source": [
    "sum(l)"
   ]
  },
  {
   "cell_type": "code",
   "execution_count": 149,
   "id": "0c2ebc24",
   "metadata": {},
   "outputs": [],
   "source": [
    "from functools import reduce"
   ]
  },
  {
   "cell_type": "code",
   "execution_count": 150,
   "id": "b317b9f3",
   "metadata": {},
   "outputs": [
    {
     "data": {
      "text/plain": [
       "25"
      ]
     },
     "execution_count": 150,
     "metadata": {},
     "output_type": "execute_result"
    }
   ],
   "source": [
    "reduce(lambda a,b:a+b,l)"
   ]
  },
  {
   "cell_type": "code",
   "execution_count": 151,
   "id": "d82906a9",
   "metadata": {},
   "outputs": [
    {
     "data": {
      "text/plain": [
       "3600"
      ]
     },
     "execution_count": 151,
     "metadata": {},
     "output_type": "execute_result"
    }
   ],
   "source": [
    "reduce(lambda a,b:a*b,l)"
   ]
  },
  {
   "cell_type": "code",
   "execution_count": 152,
   "id": "3da1d26d",
   "metadata": {},
   "outputs": [
    {
     "ename": "TypeError",
     "evalue": "<lambda>() missing 1 required positional argument: 'c'",
     "output_type": "error",
     "traceback": [
      "\u001b[1;31m---------------------------------------------------------------------------\u001b[0m",
      "\u001b[1;31mTypeError\u001b[0m                                 Traceback (most recent call last)",
      "Input \u001b[1;32mIn [152]\u001b[0m, in \u001b[0;36m<cell line: 1>\u001b[1;34m()\u001b[0m\n\u001b[1;32m----> 1\u001b[0m \u001b[43mreduce\u001b[49m\u001b[43m(\u001b[49m\u001b[38;5;28;43;01mlambda\u001b[39;49;00m\u001b[43m \u001b[49m\u001b[43ma\u001b[49m\u001b[43m,\u001b[49m\u001b[43mb\u001b[49m\u001b[43m,\u001b[49m\u001b[43mc\u001b[49m\u001b[43m:\u001b[49m\u001b[43ma\u001b[49m\u001b[38;5;241;43m*\u001b[39;49m\u001b[43mb\u001b[49m\u001b[38;5;241;43m*\u001b[39;49m\u001b[43mc\u001b[49m\u001b[43m,\u001b[49m\u001b[43ml\u001b[49m\u001b[43m)\u001b[49m\n",
      "\u001b[1;31mTypeError\u001b[0m: <lambda>() missing 1 required positional argument: 'c'"
     ]
    }
   ],
   "source": [
    "reduce(lambda a,b,c:a*b*c,l)"
   ]
  },
  {
   "cell_type": "code",
   "execution_count": 153,
   "id": "49e01243",
   "metadata": {},
   "outputs": [],
   "source": [
    "l5=[1,2,3]"
   ]
  },
  {
   "cell_type": "code",
   "execution_count": 154,
   "id": "f6c6916c",
   "metadata": {
    "scrolled": true
   },
   "outputs": [
    {
     "ename": "TypeError",
     "evalue": "<lambda>() missing 1 required positional argument: 'c'",
     "output_type": "error",
     "traceback": [
      "\u001b[1;31m---------------------------------------------------------------------------\u001b[0m",
      "\u001b[1;31mTypeError\u001b[0m                                 Traceback (most recent call last)",
      "Input \u001b[1;32mIn [154]\u001b[0m, in \u001b[0;36m<cell line: 1>\u001b[1;34m()\u001b[0m\n\u001b[1;32m----> 1\u001b[0m \u001b[43mreduce\u001b[49m\u001b[43m(\u001b[49m\u001b[38;5;28;43;01mlambda\u001b[39;49;00m\u001b[43m \u001b[49m\u001b[43ma\u001b[49m\u001b[43m,\u001b[49m\u001b[43mb\u001b[49m\u001b[43m,\u001b[49m\u001b[43mc\u001b[49m\u001b[43m:\u001b[49m\u001b[43ma\u001b[49m\u001b[38;5;241;43m*\u001b[39;49m\u001b[43mb\u001b[49m\u001b[38;5;241;43m*\u001b[39;49m\u001b[43mc\u001b[49m\u001b[43m,\u001b[49m\u001b[43ml5\u001b[49m\u001b[43m)\u001b[49m\n",
      "\u001b[1;31mTypeError\u001b[0m: <lambda>() missing 1 required positional argument: 'c'"
     ]
    }
   ],
   "source": [
    "reduce(lambda a,b,c:a*b*c,l5)"
   ]
  },
  {
   "cell_type": "code",
   "execution_count": 156,
   "id": "8e9efeb6",
   "metadata": {},
   "outputs": [
    {
     "data": {
      "text/plain": [
       "[2]"
      ]
     },
     "execution_count": 156,
     "metadata": {},
     "output_type": "execute_result"
    }
   ],
   "source": [
    "list(filter(lambda x:x%2==0,l5))"
   ]
  },
  {
   "cell_type": "code",
   "execution_count": 160,
   "id": "26c573a1",
   "metadata": {},
   "outputs": [],
   "source": [
    "def check_even(n):\n",
    "    if n%2==0:\n",
    "          return True"
   ]
  },
  {
   "cell_type": "code",
   "execution_count": 161,
   "id": "d47da0fd",
   "metadata": {},
   "outputs": [
    {
     "data": {
      "text/plain": [
       "[2]"
      ]
     },
     "execution_count": 161,
     "metadata": {},
     "output_type": "execute_result"
    }
   ],
   "source": [
    "list(filter(check_even,l5))"
   ]
  },
  {
   "cell_type": "code",
   "execution_count": 162,
   "id": "8ac2a32b",
   "metadata": {},
   "outputs": [
    {
     "data": {
      "text/plain": [
       "True"
      ]
     },
     "execution_count": 162,
     "metadata": {},
     "output_type": "execute_result"
    }
   ],
   "source": [
    "check_even(4)"
   ]
  },
  {
   "cell_type": "code",
   "execution_count": 163,
   "id": "71a453f7",
   "metadata": {},
   "outputs": [],
   "source": [
    "check_even(5)"
   ]
  },
  {
   "cell_type": "code",
   "execution_count": 164,
   "id": "c533017b",
   "metadata": {},
   "outputs": [
    {
     "ename": "TypeError",
     "evalue": "unsupported operand type(s) for %: 'list' and 'int'",
     "output_type": "error",
     "traceback": [
      "\u001b[1;31m---------------------------------------------------------------------------\u001b[0m",
      "\u001b[1;31mTypeError\u001b[0m                                 Traceback (most recent call last)",
      "Input \u001b[1;32mIn [164]\u001b[0m, in \u001b[0;36m<cell line: 1>\u001b[1;34m()\u001b[0m\n\u001b[1;32m----> 1\u001b[0m \u001b[43mcheck_even\u001b[49m\u001b[43m(\u001b[49m\u001b[43ml5\u001b[49m\u001b[43m)\u001b[49m\n",
      "Input \u001b[1;32mIn [160]\u001b[0m, in \u001b[0;36mcheck_even\u001b[1;34m(n)\u001b[0m\n\u001b[0;32m      1\u001b[0m \u001b[38;5;28;01mdef\u001b[39;00m \u001b[38;5;21mcheck_even\u001b[39m(n):\n\u001b[1;32m----> 2\u001b[0m     \u001b[38;5;28;01mif\u001b[39;00m \u001b[43mn\u001b[49m\u001b[38;5;241;43m%\u001b[39;49m\u001b[38;5;241;43m2\u001b[39;49m\u001b[38;5;241m==\u001b[39m\u001b[38;5;241m0\u001b[39m:\n\u001b[0;32m      3\u001b[0m           \u001b[38;5;28;01mreturn\u001b[39;00m \u001b[38;5;28;01mTrue\u001b[39;00m\n",
      "\u001b[1;31mTypeError\u001b[0m: unsupported operand type(s) for %: 'list' and 'int'"
     ]
    }
   ],
   "source": [
    "check_even(l5)"
   ]
  },
  {
   "cell_type": "code",
   "execution_count": null,
   "id": "2090fa09",
   "metadata": {},
   "outputs": [],
   "source": []
  },
  {
   "cell_type": "code",
   "execution_count": null,
   "id": "5c6123c4",
   "metadata": {},
   "outputs": [],
   "source": []
  }
 ],
 "metadata": {
  "kernelspec": {
   "display_name": "Python 3 (ipykernel)",
   "language": "python",
   "name": "python3"
  },
  "language_info": {
   "codemirror_mode": {
    "name": "ipython",
    "version": 3
   },
   "file_extension": ".py",
   "mimetype": "text/x-python",
   "name": "python",
   "nbconvert_exporter": "python",
   "pygments_lexer": "ipython3",
   "version": "3.9.12"
  }
 },
 "nbformat": 4,
 "nbformat_minor": 5
}

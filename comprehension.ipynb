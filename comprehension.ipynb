{
  "nbformat": 4,
  "nbformat_minor": 0,
  "metadata": {
    "colab": {
      "provenance": []
    },
    "kernelspec": {
      "name": "python3",
      "display_name": "Python 3"
    },
    "language_info": {
      "name": "python"
    }
  },
  "cells": [
    {
      "cell_type": "code",
      "execution_count": 2,
      "metadata": {
        "id": "jqMCWKU75kwV"
      },
      "outputs": [],
      "source": [
        "from numpy import random\n",
        "a=[random.randint(10,100) for n in range(20)]"
      ]
    },
    {
      "cell_type": "code",
      "source": [
        "a"
      ],
      "metadata": {
        "colab": {
          "base_uri": "https://localhost:8080/"
        },
        "id": "fTf1MTif6k4w",
        "outputId": "d046b0cf-c65a-40e3-c732-dc2e4de5a17e"
      },
      "execution_count": 3,
      "outputs": [
        {
          "output_type": "execute_result",
          "data": {
            "text/plain": [
              "[76,\n",
              " 83,\n",
              " 16,\n",
              " 66,\n",
              " 20,\n",
              " 87,\n",
              " 29,\n",
              " 11,\n",
              " 91,\n",
              " 96,\n",
              " 50,\n",
              " 60,\n",
              " 19,\n",
              " 86,\n",
              " 32,\n",
              " 92,\n",
              " 83,\n",
              " 64,\n",
              " 30,\n",
              " 88]"
            ]
          },
          "metadata": {},
          "execution_count": 3
        }
      ]
    },
    {
      "cell_type": "code",
      "source": [
        "a=[(x,x**3,x**5) for x in range(10)]"
      ],
      "metadata": {
        "id": "FsIfIjGx60Od"
      },
      "execution_count": 4,
      "outputs": []
    },
    {
      "cell_type": "code",
      "source": [
        "a"
      ],
      "metadata": {
        "colab": {
          "base_uri": "https://localhost:8080/"
        },
        "id": "E6SLfrwH7Bov",
        "outputId": "46c6f89f-e485-4885-ec05-7898dbfccafa"
      },
      "execution_count": 5,
      "outputs": [
        {
          "output_type": "execute_result",
          "data": {
            "text/plain": [
              "[(0, 0, 0),\n",
              " (1, 1, 1),\n",
              " (2, 8, 32),\n",
              " (3, 27, 243),\n",
              " (4, 64, 1024),\n",
              " (5, 125, 3125),\n",
              " (6, 216, 7776),\n",
              " (7, 343, 16807),\n",
              " (8, 512, 32768),\n",
              " (9, 729, 59049)]"
            ]
          },
          "metadata": {},
          "execution_count": 5
        }
      ]
    },
    {
      "cell_type": "code",
      "source": [
        "a=[int(x) for x in ['10','20','30','50']]"
      ],
      "metadata": {
        "id": "WaS1RIhn7Cys"
      },
      "execution_count": 6,
      "outputs": []
    },
    {
      "cell_type": "code",
      "source": [
        "a"
      ],
      "metadata": {
        "colab": {
          "base_uri": "https://localhost:8080/"
        },
        "id": "aFn9_YxF7TCG",
        "outputId": "66e74998-3a77-40bf-a8b8-37a2e37950ba"
      },
      "execution_count": 7,
      "outputs": [
        {
          "output_type": "execute_result",
          "data": {
            "text/plain": [
              "[10, 20, 30, 50]"
            ]
          },
          "metadata": {},
          "execution_count": 7
        }
      ]
    },
    {
      "cell_type": "code",
      "source": [
        "a=[n for n in range(10,30) if n%2==0]"
      ],
      "metadata": {
        "id": "D4Meslrf7TyV"
      },
      "execution_count": 8,
      "outputs": []
    },
    {
      "cell_type": "code",
      "source": [
        "a"
      ],
      "metadata": {
        "colab": {
          "base_uri": "https://localhost:8080/"
        },
        "id": "ynlsy43B7fId",
        "outputId": "7c9bd54e-c1dc-405c-fba1-443066948e44"
      },
      "execution_count": 9,
      "outputs": [
        {
          "output_type": "execute_result",
          "data": {
            "text/plain": [
              "[10, 12, 14, 16, 18, 20, 22, 24, 26, 28]"
            ]
          },
          "metadata": {},
          "execution_count": 9
        }
      ]
    },
    {
      "cell_type": "code",
      "source": [
        "a=[num for num in a if num<20 or num>50]"
      ],
      "metadata": {
        "id": "B9gW-G4Z7hRA"
      },
      "execution_count": 10,
      "outputs": []
    },
    {
      "cell_type": "code",
      "source": [
        "a"
      ],
      "metadata": {
        "colab": {
          "base_uri": "https://localhost:8080/"
        },
        "id": "p4dDCGlm76zx",
        "outputId": "e6ded044-1ed3-4074-a70b-e5f0857013c4"
      },
      "execution_count": 11,
      "outputs": [
        {
          "output_type": "execute_result",
          "data": {
            "text/plain": [
              "[10, 12, 14, 16, 18]"
            ]
          },
          "metadata": {},
          "execution_count": 11
        }
      ]
    },
    {
      "cell_type": "code",
      "source": [
        "a=['!' if alphabet in 'aeiou' else alphabet for alphabet in 'Technical']"
      ],
      "metadata": {
        "id": "P9FIRR6977qv"
      },
      "execution_count": 12,
      "outputs": []
    },
    {
      "cell_type": "code",
      "source": [
        "a"
      ],
      "metadata": {
        "colab": {
          "base_uri": "https://localhost:8080/"
        },
        "id": "skukpywf8Rk3",
        "outputId": "07809750-e1e0-4837-c713-5fea9059b6f6"
      },
      "execution_count": 13,
      "outputs": [
        {
          "output_type": "execute_result",
          "data": {
            "text/plain": [
              "['T', '!', 'c', 'h', 'n', '!', 'c', '!', 'l']"
            ]
          },
          "metadata": {},
          "execution_count": 13
        }
      ]
    },
    {
      "cell_type": "code",
      "source": [
        "arr=[[1,2,3,4],[5,6,7,8],[10,11,12,13]]\n",
        "b=[n for ele in arr for n in ele]"
      ],
      "metadata": {
        "id": "n4oGW2i78SeY"
      },
      "execution_count": 14,
      "outputs": []
    },
    {
      "cell_type": "code",
      "source": [
        "b"
      ],
      "metadata": {
        "colab": {
          "base_uri": "https://localhost:8080/"
        },
        "id": "dB-RHkkZ9AwB",
        "outputId": "5ad43495-9fd9-4284-85bd-8631a990f274"
      },
      "execution_count": 15,
      "outputs": [
        {
          "output_type": "execute_result",
          "data": {
            "text/plain": [
              "[1, 2, 3, 4, 5, 6, 7, 8, 10, 11, 12, 13]"
            ]
          },
          "metadata": {},
          "execution_count": 15
        }
      ]
    },
    {
      "cell_type": "code",
      "source": [
        "c=[*arr[0],*arr[1],*arr[2]]"
      ],
      "metadata": {
        "id": "7tayao0O9B5P"
      },
      "execution_count": 16,
      "outputs": []
    },
    {
      "cell_type": "code",
      "source": [
        "c"
      ],
      "metadata": {
        "colab": {
          "base_uri": "https://localhost:8080/"
        },
        "id": "XJXEHaxM9VlH",
        "outputId": "383ddfa7-7bf9-4fce-83b0-0aeaab2be339"
      },
      "execution_count": 17,
      "outputs": [
        {
          "output_type": "execute_result",
          "data": {
            "text/plain": [
              "[1, 2, 3, 4, 5, 6, 7, 8, 10, 11, 12, 13]"
            ]
          },
          "metadata": {},
          "execution_count": 17
        }
      ]
    },
    {
      "cell_type": "code",
      "source": [
        "lst=[a+b for a in [1,2,3] for b in [3,4,5]]"
      ],
      "metadata": {
        "id": "eo7iOj5W9Wqp"
      },
      "execution_count": 18,
      "outputs": []
    },
    {
      "cell_type": "code",
      "source": [
        "lst"
      ],
      "metadata": {
        "colab": {
          "base_uri": "https://localhost:8080/"
        },
        "id": "ywQpTmxh9rL4",
        "outputId": "431f8004-0d99-4d66-ef97-0d5d4ee58a86"
      },
      "execution_count": 19,
      "outputs": [
        {
          "output_type": "execute_result",
          "data": {
            "text/plain": [
              "[4, 5, 6, 5, 6, 7, 6, 7, 8]"
            ]
          },
          "metadata": {},
          "execution_count": 19
        }
      ]
    },
    {
      "cell_type": "code",
      "source": [
        "lst=[[a+b for a in [1,2,3]] for b in [3,4,5]]"
      ],
      "metadata": {
        "id": "g09X1zf79sfi"
      },
      "execution_count": 24,
      "outputs": []
    },
    {
      "cell_type": "code",
      "source": [
        "lst"
      ],
      "metadata": {
        "colab": {
          "base_uri": "https://localhost:8080/"
        },
        "id": "xnpsNfPm969u",
        "outputId": "478a7c94-dd05-4bb6-e0f8-206235e0804f"
      },
      "execution_count": 25,
      "outputs": [
        {
          "output_type": "execute_result",
          "data": {
            "text/plain": [
              "[[4, 5, 6], [5, 6, 7], [6, 7, 8]]"
            ]
          },
          "metadata": {},
          "execution_count": 25
        }
      ]
    },
    {
      "cell_type": "code",
      "source": [
        "# Set Comprehension"
      ],
      "metadata": {
        "id": "9UbfF9vA99K5"
      },
      "execution_count": 26,
      "outputs": []
    },
    {
      "cell_type": "code",
      "source": [
        "a={x**2 for x in range(10)}"
      ],
      "metadata": {
        "id": "5R8PtTwh-rZf"
      },
      "execution_count": 27,
      "outputs": []
    },
    {
      "cell_type": "code",
      "source": [
        "a"
      ],
      "metadata": {
        "colab": {
          "base_uri": "https://localhost:8080/"
        },
        "id": "AwZhmpXh-zOj",
        "outputId": "3dddc9ff-b03a-4c5a-c1c8-871a4c87d7e4"
      },
      "execution_count": 28,
      "outputs": [
        {
          "output_type": "execute_result",
          "data": {
            "text/plain": [
              "{0, 1, 4, 9, 16, 25, 36, 49, 64, 81}"
            ]
          },
          "metadata": {},
          "execution_count": 28
        }
      ]
    },
    {
      "cell_type": "code",
      "source": [
        "a={num for num in a if num<20 or num>50}"
      ],
      "metadata": {
        "id": "y3mCHhMv-0FH"
      },
      "execution_count": 29,
      "outputs": []
    },
    {
      "cell_type": "code",
      "source": [
        "a"
      ],
      "metadata": {
        "colab": {
          "base_uri": "https://localhost:8080/"
        },
        "id": "_broqoGF-_mm",
        "outputId": "989ecbcb-b063-4434-f33e-b2aec68e4f1a"
      },
      "execution_count": 30,
      "outputs": [
        {
          "output_type": "execute_result",
          "data": {
            "text/plain": [
              "{0, 1, 4, 9, 16, 64, 81}"
            ]
          },
          "metadata": {},
          "execution_count": 30
        }
      ]
    },
    {
      "cell_type": "code",
      "source": [
        "d={'a':1,'b':2,'c':3,'d':4}\n",
        "d1={k:v**3 for (k,v) in d.items()}\n",
        "print(d1)"
      ],
      "metadata": {
        "colab": {
          "base_uri": "https://localhost:8080/"
        },
        "id": "j1QGJzyZ_AGN",
        "outputId": "5cfc6884-53eb-4fd7-d458-fed26d2b5ae1"
      },
      "execution_count": 33,
      "outputs": [
        {
          "output_type": "stream",
          "name": "stdout",
          "text": [
            "{'a': 1, 'b': 8, 'c': 27, 'd': 64}\n"
          ]
        }
      ]
    },
    {
      "cell_type": "code",
      "source": [
        "d2={k:v**3 for(k,v) in d.items() if v>3}"
      ],
      "metadata": {
        "id": "d1MiVPaq_nyw"
      },
      "execution_count": 34,
      "outputs": []
    },
    {
      "cell_type": "code",
      "source": [
        " print(d2)"
      ],
      "metadata": {
        "colab": {
          "base_uri": "https://localhost:8080/"
        },
        "id": "HMcYjwJmACQ6",
        "outputId": "f0edfb15-e0e9-4dea-ae26-10d02c395ae9"
      },
      "execution_count": 36,
      "outputs": [
        {
          "output_type": "stream",
          "name": "stdout",
          "text": [
            "{'d': 64}\n"
          ]
        }
      ]
    },
    {
      "cell_type": "code",
      "source": [
        "d3={k:('Even' if v%2==0 else 'Odd') for (k,v) in d.items()}\n",
        "print(d3)"
      ],
      "metadata": {
        "colab": {
          "base_uri": "https://localhost:8080/"
        },
        "id": "KqS2NzJAADb2",
        "outputId": "eaf5cba1-f1b5-4855-b5d4-472e01d36301"
      },
      "execution_count": 37,
      "outputs": [
        {
          "output_type": "stream",
          "name": "stdout",
          "text": [
            "{'a': 'Odd', 'b': 'Even', 'c': 'Odd', 'd': 'Even'}\n"
          ]
        }
      ]
    },
    {
      "cell_type": "code",
      "source": [
        "# Using a list comprehension ,write a program to generate a list of numbers in the range 2 to 50 that are divisible by 2 and 4"
      ],
      "metadata": {
        "id": "8po7ih51AmZx"
      },
      "execution_count": 38,
      "outputs": []
    },
    {
      "cell_type": "code",
      "source": [
        "lst=[num for num in range(2,51) if num%2==0 and num%4==0]"
      ],
      "metadata": {
        "id": "pRuo4jHJBGxA"
      },
      "execution_count": 39,
      "outputs": []
    },
    {
      "cell_type": "code",
      "source": [
        "lst"
      ],
      "metadata": {
        "colab": {
          "base_uri": "https://localhost:8080/"
        },
        "id": "mZ-hXQbiBX_5",
        "outputId": "5d81fa13-31ba-4d7b-ab3a-076a335e87b1"
      },
      "execution_count": 40,
      "outputs": [
        {
          "output_type": "execute_result",
          "data": {
            "text/plain": [
              "[4, 8, 12, 16, 20, 24, 28, 32, 36, 40, 44, 48]"
            ]
          },
          "metadata": {},
          "execution_count": 40
        }
      ]
    },
    {
      "cell_type": "code",
      "source": [
        "#Write a program to flatten the following list comprehension.\n",
        "mat=[[1,2,3,4],[5,6,7,8],[9,11,12,13]]\n",
        "a=[num for ele in mat for num in ele]\n",
        "a"
      ],
      "metadata": {
        "colab": {
          "base_uri": "https://localhost:8080/"
        },
        "id": "I3jaJEtXBZO3",
        "outputId": "dc92e5f9-2d72-4eff-d543-ffc9efc8ca17"
      },
      "execution_count": 41,
      "outputs": [
        {
          "output_type": "execute_result",
          "data": {
            "text/plain": [
              "[1, 2, 3, 4, 5, 6, 7, 8, 9, 11, 12, 13]"
            ]
          },
          "metadata": {},
          "execution_count": 41
        }
      ]
    },
    {
      "cell_type": "code",
      "source": [
        "r={int(15+30 * random.random()) for num in range(10)}\n",
        "r"
      ],
      "metadata": {
        "colab": {
          "base_uri": "https://localhost:8080/"
        },
        "id": "sFxRdSblB3a8",
        "outputId": "091eec15-a0a3-4819-dcd9-b1ea225dcde6"
      },
      "execution_count": 46,
      "outputs": [
        {
          "output_type": "execute_result",
          "data": {
            "text/plain": [
              "{15, 19, 20, 25, 29, 35, 37, 43}"
            ]
          },
          "metadata": {},
          "execution_count": 46
        }
      ]
    },
    {
      "cell_type": "code",
      "source": [
        "count=len({num for num in r if num<30})\n",
        "count"
      ],
      "metadata": {
        "colab": {
          "base_uri": "https://localhost:8080/"
        },
        "id": "s4f9Czo0DLC4",
        "outputId": "9d5e94fd-5cba-40b3-ef24-49bf587a0b56"
      },
      "execution_count": 47,
      "outputs": [
        {
          "output_type": "execute_result",
          "data": {
            "text/plain": [
              "5"
            ]
          },
          "metadata": {},
          "execution_count": 47
        }
      ]
    },
    {
      "cell_type": "code",
      "source": [
        "s={num for num in r if num<30}\n",
        "r=r-s\n",
        "r"
      ],
      "metadata": {
        "colab": {
          "base_uri": "https://localhost:8080/"
        },
        "id": "7JaDDYWLDwI5",
        "outputId": "bb4c06cf-9855-420f-ec24-73fec5e0ada5"
      },
      "execution_count": 48,
      "outputs": [
        {
          "output_type": "execute_result",
          "data": {
            "text/plain": [
              "{35, 37, 43}"
            ]
          },
          "metadata": {},
          "execution_count": 48
        }
      ]
    },
    {
      "cell_type": "code",
      "source": [
        "# write a program using list comprehension to eliminate empty tuples from a list of tuples.\n",
        "lst=[(),(10),(10,20),('',),(10,20,30),(40,50),(),(45)]\n",
        "lst=[tpl for tpl in lst if tpl]"
      ],
      "metadata": {
        "id": "y4GqE0n5D76q"
      },
      "execution_count": 1,
      "outputs": []
    },
    {
      "cell_type": "code",
      "source": [
        "lst"
      ],
      "metadata": {
        "colab": {
          "base_uri": "https://localhost:8080/"
        },
        "id": "AeFyMs98xnzX",
        "outputId": "d5386cf7-3251-44d4-8f14-37c3824eeed4"
      },
      "execution_count": 2,
      "outputs": [
        {
          "output_type": "execute_result",
          "data": {
            "text/plain": [
              "[10, (10, 20), ('',), (10, 20, 30), (40, 50), 45]"
            ]
          },
          "metadata": {},
          "execution_count": 2
        }
      ]
    },
    {
      "cell_type": "code",
      "source": [
        "s1='dreams may change , but friends are forever'\n",
        "s2=[' '.join(w.capitalize() for w in s1.split())]\n",
        "s3=s2[0]\n",
        "print(s3)"
      ],
      "metadata": {
        "colab": {
          "base_uri": "https://localhost:8080/"
        },
        "id": "Yfx7Yg0l3Eiq",
        "outputId": "d410d801-bc14-4e31-c492-747d23797d92"
      },
      "execution_count": 5,
      "outputs": [
        {
          "output_type": "stream",
          "name": "stdout",
          "text": [
            "Dreams May Change , But Friends Are Forever\n"
          ]
        }
      ]
    },
    {
      "cell_type": "code",
      "source": [
        "#From a dictionary with the sring keys create a new dictionary with the vowels is removed from the keys.\n",
        "words={'Tub':1,'Toothbrush':2,'Towel':3,'Nailcutter':4}\n",
        "\n",
        "\n",
        "d={''.join(alpha for alpha in k if alpha not in 'aeiou'):v for k,v in words.items()}\n",
        "print(d)"
      ],
      "metadata": {
        "colab": {
          "base_uri": "https://localhost:8080/"
        },
        "id": "XZREZKXz3mNt",
        "outputId": "2f20df0a-4dd4-4da3-c27d-270f0bb93ebb"
      },
      "execution_count": 13,
      "outputs": [
        {
          "output_type": "stream",
          "name": "stdout",
          "text": [
            "{'Tb': 1, 'Tthbrsh': 2, 'Twl': 3, 'Nlcttr': 4}\n"
          ]
        }
      ]
    },
    {
      "cell_type": "code",
      "source": [
        "#Write a program to add two 3x3 matrices using \n",
        "#(a) lists\n",
        "#(b) list comprehension\n",
        "A=[[1,2,3],[3,4,5],[6,7,8]]\n",
        "B=[[1,2,3],[4,5,6],[7,8,9]]\n",
        "C=[[0,0,0],[0,0,0],[0,0,0]]\n",
        "for i in range(len(A)):\n",
        "  for j in range(len(A[0])):\n",
        "    C[i][j]=A[i][j]+B[i][j]\n",
        "C"
      ],
      "metadata": {
        "colab": {
          "base_uri": "https://localhost:8080/"
        },
        "id": "MvjxJDCp4aCK",
        "outputId": "21489805-ffc6-4182-ebbf-0c8ff7aaae4d"
      },
      "execution_count": 18,
      "outputs": [
        {
          "output_type": "execute_result",
          "data": {
            "text/plain": [
              "[[2, 4, 6], [7, 9, 11], [13, 15, 17]]"
            ]
          },
          "metadata": {},
          "execution_count": 18
        }
      ]
    },
    {
      "cell_type": "code",
      "source": [
        "D=[[A[i][j]+B[i][j] for j in range(len(A[0]))] for i in range(len(A))]\n",
        "D"
      ],
      "metadata": {
        "colab": {
          "base_uri": "https://localhost:8080/"
        },
        "id": "0t7a-JvO6jUe",
        "outputId": "8e1e88d7-f3da-449d-a81d-74c8210b6b91"
      },
      "execution_count": 19,
      "outputs": [
        {
          "output_type": "execute_result",
          "data": {
            "text/plain": [
              "[[2, 4, 6], [7, 9, 11], [13, 15, 17]]"
            ]
          },
          "metadata": {},
          "execution_count": 19
        }
      ]
    },
    {
      "cell_type": "code",
      "source": [
        "# Adding elements of two lists of same size using zip fuction.\n",
        "def add_lists(l,l1):\n",
        "  if len(l)!=len(l1):\n",
        "    return \"lists are having different lengths.\"\n",
        "  else:\n",
        "\n",
        "    return [a+b for a,b in zip(l,l1)]"
      ],
      "metadata": {
        "id": "3WFwtOOb7Wff"
      },
      "execution_count": 3,
      "outputs": []
    },
    {
      "cell_type": "code",
      "source": [
        "lst=[1,2,3,4]\n",
        "lst1=[2,3,4]\n",
        "add_lists(lst,lst1)"
      ],
      "metadata": {
        "colab": {
          "base_uri": "https://localhost:8080/",
          "height": 36
        },
        "id": "1XH06KN-a8zL",
        "outputId": "cf4fec35-8f48-48f9-c352-9af22ac20c9f"
      },
      "execution_count": 5,
      "outputs": [
        {
          "output_type": "execute_result",
          "data": {
            "text/plain": [
              "'lists are having different lengths.'"
            ],
            "application/vnd.google.colaboratory.intrinsic+json": {
              "type": "string"
            }
          },
          "metadata": {},
          "execution_count": 5
        }
      ]
    },
    {
      "cell_type": "code",
      "source": [],
      "metadata": {
        "id": "9q11J6KsbIEo"
      },
      "execution_count": null,
      "outputs": []
    }
  ]
}
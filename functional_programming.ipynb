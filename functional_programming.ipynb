{
  "nbformat": 4,
  "nbformat_minor": 0,
  "metadata": {
    "colab": {
      "provenance": []
    },
    "kernelspec": {
      "name": "python3",
      "display_name": "Python 3"
    },
    "language_info": {
      "name": "python"
    }
  },
  "cells": [
    {
      "cell_type": "code",
      "execution_count": 1,
      "metadata": {
        "colab": {
          "base_uri": "https://localhost:8080/"
        },
        "id": "QIEFMMEnpcDO",
        "outputId": "fa6e9117-2a8a-4006-ada8-a414521cf16d"
      },
      "outputs": [
        {
          "output_type": "stream",
          "name": "stdout",
          "text": [
            "Hello\n",
            "30\n"
          ]
        }
      ],
      "source": [
        "def func():\n",
        "  print('Hello')\n",
        "def sum(x,y):\n",
        "  print(x+y)\n",
        "f=func\n",
        "f()\n",
        "g=sum\n",
        "g(10,20)\n"
      ]
    },
    {
      "cell_type": "code",
      "source": [
        "def sum(x,y,f):\n",
        "  print(x+y)\n",
        "  f()\n",
        "def func():\n",
        "  print('Hello')\n",
        "f=func\n",
        "sum(10,20,f)"
      ],
      "metadata": {
        "colab": {
          "base_uri": "https://localhost:8080/"
        },
        "id": "Z7K7NafhsPHa",
        "outputId": "47bb4a25-08d0-427b-d02f-860d4f05935c"
      },
      "execution_count": 2,
      "outputs": [
        {
          "output_type": "stream",
          "name": "stdout",
          "text": [
            "30\n",
            "Hello\n"
          ]
        }
      ]
    },
    {
      "cell_type": "code",
      "source": [
        "lambda n:n*n*n\n",
        "lambda x,y,z:(x+y+z)"
      ],
      "metadata": {
        "colab": {
          "base_uri": "https://localhost:8080/"
        },
        "id": "q1lsHFy6s0aK",
        "outputId": "3e5185a9-f989-4c33-9b04-9e1df120bb5f"
      },
      "execution_count": 4,
      "outputs": [
        {
          "output_type": "execute_result",
          "data": {
            "text/plain": [
              "<function __main__.<lambda>(x, y, z)>"
            ]
          },
          "metadata": {},
          "execution_count": 4
        }
      ]
    },
    {
      "cell_type": "code",
      "source": [
        "lambda s:s.trim().upper()"
      ],
      "metadata": {
        "colab": {
          "base_uri": "https://localhost:8080/"
        },
        "id": "Bgo4aOpxtGfM",
        "outputId": "81286362-369a-4deb-bced-196d7ccf23be"
      },
      "execution_count": 5,
      "outputs": [
        {
          "output_type": "execute_result",
          "data": {
            "text/plain": [
              "<function __main__.<lambda>(s)>"
            ]
          },
          "metadata": {},
          "execution_count": 5
        }
      ]
    },
    {
      "cell_type": "code",
      "source": [
        "print((lambda n:n*n*n)(3))"
      ],
      "metadata": {
        "colab": {
          "base_uri": "https://localhost:8080/"
        },
        "id": "JRdhmHsXtS4r",
        "outputId": "77e20ff3-8a65-4510-d473-303b6300d879"
      },
      "execution_count": 6,
      "outputs": [
        {
          "output_type": "stream",
          "name": "stdout",
          "text": [
            "27\n"
          ]
        }
      ]
    },
    {
      "cell_type": "code",
      "source": [
        "print((lambda x,y,z:(x+y+z))(3,2,1))"
      ],
      "metadata": {
        "colab": {
          "base_uri": "https://localhost:8080/"
        },
        "id": "Bj-sYIjkumRi",
        "outputId": "6b547c8f-52f5-4922-ce61-497e51dd8f50"
      },
      "execution_count": 10,
      "outputs": [
        {
          "output_type": "stream",
          "name": "stdout",
          "text": [
            "6\n"
          ]
        }
      ]
    },
    {
      "cell_type": "code",
      "source": [
        "print((lambda s:s.lstrip().rstrip().upper())('  Ngp  '))"
      ],
      "metadata": {
        "colab": {
          "base_uri": "https://localhost:8080/"
        },
        "id": "mAtSHAOyvc8j",
        "outputId": "f5422ca2-d3ca-4fd5-d4e7-58c57e9cf4c2"
      },
      "execution_count": 12,
      "outputs": [
        {
          "output_type": "stream",
          "name": "stdout",
          "text": [
            "NGP\n"
          ]
        }
      ]
    },
    {
      "cell_type": "code",
      "source": [
        "p=lambda n:n*n\n",
        "print(p(3))"
      ],
      "metadata": {
        "colab": {
          "base_uri": "https://localhost:8080/"
        },
        "id": "BCerc0WFwJFn",
        "outputId": "b9eb6d85-982d-434f-bcf4-e72f2f8f599a"
      },
      "execution_count": 13,
      "outputs": [
        {
          "output_type": "stream",
          "name": "stdout",
          "text": [
            "9\n"
          ]
        }
      ]
    },
    {
      "cell_type": "code",
      "source": [
        "print(p(4))"
      ],
      "metadata": {
        "colab": {
          "base_uri": "https://localhost:8080/"
        },
        "id": "lw7u11oAwkjI",
        "outputId": "2690a459-f393-440e-ad0e-c1e7b8462f51"
      },
      "execution_count": 15,
      "outputs": [
        {
          "output_type": "stream",
          "name": "stdout",
          "text": [
            "16\n"
          ]
        }
      ]
    },
    {
      "cell_type": "code",
      "source": [
        "d={'Oil':34,'clip':56,'stud':28,'nut':900}\n",
        "d1=sorted(d.items(),key=lambda kv :kv[1])\n",
        "print(d1)"
      ],
      "metadata": {
        "colab": {
          "base_uri": "https://localhost:8080/"
        },
        "id": "qiMSrlLZwnFf",
        "outputId": "dea82575-ad98-4ea3-ef64-c64ad4231029"
      },
      "execution_count": 2,
      "outputs": [
        {
          "output_type": "stream",
          "name": "stdout",
          "text": [
            "[('stud', 28), ('Oil', 34), ('clip', 56), ('nut', 900)]\n"
          ]
        }
      ]
    },
    {
      "cell_type": "code",
      "source": [
        "import math\n",
        "def fun(n):\n",
        "  return n*n\n",
        "lst=[5,3,35,34,2]\n",
        "for i in lst:\n",
        "  print(fun(i))"
      ],
      "metadata": {
        "colab": {
          "base_uri": "https://localhost:8080/"
        },
        "id": "Cu2AYer1xEDZ",
        "outputId": "a0827728-b3a7-4e66-c32e-bd7dd9b98c8f"
      },
      "execution_count": 5,
      "outputs": [
        {
          "output_type": "stream",
          "name": "stdout",
          "text": [
            "25\n",
            "9\n",
            "1225\n",
            "1156\n",
            "4\n"
          ]
        }
      ]
    },
    {
      "cell_type": "code",
      "source": [
        "m1=map(math.radians,lst)\n",
        "m2=map(math.factorial,lst)\n",
        "m3=map(fun,lst)\n",
        "print(list(m1))\n",
        "print(list(m2))\n",
        "print(list(m3))"
      ],
      "metadata": {
        "colab": {
          "base_uri": "https://localhost:8080/"
        },
        "id": "4osqmLX8yEfp",
        "outputId": "9cad0ac0-aa27-4f36-c3f9-756effab0497"
      },
      "execution_count": 6,
      "outputs": [
        {
          "output_type": "stream",
          "name": "stdout",
          "text": [
            "[0.08726646259971647, 0.05235987755982989, 0.6108652381980153, 0.5934119456780721, 0.03490658503988659]\n",
            "[120, 6, 10333147966386144929666651337523200000000, 295232799039604140847618609643520000000, 2]\n",
            "[25, 9, 1225, 1156, 4]\n"
          ]
        }
      ]
    },
    {
      "cell_type": "code",
      "source": [
        "def fun(n):\n",
        "  if n%5==0:\n",
        "    return True\n",
        "  else:\n",
        "    return False\n",
        "lst1=['A','X','E','3','4','G']\n",
        "f1=filter(str.isalpha,lst1)\n",
        "print(list(f1))\n",
        "lst2=[5,10,18,27,45]\n",
        "f2=filter(fun,lst2)\n",
        "print(list(f2))"
      ],
      "metadata": {
        "colab": {
          "base_uri": "https://localhost:8080/"
        },
        "id": "tAGj93QgypLd",
        "outputId": "930fd765-33ed-495e-f6f9-0190f6c1c25c"
      },
      "execution_count": 8,
      "outputs": [
        {
          "output_type": "stream",
          "name": "stdout",
          "text": [
            "['A', 'X', 'E', 'G']\n",
            "[5, 10, 45]\n"
          ]
        }
      ]
    },
    {
      "cell_type": "code",
      "source": [
        "from functools import reduce\n",
        "def getsum(x,y):\n",
        "  return x+y\n",
        "def getprod(x,y):\n",
        "  return x*y\n",
        "lst=[2,3,5,6,53]\n",
        "s=reduce(getsum,lst)\n",
        "p=reduce(getprod,lst)\n",
        "print(s)\n",
        "print(p)"
      ],
      "metadata": {
        "colab": {
          "base_uri": "https://localhost:8080/"
        },
        "id": "whXOXOhazmbs",
        "outputId": "06057a88-4436-48ca-912b-b99397f273b1"
      },
      "execution_count": 9,
      "outputs": [
        {
          "output_type": "stream",
          "name": "stdout",
          "text": [
            "69\n",
            "9540\n"
          ]
        }
      ]
    },
    {
      "cell_type": "code",
      "source": [
        "lst1=[5,10,15,30,50]\n",
        "m=map(lambda n:n*n,lst1)\n",
        "print(list(m))\n",
        "lst2=[5,10,33,55,32]\n",
        "f=filter(lambda n:n%5==0,lst2)\n",
        "print(list(f))\n",
        "lst3=[1,3,4,5,6]\n",
        "s=reduce(lambda x,y:x+y,lst3)\n",
        "print(s)"
      ],
      "metadata": {
        "colab": {
          "base_uri": "https://localhost:8080/"
        },
        "id": "e7WDoXO80vKd",
        "outputId": "8f05d692-a706-4e62-c744-ae621fa82211"
      },
      "execution_count": 13,
      "outputs": [
        {
          "output_type": "stream",
          "name": "stdout",
          "text": [
            "[25, 100, 225, 900, 2500]\n",
            "[5, 10, 55]\n",
            "19\n"
          ]
        }
      ]
    },
    {
      "cell_type": "code",
      "source": [
        "p=reduce(lambda x,y:x*y,lst3)\n",
        "print(s,p)"
      ],
      "metadata": {
        "colab": {
          "base_uri": "https://localhost:8080/"
        },
        "id": "HNoeKVDk12hE",
        "outputId": "2a707295-6d05-4b64-ddfd-24a91e0c2e10"
      },
      "execution_count": 14,
      "outputs": [
        {
          "output_type": "stream",
          "name": "stdout",
          "text": [
            "19 360\n"
          ]
        }
      ]
    },
    {
      "cell_type": "code",
      "source": [
        "def fun(n):\n",
        "  return n>1000\n",
        "lst=[10,30,59,50]\n",
        "l=filter(fun,map(lambda x:x*x,lst))\n",
        "print(list(l))"
      ],
      "metadata": {
        "colab": {
          "base_uri": "https://localhost:8080/"
        },
        "id": "y2D4QrmH2Tb5",
        "outputId": "4f26dee7-208c-4be6-f8b3-29ab0fe2c3aa"
      },
      "execution_count": 16,
      "outputs": [
        {
          "output_type": "stream",
          "name": "stdout",
          "text": [
            "[3481, 2500]\n"
          ]
        }
      ]
    },
    {
      "cell_type": "code",
      "source": [
        "def fun():\n",
        "  print('in func')\n",
        "def disp():\n",
        "  print('in disp')\n",
        "def msg():\n",
        "  print('in message')\n",
        "lst=[fun,disp,msg]\n",
        "for f in lst:\n",
        "  f()"
      ],
      "metadata": {
        "colab": {
          "base_uri": "https://localhost:8080/"
        },
        "id": "UO5OtfPv2yLw",
        "outputId": "190d5c7c-85a6-4e81-cc94-afb13a3cb0b3"
      },
      "execution_count": 17,
      "outputs": [
        {
          "output_type": "stream",
          "name": "stdout",
          "text": [
            "in func\n",
            "in disp\n",
            "in message\n"
          ]
        }
      ]
    },
    {
      "cell_type": "code",
      "source": [
        "# suppose there are two lists,one containing numbers from 1 to 6, and other containing numbers from 6 to 1.Write a program to obtain a list that contains elements obtained by adding corresponding elements of the two lists.\n",
        "lst1=[1,2,3,4,5,6]\n",
        "lst2=[6,5,4,3,2,1]\n",
        "result=map(lambda n1,n2:n1+n2,lst1,lst2)\n",
        "print(list(result))"
      ],
      "metadata": {
        "colab": {
          "base_uri": "https://localhost:8080/"
        },
        "id": "4yFyrz-k3dSM",
        "outputId": "e99f5be9-f7f9-4489-d128-1e16a8faa018"
      },
      "execution_count": 18,
      "outputs": [
        {
          "output_type": "stream",
          "name": "stdout",
          "text": [
            "[7, 7, 7, 7, 7, 7]\n"
          ]
        }
      ]
    },
    {
      "cell_type": "code",
      "source": [
        "#write a program to create a new list by obtaining square of all numbers in a list.\n",
        "lst1=[5,7,9,-3,4,2]\n",
        "lst2=map(lambda n:n*n,lst1)\n",
        "print(list(lst2))"
      ],
      "metadata": {
        "colab": {
          "base_uri": "https://localhost:8080/"
        },
        "id": "wHIoVolS3aaH",
        "outputId": "b6eb820f-8cc7-40f3-ab51-bf6f13693611"
      },
      "execution_count": 19,
      "outputs": [
        {
          "output_type": "stream",
          "name": "stdout",
          "text": [
            "[25, 49, 81, 9, 16, 4]\n"
          ]
        }
      ]
    },
    {
      "cell_type": "code",
      "source": [
        "#Though map() function is available ready-made in Python, can you defineone yourself and test it?\n",
        "def my_map(fun,seq):\n",
        "  result=[]\n",
        "  for ele in seq:\n",
        "    result.append(fun(ele))\n",
        "  return result\n",
        "lst1=[5,6,7,-3,2,1]\n",
        "lst2=list(my_map(lambda n:n**2,lst1))\n",
        "print(lst2)"
      ],
      "metadata": {
        "colab": {
          "base_uri": "https://localhost:8080/"
        },
        "id": "sbmkEEW55I5b",
        "outputId": "3b541a27-5a58-4b96-c69a-fa26f0f4f895"
      },
      "execution_count": 1,
      "outputs": [
        {
          "output_type": "stream",
          "name": "stdout",
          "text": [
            "[25, 36, 49, 9, 4, 1]\n"
          ]
        }
      ]
    },
    {
      "cell_type": "code",
      "source": [
        "# Following data shows names,ages and marks of students in a class:\n",
        "#Anil,21,80\n",
        "#Sohail,20,90\n",
        "#Sunil,20,91\n",
        "#Shobha,18,93\n",
        "#Anil,19,85\n",
        "\n",
        "#write a program to sort this data on multiple keys in the order name,age and marks.\n",
        "\n",
        "import operator\n",
        "lst=[('Anil',21,80),('Sohail',20,90),('Sunil',20,91),('Shobha',18,93),('Anil',19,85),('Shobha',20,92)]\n",
        "print(sorted(lst,key=operator.itemgetter(0,1,2)))\n",
        "print(sorted(lst,key=lambda tpl:(tpl[0],tpl[1],tpl[2])))"
      ],
      "metadata": {
        "colab": {
          "base_uri": "https://localhost:8080/"
        },
        "id": "jZQBR3_UpHbk",
        "outputId": "c8f4b9d8-4ab9-49bd-b779-95dcbf83e32a"
      },
      "execution_count": 16,
      "outputs": [
        {
          "output_type": "stream",
          "name": "stdout",
          "text": [
            "[('Anil', 19, 85), ('Anil', 21, 80), ('Shobha', 18, 93), ('Shobha', 20, 92), ('Sohail', 20, 90), ('Sunil', 20, 91)]\n",
            "[('Anil', 19, 85), ('Anil', 21, 80), ('Shobha', 18, 93), ('Shobha', 20, 92), ('Sohail', 20, 90), ('Sunil', 20, 91)]\n"
          ]
        }
      ]
    },
    {
      "cell_type": "code",
      "source": [
        "#Suppose a dictionary contain key-value pairs,where key is an alphabet and value is a number.Write a program that obtains the maximum and minimum values from the dictionary.\n",
        "d={'x':25,'y':522,'z':255,'v':525}\n",
        "key_max=max(d.keys(),key=(lambda k:d[k]))\n",
        "key_min=min(d.keys(),key=(lambda k:d[k]))\n",
        "print('Maximum Value:',d[key_max])\n",
        "print('Minimum Value:',d[key_min])"
      ],
      "metadata": {
        "colab": {
          "base_uri": "https://localhost:8080/"
        },
        "id": "KZnowJ_VpuMA",
        "outputId": "21d830d7-8d5e-48e2-f5f5-3d9448c9e8e2"
      },
      "execution_count": 20,
      "outputs": [
        {
          "output_type": "stream",
          "name": "stdout",
          "text": [
            "Maximum Value: 525\n",
            "Minimum Value: 25\n"
          ]
        }
      ]
    },
    {
      "cell_type": "code",
      "source": [],
      "metadata": {
        "id": "bNrds2U5p2RF"
      },
      "execution_count": 20,
      "outputs": []
    },
    {
      "cell_type": "code",
      "source": [],
      "metadata": {
        "id": "Is78jvXOvwkp"
      },
      "execution_count": null,
      "outputs": []
    }
  ]
}
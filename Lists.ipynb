{
  "nbformat": 4,
  "nbformat_minor": 0,
  "metadata": {
    "colab": {
      "provenance": []
    },
    "kernelspec": {
      "name": "python3",
      "display_name": "Python 3"
    },
    "language_info": {
      "name": "python"
    }
  },
  "cells": [
    {
      "cell_type": "code",
      "execution_count": 1,
      "metadata": {
        "id": "ouoGHPIkslJW"
      },
      "outputs": [],
      "source": [
        "num=[10,25,30,24,12]\n",
        "names=['pavan','kumar','uppala']\n",
        "animal=['Zebra',155.55,110]\n",
        "ages=[10,22,22,25,54]\n",
        "num=[10]*5\n",
        "lst=[]"
      ]
    },
    {
      "cell_type": "code",
      "source": [
        "num"
      ],
      "metadata": {
        "colab": {
          "base_uri": "https://localhost:8080/"
        },
        "id": "iQ81oJQ_tZ3T",
        "outputId": "e13ca181-7b7e-4f3e-c0ca-2394c299c443"
      },
      "execution_count": 2,
      "outputs": [
        {
          "output_type": "execute_result",
          "data": {
            "text/plain": [
              "[10, 10, 10, 10, 10]"
            ]
          },
          "metadata": {},
          "execution_count": 2
        }
      ]
    },
    {
      "cell_type": "code",
      "source": [
        "lst"
      ],
      "metadata": {
        "colab": {
          "base_uri": "https://localhost:8080/"
        },
        "id": "0AQXLopotdXD",
        "outputId": "a5a66dcb-34b0-46cb-e22c-9a0dec78cbb9"
      },
      "execution_count": 3,
      "outputs": [
        {
          "output_type": "execute_result",
          "data": {
            "text/plain": [
              "[]"
            ]
          },
          "metadata": {},
          "execution_count": 3
        }
      ]
    },
    {
      "cell_type": "code",
      "source": [
        "animal[2]"
      ],
      "metadata": {
        "colab": {
          "base_uri": "https://localhost:8080/"
        },
        "id": "__7Defq_te0I",
        "outputId": "8954b4a1-869d-427a-c304-6948ba678da0"
      },
      "execution_count": 4,
      "outputs": [
        {
          "output_type": "execute_result",
          "data": {
            "text/plain": [
              "110"
            ]
          },
          "metadata": {},
          "execution_count": 4
        }
      ]
    },
    {
      "cell_type": "code",
      "source": [
        "animal[1:3]"
      ],
      "metadata": {
        "colab": {
          "base_uri": "https://localhost:8080/"
        },
        "id": "1TsrJDgptkKL",
        "outputId": "6046af19-9d4a-4281-d28c-b464d238ba4c"
      },
      "execution_count": 5,
      "outputs": [
        {
          "output_type": "execute_result",
          "data": {
            "text/plain": [
              "[155.55, 110]"
            ]
          },
          "metadata": {},
          "execution_count": 5
        }
      ]
    },
    {
      "cell_type": "code",
      "source": [
        "ages[2:]"
      ],
      "metadata": {
        "colab": {
          "base_uri": "https://localhost:8080/"
        },
        "id": "rFDeyoH5tolo",
        "outputId": "df0d5be0-52f0-4a67-eb42-9e87cceed682"
      },
      "execution_count": 6,
      "outputs": [
        {
          "output_type": "execute_result",
          "data": {
            "text/plain": [
              "[22, 25, 54]"
            ]
          },
          "metadata": {},
          "execution_count": 6
        }
      ]
    },
    {
      "cell_type": "code",
      "source": [
        "i=0\n",
        "while i<len(ages):\n",
        "  print(ages[i])\n",
        "  i+=1\n"
      ],
      "metadata": {
        "colab": {
          "base_uri": "https://localhost:8080/"
        },
        "id": "bp27UakUtt1_",
        "outputId": "95f3f7d3-5861-4b18-963c-6c2c0af521a6"
      },
      "execution_count": 7,
      "outputs": [
        {
          "output_type": "stream",
          "name": "stdout",
          "text": [
            "10\n",
            "22\n",
            "22\n",
            "25\n",
            "54\n"
          ]
        }
      ]
    },
    {
      "cell_type": "code",
      "source": [
        "for age in ages:\n",
        "  print(age)"
      ],
      "metadata": {
        "colab": {
          "base_uri": "https://localhost:8080/"
        },
        "id": "pLdSOOort54_",
        "outputId": "032c1c86-415f-4728-d1cf-543913529fee"
      },
      "execution_count": 8,
      "outputs": [
        {
          "output_type": "stream",
          "name": "stdout",
          "text": [
            "10\n",
            "22\n",
            "22\n",
            "25\n",
            "54\n"
          ]
        }
      ]
    },
    {
      "cell_type": "code",
      "source": [
        "for index,age in enumerate(ages):\n",
        "  print((index,age))"
      ],
      "metadata": {
        "colab": {
          "base_uri": "https://localhost:8080/"
        },
        "id": "SglzPcinuBqY",
        "outputId": "2870034d-24ce-4ea5-c2c6-795f854c19b0"
      },
      "execution_count": 9,
      "outputs": [
        {
          "output_type": "stream",
          "name": "stdout",
          "text": [
            "(0, 10)\n",
            "(1, 22)\n",
            "(2, 22)\n",
            "(3, 25)\n",
            "(4, 54)\n"
          ]
        }
      ]
    },
    {
      "cell_type": "code",
      "source": [
        "ages[2:]=[]# deletes the elements from the ages list from the index 2 to end."
      ],
      "metadata": {
        "id": "5QRevIMMuNBC"
      },
      "execution_count": 12,
      "outputs": []
    },
    {
      "cell_type": "code",
      "source": [
        "ages"
      ],
      "metadata": {
        "colab": {
          "base_uri": "https://localhost:8080/"
        },
        "id": "oEssan-UuTlv",
        "outputId": "ce01b47e-025d-4fed-988e-6f703fe05024"
      },
      "execution_count": 13,
      "outputs": [
        {
          "output_type": "execute_result",
          "data": {
            "text/plain": [
              "[10, 22]"
            ]
          },
          "metadata": {},
          "execution_count": 13
        }
      ]
    },
    {
      "cell_type": "code",
      "source": [
        "lst=[1,2,3]\n",
        "lst1=[2,3,4]\n",
        "lst2=lst+lst1"
      ],
      "metadata": {
        "id": "Qhy-m4J8uVLp"
      },
      "execution_count": 14,
      "outputs": []
    },
    {
      "cell_type": "code",
      "source": [
        "lst2"
      ],
      "metadata": {
        "colab": {
          "base_uri": "https://localhost:8080/"
        },
        "id": "PBJLR4pNu3Mz",
        "outputId": "0055e9ff-0d23-4ca4-86ca-a1c595a35159"
      },
      "execution_count": 15,
      "outputs": [
        {
          "output_type": "execute_result",
          "data": {
            "text/plain": [
              "[1, 2, 3, 2, 3, 4]"
            ]
          },
          "metadata": {},
          "execution_count": 15
        }
      ]
    },
    {
      "cell_type": "code",
      "source": [
        "lst=[1,2]"
      ],
      "metadata": {
        "id": "4aWYIEoGu4Kt"
      },
      "execution_count": 16,
      "outputs": []
    },
    {
      "cell_type": "code",
      "source": [
        "lst3=lst+lst1"
      ],
      "metadata": {
        "id": "Gaue8XdZu7xr"
      },
      "execution_count": 17,
      "outputs": []
    },
    {
      "cell_type": "code",
      "source": [
        "lst3"
      ],
      "metadata": {
        "colab": {
          "base_uri": "https://localhost:8080/"
        },
        "id": "9IgaQJAgu-Px",
        "outputId": "1d0b99d8-f208-45bf-8f97-2a842151c38e"
      },
      "execution_count": 18,
      "outputs": [
        {
          "output_type": "execute_result",
          "data": {
            "text/plain": [
              "[1, 2, 2, 3, 4]"
            ]
          },
          "metadata": {},
          "execution_count": 18
        }
      ]
    },
    {
      "cell_type": "code",
      "source": [
        "list('Pavan Kumar Uppala')"
      ],
      "metadata": {
        "colab": {
          "base_uri": "https://localhost:8080/"
        },
        "id": "BotBqfmVu_q_",
        "outputId": "0081fb43-b01e-4d71-9f1d-e04aaca6a427"
      },
      "execution_count": 19,
      "outputs": [
        {
          "output_type": "execute_result",
          "data": {
            "text/plain": [
              "['P',\n",
              " 'a',\n",
              " 'v',\n",
              " 'a',\n",
              " 'n',\n",
              " ' ',\n",
              " 'K',\n",
              " 'u',\n",
              " 'm',\n",
              " 'a',\n",
              " 'r',\n",
              " ' ',\n",
              " 'U',\n",
              " 'p',\n",
              " 'p',\n",
              " 'a',\n",
              " 'l',\n",
              " 'a']"
            ]
          },
          "metadata": {},
          "execution_count": 19
        }
      ]
    },
    {
      "cell_type": "code",
      "source": [
        "# copying a list.\n",
        "lst1=[]\n",
        "lst2=lst+lst1\n",
        "lst2"
      ],
      "metadata": {
        "colab": {
          "base_uri": "https://localhost:8080/"
        },
        "id": "4LqzVIFcvFif",
        "outputId": "55285cb9-7f44-46ea-e907-660278a8dfdc"
      },
      "execution_count": 20,
      "outputs": [
        {
          "output_type": "execute_result",
          "data": {
            "text/plain": [
              "[1, 2]"
            ]
          },
          "metadata": {},
          "execution_count": 20
        }
      ]
    },
    {
      "cell_type": "code",
      "source": [
        "print(lst==lst2)"
      ],
      "metadata": {
        "colab": {
          "base_uri": "https://localhost:8080/"
        },
        "id": "YGct_7sEvYmH",
        "outputId": "418eb2f7-c3f2-4363-faba-c6df17b4a9f1"
      },
      "execution_count": 22,
      "outputs": [
        {
          "output_type": "stream",
          "name": "stdout",
          "text": [
            "True\n"
          ]
        }
      ]
    },
    {
      "cell_type": "code",
      "source": [
        "#aliasing a list.\n",
        "lst2=lst3"
      ],
      "metadata": {
        "id": "3BTLJcoNveVz"
      },
      "execution_count": 24,
      "outputs": []
    },
    {
      "cell_type": "code",
      "source": [
        "lst"
      ],
      "metadata": {
        "colab": {
          "base_uri": "https://localhost:8080/"
        },
        "id": "-IK7MJMovxLj",
        "outputId": "5718209d-a1c6-4395-bd5e-04ca38ab9084"
      },
      "execution_count": 28,
      "outputs": [
        {
          "output_type": "execute_result",
          "data": {
            "text/plain": [
              "[1, 2]"
            ]
          },
          "metadata": {},
          "execution_count": 28
        }
      ]
    },
    {
      "cell_type": "code",
      "source": [
        "lst2"
      ],
      "metadata": {
        "colab": {
          "base_uri": "https://localhost:8080/"
        },
        "id": "zSnp3y5kv5AR",
        "outputId": "9b260d6a-fc12-4712-f808-d3dedc94fd30"
      },
      "execution_count": 29,
      "outputs": [
        {
          "output_type": "execute_result",
          "data": {
            "text/plain": [
              "[1, 2, 2, 3, 4]"
            ]
          },
          "metadata": {},
          "execution_count": 29
        }
      ]
    },
    {
      "cell_type": "code",
      "source": [
        "lst is not lst2"
      ],
      "metadata": {
        "colab": {
          "base_uri": "https://localhost:8080/"
        },
        "id": "D-vcy3ioxBeo",
        "outputId": "a0f43307-4517-4bf7-e086-c4290f9152ea"
      },
      "execution_count": 30,
      "outputs": [
        {
          "output_type": "execute_result",
          "data": {
            "text/plain": [
              "True"
            ]
          },
          "metadata": {},
          "execution_count": 30
        }
      ]
    },
    {
      "cell_type": "code",
      "source": [
        "lst=[]\n",
        "if not lst:\n",
        "  print('Empty List')"
      ],
      "metadata": {
        "colab": {
          "base_uri": "https://localhost:8080/"
        },
        "id": "XVZyl0x0xH5i",
        "outputId": "f6588dbd-0ff5-4d28-84f1-5a382c6cd969"
      },
      "execution_count": 31,
      "outputs": [
        {
          "output_type": "stream",
          "name": "stdout",
          "text": [
            "Empty List\n"
          ]
        }
      ]
    },
    {
      "cell_type": "code",
      "source": [
        "print(bool(lst))"
      ],
      "metadata": {
        "colab": {
          "base_uri": "https://localhost:8080/"
        },
        "id": "XUR4oZjlxRL6",
        "outputId": "a3055fe4-1aaf-49ca-91c7-6bd9697c1140"
      },
      "execution_count": 32,
      "outputs": [
        {
          "output_type": "stream",
          "name": "stdout",
          "text": [
            "False\n"
          ]
        }
      ]
    },
    {
      "cell_type": "code",
      "source": [
        "lst=[1,2,85,8,4,6,4,5,4,2,558,25]"
      ],
      "metadata": {
        "id": "LGjL7hBXxXTt"
      },
      "execution_count": 33,
      "outputs": []
    },
    {
      "cell_type": "code",
      "source": [
        "lst.append(5)"
      ],
      "metadata": {
        "id": "ShC3-SNpxeVT"
      },
      "execution_count": 34,
      "outputs": []
    },
    {
      "cell_type": "code",
      "source": [
        "lst.extend(lst2)"
      ],
      "metadata": {
        "id": "dyrMUFOVxkh4"
      },
      "execution_count": 35,
      "outputs": []
    },
    {
      "cell_type": "code",
      "source": [
        "lst"
      ],
      "metadata": {
        "colab": {
          "base_uri": "https://localhost:8080/"
        },
        "id": "qE2hD1raxnik",
        "outputId": "0a652147-1cf1-4d4b-ef3f-94ea0988cfbe"
      },
      "execution_count": 36,
      "outputs": [
        {
          "output_type": "execute_result",
          "data": {
            "text/plain": [
              "[1, 2, 85, 8, 4, 6, 4, 5, 4, 2, 558, 25, 5, 1, 2, 2, 3, 4]"
            ]
          },
          "metadata": {},
          "execution_count": 36
        }
      ]
    },
    {
      "cell_type": "code",
      "source": [
        "lst.remove(4)"
      ],
      "metadata": {
        "id": "KnlE41rKxo3J"
      },
      "execution_count": 37,
      "outputs": []
    },
    {
      "cell_type": "code",
      "source": [
        "lst"
      ],
      "metadata": {
        "colab": {
          "base_uri": "https://localhost:8080/"
        },
        "id": "M3R55RuexsgW",
        "outputId": "bbca77e6-c830-423d-ca3c-bbccf6dbf890"
      },
      "execution_count": 38,
      "outputs": [
        {
          "output_type": "execute_result",
          "data": {
            "text/plain": [
              "[1, 2, 85, 8, 6, 4, 5, 4, 2, 558, 25, 5, 1, 2, 2, 3, 4]"
            ]
          },
          "metadata": {},
          "execution_count": 38
        }
      ]
    },
    {
      "cell_type": "code",
      "source": [
        "lst.pop()"
      ],
      "metadata": {
        "colab": {
          "base_uri": "https://localhost:8080/"
        },
        "id": "wRDvQ0A0xtIr",
        "outputId": "a4318417-d4c3-4df5-c600-a43db7ad2a5f"
      },
      "execution_count": 39,
      "outputs": [
        {
          "output_type": "execute_result",
          "data": {
            "text/plain": [
              "4"
            ]
          },
          "metadata": {},
          "execution_count": 39
        }
      ]
    },
    {
      "cell_type": "code",
      "source": [
        "lst.pop(5)"
      ],
      "metadata": {
        "colab": {
          "base_uri": "https://localhost:8080/"
        },
        "id": "XOi-PiktxwZ-",
        "outputId": "a8d18af9-e241-42ac-f8bb-67352d9abc3d"
      },
      "execution_count": 40,
      "outputs": [
        {
          "output_type": "execute_result",
          "data": {
            "text/plain": [
              "4"
            ]
          },
          "metadata": {},
          "execution_count": 40
        }
      ]
    },
    {
      "cell_type": "code",
      "source": [
        "lst.insert(1,55)"
      ],
      "metadata": {
        "id": "_elXYU-cxyZF"
      },
      "execution_count": 41,
      "outputs": []
    },
    {
      "cell_type": "code",
      "source": [
        "lst"
      ],
      "metadata": {
        "colab": {
          "base_uri": "https://localhost:8080/"
        },
        "id": "ATlxvXu2x2tl",
        "outputId": "329dbbde-7e59-447b-f5f7-a07715bc931d"
      },
      "execution_count": 42,
      "outputs": [
        {
          "output_type": "execute_result",
          "data": {
            "text/plain": [
              "[1, 55, 2, 85, 8, 6, 5, 4, 2, 558, 25, 5, 1, 2, 2, 3]"
            ]
          },
          "metadata": {},
          "execution_count": 42
        }
      ]
    },
    {
      "cell_type": "code",
      "source": [
        "lst.count(4)"
      ],
      "metadata": {
        "colab": {
          "base_uri": "https://localhost:8080/"
        },
        "id": "F5li7WYUx3Oi",
        "outputId": "0af33bce-a34d-4a9a-be83-d5c74053e763"
      },
      "execution_count": 43,
      "outputs": [
        {
          "output_type": "execute_result",
          "data": {
            "text/plain": [
              "1"
            ]
          },
          "metadata": {},
          "execution_count": 43
        }
      ]
    },
    {
      "cell_type": "code",
      "source": [
        "lst.count(2)"
      ],
      "metadata": {
        "colab": {
          "base_uri": "https://localhost:8080/"
        },
        "id": "DV-Ten4Wx6yx",
        "outputId": "4bd61208-034d-45f6-e8d0-cf4f6a179ecc"
      },
      "execution_count": 44,
      "outputs": [
        {
          "output_type": "execute_result",
          "data": {
            "text/plain": [
              "4"
            ]
          },
          "metadata": {},
          "execution_count": 44
        }
      ]
    },
    {
      "cell_type": "code",
      "source": [
        "lst.reverse()"
      ],
      "metadata": {
        "id": "EDlFq2q5x9Gu"
      },
      "execution_count": 45,
      "outputs": []
    },
    {
      "cell_type": "code",
      "source": [
        "lst"
      ],
      "metadata": {
        "colab": {
          "base_uri": "https://localhost:8080/"
        },
        "id": "zH-9dVACx_zh",
        "outputId": "72111a61-8d79-405d-9229-879e3aaa9ca1"
      },
      "execution_count": 46,
      "outputs": [
        {
          "output_type": "execute_result",
          "data": {
            "text/plain": [
              "[3, 2, 2, 1, 5, 25, 558, 2, 4, 5, 6, 8, 85, 2, 55, 1]"
            ]
          },
          "metadata": {},
          "execution_count": 46
        }
      ]
    },
    {
      "cell_type": "code",
      "source": [
        "lst.sort()"
      ],
      "metadata": {
        "id": "P2syZ3HDyAn6"
      },
      "execution_count": 47,
      "outputs": []
    },
    {
      "cell_type": "code",
      "source": [
        "lst"
      ],
      "metadata": {
        "colab": {
          "base_uri": "https://localhost:8080/"
        },
        "id": "-bAjcQo_yDKp",
        "outputId": "0df8a720-ae1b-4333-b4d1-612f853c0226"
      },
      "execution_count": 48,
      "outputs": [
        {
          "output_type": "execute_result",
          "data": {
            "text/plain": [
              "[1, 1, 2, 2, 2, 2, 3, 4, 5, 5, 6, 8, 25, 55, 85, 558]"
            ]
          },
          "metadata": {},
          "execution_count": 48
        }
      ]
    },
    {
      "cell_type": "code",
      "source": [
        "lst.sort(reverse=True)"
      ],
      "metadata": {
        "id": "5rU92WRkyD9-"
      },
      "execution_count": 49,
      "outputs": []
    },
    {
      "cell_type": "code",
      "source": [
        "lst"
      ],
      "metadata": {
        "colab": {
          "base_uri": "https://localhost:8080/"
        },
        "id": "qs1yoLj5yGlw",
        "outputId": "9499f68a-e70c-424a-90c2-c05ff695d676"
      },
      "execution_count": 50,
      "outputs": [
        {
          "output_type": "execute_result",
          "data": {
            "text/plain": [
              "[558, 85, 55, 25, 8, 6, 5, 5, 4, 3, 2, 2, 2, 2, 1, 1]"
            ]
          },
          "metadata": {},
          "execution_count": 50
        }
      ]
    },
    {
      "cell_type": "code",
      "source": [
        "print(sorted(lst))"
      ],
      "metadata": {
        "colab": {
          "base_uri": "https://localhost:8080/"
        },
        "id": "u3CZipotyHc-",
        "outputId": "7e4fc5dc-8b7b-40e2-ca22-efbed651cf0e"
      },
      "execution_count": 51,
      "outputs": [
        {
          "output_type": "stream",
          "name": "stdout",
          "text": [
            "[1, 1, 2, 2, 2, 2, 3, 4, 5, 5, 6, 8, 25, 55, 85, 558]\n"
          ]
        }
      ]
    },
    {
      "cell_type": "code",
      "source": [
        "print(sorted(lst,reverse=True))"
      ],
      "metadata": {
        "colab": {
          "base_uri": "https://localhost:8080/"
        },
        "id": "J_n-_X3MyO5V",
        "outputId": "b90a6f6a-ac21-4525-d136-61ed87670f82"
      },
      "execution_count": 53,
      "outputs": [
        {
          "output_type": "stream",
          "name": "stdout",
          "text": [
            "[558, 85, 55, 25, 8, 6, 5, 5, 4, 3, 2, 2, 2, 2, 1, 1]\n"
          ]
        }
      ]
    },
    {
      "cell_type": "code",
      "source": [
        "lstlst=[1,2,3,[22,224,4]]"
      ],
      "metadata": {
        "id": "JndteZJ5yYlj"
      },
      "execution_count": 2,
      "outputs": []
    },
    {
      "cell_type": "code",
      "source": [
        "lstlst=[*lstlst[3]]"
      ],
      "metadata": {
        "id": "XZoFsVQ6ynzM"
      },
      "execution_count": 5,
      "outputs": []
    },
    {
      "cell_type": "code",
      "source": [
        "lstlst"
      ],
      "metadata": {
        "colab": {
          "base_uri": "https://localhost:8080/"
        },
        "id": "IV1nWLMRy7MO",
        "outputId": "80bf88d7-b091-488c-eb0a-578cbe70e5b1"
      },
      "execution_count": 6,
      "outputs": [
        {
          "output_type": "execute_result",
          "data": {
            "text/plain": [
              "[22, 224, 4]"
            ]
          },
          "metadata": {},
          "execution_count": 6
        }
      ]
    },
    {
      "cell_type": "code",
      "source": [
        "print(id(lstlst))"
      ],
      "metadata": {
        "colab": {
          "base_uri": "https://localhost:8080/"
        },
        "id": "b4FXGX02IWJ7",
        "outputId": "101d9db1-e5c6-4258-922b-94bd996c3d4e"
      },
      "execution_count": 8,
      "outputs": [
        {
          "output_type": "stream",
          "name": "stdout",
          "text": [
            "140655414763392\n"
          ]
        }
      ]
    },
    {
      "cell_type": "code",
      "source": [
        "# Write a program to generate and store in a list 20 random numbers in the range 10 to 100. From this list delete all those entries which have value between 20 and 50. Print the remaining list.\n",
        "import random\n",
        "a=[]\n",
        "i=1\n",
        "while i<=20:\n",
        "  num=random.randint(10,100)\n",
        "  a.append(num)\n",
        "  i+=1\n",
        "print(a)\n",
        "for num in a:\n",
        "  if num>20  or num<50:\n",
        "    a.remove(num)\n",
        "print(a)"
      ],
      "metadata": {
        "colab": {
          "base_uri": "https://localhost:8080/"
        },
        "id": "mgS1geMyy8Um",
        "outputId": "1cdff9af-1039-485f-cd1b-8445572e610f"
      },
      "execution_count": 7,
      "outputs": [
        {
          "output_type": "stream",
          "name": "stdout",
          "text": [
            "[96, 26, 83, 18, 68, 81, 25, 50, 49, 52, 76, 17, 19, 51, 70, 27, 73, 20, 91, 11]\n",
            "[26, 18, 81, 50, 52, 17, 51, 27, 20, 11]\n"
          ]
        }
      ]
    },
    {
      "cell_type": "code",
      "source": [],
      "metadata": {
        "id": "qnwegy3iH60X"
      },
      "execution_count": null,
      "outputs": []
    }
  ]
}
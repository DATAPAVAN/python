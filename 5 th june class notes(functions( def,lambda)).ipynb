{
 "cells": [
  {
   "cell_type": "code",
   "execution_count": 6,
   "id": "ff1dfaf6",
   "metadata": {},
   "outputs": [],
   "source": [
    "def test(a,b):\n",
    "    '''this is my function for addition two variables'''\n",
    "    return a+b"
   ]
  },
  {
   "cell_type": "code",
   "execution_count": 7,
   "id": "d58a1d09",
   "metadata": {},
   "outputs": [
    {
     "data": {
      "text/plain": [
       "10"
      ]
     },
     "execution_count": 7,
     "metadata": {},
     "output_type": "execute_result"
    }
   ],
   "source": [
    "test(4,6) "
   ]
  },
  {
   "cell_type": "code",
   "execution_count": 8,
   "id": "39e2559d",
   "metadata": {},
   "outputs": [
    {
     "ename": "TypeError",
     "evalue": "test() takes 2 positional arguments but 3 were given",
     "output_type": "error",
     "traceback": [
      "\u001b[1;31m---------------------------------------------------------------------------\u001b[0m",
      "\u001b[1;31mTypeError\u001b[0m                                 Traceback (most recent call last)",
      "Input \u001b[1;32mIn [8]\u001b[0m, in \u001b[0;36m<cell line: 1>\u001b[1;34m()\u001b[0m\n\u001b[1;32m----> 1\u001b[0m \u001b[43mtest\u001b[49m\u001b[43m(\u001b[49m\u001b[38;5;241;43m4\u001b[39;49m\u001b[43m,\u001b[49m\u001b[38;5;241;43m6\u001b[39;49m\u001b[43m,\u001b[49m\u001b[38;5;241;43m7\u001b[39;49m\u001b[43m)\u001b[49m\n",
      "\u001b[1;31mTypeError\u001b[0m: test() takes 2 positional arguments but 3 were given"
     ]
    }
   ],
   "source": [
    "test(4,6,7)            "
   ]
  },
  {
   "cell_type": "code",
   "execution_count": 10,
   "id": "5f84ee72",
   "metadata": {},
   "outputs": [],
   "source": [
    "def test(*a):\n",
    "    return a\n"
   ]
  },
  {
   "cell_type": "code",
   "execution_count": 11,
   "id": "efe81e7a",
   "metadata": {},
   "outputs": [
    {
     "data": {
      "text/plain": [
       "(1, 2, 3)"
      ]
     },
     "execution_count": 11,
     "metadata": {},
     "output_type": "execute_result"
    }
   ],
   "source": [
    "test(1,2,3)"
   ]
  },
  {
   "cell_type": "code",
   "execution_count": 12,
   "id": "fdf32bdd",
   "metadata": {},
   "outputs": [],
   "source": [
    "## *a means static of a"
   ]
  },
  {
   "cell_type": "code",
   "execution_count": 13,
   "id": "fdc6cace",
   "metadata": {},
   "outputs": [],
   "source": [
    "def l0(*a):\n",
    "    l=[]\n",
    "    for i in a:\n",
    "        l.append(i)\n",
    "    return l"
   ]
  },
  {
   "cell_type": "code",
   "execution_count": 14,
   "id": "c25c34fe",
   "metadata": {},
   "outputs": [
    {
     "data": {
      "text/plain": [
       "[5, 2, 34]"
      ]
     },
     "execution_count": 14,
     "metadata": {},
     "output_type": "execute_result"
    }
   ],
   "source": [
    "l0(5,2,34)"
   ]
  },
  {
   "cell_type": "code",
   "execution_count": 21,
   "id": "b122cf89",
   "metadata": {},
   "outputs": [],
   "source": [
    "def test2(a,b,c,*d):\n",
    "    return a,b,c,d"
   ]
  },
  {
   "cell_type": "code",
   "execution_count": 22,
   "id": "2433af83",
   "metadata": {},
   "outputs": [
    {
     "data": {
      "text/plain": [
       "(1, 2, 3, (4, 5, 56, 0))"
      ]
     },
     "execution_count": 22,
     "metadata": {},
     "output_type": "execute_result"
    }
   ],
   "source": [
    "test2(1,2,3,4,5,56,0)"
   ]
  },
  {
   "cell_type": "code",
   "execution_count": 23,
   "id": "f7240b24",
   "metadata": {},
   "outputs": [],
   "source": [
    "def test3(*a,b,c,d,e):\n",
    "    return a,b,c,d,e"
   ]
  },
  {
   "cell_type": "code",
   "execution_count": 27,
   "id": "eea0c4b2",
   "metadata": {},
   "outputs": [
    {
     "ename": "TypeError",
     "evalue": "test3() missing 4 required keyword-only arguments: 'b', 'c', 'd', and 'e'",
     "output_type": "error",
     "traceback": [
      "\u001b[1;31m---------------------------------------------------------------------------\u001b[0m",
      "\u001b[1;31mTypeError\u001b[0m                                 Traceback (most recent call last)",
      "Input \u001b[1;32mIn [27]\u001b[0m, in \u001b[0;36m<cell line: 1>\u001b[1;34m()\u001b[0m\n\u001b[1;32m----> 1\u001b[0m \u001b[43mtest3\u001b[49m\u001b[43m(\u001b[49m\u001b[38;5;241;43m1\u001b[39;49m\u001b[43m,\u001b[49m\u001b[38;5;241;43m2\u001b[39;49m\u001b[43m,\u001b[49m\u001b[38;5;241;43m34\u001b[39;49m\u001b[43m,\u001b[49m\u001b[38;5;241;43m5\u001b[39;49m\u001b[43m,\u001b[49m\u001b[38;5;241;43m6.78\u001b[39;49m\u001b[43m,\u001b[49m\u001b[38;5;241;43m89\u001b[39;49m\u001b[43m)\u001b[49m\n",
      "\u001b[1;31mTypeError\u001b[0m: test3() missing 4 required keyword-only arguments: 'b', 'c', 'd', and 'e'"
     ]
    }
   ],
   "source": [
    "test3(1,2,34,5,6.78,89)"
   ]
  },
  {
   "cell_type": "code",
   "execution_count": 26,
   "id": "7ee5a4f2",
   "metadata": {},
   "outputs": [
    {
     "data": {
      "text/plain": [
       "((1, 2, 3, 4, 5, 6), 7, 10, 5, 88)"
      ]
     },
     "execution_count": 26,
     "metadata": {},
     "output_type": "execute_result"
    }
   ],
   "source": [
    "test3(1,2,3,4,5,6,b=7,c=10,d=5,e=88)"
   ]
  },
  {
   "cell_type": "code",
   "execution_count": 28,
   "id": "1b378887",
   "metadata": {},
   "outputs": [],
   "source": [
    "def test4(**pavan):\n",
    "    return pavan\n",
    "    "
   ]
  },
  {
   "cell_type": "code",
   "execution_count": 29,
   "id": "f71bc88d",
   "metadata": {},
   "outputs": [
    {
     "ename": "TypeError",
     "evalue": "test4() takes 0 positional arguments but 3 were given",
     "output_type": "error",
     "traceback": [
      "\u001b[1;31m---------------------------------------------------------------------------\u001b[0m",
      "\u001b[1;31mTypeError\u001b[0m                                 Traceback (most recent call last)",
      "Input \u001b[1;32mIn [29]\u001b[0m, in \u001b[0;36m<cell line: 1>\u001b[1;34m()\u001b[0m\n\u001b[1;32m----> 1\u001b[0m \u001b[43mtest4\u001b[49m\u001b[43m(\u001b[49m\u001b[38;5;241;43m1\u001b[39;49m\u001b[43m,\u001b[49m\u001b[38;5;241;43m2\u001b[39;49m\u001b[43m,\u001b[49m\u001b[38;5;241;43m34\u001b[39;49m\u001b[43m)\u001b[49m\n",
      "\u001b[1;31mTypeError\u001b[0m: test4() takes 0 positional arguments but 3 were given"
     ]
    }
   ],
   "source": [
    "test4(1,2,34)"
   ]
  },
  {
   "cell_type": "code",
   "execution_count": 30,
   "id": "e0d2a1bc",
   "metadata": {},
   "outputs": [
    {
     "data": {
      "text/plain": [
       "{'a': 1, 'b': 2, 'v': 3}"
      ]
     },
     "execution_count": 30,
     "metadata": {},
     "output_type": "execute_result"
    }
   ],
   "source": [
    "test4(a=1,b=2,v=3)"
   ]
  },
  {
   "cell_type": "code",
   "execution_count": 31,
   "id": "37ff2e10",
   "metadata": {},
   "outputs": [],
   "source": [
    "## **a means douple static of a(dictionary as output)(key and value as input)"
   ]
  },
  {
   "cell_type": "code",
   "execution_count": 33,
   "id": "1f029116",
   "metadata": {},
   "outputs": [],
   "source": [
    "def test5(*a,**b):\n",
    "    return a,b"
   ]
  },
  {
   "cell_type": "code",
   "execution_count": 34,
   "id": "d031cfe0",
   "metadata": {},
   "outputs": [
    {
     "data": {
      "text/plain": [
       "((1, 2, 3, 5, 6, 45, 8, 9, 5465, 545, 455, 5), {})"
      ]
     },
     "execution_count": 34,
     "metadata": {},
     "output_type": "execute_result"
    }
   ],
   "source": [
    "test5(1,2,3,5,6,45,8,9,5465,545,455,5)"
   ]
  },
  {
   "cell_type": "code",
   "execution_count": 35,
   "id": "6d1f4086",
   "metadata": {},
   "outputs": [
    {
     "ename": "SyntaxError",
     "evalue": "positional argument follows keyword argument (1654699233.py, line 1)",
     "output_type": "error",
     "traceback": [
      "\u001b[1;36m  Input \u001b[1;32mIn [35]\u001b[1;36m\u001b[0m\n\u001b[1;33m    test5(1,2,3,5,6,45,8,9,5465,a=5,b=45,455,5)\u001b[0m\n\u001b[1;37m                                              ^\u001b[0m\n\u001b[1;31mSyntaxError\u001b[0m\u001b[1;31m:\u001b[0m positional argument follows keyword argument\n"
     ]
    }
   ],
   "source": [
    "test5(1,2,3,5,6,45,8,9,5465,a=5,b=45,455,5)"
   ]
  },
  {
   "cell_type": "code",
   "execution_count": 36,
   "id": "b9991164",
   "metadata": {},
   "outputs": [
    {
     "data": {
      "text/plain": [
       "((1, 2, 3, 5, 6, 45, 8, 9, 5465), {'a': 5, 'b': 45, 'c': 455, 'd': 5})"
      ]
     },
     "execution_count": 36,
     "metadata": {},
     "output_type": "execute_result"
    }
   ],
   "source": [
    "test5(1,2,3,5,6,45,8,9,5465,a=5,b=45,c=455,d=5)"
   ]
  },
  {
   "cell_type": "code",
   "execution_count": 42,
   "id": "c26e11fb",
   "metadata": {},
   "outputs": [],
   "source": [
    "def test(*a):\n",
    "    n=1\n",
    "    for i in a:\n",
    "        if type(i)==int:\n",
    "            n=n*i\n",
    "    return n"
   ]
  },
  {
   "cell_type": "code",
   "execution_count": 43,
   "id": "b1be41e0",
   "metadata": {},
   "outputs": [
    {
     "data": {
      "text/plain": [
       "5629320"
      ]
     },
     "execution_count": 43,
     "metadata": {},
     "output_type": "execute_result"
    }
   ],
   "source": [
    "test(12345,456)"
   ]
  },
  {
   "cell_type": "code",
   "execution_count": 56,
   "id": "f1087843",
   "metadata": {},
   "outputs": [],
   "source": [
    "def test(*a):\n",
    "    n=1\n",
    "    for i in a:\n",
    "        if type(i)==int:\n",
    "            n=n+i\n",
    "    return n"
   ]
  },
  {
   "cell_type": "code",
   "execution_count": 57,
   "id": "d78e49a0",
   "metadata": {},
   "outputs": [
    {
     "data": {
      "text/plain": [
       "43"
      ]
     },
     "execution_count": 57,
     "metadata": {},
     "output_type": "execute_result"
    }
   ],
   "source": [
    "test(1,2,34,5)"
   ]
  },
  {
   "cell_type": "code",
   "execution_count": 58,
   "id": "3b71421a",
   "metadata": {},
   "outputs": [],
   "source": [
    "def test(*a):\n",
    "    n=0\n",
    "    for i in a:\n",
    "        if type(i)==int:\n",
    "            n=n+i\n",
    "    return n"
   ]
  },
  {
   "cell_type": "code",
   "execution_count": 59,
   "id": "aa201cda",
   "metadata": {},
   "outputs": [
    {
     "data": {
      "text/plain": [
       "42"
      ]
     },
     "execution_count": 59,
     "metadata": {},
     "output_type": "execute_result"
    }
   ],
   "source": [
    "test(1,2,34,5)"
   ]
  },
  {
   "cell_type": "code",
   "execution_count": 60,
   "id": "22e5e8a0",
   "metadata": {},
   "outputs": [],
   "source": [
    "n=lambda a,b:a+b"
   ]
  },
  {
   "cell_type": "code",
   "execution_count": 61,
   "id": "5c571406",
   "metadata": {},
   "outputs": [
    {
     "data": {
      "text/plain": [
       "3"
      ]
     },
     "execution_count": 61,
     "metadata": {},
     "output_type": "execute_result"
    }
   ],
   "source": [
    "n(1,2)"
   ]
  },
  {
   "cell_type": "code",
   "execution_count": 63,
   "id": "8c5fa1f4",
   "metadata": {},
   "outputs": [],
   "source": [
    "## lambda function is anonymous function for simple logics"
   ]
  },
  {
   "cell_type": "code",
   "execution_count": 64,
   "id": "9b7838c7",
   "metadata": {},
   "outputs": [],
   "source": [
    "b=lambda *pavan:pavan"
   ]
  },
  {
   "cell_type": "code",
   "execution_count": 65,
   "id": "b5177643",
   "metadata": {},
   "outputs": [
    {
     "data": {
      "text/plain": [
       "(1, 2, 0.3, 4)"
      ]
     },
     "execution_count": 65,
     "metadata": {},
     "output_type": "execute_result"
    }
   ],
   "source": [
    "b(1,2,.3,4)"
   ]
  },
  {
   "cell_type": "code",
   "execution_count": 66,
   "id": "8c665969",
   "metadata": {},
   "outputs": [],
   "source": [
    "s='pavan kuamar'"
   ]
  },
  {
   "cell_type": "code",
   "execution_count": 67,
   "id": "9b862cb4",
   "metadata": {},
   "outputs": [
    {
     "data": {
      "text/plain": [
       "['p', 'a', 'v', 'a', 'n', ' ', 'k', 'u', 'a', 'm', 'a', 'r']"
      ]
     },
     "execution_count": 67,
     "metadata": {},
     "output_type": "execute_result"
    }
   ],
   "source": [
    "[i for i in s]"
   ]
  },
  {
   "cell_type": "code",
   "execution_count": 77,
   "id": "1a07c2c0",
   "metadata": {},
   "outputs": [],
   "source": [
    "p=range(10)"
   ]
  },
  {
   "cell_type": "code",
   "execution_count": 78,
   "id": "eef3db09",
   "metadata": {},
   "outputs": [
    {
     "data": {
      "text/plain": [
       "[0, 1, 4, 9, 16, 25, 36, 49, 64, 81]"
      ]
     },
     "execution_count": 78,
     "metadata": {},
     "output_type": "execute_result"
    }
   ],
   "source": [
    "[i*i for i in p]"
   ]
  },
  {
   "cell_type": "code",
   "execution_count": 75,
   "id": "beabd70c",
   "metadata": {},
   "outputs": [],
   "source": [
    "l1=[]\n",
    "for i in range(15):\n",
    "    l1.append(i*i)"
   ]
  },
  {
   "cell_type": "code",
   "execution_count": 76,
   "id": "9c92e67e",
   "metadata": {},
   "outputs": [
    {
     "data": {
      "text/plain": [
       "[0, 1, 4, 9, 16, 25, 36, 49, 64, 81, 100, 121, 144, 169, 196]"
      ]
     },
     "execution_count": 76,
     "metadata": {},
     "output_type": "execute_result"
    }
   ],
   "source": [
    "l1"
   ]
  },
  {
   "cell_type": "code",
   "execution_count": 80,
   "id": "ece44d3e",
   "metadata": {},
   "outputs": [],
   "source": [
    "l=lambda *x:[i**2 for i in x]"
   ]
  },
  {
   "cell_type": "code",
   "execution_count": 84,
   "id": "9dd7d4f9",
   "metadata": {},
   "outputs": [
    {
     "data": {
      "text/plain": [
       "[0, 1, 4, 9, 16, 25, 36, 49, 64, 81]"
      ]
     },
     "execution_count": 84,
     "metadata": {},
     "output_type": "execute_result"
    }
   ],
   "source": [
    "l(0,1,2,3,4,5,6,7,8,9)"
   ]
  },
  {
   "cell_type": "code",
   "execution_count": 85,
   "id": "7ca716bd",
   "metadata": {},
   "outputs": [],
   "source": [
    "def test20(**a):\n",
    "    return a"
   ]
  },
  {
   "cell_type": "code",
   "execution_count": 87,
   "id": "ceb200ab",
   "metadata": {},
   "outputs": [
    {
     "data": {
      "text/plain": [
       "{'a': 1, 'b': 2}"
      ]
     },
     "execution_count": 87,
     "metadata": {},
     "output_type": "execute_result"
    }
   ],
   "source": [
    "test20(a=1,b=2)"
   ]
  },
  {
   "cell_type": "code",
   "execution_count": 96,
   "id": "2ea1e9f9",
   "metadata": {},
   "outputs": [],
   "source": [
    "def test20(**a):\n",
    "    count=0\n",
    "    print(a)\n",
    "    print(a.values())\n",
    "    for i in a.values():\n",
    "        if type(i)==str or list or int  :\n",
    "            count+=1\n",
    "    return count\n",
    "    \n",
    "    "
   ]
  },
  {
   "cell_type": "code",
   "execution_count": 98,
   "id": "fa96b1a9",
   "metadata": {},
   "outputs": [
    {
     "name": "stdout",
     "output_type": "stream",
     "text": [
      "{'a': 1, 'b': 2, 'l': [1, 2, 3, 4, 5], 'j': 'pavan'}\n",
      "dict_values([1, 2, [1, 2, 3, 4, 5], 'pavan'])\n"
     ]
    },
    {
     "data": {
      "text/plain": [
       "4"
      ]
     },
     "execution_count": 98,
     "metadata": {},
     "output_type": "execute_result"
    }
   ],
   "source": [
    "test20(a=1,b=2,l=[1,2,3,4,5],j='pavan')"
   ]
  },
  {
   "cell_type": "code",
   "execution_count": 101,
   "id": "45d1902b",
   "metadata": {},
   "outputs": [],
   "source": [
    "def test16(**pavan):\n",
    "    return list(pavan.values())\n",
    "    "
   ]
  },
  {
   "cell_type": "code",
   "execution_count": 102,
   "id": "a5419411",
   "metadata": {},
   "outputs": [
    {
     "data": {
      "text/plain": [
       "[12, 22, 456, 'kumar']"
      ]
     },
     "execution_count": 102,
     "metadata": {},
     "output_type": "execute_result"
    }
   ],
   "source": [
    "test16(a=12,b=22,c=456,d='kumar')"
   ]
  },
  {
   "cell_type": "code",
   "execution_count": null,
   "id": "13cb913c",
   "metadata": {},
   "outputs": [],
   "source": []
  }
 ],
 "metadata": {
  "kernelspec": {
   "display_name": "Python 3 (ipykernel)",
   "language": "python",
   "name": "python3"
  },
  "language_info": {
   "codemirror_mode": {
    "name": "ipython",
    "version": 3
   },
   "file_extension": ".py",
   "mimetype": "text/x-python",
   "name": "python",
   "nbconvert_exporter": "python",
   "pygments_lexer": "ipython3",
   "version": "3.9.12"
  }
 },
 "nbformat": 4,
 "nbformat_minor": 5
}

{
  "nbformat": 4,
  "nbformat_minor": 0,
  "metadata": {
    "colab": {
      "provenance": []
    },
    "kernelspec": {
      "name": "python3",
      "display_name": "Python 3"
    },
    "language_info": {
      "name": "python"
    }
  },
  "cells": [
    {
      "cell_type": "code",
      "execution_count": 1,
      "metadata": {
        "colab": {
          "base_uri": "https://localhost:8080/"
        },
        "id": "1aGXw5FJzed8",
        "outputId": "dba6564b-dda7-4aed-99ef-c281643504e1"
      },
      "outputs": [
        {
          "name": "stdout",
          "output_type": "stream",
          "text": [
            "Enter  a number:2\n",
            "2 4\n",
            "Enter a number:3\n",
            "3 9\n",
            "Enter a number:5\n"
          ]
        }
      ],
      "source": [
        "num=int(input('Enter  a number:'))\n",
        "while num!=5:\n",
        "  print(num,num*num)\n",
        "  num=int(input('Enter a number:'))"
      ]
    },
    {
      "cell_type": "code",
      "source": [
        "count=0\n",
        "while count<10:\n",
        "  print(count,count*count ,count*count*count)\n",
        "  count+=1"
      ],
      "metadata": {
        "colab": {
          "base_uri": "https://localhost:8080/"
        },
        "id": "JG31mx8m0FEE",
        "outputId": "f47ed5e7-a766-4e83-d86e-8159ff652c6a"
      },
      "execution_count": 2,
      "outputs": [
        {
          "output_type": "stream",
          "name": "stdout",
          "text": [
            "0 0 0\n",
            "1 1 1\n",
            "2 4 8\n",
            "3 9 27\n",
            "4 16 64\n",
            "5 25 125\n",
            "6 36 216\n",
            "7 49 343\n",
            "8 64 512\n",
            "9 81 729\n"
          ]
        }
      ]
    },
    {
      "cell_type": "code",
      "source": [
        "s='Mumbai'\n",
        "lst=['desert','dessert','to','too','lose','loose']\n",
        "tpl=(10,20,30,-20,-10,50)\n",
        "i=0\n",
        "while i<len(lst):\n",
        "  print(i,s[i],lst[i],tpl[i])\n",
        "  i+=1\n",
        "\n"
      ],
      "metadata": {
        "colab": {
          "base_uri": "https://localhost:8080/"
        },
        "id": "tIm6hdEI07RE",
        "outputId": "5264b595-e11b-4410-aac1-7bf9e148e115"
      },
      "execution_count": 4,
      "outputs": [
        {
          "output_type": "stream",
          "name": "stdout",
          "text": [
            "0 M desert 10\n",
            "1 u dessert 20\n",
            "2 m to 30\n",
            "3 b too -20\n",
            "4 a lose -10\n",
            "5 i loose 50\n"
          ]
        }
      ]
    },
    {
      "cell_type": "code",
      "source": [
        "for i in range(1,10,2):\n",
        "  print(i,i*i,i*i*i)"
      ],
      "metadata": {
        "colab": {
          "base_uri": "https://localhost:8080/"
        },
        "id": "i6p216hd1lP2",
        "outputId": "e4b7cafd-1422-4132-8eaf-a62df3894705"
      },
      "execution_count": 5,
      "outputs": [
        {
          "output_type": "stream",
          "name": "stdout",
          "text": [
            "1 1 1\n",
            "3 9 27\n",
            "5 25 125\n",
            "7 49 343\n",
            "9 81 729\n"
          ]
        }
      ]
    },
    {
      "cell_type": "code",
      "source": [
        "for char in 'Leopard':\n",
        "  print(char)\n",
        "for animal in ['cat','dog','elephant','kangaroo','lion','tiger']:\n",
        "  print(animal)\n",
        "for flower in ('Rose','Lily','jasmine'):\n",
        "  print(flower)\n",
        "for num in {10,20,30,-10,-25}:\n",
        "  print(num)\n",
        "for key in {'A101':'Rajesh','A111':'Sunil','A112':'Rakesh'}:\n",
        "  print(key)"
      ],
      "metadata": {
        "colab": {
          "base_uri": "https://localhost:8080/"
        },
        "id": "Xcr8uh0w3FDK",
        "outputId": "1663d78f-ed88-49f4-8c42-319a56a0cd75"
      },
      "execution_count": 6,
      "outputs": [
        {
          "output_type": "stream",
          "name": "stdout",
          "text": [
            "L\n",
            "e\n",
            "o\n",
            "p\n",
            "a\n",
            "r\n",
            "d\n",
            "cat\n",
            "dog\n",
            "elephant\n",
            "kangaroo\n",
            "lion\n",
            "tiger\n",
            "Rose\n",
            "Lily\n",
            "jasmine\n",
            "-25\n",
            "10\n",
            "20\n",
            "-10\n",
            "30\n",
            "A101\n",
            "A111\n",
            "A112\n"
          ]
        }
      ]
    },
    {
      "cell_type": "code",
      "source": [
        "for i,ele in enumerate(lst):\n",
        "  print(i,ele)"
      ],
      "metadata": {
        "colab": {
          "base_uri": "https://localhost:8080/"
        },
        "id": "dataXJOf4G8s",
        "outputId": "053068d0-07b7-47d3-b702-7b450b5bc97e"
      },
      "execution_count": 7,
      "outputs": [
        {
          "output_type": "stream",
          "name": "stdout",
          "text": [
            "0 desert\n",
            "1 dessert\n",
            "2 to\n",
            "3 too\n",
            "4 lose\n",
            "5 loose\n"
          ]
        }
      ]
    },
    {
      "cell_type": "code",
      "source": [
        "num=int(input('Enter an integer:'))\n",
        "i=2\n",
        "while i<=num-1:\n",
        "  if num%i==0:\n",
        "    print(num,'is not a prime number')\n",
        "    break\n",
        "  i+=1\n",
        "else:\n",
        "  print(num,'is a prime number')"
      ],
      "metadata": {
        "colab": {
          "base_uri": "https://localhost:8080/"
        },
        "id": "QrN_U9z24V07",
        "outputId": "08b0b6f2-31ef-44e6-9ffd-911dd1d3711b"
      },
      "execution_count": 8,
      "outputs": [
        {
          "output_type": "stream",
          "name": "stdout",
          "text": [
            "Enter an integer:5\n",
            "5 is a prime number\n"
          ]
        }
      ]
    },
    {
      "cell_type": "code",
      "source": [
        "for ele in [10,20,30,40,3,50]:\n",
        "  if ele % 10!=0:\n",
        "    print(ele,'is not a multiple of 10')\n",
        "  else:\n",
        "    print(ele,'is a multiple of 10')"
      ],
      "metadata": {
        "colab": {
          "base_uri": "https://localhost:8080/"
        },
        "id": "ZaXxMTUZ5JxS",
        "outputId": "f881f74a-35a3-4de6-e7bb-96d8fcc3fd7a"
      },
      "execution_count": 9,
      "outputs": [
        {
          "output_type": "stream",
          "name": "stdout",
          "text": [
            "10 is a multiple of 10\n",
            "20 is a multiple of 10\n",
            "30 is a multiple of 10\n",
            "40 is a multiple of 10\n",
            "3 is not a multiple of 10\n",
            "50 is a multiple of 10\n"
          ]
        }
      ]
    },
    {
      "cell_type": "code",
      "source": [
        "#Write a program that recieves 3 sets of values of p,n and r and calculates simple interest for each.\n",
        "i=1\n",
        "while i<=3:\n",
        "  p=float(input('Enter value of p:'))\n",
        "  n=int(input('Enter value of n:'))\n",
        "  r=float(input('Enter value of r:'))\n",
        "  si=p*n*r/100\n",
        "  print('Simple Interest:',si)\n",
        "  i+=1"
      ],
      "metadata": {
        "colab": {
          "base_uri": "https://localhost:8080/"
        },
        "id": "-FVRpzYB5zMn",
        "outputId": "ff364c91-8898-4cb8-b4ce-c47c4255bdec"
      },
      "execution_count": 10,
      "outputs": [
        {
          "output_type": "stream",
          "name": "stdout",
          "text": [
            "Enter value of p:100000\n",
            "Enter value of n:2\n",
            "Enter value of r:12.5\n",
            "Simple Interest: 25000.0\n",
            "Enter value of p:250000058\n",
            "Enter value of n:5\n",
            "Enter value of r:15.6\n",
            "Simple Interest: 195000045.24\n",
            "Enter value of p:25000\n",
            "Enter value of n:2\n",
            "Enter value of r:25.5\n",
            "Simple Interest: 12750.0\n"
          ]
        }
      ]
    },
    {
      "cell_type": "code",
      "source": [
        "#Write a program that prints numbers from 1 to 10 using an infinite loop. All numbers should get printed in the same line.\n",
        "i=1\n",
        "while 1:\n",
        "  print(i,end=' ')\n",
        "  i+=1\n",
        "  if i>10:\n",
        "    break"
      ],
      "metadata": {
        "colab": {
          "base_uri": "https://localhost:8080/"
        },
        "id": "xoIKZybM6qtX",
        "outputId": "0a225ed2-1a28-4457-dde9-c2d40b13787b"
      },
      "execution_count": 11,
      "outputs": [
        {
          "output_type": "stream",
          "name": "stdout",
          "text": [
            "1 2 3 4 5 6 7 8 9 10 "
          ]
        }
      ]
    },
    {
      "cell_type": "code",
      "source": [
        "i=1\n",
        "while True:\n",
        "  print(i,end=' ')\n",
        "  i+=1\n",
        "  if i>10:\n",
        "    break"
      ],
      "metadata": {
        "colab": {
          "base_uri": "https://localhost:8080/"
        },
        "id": "RM1TJhKU7cqv",
        "outputId": "aea25d7f-9eab-4474-f9b3-ba5b5bcbdc9a"
      },
      "execution_count": 12,
      "outputs": [
        {
          "output_type": "stream",
          "name": "stdout",
          "text": [
            "1 2 3 4 5 6 7 8 9 10 "
          ]
        }
      ]
    },
    {
      "cell_type": "code",
      "source": [
        "#Write a program that prints all unique combinations of 1,2 and 3.\n",
        "i=1\n",
        "while i<=3:\n",
        "  j=1\n",
        "  while j<=3:\n",
        "    k=1\n",
        "    while k<=3:\n",
        "      if i==j or j==k or k==i:\n",
        "        k+=1\n",
        "        continue\n",
        "      else:\n",
        "        print(i,j,k)\n",
        "      k+=1\n",
        "    j+=1\n",
        "  i+=1"
      ],
      "metadata": {
        "colab": {
          "base_uri": "https://localhost:8080/"
        },
        "id": "yi_Y8PfP7nA9",
        "outputId": "843db503-9c26-41a0-d240-6f274b120fbd"
      },
      "execution_count": 13,
      "outputs": [
        {
          "output_type": "stream",
          "name": "stdout",
          "text": [
            "1 2 3\n",
            "1 3 2\n",
            "2 1 3\n",
            "2 3 1\n",
            "3 1 2\n",
            "3 2 1\n"
          ]
        }
      ]
    },
    {
      "cell_type": "code",
      "source": [
        "#Write a program that obtains decimal value of a binary numeric string.For example ,decimal value of '1111' is 15.\n",
        "b='111'\n",
        "i=0\n",
        "while b:\n",
        "  i=i*2+(ord(b[0])-ord('0'))\n",
        "  b=b[1:]\n",
        "print('Decimal value:'+str(i))"
      ],
      "metadata": {
        "colab": {
          "base_uri": "https://localhost:8080/"
        },
        "id": "-okBu3XW8UrB",
        "outputId": "27d48e12-fa9e-4e1b-c5d8-26accf1b7543"
      },
      "execution_count": 14,
      "outputs": [
        {
          "output_type": "stream",
          "name": "stdout",
          "text": [
            "Decimal value:15\n"
          ]
        }
      ]
    },
    {
      "cell_type": "code",
      "source": [],
      "metadata": {
        "id": "W6TKQzDz9to4"
      },
      "execution_count": null,
      "outputs": []
    }
  ]
}
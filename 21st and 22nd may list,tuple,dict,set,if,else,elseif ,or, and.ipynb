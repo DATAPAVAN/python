{
 "cells": [
  {
   "cell_type": "code",
   "execution_count": 1,
   "id": "00f3b243",
   "metadata": {},
   "outputs": [],
   "source": [
    "s=1"
   ]
  },
  {
   "cell_type": "code",
   "execution_count": 2,
   "id": "ff672eb5",
   "metadata": {},
   "outputs": [
    {
     "data": {
      "text/plain": [
       "int"
      ]
     },
     "execution_count": 2,
     "metadata": {},
     "output_type": "execute_result"
    }
   ],
   "source": [
    "type(s)"
   ]
  },
  {
   "cell_type": "code",
   "execution_count": 3,
   "id": "15301cdd",
   "metadata": {},
   "outputs": [],
   "source": [
    "p=[123,25,5.6,'uppla',57-4j]"
   ]
  },
  {
   "cell_type": "code",
   "execution_count": 4,
   "id": "8c6280f1",
   "metadata": {},
   "outputs": [
    {
     "data": {
      "text/plain": [
       "5"
      ]
     },
     "execution_count": 4,
     "metadata": {},
     "output_type": "execute_result"
    }
   ],
   "source": [
    "len(p)"
   ]
  },
  {
   "cell_type": "code",
   "execution_count": 5,
   "id": "6ee6e455",
   "metadata": {},
   "outputs": [
    {
     "data": {
      "text/plain": [
       "[123, 25, 5.6, 'uppla', (57-4j)]"
      ]
     },
     "execution_count": 5,
     "metadata": {},
     "output_type": "execute_result"
    }
   ],
   "source": [
    "p[0:5]"
   ]
  },
  {
   "cell_type": "code",
   "execution_count": 6,
   "id": "9ab1c829",
   "metadata": {},
   "outputs": [
    {
     "data": {
      "text/plain": [
       "[123, 25, 5.6, 'uppla', (57-4j)]"
      ]
     },
     "execution_count": 6,
     "metadata": {},
     "output_type": "execute_result"
    }
   ],
   "source": [
    "p"
   ]
  },
  {
   "cell_type": "code",
   "execution_count": 7,
   "id": "378344fb",
   "metadata": {},
   "outputs": [
    {
     "data": {
      "text/plain": [
       "[123, 25, 5.6, 'uppla', (57-4j)]"
      ]
     },
     "execution_count": 7,
     "metadata": {},
     "output_type": "execute_result"
    }
   ],
   "source": [
    "p[0:520]"
   ]
  },
  {
   "cell_type": "code",
   "execution_count": 8,
   "id": "1468f01e",
   "metadata": {},
   "outputs": [
    {
     "data": {
      "text/plain": [
       "[(57-4j), 'uppla', 5.6, 25, 123]"
      ]
     },
     "execution_count": 8,
     "metadata": {},
     "output_type": "execute_result"
    }
   ],
   "source": [
    "p[::-1]"
   ]
  },
  {
   "cell_type": "code",
   "execution_count": 9,
   "id": "bd77ec3f",
   "metadata": {},
   "outputs": [
    {
     "data": {
      "text/plain": [
       "[(57-4j), 'uppla', 5.6, 25]"
      ]
     },
     "execution_count": 9,
     "metadata": {},
     "output_type": "execute_result"
    }
   ],
   "source": [
    "p[4:0:-1]"
   ]
  },
  {
   "cell_type": "code",
   "execution_count": 10,
   "id": "fa4cbff2",
   "metadata": {},
   "outputs": [
    {
     "data": {
      "text/plain": [
       "[123, 25, 5.6, 'uppla', (57-4j), 123]"
      ]
     },
     "execution_count": 10,
     "metadata": {},
     "output_type": "execute_result"
    }
   ],
   "source": [
    "p+[123]"
   ]
  },
  {
   "cell_type": "code",
   "execution_count": 11,
   "id": "7e512422",
   "metadata": {},
   "outputs": [
    {
     "data": {
      "text/plain": [
       "[123, 25, 5.6, 'uppla', (57-4j), 123, 25, 5.6, 'uppla', (57-4j)]"
      ]
     },
     "execution_count": 11,
     "metadata": {},
     "output_type": "execute_result"
    }
   ],
   "source": [
    "p*2"
   ]
  },
  {
   "cell_type": "code",
   "execution_count": 12,
   "id": "c628f361",
   "metadata": {},
   "outputs": [
    {
     "data": {
      "text/plain": [
       "[123, 25, 5.6, 'uppla', (57-4j), 123, 25, 5.6, 'uppla', (57-4j)]"
      ]
     },
     "execution_count": 12,
     "metadata": {},
     "output_type": "execute_result"
    }
   ],
   "source": [
    "p*2"
   ]
  },
  {
   "cell_type": "code",
   "execution_count": 13,
   "id": "0ce9df2d",
   "metadata": {},
   "outputs": [
    {
     "data": {
      "text/plain": [
       "[123, 25, 5.6, 'uppla', (57-4j)]"
      ]
     },
     "execution_count": 13,
     "metadata": {},
     "output_type": "execute_result"
    }
   ],
   "source": [
    "p"
   ]
  },
  {
   "cell_type": "code",
   "execution_count": 14,
   "id": "06fded55",
   "metadata": {},
   "outputs": [
    {
     "ename": "TypeError",
     "evalue": "'>' not supported between instances of 'str' and 'int'",
     "output_type": "error",
     "traceback": [
      "\u001b[1;31m---------------------------------------------------------------------------\u001b[0m",
      "\u001b[1;31mTypeError\u001b[0m                                 Traceback (most recent call last)",
      "Input \u001b[1;32mIn [14]\u001b[0m, in \u001b[0;36m<cell line: 1>\u001b[1;34m()\u001b[0m\n\u001b[1;32m----> 1\u001b[0m \u001b[38;5;28;43mmax\u001b[39;49m\u001b[43m(\u001b[49m\u001b[43mp\u001b[49m\u001b[43m)\u001b[49m\n",
      "\u001b[1;31mTypeError\u001b[0m: '>' not supported between instances of 'str' and 'int'"
     ]
    }
   ],
   "source": [
    "max(p)"
   ]
  },
  {
   "cell_type": "code",
   "execution_count": 15,
   "id": "f8aee719",
   "metadata": {},
   "outputs": [],
   "source": [
    "p1=[125,25,62]"
   ]
  },
  {
   "cell_type": "code",
   "execution_count": 16,
   "id": "1e569818",
   "metadata": {},
   "outputs": [
    {
     "data": {
      "text/plain": [
       "125"
      ]
     },
     "execution_count": 16,
     "metadata": {},
     "output_type": "execute_result"
    }
   ],
   "source": [
    "max(p1)"
   ]
  },
  {
   "cell_type": "code",
   "execution_count": 17,
   "id": "ae14e696",
   "metadata": {},
   "outputs": [
    {
     "data": {
      "text/plain": [
       "25"
      ]
     },
     "execution_count": 17,
     "metadata": {},
     "output_type": "execute_result"
    }
   ],
   "source": [
    "min(p1)"
   ]
  },
  {
   "cell_type": "code",
   "execution_count": 18,
   "id": "56edd669",
   "metadata": {},
   "outputs": [],
   "source": [
    "p2=['pavankumar','uppalapavankumar']"
   ]
  },
  {
   "cell_type": "code",
   "execution_count": 19,
   "id": "b284cce8",
   "metadata": {},
   "outputs": [
    {
     "data": {
      "text/plain": [
       "'uppalapavankumar'"
      ]
     },
     "execution_count": 19,
     "metadata": {},
     "output_type": "execute_result"
    }
   ],
   "source": [
    "max(p2)"
   ]
  },
  {
   "cell_type": "code",
   "execution_count": 20,
   "id": "1964cf21",
   "metadata": {},
   "outputs": [],
   "source": [
    "p2.append([123])"
   ]
  },
  {
   "cell_type": "code",
   "execution_count": 21,
   "id": "e1ab860b",
   "metadata": {},
   "outputs": [],
   "source": [
    "p=[1,2.3]"
   ]
  },
  {
   "cell_type": "code",
   "execution_count": 22,
   "id": "c76bb646",
   "metadata": {},
   "outputs": [],
   "source": [
    "p.append(2)"
   ]
  },
  {
   "cell_type": "code",
   "execution_count": 23,
   "id": "a10fd5dd",
   "metadata": {},
   "outputs": [
    {
     "data": {
      "text/plain": [
       "[1, 2.3, 2]"
      ]
     },
     "execution_count": 23,
     "metadata": {},
     "output_type": "execute_result"
    }
   ],
   "source": [
    "p"
   ]
  },
  {
   "cell_type": "code",
   "execution_count": 24,
   "id": "03343540",
   "metadata": {},
   "outputs": [],
   "source": [
    "p.reverse()"
   ]
  },
  {
   "cell_type": "code",
   "execution_count": 25,
   "id": "eac2eb03",
   "metadata": {},
   "outputs": [
    {
     "data": {
      "text/plain": [
       "[2, 2.3, 1]"
      ]
     },
     "execution_count": 25,
     "metadata": {},
     "output_type": "execute_result"
    }
   ],
   "source": [
    "p"
   ]
  },
  {
   "cell_type": "code",
   "execution_count": 26,
   "id": "8c0bb60e",
   "metadata": {},
   "outputs": [
    {
     "data": {
      "text/plain": [
       "[2, 2.3, 1, 1]"
      ]
     },
     "execution_count": 26,
     "metadata": {},
     "output_type": "execute_result"
    }
   ],
   "source": [
    "p+[1]"
   ]
  },
  {
   "cell_type": "code",
   "execution_count": 27,
   "id": "6d11a30c",
   "metadata": {},
   "outputs": [],
   "source": [
    "p.sort()"
   ]
  },
  {
   "cell_type": "code",
   "execution_count": 28,
   "id": "eeadd301",
   "metadata": {},
   "outputs": [],
   "source": [
    "p=[1,2,3,4,56,8]"
   ]
  },
  {
   "cell_type": "code",
   "execution_count": 29,
   "id": "219f83cf",
   "metadata": {},
   "outputs": [],
   "source": [
    "p.sort()"
   ]
  },
  {
   "cell_type": "code",
   "execution_count": 30,
   "id": "af17eadc",
   "metadata": {},
   "outputs": [
    {
     "data": {
      "text/plain": [
       "[1, 2, 3, 4, 8, 56]"
      ]
     },
     "execution_count": 30,
     "metadata": {},
     "output_type": "execute_result"
    }
   ],
   "source": [
    "p"
   ]
  },
  {
   "cell_type": "code",
   "execution_count": 31,
   "id": "5940640d",
   "metadata": {},
   "outputs": [],
   "source": [
    "p.sort(reverse=True)"
   ]
  },
  {
   "cell_type": "code",
   "execution_count": 32,
   "id": "7f4d93c6",
   "metadata": {},
   "outputs": [
    {
     "data": {
      "text/plain": [
       "[56, 8, 4, 3, 2, 1]"
      ]
     },
     "execution_count": 32,
     "metadata": {},
     "output_type": "execute_result"
    }
   ],
   "source": [
    "p"
   ]
  },
  {
   "cell_type": "code",
   "execution_count": 33,
   "id": "92e4dce5",
   "metadata": {},
   "outputs": [],
   "source": [
    "l=[1]\n",
    "l1=[1,2,3]\n",
    "l3=[1,5,6,89]"
   ]
  },
  {
   "cell_type": "code",
   "execution_count": 34,
   "id": "a316ccdd",
   "metadata": {},
   "outputs": [],
   "source": [
    "l4=[l,l1,l3]"
   ]
  },
  {
   "cell_type": "code",
   "execution_count": 35,
   "id": "9d4490dd",
   "metadata": {},
   "outputs": [
    {
     "data": {
      "text/plain": [
       "[[1], [1, 2, 3], [1, 5, 6, 89]]"
      ]
     },
     "execution_count": 35,
     "metadata": {},
     "output_type": "execute_result"
    }
   ],
   "source": [
    "l4"
   ]
  },
  {
   "cell_type": "code",
   "execution_count": 36,
   "id": "a60f658e",
   "metadata": {},
   "outputs": [
    {
     "data": {
      "text/plain": [
       "89"
      ]
     },
     "execution_count": 36,
     "metadata": {},
     "output_type": "execute_result"
    }
   ],
   "source": [
    "l4[2][3]"
   ]
  },
  {
   "cell_type": "code",
   "execution_count": 37,
   "id": "8bb40c4e",
   "metadata": {},
   "outputs": [
    {
     "data": {
      "text/plain": [
       "0"
      ]
     },
     "execution_count": 37,
     "metadata": {},
     "output_type": "execute_result"
    }
   ],
   "source": [
    "l4.count(2)"
   ]
  },
  {
   "cell_type": "code",
   "execution_count": 38,
   "id": "08604f78",
   "metadata": {},
   "outputs": [
    {
     "data": {
      "text/plain": [
       "1"
      ]
     },
     "execution_count": 38,
     "metadata": {},
     "output_type": "execute_result"
    }
   ],
   "source": [
    "l4.count([1])"
   ]
  },
  {
   "cell_type": "code",
   "execution_count": 39,
   "id": "7bb0acf7",
   "metadata": {},
   "outputs": [
    {
     "data": {
      "text/plain": [
       "1"
      ]
     },
     "execution_count": 39,
     "metadata": {},
     "output_type": "execute_result"
    }
   ],
   "source": [
    "l3.count(1)"
   ]
  },
  {
   "cell_type": "code",
   "execution_count": 40,
   "id": "8aa2732e",
   "metadata": {},
   "outputs": [
    {
     "ename": "TypeError",
     "evalue": "list.extend() takes exactly one argument (2 given)",
     "output_type": "error",
     "traceback": [
      "\u001b[1;31m---------------------------------------------------------------------------\u001b[0m",
      "\u001b[1;31mTypeError\u001b[0m                                 Traceback (most recent call last)",
      "Input \u001b[1;32mIn [40]\u001b[0m, in \u001b[0;36m<cell line: 1>\u001b[1;34m()\u001b[0m\n\u001b[1;32m----> 1\u001b[0m \u001b[43ml4\u001b[49m\u001b[38;5;241;43m.\u001b[39;49m\u001b[43mextend\u001b[49m\u001b[43m(\u001b[49m\u001b[38;5;241;43m45\u001b[39;49m\u001b[43m,\u001b[49m\u001b[38;5;241;43m56\u001b[39;49m\u001b[43m)\u001b[49m\n",
      "\u001b[1;31mTypeError\u001b[0m: list.extend() takes exactly one argument (2 given)"
     ]
    }
   ],
   "source": [
    "l4.extend(45,56)"
   ]
  },
  {
   "cell_type": "code",
   "execution_count": 41,
   "id": "7cf63428",
   "metadata": {},
   "outputs": [],
   "source": [
    "l4.extend([5])"
   ]
  },
  {
   "cell_type": "code",
   "execution_count": 42,
   "id": "4f9a3dcf",
   "metadata": {},
   "outputs": [
    {
     "data": {
      "text/plain": [
       "[[1], [1, 2, 3], [1, 5, 6, 89], 5]"
      ]
     },
     "execution_count": 42,
     "metadata": {},
     "output_type": "execute_result"
    }
   ],
   "source": [
    "l4"
   ]
  },
  {
   "cell_type": "code",
   "execution_count": 43,
   "id": "d342cb7b",
   "metadata": {},
   "outputs": [],
   "source": [
    "l4.extend([1,2,3,56,58,'sudh'])"
   ]
  },
  {
   "cell_type": "code",
   "execution_count": 44,
   "id": "6506d7a8",
   "metadata": {},
   "outputs": [
    {
     "data": {
      "text/plain": [
       "[[1], [1, 2, 3], [1, 5, 6, 89], 5, 1, 2, 3, 56, 58, 'sudh']"
      ]
     },
     "execution_count": 44,
     "metadata": {},
     "output_type": "execute_result"
    }
   ],
   "source": [
    "l4"
   ]
  },
  {
   "cell_type": "code",
   "execution_count": 45,
   "id": "1f149dfb",
   "metadata": {},
   "outputs": [],
   "source": [
    "l4.append(4)"
   ]
  },
  {
   "cell_type": "code",
   "execution_count": 46,
   "id": "c7fa7495",
   "metadata": {},
   "outputs": [
    {
     "data": {
      "text/plain": [
       "[[1], [1, 2, 3], [1, 5, 6, 89], 5, 1, 2, 3, 56, 58, 'sudh', 4]"
      ]
     },
     "execution_count": 46,
     "metadata": {},
     "output_type": "execute_result"
    }
   ],
   "source": [
    "l4"
   ]
  },
  {
   "cell_type": "code",
   "execution_count": 47,
   "id": "06dd78ac",
   "metadata": {},
   "outputs": [],
   "source": [
    "l4.append([4])"
   ]
  },
  {
   "cell_type": "code",
   "execution_count": 48,
   "id": "4c573422",
   "metadata": {},
   "outputs": [
    {
     "data": {
      "text/plain": [
       "[[1], [1, 2, 3], [1, 5, 6, 89], 5, 1, 2, 3, 56, 58, 'sudh', 4, [4]]"
      ]
     },
     "execution_count": 48,
     "metadata": {},
     "output_type": "execute_result"
    }
   ],
   "source": [
    "l4"
   ]
  },
  {
   "cell_type": "code",
   "execution_count": 49,
   "id": "9eb4363b",
   "metadata": {},
   "outputs": [],
   "source": [
    "l=[1,2,3,4]"
   ]
  },
  {
   "cell_type": "code",
   "execution_count": 50,
   "id": "96733915",
   "metadata": {},
   "outputs": [],
   "source": [
    "l.extend('pavan')"
   ]
  },
  {
   "cell_type": "code",
   "execution_count": 51,
   "id": "914415ef",
   "metadata": {},
   "outputs": [
    {
     "data": {
      "text/plain": [
       "[1, 2, 3, 4, 'p', 'a', 'v', 'a', 'n']"
      ]
     },
     "execution_count": 51,
     "metadata": {},
     "output_type": "execute_result"
    }
   ],
   "source": [
    "l"
   ]
  },
  {
   "cell_type": "code",
   "execution_count": 52,
   "id": "9ff057c8",
   "metadata": {},
   "outputs": [],
   "source": [
    "l.append('pavan')"
   ]
  },
  {
   "cell_type": "code",
   "execution_count": 53,
   "id": "3877ef7c",
   "metadata": {},
   "outputs": [
    {
     "data": {
      "text/plain": [
       "[1, 2, 3, 4, 'p', 'a', 'v', 'a', 'n', 'pavan']"
      ]
     },
     "execution_count": 53,
     "metadata": {},
     "output_type": "execute_result"
    }
   ],
   "source": [
    "l"
   ]
  },
  {
   "cell_type": "code",
   "execution_count": 54,
   "id": "4e3e6b9b",
   "metadata": {},
   "outputs": [
    {
     "data": {
      "text/plain": [
       "4"
      ]
     },
     "execution_count": 54,
     "metadata": {},
     "output_type": "execute_result"
    }
   ],
   "source": [
    "l.index('p')"
   ]
  },
  {
   "cell_type": "code",
   "execution_count": 55,
   "id": "5cc91bf5",
   "metadata": {},
   "outputs": [
    {
     "data": {
      "text/plain": [
       "4"
      ]
     },
     "execution_count": 55,
     "metadata": {},
     "output_type": "execute_result"
    }
   ],
   "source": [
    "l.index('p',4)"
   ]
  },
  {
   "cell_type": "code",
   "execution_count": 56,
   "id": "10cf0a15",
   "metadata": {},
   "outputs": [],
   "source": [
    "l.insert(1,'pavan')"
   ]
  },
  {
   "cell_type": "code",
   "execution_count": 57,
   "id": "124f1999",
   "metadata": {},
   "outputs": [
    {
     "data": {
      "text/plain": [
       "[1, 'pavan', 2, 3, 4, 'p', 'a', 'v', 'a', 'n', 'pavan']"
      ]
     },
     "execution_count": 57,
     "metadata": {},
     "output_type": "execute_result"
    }
   ],
   "source": [
    "l"
   ]
  },
  {
   "cell_type": "code",
   "execution_count": 58,
   "id": "659421bc",
   "metadata": {},
   "outputs": [
    {
     "data": {
      "text/plain": [
       "'p'"
      ]
     },
     "execution_count": 58,
     "metadata": {},
     "output_type": "execute_result"
    }
   ],
   "source": [
    "l.pop(5)"
   ]
  },
  {
   "cell_type": "code",
   "execution_count": 59,
   "id": "40797c37",
   "metadata": {},
   "outputs": [
    {
     "data": {
      "text/plain": [
       "[1, 'pavan', 2, 3, 4, 'a', 'v', 'a', 'n', 'pavan']"
      ]
     },
     "execution_count": 59,
     "metadata": {},
     "output_type": "execute_result"
    }
   ],
   "source": [
    "l"
   ]
  },
  {
   "cell_type": "code",
   "execution_count": 60,
   "id": "f3981a53",
   "metadata": {},
   "outputs": [],
   "source": [
    "l.remove(4)"
   ]
  },
  {
   "cell_type": "code",
   "execution_count": 61,
   "id": "aecc7b74",
   "metadata": {},
   "outputs": [
    {
     "data": {
      "text/plain": [
       "[1, 'pavan', 2, 3, 'a', 'v', 'a', 'n', 'pavan']"
      ]
     },
     "execution_count": 61,
     "metadata": {},
     "output_type": "execute_result"
    }
   ],
   "source": [
    "l"
   ]
  },
  {
   "cell_type": "code",
   "execution_count": 62,
   "id": "556a0e4e",
   "metadata": {},
   "outputs": [],
   "source": [
    "l[1]='kumar'"
   ]
  },
  {
   "cell_type": "code",
   "execution_count": 63,
   "id": "26580221",
   "metadata": {},
   "outputs": [
    {
     "data": {
      "text/plain": [
       "[1, 'kumar', 2, 3, 'a', 'v', 'a', 'n', 'pavan']"
      ]
     },
     "execution_count": 63,
     "metadata": {},
     "output_type": "execute_result"
    }
   ],
   "source": [
    "l"
   ]
  },
  {
   "cell_type": "code",
   "execution_count": 64,
   "id": "9b899640",
   "metadata": {},
   "outputs": [
    {
     "data": {
      "text/plain": [
       "1"
      ]
     },
     "execution_count": 64,
     "metadata": {},
     "output_type": "execute_result"
    }
   ],
   "source": [
    "l.index('kumar')"
   ]
  },
  {
   "cell_type": "code",
   "execution_count": 65,
   "id": "668f9c7f",
   "metadata": {},
   "outputs": [
    {
     "data": {
      "text/plain": [
       "'kumar'"
      ]
     },
     "execution_count": 65,
     "metadata": {},
     "output_type": "execute_result"
    }
   ],
   "source": [
    "l.pop(1)"
   ]
  },
  {
   "cell_type": "code",
   "execution_count": 66,
   "id": "e5befee7",
   "metadata": {},
   "outputs": [
    {
     "data": {
      "text/plain": [
       "[1, 2, 3, 'a', 'v', 'a', 'n', 'pavan']"
      ]
     },
     "execution_count": 66,
     "metadata": {},
     "output_type": "execute_result"
    }
   ],
   "source": [
    "l"
   ]
  },
  {
   "cell_type": "code",
   "execution_count": 67,
   "id": "b193e3ba",
   "metadata": {},
   "outputs": [],
   "source": [
    "l='pavan'"
   ]
  },
  {
   "cell_type": "code",
   "execution_count": 68,
   "id": "c239bd95",
   "metadata": {},
   "outputs": [
    {
     "data": {
      "text/plain": [
       "'v'"
      ]
     },
     "execution_count": 68,
     "metadata": {},
     "output_type": "execute_result"
    }
   ],
   "source": [
    "l[2]"
   ]
  },
  {
   "cell_type": "code",
   "execution_count": 69,
   "id": "d0289256",
   "metadata": {},
   "outputs": [
    {
     "ename": "TypeError",
     "evalue": "'str' object does not support item assignment",
     "output_type": "error",
     "traceback": [
      "\u001b[1;31m---------------------------------------------------------------------------\u001b[0m",
      "\u001b[1;31mTypeError\u001b[0m                                 Traceback (most recent call last)",
      "Input \u001b[1;32mIn [69]\u001b[0m, in \u001b[0;36m<cell line: 1>\u001b[1;34m()\u001b[0m\n\u001b[1;32m----> 1\u001b[0m l[\u001b[38;5;241m2\u001b[39m]\u001b[38;5;241m=\u001b[39m\u001b[38;5;124m'\u001b[39m\u001b[38;5;124mkkbk\u001b[39m\u001b[38;5;124m'\u001b[39m\n",
      "\u001b[1;31mTypeError\u001b[0m: 'str' object does not support item assignment"
     ]
    }
   ],
   "source": [
    "l[2]='kkbk'"
   ]
  },
  {
   "cell_type": "code",
   "execution_count": 70,
   "id": "50814070",
   "metadata": {},
   "outputs": [],
   "source": [
    "pt=(1,2,3.5,56)"
   ]
  },
  {
   "cell_type": "code",
   "execution_count": 71,
   "id": "38e99304",
   "metadata": {},
   "outputs": [
    {
     "data": {
      "text/plain": [
       "1"
      ]
     },
     "execution_count": 71,
     "metadata": {},
     "output_type": "execute_result"
    }
   ],
   "source": [
    "pt[0]"
   ]
  },
  {
   "cell_type": "code",
   "execution_count": 72,
   "id": "38581004",
   "metadata": {},
   "outputs": [
    {
     "data": {
      "text/plain": [
       "(1, 2, 3.5, 56)"
      ]
     },
     "execution_count": 72,
     "metadata": {},
     "output_type": "execute_result"
    }
   ],
   "source": [
    "pt[0:5]"
   ]
  },
  {
   "cell_type": "code",
   "execution_count": 73,
   "id": "3256f771",
   "metadata": {},
   "outputs": [
    {
     "data": {
      "text/plain": [
       "()"
      ]
     },
     "execution_count": 73,
     "metadata": {},
     "output_type": "execute_result"
    }
   ],
   "source": [
    "pt[4:0:1]"
   ]
  },
  {
   "cell_type": "code",
   "execution_count": 74,
   "id": "eddc606b",
   "metadata": {},
   "outputs": [
    {
     "data": {
      "text/plain": [
       "(56, 3.5, 2)"
      ]
     },
     "execution_count": 74,
     "metadata": {},
     "output_type": "execute_result"
    }
   ],
   "source": [
    "pt[4:0:-1]"
   ]
  },
  {
   "cell_type": "code",
   "execution_count": 75,
   "id": "cc112870",
   "metadata": {},
   "outputs": [
    {
     "ename": "TypeError",
     "evalue": "'tuple' object does not support item assignment",
     "output_type": "error",
     "traceback": [
      "\u001b[1;31m---------------------------------------------------------------------------\u001b[0m",
      "\u001b[1;31mTypeError\u001b[0m                                 Traceback (most recent call last)",
      "Input \u001b[1;32mIn [75]\u001b[0m, in \u001b[0;36m<cell line: 1>\u001b[1;34m()\u001b[0m\n\u001b[1;32m----> 1\u001b[0m pt[\u001b[38;5;241m0\u001b[39m]\u001b[38;5;241m=\u001b[39m\u001b[38;5;241m5\u001b[39m\n",
      "\u001b[1;31mTypeError\u001b[0m: 'tuple' object does not support item assignment"
     ]
    }
   ],
   "source": [
    "pt[0]=5"
   ]
  },
  {
   "cell_type": "code",
   "execution_count": 76,
   "id": "a3dd91e1",
   "metadata": {},
   "outputs": [],
   "source": [
    "pt1=(1,2.3)"
   ]
  },
  {
   "cell_type": "code",
   "execution_count": 77,
   "id": "db096d51",
   "metadata": {},
   "outputs": [
    {
     "data": {
      "text/plain": [
       "(1, 2, 3.5, 56, 1, 2.3)"
      ]
     },
     "execution_count": 77,
     "metadata": {},
     "output_type": "execute_result"
    }
   ],
   "source": [
    "pt+pt1"
   ]
  },
  {
   "cell_type": "code",
   "execution_count": 78,
   "id": "98fc0865",
   "metadata": {},
   "outputs": [
    {
     "ename": "TypeError",
     "evalue": "can only concatenate tuple (not \"str\") to tuple",
     "output_type": "error",
     "traceback": [
      "\u001b[1;31m---------------------------------------------------------------------------\u001b[0m",
      "\u001b[1;31mTypeError\u001b[0m                                 Traceback (most recent call last)",
      "Input \u001b[1;32mIn [78]\u001b[0m, in \u001b[0;36m<cell line: 1>\u001b[1;34m()\u001b[0m\n\u001b[1;32m----> 1\u001b[0m \u001b[43mpt\u001b[49m\u001b[38;5;241;43m+\u001b[39;49m\u001b[38;5;124;43m'\u001b[39;49m\u001b[38;5;124;43mpavan\u001b[39;49m\u001b[38;5;124;43m'\u001b[39;49m\n",
      "\u001b[1;31mTypeError\u001b[0m: can only concatenate tuple (not \"str\") to tuple"
     ]
    }
   ],
   "source": [
    "pt+'pavan'"
   ]
  },
  {
   "cell_type": "code",
   "execution_count": 79,
   "id": "64a2f19e",
   "metadata": {},
   "outputs": [
    {
     "data": {
      "text/plain": [
       "(1, 2.3, 'pavan', 'kimar')"
      ]
     },
     "execution_count": 79,
     "metadata": {},
     "output_type": "execute_result"
    }
   ],
   "source": [
    "pt1+('pavan','kimar')"
   ]
  },
  {
   "cell_type": "code",
   "execution_count": 80,
   "id": "c3a89e76",
   "metadata": {},
   "outputs": [
    {
     "ename": "TypeError",
     "evalue": "can only concatenate tuple (not \"int\") to tuple",
     "output_type": "error",
     "traceback": [
      "\u001b[1;31m---------------------------------------------------------------------------\u001b[0m",
      "\u001b[1;31mTypeError\u001b[0m                                 Traceback (most recent call last)",
      "Input \u001b[1;32mIn [80]\u001b[0m, in \u001b[0;36m<cell line: 1>\u001b[1;34m()\u001b[0m\n\u001b[1;32m----> 1\u001b[0m \u001b[43mpt1\u001b[49m\u001b[38;5;241;43m+\u001b[39;49m\u001b[43m(\u001b[49m\u001b[38;5;241;43m5\u001b[39;49m\u001b[43m)\u001b[49m\n",
      "\u001b[1;31mTypeError\u001b[0m: can only concatenate tuple (not \"int\") to tuple"
     ]
    }
   ],
   "source": [
    "pt1+(5)"
   ]
  },
  {
   "cell_type": "code",
   "execution_count": 81,
   "id": "e6c730e2",
   "metadata": {},
   "outputs": [
    {
     "ename": "TypeError",
     "evalue": "can only concatenate tuple (not \"str\") to tuple",
     "output_type": "error",
     "traceback": [
      "\u001b[1;31m---------------------------------------------------------------------------\u001b[0m",
      "\u001b[1;31mTypeError\u001b[0m                                 Traceback (most recent call last)",
      "Input \u001b[1;32mIn [81]\u001b[0m, in \u001b[0;36m<cell line: 1>\u001b[1;34m()\u001b[0m\n\u001b[1;32m----> 1\u001b[0m \u001b[43mpt1\u001b[49m\u001b[38;5;241;43m+\u001b[39;49m\u001b[43m(\u001b[49m\u001b[38;5;124;43m'\u001b[39;49m\u001b[38;5;124;43mpavankumar\u001b[39;49m\u001b[38;5;124;43m'\u001b[39;49m\u001b[43m)\u001b[49m\n",
      "\u001b[1;31mTypeError\u001b[0m: can only concatenate tuple (not \"str\") to tuple"
     ]
    }
   ],
   "source": [
    "pt1+('pavankumar')"
   ]
  },
  {
   "cell_type": "code",
   "execution_count": 82,
   "id": "435113bc",
   "metadata": {},
   "outputs": [],
   "source": [
    "l=[1,2,3]"
   ]
  },
  {
   "cell_type": "code",
   "execution_count": 83,
   "id": "06c243bf",
   "metadata": {},
   "outputs": [
    {
     "data": {
      "text/plain": [
       "[1, 2, 3, 5]"
      ]
     },
     "execution_count": 83,
     "metadata": {},
     "output_type": "execute_result"
    }
   ],
   "source": [
    "l+[5]"
   ]
  },
  {
   "cell_type": "code",
   "execution_count": 84,
   "id": "ce6ae72f",
   "metadata": {},
   "outputs": [
    {
     "ename": "TypeError",
     "evalue": "can only concatenate list (not \"str\") to list",
     "output_type": "error",
     "traceback": [
      "\u001b[1;31m---------------------------------------------------------------------------\u001b[0m",
      "\u001b[1;31mTypeError\u001b[0m                                 Traceback (most recent call last)",
      "Input \u001b[1;32mIn [84]\u001b[0m, in \u001b[0;36m<cell line: 1>\u001b[1;34m()\u001b[0m\n\u001b[1;32m----> 1\u001b[0m l1\u001b[38;5;241m=\u001b[39m\u001b[43ml\u001b[49m\u001b[38;5;241;43m+\u001b[39;49m\u001b[38;5;124;43m'\u001b[39;49m\u001b[38;5;124;43mpavan\u001b[39;49m\u001b[38;5;124;43m'\u001b[39;49m\n",
      "\u001b[1;31mTypeError\u001b[0m: can only concatenate list (not \"str\") to list"
     ]
    }
   ],
   "source": [
    "l1=l+'pavan'"
   ]
  },
  {
   "cell_type": "code",
   "execution_count": 85,
   "id": "0ec2e15b",
   "metadata": {},
   "outputs": [],
   "source": [
    "l1=l+['pavan']"
   ]
  },
  {
   "cell_type": "code",
   "execution_count": 86,
   "id": "b07945d6",
   "metadata": {},
   "outputs": [
    {
     "data": {
      "text/plain": [
       "[1, 2, 3, 'pavan']"
      ]
     },
     "execution_count": 86,
     "metadata": {},
     "output_type": "execute_result"
    }
   ],
   "source": [
    "l1"
   ]
  },
  {
   "cell_type": "code",
   "execution_count": 87,
   "id": "0440365e",
   "metadata": {},
   "outputs": [
    {
     "ename": "TypeError",
     "evalue": "sequence item 0: expected str instance, int found",
     "output_type": "error",
     "traceback": [
      "\u001b[1;31m---------------------------------------------------------------------------\u001b[0m",
      "\u001b[1;31mTypeError\u001b[0m                                 Traceback (most recent call last)",
      "Input \u001b[1;32mIn [87]\u001b[0m, in \u001b[0;36m<cell line: 1>\u001b[1;34m()\u001b[0m\n\u001b[1;32m----> 1\u001b[0m \u001b[38;5;124;43m'\u001b[39;49m\u001b[38;5;124;43m'\u001b[39;49m\u001b[38;5;241;43m.\u001b[39;49m\u001b[43mjoin\u001b[49m\u001b[43m(\u001b[49m\u001b[38;5;28;43mreversed\u001b[39;49m\u001b[43m(\u001b[49m\u001b[43ml\u001b[49m\u001b[43m)\u001b[49m\u001b[43m)\u001b[49m\n",
      "\u001b[1;31mTypeError\u001b[0m: sequence item 0: expected str instance, int found"
     ]
    }
   ],
   "source": [
    "''.join(reversed(l))"
   ]
  },
  {
   "cell_type": "code",
   "execution_count": 88,
   "id": "8c32736b",
   "metadata": {},
   "outputs": [],
   "source": [
    "s='pavan'"
   ]
  },
  {
   "cell_type": "code",
   "execution_count": 89,
   "id": "1c51f23e",
   "metadata": {},
   "outputs": [
    {
     "data": {
      "text/plain": [
       "'navap'"
      ]
     },
     "execution_count": 89,
     "metadata": {},
     "output_type": "execute_result"
    }
   ],
   "source": [
    "\"\".join(reversed(s))"
   ]
  },
  {
   "cell_type": "code",
   "execution_count": 90,
   "id": "b031ac0d",
   "metadata": {},
   "outputs": [
    {
     "data": {
      "text/plain": [
       "'navap'"
      ]
     },
     "execution_count": 90,
     "metadata": {},
     "output_type": "execute_result"
    }
   ],
   "source": [
    "s[::-1]"
   ]
  },
  {
   "cell_type": "code",
   "execution_count": 91,
   "id": "d5b4b42f",
   "metadata": {},
   "outputs": [],
   "source": [
    "l1=list(pt1)"
   ]
  },
  {
   "cell_type": "code",
   "execution_count": 92,
   "id": "a7464a6b",
   "metadata": {},
   "outputs": [
    {
     "data": {
      "text/plain": [
       "[1, 2.3]"
      ]
     },
     "execution_count": 92,
     "metadata": {},
     "output_type": "execute_result"
    }
   ],
   "source": [
    "l1"
   ]
  },
  {
   "cell_type": "code",
   "execution_count": 93,
   "id": "b7f44bc0",
   "metadata": {},
   "outputs": [
    {
     "data": {
      "text/plain": [
       "(1, 2.3)"
      ]
     },
     "execution_count": 93,
     "metadata": {},
     "output_type": "execute_result"
    }
   ],
   "source": [
    "tuple(l1)"
   ]
  },
  {
   "cell_type": "code",
   "execution_count": 94,
   "id": "576d110a",
   "metadata": {},
   "outputs": [
    {
     "data": {
      "text/plain": [
       "'[1, 2.3]'"
      ]
     },
     "execution_count": 94,
     "metadata": {},
     "output_type": "execute_result"
    }
   ],
   "source": [
    "str(l1)"
   ]
  },
  {
   "cell_type": "code",
   "execution_count": 95,
   "id": "1aa97376",
   "metadata": {},
   "outputs": [],
   "source": [
    "d={}"
   ]
  },
  {
   "cell_type": "code",
   "execution_count": 96,
   "id": "f9ffb110",
   "metadata": {},
   "outputs": [
    {
     "data": {
      "text/plain": [
       "dict"
      ]
     },
     "execution_count": 96,
     "metadata": {},
     "output_type": "execute_result"
    }
   ],
   "source": [
    "type(d)"
   ]
  },
  {
   "cell_type": "code",
   "execution_count": 97,
   "id": "cfa6a34e",
   "metadata": {},
   "outputs": [],
   "source": [
    "d1={1,2}"
   ]
  },
  {
   "cell_type": "code",
   "execution_count": 98,
   "id": "3d90397a",
   "metadata": {},
   "outputs": [
    {
     "data": {
      "text/plain": [
       "set"
      ]
     },
     "execution_count": 98,
     "metadata": {},
     "output_type": "execute_result"
    }
   ],
   "source": [
    "type(d1)"
   ]
  },
  {
   "cell_type": "code",
   "execution_count": 99,
   "id": "6b59f5d3",
   "metadata": {},
   "outputs": [],
   "source": [
    "d2={'key1':'value', 'name':'pavan kumar'}"
   ]
  },
  {
   "cell_type": "code",
   "execution_count": 100,
   "id": "ed82c81f",
   "metadata": {},
   "outputs": [
    {
     "data": {
      "text/plain": [
       "dict"
      ]
     },
     "execution_count": 100,
     "metadata": {},
     "output_type": "execute_result"
    }
   ],
   "source": [
    "type(d2)"
   ]
  },
  {
   "cell_type": "code",
   "execution_count": 101,
   "id": "fcc09be6",
   "metadata": {},
   "outputs": [
    {
     "data": {
      "text/plain": [
       "'pavan kumar'"
      ]
     },
     "execution_count": 101,
     "metadata": {},
     "output_type": "execute_result"
    }
   ],
   "source": [
    "d2['name']"
   ]
  },
  {
   "cell_type": "code",
   "execution_count": 102,
   "id": "cf604af4",
   "metadata": {},
   "outputs": [],
   "source": [
    "d3={'mama':'pavan','kumar':[1,2,3]}"
   ]
  },
  {
   "cell_type": "code",
   "execution_count": 103,
   "id": "23f107fd",
   "metadata": {},
   "outputs": [
    {
     "data": {
      "text/plain": [
       "[1, 2, 3]"
      ]
     },
     "execution_count": 103,
     "metadata": {},
     "output_type": "execute_result"
    }
   ],
   "source": [
    "d3['kumar']"
   ]
  },
  {
   "cell_type": "code",
   "execution_count": 104,
   "id": "7d39520e",
   "metadata": {},
   "outputs": [
    {
     "data": {
      "text/plain": [
       "True"
      ]
     },
     "execution_count": 104,
     "metadata": {},
     "output_type": "execute_result"
    }
   ],
   "source": [
    "1 in d3['kumar']"
   ]
  },
  {
   "cell_type": "code",
   "execution_count": 105,
   "id": "62173574",
   "metadata": {},
   "outputs": [],
   "source": [
    "d4={'name':'pavan kumar','name':'uppala'}"
   ]
  },
  {
   "cell_type": "code",
   "execution_count": 106,
   "id": "453108c0",
   "metadata": {},
   "outputs": [
    {
     "data": {
      "text/plain": [
       "{'name': 'uppala'}"
      ]
     },
     "execution_count": 106,
     "metadata": {},
     "output_type": "execute_result"
    }
   ],
   "source": [
    "d4"
   ]
  },
  {
   "cell_type": "code",
   "execution_count": 107,
   "id": "0c45c28c",
   "metadata": {},
   "outputs": [
    {
     "data": {
      "text/plain": [
       "False"
      ]
     },
     "execution_count": 107,
     "metadata": {},
     "output_type": "execute_result"
    }
   ],
   "source": [
    "'pavan' in d4['name']"
   ]
  },
  {
   "cell_type": "code",
   "execution_count": 108,
   "id": "38ff1aa5",
   "metadata": {},
   "outputs": [],
   "source": [
    "d4['name']=23"
   ]
  },
  {
   "cell_type": "code",
   "execution_count": 109,
   "id": "e1a5cc3c",
   "metadata": {},
   "outputs": [
    {
     "data": {
      "text/plain": [
       "{'name': 23}"
      ]
     },
     "execution_count": 109,
     "metadata": {},
     "output_type": "execute_result"
    }
   ],
   "source": [
    "d4"
   ]
  },
  {
   "cell_type": "code",
   "execution_count": 110,
   "id": "ea797c1a",
   "metadata": {},
   "outputs": [],
   "source": [
    "d4['name2']=56"
   ]
  },
  {
   "cell_type": "code",
   "execution_count": 111,
   "id": "7c6854e4",
   "metadata": {},
   "outputs": [
    {
     "data": {
      "text/plain": [
       "{'name': 23, 'name2': 56}"
      ]
     },
     "execution_count": 111,
     "metadata": {},
     "output_type": "execute_result"
    }
   ],
   "source": [
    "d4"
   ]
  },
  {
   "cell_type": "code",
   "execution_count": 112,
   "id": "e8540d2a",
   "metadata": {},
   "outputs": [],
   "source": [
    "d5={'pavan1':{'pavan':75896,'kumar':123456}}"
   ]
  },
  {
   "cell_type": "code",
   "execution_count": 113,
   "id": "07fecfce",
   "metadata": {},
   "outputs": [
    {
     "data": {
      "text/plain": [
       "123456"
      ]
     },
     "execution_count": 113,
     "metadata": {},
     "output_type": "execute_result"
    }
   ],
   "source": [
    "d5['pavan1']['kumar']"
   ]
  },
  {
   "cell_type": "code",
   "execution_count": 114,
   "id": "48b090c1",
   "metadata": {},
   "outputs": [
    {
     "data": {
      "text/plain": [
       "dict_items([('name', 23), ('name2', 56)])"
      ]
     },
     "execution_count": 114,
     "metadata": {},
     "output_type": "execute_result"
    }
   ],
   "source": [
    "d4.items()"
   ]
  },
  {
   "cell_type": "code",
   "execution_count": 115,
   "id": "009b59a7",
   "metadata": {},
   "outputs": [
    {
     "data": {
      "text/plain": [
       "dict_values([23, 56])"
      ]
     },
     "execution_count": 115,
     "metadata": {},
     "output_type": "execute_result"
    }
   ],
   "source": [
    "d4.values()"
   ]
  },
  {
   "cell_type": "code",
   "execution_count": 116,
   "id": "a3d8f971",
   "metadata": {},
   "outputs": [
    {
     "data": {
      "text/plain": [
       "dict_keys(['name', 'name2'])"
      ]
     },
     "execution_count": 116,
     "metadata": {},
     "output_type": "execute_result"
    }
   ],
   "source": [
    "d4.keys()"
   ]
  },
  {
   "cell_type": "code",
   "execution_count": 117,
   "id": "761f2c29",
   "metadata": {},
   "outputs": [],
   "source": [
    "s={1,2,3,4,4,5,9,10,5,6,6}"
   ]
  },
  {
   "cell_type": "code",
   "execution_count": 118,
   "id": "6fe65300",
   "metadata": {},
   "outputs": [
    {
     "data": {
      "text/plain": [
       "set"
      ]
     },
     "execution_count": 118,
     "metadata": {},
     "output_type": "execute_result"
    }
   ],
   "source": [
    "type(s)"
   ]
  },
  {
   "cell_type": "code",
   "execution_count": 119,
   "id": "39ed51f7",
   "metadata": {},
   "outputs": [
    {
     "data": {
      "text/plain": [
       "{1, 2, 3, 4, 5, 6, 9, 10}"
      ]
     },
     "execution_count": 119,
     "metadata": {},
     "output_type": "execute_result"
    }
   ],
   "source": [
    "s"
   ]
  },
  {
   "cell_type": "code",
   "execution_count": 120,
   "id": "a02efcd0",
   "metadata": {},
   "outputs": [
    {
     "ename": "TypeError",
     "evalue": "'set' object is not reversible",
     "output_type": "error",
     "traceback": [
      "\u001b[1;31m---------------------------------------------------------------------------\u001b[0m",
      "\u001b[1;31mTypeError\u001b[0m                                 Traceback (most recent call last)",
      "Input \u001b[1;32mIn [120]\u001b[0m, in \u001b[0;36m<cell line: 1>\u001b[1;34m()\u001b[0m\n\u001b[1;32m----> 1\u001b[0m \u001b[38;5;124m\"\u001b[39m\u001b[38;5;124m\"\u001b[39m\u001b[38;5;241m.\u001b[39mjoin(\u001b[38;5;28;43mreversed\u001b[39;49m\u001b[43m(\u001b[49m\u001b[43ms\u001b[49m\u001b[43m)\u001b[49m)\n",
      "\u001b[1;31mTypeError\u001b[0m: 'set' object is not reversible"
     ]
    }
   ],
   "source": [
    "\"\".join(reversed(s))"
   ]
  },
  {
   "cell_type": "code",
   "execution_count": 121,
   "id": "4788e8f6",
   "metadata": {},
   "outputs": [],
   "source": [
    "s1={'pavan',52,2,53,156,'ku'}"
   ]
  },
  {
   "cell_type": "code",
   "execution_count": 122,
   "id": "b7cc2029",
   "metadata": {},
   "outputs": [
    {
     "data": {
      "text/plain": [
       "{156, 2, 52, 53, 'ku', 'pavan'}"
      ]
     },
     "execution_count": 122,
     "metadata": {},
     "output_type": "execute_result"
    }
   ],
   "source": [
    "s1"
   ]
  },
  {
   "cell_type": "code",
   "execution_count": 123,
   "id": "06725a11",
   "metadata": {},
   "outputs": [
    {
     "ename": "TypeError",
     "evalue": "'set' object is not subscriptable",
     "output_type": "error",
     "traceback": [
      "\u001b[1;31m---------------------------------------------------------------------------\u001b[0m",
      "\u001b[1;31mTypeError\u001b[0m                                 Traceback (most recent call last)",
      "Input \u001b[1;32mIn [123]\u001b[0m, in \u001b[0;36m<cell line: 1>\u001b[1;34m()\u001b[0m\n\u001b[1;32m----> 1\u001b[0m \u001b[43ms1\u001b[49m\u001b[43m[\u001b[49m\u001b[38;5;241;43m0\u001b[39;49m\u001b[43m]\u001b[49m\n",
      "\u001b[1;31mTypeError\u001b[0m: 'set' object is not subscriptable"
     ]
    }
   ],
   "source": [
    "s1[0]"
   ]
  },
  {
   "cell_type": "code",
   "execution_count": 124,
   "id": "7ad84354",
   "metadata": {},
   "outputs": [
    {
     "data": {
      "text/plain": [
       "['pavan', 2, 'ku', 52, 53, 156]"
      ]
     },
     "execution_count": 124,
     "metadata": {},
     "output_type": "execute_result"
    }
   ],
   "source": [
    "list(s1)"
   ]
  },
  {
   "cell_type": "code",
   "execution_count": 125,
   "id": "f0f56755",
   "metadata": {},
   "outputs": [],
   "source": [
    "l=[1,2,3,4,555,555,666,666,7,7,7,8]"
   ]
  },
  {
   "cell_type": "code",
   "execution_count": 126,
   "id": "e1492dc8",
   "metadata": {},
   "outputs": [],
   "source": [
    "l=list(set(l))"
   ]
  },
  {
   "cell_type": "code",
   "execution_count": 127,
   "id": "c0bf54d6",
   "metadata": {},
   "outputs": [
    {
     "data": {
      "text/plain": [
       "[1, 2, 3, 4, 7, 8, 555, 666]"
      ]
     },
     "execution_count": 127,
     "metadata": {},
     "output_type": "execute_result"
    }
   ],
   "source": [
    "l"
   ]
  },
  {
   "cell_type": "code",
   "execution_count": 128,
   "id": "ca724a7f",
   "metadata": {},
   "outputs": [],
   "source": [
    "s1.add(54)"
   ]
  },
  {
   "cell_type": "code",
   "execution_count": 129,
   "id": "1bf2a8b0",
   "metadata": {},
   "outputs": [
    {
     "data": {
      "text/plain": [
       "{156, 2, 52, 53, 54, 'ku', 'pavan'}"
      ]
     },
     "execution_count": 129,
     "metadata": {},
     "output_type": "execute_result"
    }
   ],
   "source": [
    "s1"
   ]
  },
  {
   "cell_type": "code",
   "execution_count": 130,
   "id": "ec16c391",
   "metadata": {},
   "outputs": [],
   "source": [
    "s2={(1,2,3),5,6}"
   ]
  },
  {
   "cell_type": "code",
   "execution_count": 131,
   "id": "7c9b2fc8",
   "metadata": {},
   "outputs": [
    {
     "data": {
      "text/plain": [
       "{(1, 2, 3), 5, 6}"
      ]
     },
     "execution_count": 131,
     "metadata": {},
     "output_type": "execute_result"
    }
   ],
   "source": [
    "s2"
   ]
  },
  {
   "cell_type": "code",
   "execution_count": 132,
   "id": "7b83662b",
   "metadata": {},
   "outputs": [
    {
     "ename": "TypeError",
     "evalue": "unhashable type: 'list'",
     "output_type": "error",
     "traceback": [
      "\u001b[1;31m---------------------------------------------------------------------------\u001b[0m",
      "\u001b[1;31mTypeError\u001b[0m                                 Traceback (most recent call last)",
      "Input \u001b[1;32mIn [132]\u001b[0m, in \u001b[0;36m<cell line: 1>\u001b[1;34m()\u001b[0m\n\u001b[1;32m----> 1\u001b[0m s3\u001b[38;5;241m=\u001b[39m{[\u001b[38;5;241m1\u001b[39m,\u001b[38;5;241m2\u001b[39m,\u001b[38;5;241m3\u001b[39m],\u001b[38;5;241m2\u001b[39m,\u001b[38;5;241m3\u001b[39m}\n",
      "\u001b[1;31mTypeError\u001b[0m: unhashable type: 'list'"
     ]
    }
   ],
   "source": [
    "s3={[1,2,3],2,3}"
   ]
  },
  {
   "cell_type": "code",
   "execution_count": 133,
   "id": "a7fe5fbe",
   "metadata": {},
   "outputs": [],
   "source": [
    "s2.remove(5)"
   ]
  },
  {
   "cell_type": "code",
   "execution_count": 134,
   "id": "7e2146a3",
   "metadata": {},
   "outputs": [
    {
     "data": {
      "text/plain": [
       "{(1, 2, 3), 6}"
      ]
     },
     "execution_count": 134,
     "metadata": {},
     "output_type": "execute_result"
    }
   ],
   "source": [
    "s2"
   ]
  },
  {
   "cell_type": "code",
   "execution_count": 135,
   "id": "87f4b7c8",
   "metadata": {},
   "outputs": [],
   "source": [
    "s2.discard(456)"
   ]
  },
  {
   "cell_type": "code",
   "execution_count": 136,
   "id": "88e705ae",
   "metadata": {},
   "outputs": [
    {
     "data": {
      "text/plain": [
       "{(1, 2, 3), 6}"
      ]
     },
     "execution_count": 136,
     "metadata": {},
     "output_type": "execute_result"
    }
   ],
   "source": [
    "s2"
   ]
  },
  {
   "cell_type": "code",
   "execution_count": 137,
   "id": "8d53805a",
   "metadata": {},
   "outputs": [
    {
     "ename": "TypeError",
     "evalue": "set.pop() takes no arguments (1 given)",
     "output_type": "error",
     "traceback": [
      "\u001b[1;31m---------------------------------------------------------------------------\u001b[0m",
      "\u001b[1;31mTypeError\u001b[0m                                 Traceback (most recent call last)",
      "Input \u001b[1;32mIn [137]\u001b[0m, in \u001b[0;36m<cell line: 1>\u001b[1;34m()\u001b[0m\n\u001b[1;32m----> 1\u001b[0m \u001b[43ms2\u001b[49m\u001b[38;5;241;43m.\u001b[39;49m\u001b[43mpop\u001b[49m\u001b[43m(\u001b[49m\u001b[38;5;241;43m6\u001b[39;49m\u001b[43m)\u001b[49m\n",
      "\u001b[1;31mTypeError\u001b[0m: set.pop() takes no arguments (1 given)"
     ]
    }
   ],
   "source": [
    "s2.pop(6)"
   ]
  },
  {
   "cell_type": "code",
   "execution_count": 138,
   "id": "f899ca59",
   "metadata": {},
   "outputs": [],
   "source": [
    "l=[3,4,5,6,7,[23,456,67,8,78,78],[3645,56,87,8,98,9],(234,6657,6),{'key1':'sudh',234:[24,46,456]}]"
   ]
  },
  {
   "cell_type": "code",
   "execution_count": 139,
   "id": "226d4ca0",
   "metadata": {},
   "outputs": [
    {
     "data": {
      "text/plain": [
       "[3,\n",
       " 4,\n",
       " 5,\n",
       " 6,\n",
       " 7,\n",
       " [23, 456, 67, 8, 78, 78],\n",
       " [3645, 56, 87, 8, 98, 9],\n",
       " (234, 6657, 6),\n",
       " {'key1': 'sudh', 234: [24, 46, 456]}]"
      ]
     },
     "execution_count": 139,
     "metadata": {},
     "output_type": "execute_result"
    }
   ],
   "source": [
    "l"
   ]
  },
  {
   "cell_type": "code",
   "execution_count": 140,
   "id": "904de5f6",
   "metadata": {},
   "outputs": [
    {
     "data": {
      "text/plain": [
       "[{'key1': 'sudh', 234: [24, 46, 456]},\n",
       " (234, 6657, 6),\n",
       " [3645, 56, 87, 8, 98, 9],\n",
       " [23, 456, 67, 8, 78, 78],\n",
       " 7,\n",
       " 6,\n",
       " 5,\n",
       " 4,\n",
       " 3]"
      ]
     },
     "execution_count": 140,
     "metadata": {},
     "output_type": "execute_result"
    }
   ],
   "source": [
    "l[::-1]"
   ]
  },
  {
   "cell_type": "code",
   "execution_count": 141,
   "id": "d710c6d2",
   "metadata": {},
   "outputs": [
    {
     "data": {
      "text/plain": [
       "234"
      ]
     },
     "execution_count": 141,
     "metadata": {},
     "output_type": "execute_result"
    }
   ],
   "source": [
    "l[7][0]"
   ]
  },
  {
   "cell_type": "code",
   "execution_count": 142,
   "id": "544599b1",
   "metadata": {},
   "outputs": [
    {
     "data": {
      "text/plain": [
       "456"
      ]
     },
     "execution_count": 142,
     "metadata": {},
     "output_type": "execute_result"
    }
   ],
   "source": [
    "l[5][1]"
   ]
  },
  {
   "cell_type": "code",
   "execution_count": 143,
   "id": "368ad528",
   "metadata": {},
   "outputs": [
    {
     "data": {
      "text/plain": [
       "[23, 456, 67, 8, 78, 78]"
      ]
     },
     "execution_count": 143,
     "metadata": {},
     "output_type": "execute_result"
    }
   ],
   "source": [
    "l[5]"
   ]
  },
  {
   "cell_type": "code",
   "execution_count": 144,
   "id": "8cb39dc8",
   "metadata": {},
   "outputs": [
    {
     "data": {
      "text/plain": [
       "'sudh'"
      ]
     },
     "execution_count": 144,
     "metadata": {},
     "output_type": "execute_result"
    }
   ],
   "source": [
    "l[8]['key1']"
   ]
  },
  {
   "cell_type": "code",
   "execution_count": 145,
   "id": "059f99ce",
   "metadata": {},
   "outputs": [
    {
     "data": {
      "text/plain": [
       "dict_keys(['key1', 234])"
      ]
     },
     "execution_count": 145,
     "metadata": {},
     "output_type": "execute_result"
    }
   ],
   "source": [
    "l[8].keys()"
   ]
  },
  {
   "cell_type": "code",
   "execution_count": 146,
   "id": "ea3cb0cd",
   "metadata": {},
   "outputs": [
    {
     "data": {
      "text/plain": [
       "dict_values(['sudh', [24, 46, 456]])"
      ]
     },
     "execution_count": 146,
     "metadata": {},
     "output_type": "execute_result"
    }
   ],
   "source": [
    "l[8].values()"
   ]
  },
  {
   "cell_type": "code",
   "execution_count": 147,
   "id": "3bdd575f",
   "metadata": {},
   "outputs": [
    {
     "name": "stdout",
     "output_type": "stream",
     "text": [
      "this is true\n"
     ]
    }
   ],
   "source": [
    "p=45\n",
    "if p!=10:\n",
    "    print('this is true')"
   ]
  },
  {
   "cell_type": "code",
   "execution_count": 148,
   "id": "bb7c3b82",
   "metadata": {},
   "outputs": [
    {
     "name": "stdout",
     "output_type": "stream",
     "text": [
      "wrong\n"
     ]
    }
   ],
   "source": [
    "p=45\n",
    "if p==10:\n",
    "    print('correct')\n",
    "else:\n",
    "    print('wrong')"
   ]
  },
  {
   "cell_type": "code",
   "execution_count": 149,
   "id": "1161325e",
   "metadata": {},
   "outputs": [
    {
     "name": "stdout",
     "output_type": "stream",
     "text": [
      "true\n"
     ]
    }
   ],
   "source": [
    "p=45\n",
    "if p==5:\n",
    "    print('wrong')\n",
    "elif p==44:\n",
    "    print('nearer')\n",
    "else:\n",
    "    print('true')"
   ]
  },
  {
   "cell_type": "code",
   "execution_count": 150,
   "id": "5bf32cfc",
   "metadata": {},
   "outputs": [
    {
     "name": "stdout",
     "output_type": "stream",
     "text": [
      "wrong\n"
     ]
    }
   ],
   "source": [
    "p=45\n",
    "if p==44:\n",
    "  print('nearer')\n",
    "elif p>5:\n",
    "               print('wrong')\n",
    "else:\n",
    " print('true')"
   ]
  },
  {
   "cell_type": "code",
   "execution_count": 151,
   "id": "67e9a344",
   "metadata": {},
   "outputs": [
    {
     "name": "stdout",
     "output_type": "stream",
     "text": [
      "i will buy\n"
     ]
    }
   ],
   "source": [
    "shoes=1000\n",
    "if shoes>1000:\n",
    "    print(\"i can't buy\")\n",
    "elif shoes<1000:\n",
    " print('i will buy 2 pairs')\n",
    "else:\n",
    " print('i will buy')"
   ]
  },
  {
   "cell_type": "code",
   "execution_count": 152,
   "id": "fe3f963c",
   "metadata": {},
   "outputs": [
    {
     "name": "stdout",
     "output_type": "stream",
     "text": [
      "i will buy 2 pairs\n"
     ]
    }
   ],
   "source": [
    "shoes=1000\n",
    "if shoes>1000:\n",
    "    print(\"i can't buy\")\n",
    "elif shoes<=1000:\n",
    " print('i will buy 2 pairs')\n",
    "else:\n",
    " print('i will buy')"
   ]
  },
  {
   "cell_type": "code",
   "execution_count": 153,
   "id": "30d800a3",
   "metadata": {},
   "outputs": [],
   "source": [
    "p=[1,2,3,4,6]"
   ]
  },
  {
   "cell_type": "code",
   "execution_count": 154,
   "id": "474b80ab",
   "metadata": {},
   "outputs": [
    {
     "name": "stdout",
     "output_type": "stream",
     "text": [
      "yes\n"
     ]
    }
   ],
   "source": [
    "if 1 in p :\n",
    "    print('yes')\n",
    "elif 2 in p:\n",
    "    print('yesyes')\n",
    "elif 3 in p:\n",
    "    print('yesyesyes')"
   ]
  },
  {
   "cell_type": "code",
   "execution_count": 155,
   "id": "77a3baf6",
   "metadata": {},
   "outputs": [
    {
     "name": "stdout",
     "output_type": "stream",
     "text": [
      "yesyes\n"
     ]
    }
   ],
   "source": [
    "if 5 in p :\n",
    "    print('yes')\n",
    "elif 2 in p:\n",
    "    print('yesyes')\n",
    "elif 3 in p:\n",
    "    print('yesyesyes')"
   ]
  },
  {
   "cell_type": "code",
   "execution_count": 156,
   "id": "b1050f3a",
   "metadata": {},
   "outputs": [],
   "source": [
    "if 5 in p :\n",
    "    print('yes')\n",
    "elif 9 in p:\n",
    "    print('yesyes')\n",
    "elif 10 in p:\n",
    "    print('yesyesyes')"
   ]
  },
  {
   "cell_type": "code",
   "execution_count": 157,
   "id": "083f09ee",
   "metadata": {},
   "outputs": [
    {
     "name": "stdout",
     "output_type": "stream",
     "text": [
      "ok\n"
     ]
    }
   ],
   "source": [
    "if 5 in p :\n",
    "    print('yes')\n",
    "elif 9 in p:\n",
    "    print('yesyes')\n",
    "elif 10 in p:\n",
    "    print('yesyesyes')\n",
    "else:\n",
    " print('ok')"
   ]
  },
  {
   "cell_type": "code",
   "execution_count": 158,
   "id": "5caf1044",
   "metadata": {},
   "outputs": [
    {
     "name": "stdout",
     "output_type": "stream",
     "text": [
      "yesyes\n",
      "yesyesyes\n"
     ]
    }
   ],
   "source": [
    "if 5 in p :\n",
    "    print('yes')\n",
    "elif 6 in p:\n",
    "    print('yesyes')\n",
    "if 1 in p:\n",
    "    print('yesyesyes')"
   ]
  },
  {
   "cell_type": "code",
   "execution_count": 159,
   "id": "1ca189a0",
   "metadata": {},
   "outputs": [
    {
     "name": "stdout",
     "output_type": "stream",
     "text": [
      "20\n"
     ]
    }
   ],
   "source": [
    "b=input()"
   ]
  },
  {
   "cell_type": "code",
   "execution_count": 160,
   "id": "1542fb11",
   "metadata": {},
   "outputs": [
    {
     "name": "stdout",
     "output_type": "stream",
     "text": [
      "255p\n"
     ]
    },
    {
     "ename": "ValueError",
     "evalue": "invalid literal for int() with base 10: '255p'",
     "output_type": "error",
     "traceback": [
      "\u001b[1;31m---------------------------------------------------------------------------\u001b[0m",
      "\u001b[1;31mValueError\u001b[0m                                Traceback (most recent call last)",
      "Input \u001b[1;32mIn [160]\u001b[0m, in \u001b[0;36m<cell line: 1>\u001b[1;34m()\u001b[0m\n\u001b[1;32m----> 1\u001b[0m b1\u001b[38;5;241m=\u001b[39m\u001b[38;5;28;43mint\u001b[39;49m\u001b[43m(\u001b[49m\u001b[38;5;28;43minput\u001b[39;49m\u001b[43m(\u001b[49m\u001b[43m)\u001b[49m\u001b[43m)\u001b[49m\n",
      "\u001b[1;31mValueError\u001b[0m: invalid literal for int() with base 10: '255p'"
     ]
    }
   ],
   "source": [
    "b1=int(input())"
   ]
  },
  {
   "cell_type": "code",
   "execution_count": 161,
   "id": "d4a1da27",
   "metadata": {},
   "outputs": [
    {
     "name": "stdout",
     "output_type": "stream",
     "text": [
      "25p\n"
     ]
    }
   ],
   "source": [
    "b1=str(input())"
   ]
  },
  {
   "cell_type": "code",
   "execution_count": 162,
   "id": "02a5e612",
   "metadata": {},
   "outputs": [
    {
     "data": {
      "text/plain": [
       "str"
      ]
     },
     "execution_count": 162,
     "metadata": {},
     "output_type": "execute_result"
    }
   ],
   "source": [
    "type(b1)"
   ]
  },
  {
   "cell_type": "code",
   "execution_count": 163,
   "id": "6c53b55b",
   "metadata": {},
   "outputs": [
    {
     "name": "stdout",
     "output_type": "stream",
     "text": [
      "500\n",
      "i won't be able to buy anything in this price tag\n"
     ]
    }
   ],
   "source": [
    "price=int(input())\n",
    "if price<500:\n",
    "    print('i will be able to buy something')\n",
    "if price<400:\n",
    "    print('i will be able to buy shirt')\n",
    "if price<300:\n",
    "    print('i will be able to buy underwear')\n",
    "else:\n",
    "    print(\"i won't be able to buy anything in this price tag\")"
   ]
  },
  {
   "cell_type": "code",
   "execution_count": 164,
   "id": "42527b3a",
   "metadata": {},
   "outputs": [
    {
     "name": "stdout",
     "output_type": "stream",
     "text": [
      "2550\n",
      "i won't be able to buy anything in this price tag\n"
     ]
    }
   ],
   "source": [
    "price=int(input())\n",
    "if price<500:\n",
    "    print('i will be able to buy something')\n",
    "elif price<400:\n",
    "    print('i will be able to buy shirt')\n",
    "if price<300:\n",
    "    print('i will be able to buy underwear')\n",
    "else:\n",
    "    print(\"i won't be able to buy anything in this price tag\")"
   ]
  },
  {
   "cell_type": "code",
   "execution_count": 165,
   "id": "7551127f",
   "metadata": {},
   "outputs": [
    {
     "name": "stdout",
     "output_type": "stream",
     "text": [
      "25\n",
      "i will be able to buy something\n",
      "i will be able to buy underwear\n"
     ]
    }
   ],
   "source": [
    "price=int(input())\n",
    "if price<500:\n",
    "    print('i will be able to buy something')\n",
    "elif price<400:\n",
    "    print('i will be able to buy shirt')\n",
    "if price<300:\n",
    "    print('i will be able to buy underwear')\n",
    "else:\n",
    "    print(\"i won't be able to buy anything in this price tag\")"
   ]
  },
  {
   "cell_type": "code",
   "execution_count": 166,
   "id": "f4742358",
   "metadata": {},
   "outputs": [
    {
     "name": "stdout",
     "output_type": "stream",
     "text": [
      "250.\n"
     ]
    },
    {
     "ename": "ValueError",
     "evalue": "invalid literal for int() with base 10: '250.'",
     "output_type": "error",
     "traceback": [
      "\u001b[1;31m---------------------------------------------------------------------------\u001b[0m",
      "\u001b[1;31mValueError\u001b[0m                                Traceback (most recent call last)",
      "Input \u001b[1;32mIn [166]\u001b[0m, in \u001b[0;36m<cell line: 1>\u001b[1;34m()\u001b[0m\n\u001b[1;32m----> 1\u001b[0m price\u001b[38;5;241m=\u001b[39m\u001b[38;5;28;43mint\u001b[39;49m\u001b[43m(\u001b[49m\u001b[38;5;28;43minput\u001b[39;49m\u001b[43m(\u001b[49m\u001b[43m)\u001b[49m\u001b[43m)\u001b[49m\n\u001b[0;32m      2\u001b[0m \u001b[38;5;28;01mif\u001b[39;00m price\u001b[38;5;241m<\u001b[39m\u001b[38;5;241m500\u001b[39m:\n\u001b[0;32m      3\u001b[0m     \u001b[38;5;28mprint\u001b[39m(\u001b[38;5;124m'\u001b[39m\u001b[38;5;124mi will be able to buy something\u001b[39m\u001b[38;5;124m'\u001b[39m)\n",
      "\u001b[1;31mValueError\u001b[0m: invalid literal for int() with base 10: '250.'"
     ]
    }
   ],
   "source": [
    "price=int(input())\n",
    "if price<500:\n",
    "    print('i will be able to buy something')\n",
    "elif price<400:\n",
    "    print('i will be able to buy shirt')\n",
    "if price<300:\n",
    "    print('i will be able to buy underwear')\n",
    "else:\n",
    "    print(\"i won't be able to buy anything in this price tag\")"
   ]
  },
  {
   "cell_type": "code",
   "execution_count": 167,
   "id": "d71e5fe9",
   "metadata": {},
   "outputs": [
    {
     "name": "stdout",
     "output_type": "stream",
     "text": [
      "enter a floating point number0.5\n",
      "entered value is a positive number\n"
     ]
    }
   ],
   "source": [
    "val=float(input('enter a floating point number'))\n",
    "if val>=0:\n",
    "    if val==0:\n",
    "        print('entered value is zero')\n",
    "    else:\n",
    "        print('entered value is a positive number')\n",
    "else:\n",
    "        print('entered value is a negative number')"
   ]
  },
  {
   "cell_type": "code",
   "execution_count": 168,
   "id": "7580ab66",
   "metadata": {},
   "outputs": [
    {
     "data": {
      "text/plain": [
       "3"
      ]
     },
     "execution_count": 168,
     "metadata": {},
     "output_type": "execute_result"
    }
   ],
   "source": [
    "5-2"
   ]
  },
  {
   "cell_type": "code",
   "execution_count": 169,
   "id": "a8e260d4",
   "metadata": {},
   "outputs": [
    {
     "name": "stdout",
     "output_type": "stream",
     "text": [
      "print a\n"
     ]
    }
   ],
   "source": [
    "a=50\n",
    "if a<100 or a==60:\n",
    "    print('print a')"
   ]
  },
  {
   "cell_type": "code",
   "execution_count": 170,
   "id": "481341f1",
   "metadata": {},
   "outputs": [],
   "source": [
    "a=50\n",
    "if a<100 and a==60:\n",
    "    print('print a')"
   ]
  },
  {
   "cell_type": "code",
   "execution_count": 171,
   "id": "265bc5e7",
   "metadata": {},
   "outputs": [
    {
     "name": "stdout",
     "output_type": "stream",
     "text": [
      "print a\n"
     ]
    }
   ],
   "source": [
    "a=50\n",
    "if a<100 and a==50:\n",
    "    print('print a')"
   ]
  },
  {
   "cell_type": "code",
   "execution_count": 173,
   "id": "a8f2bf6e",
   "metadata": {},
   "outputs": [
    {
     "name": "stdout",
     "output_type": "stream",
     "text": [
      "true\n"
     ]
    }
   ],
   "source": [
    "a=1\n",
    "b=2\n",
    "c=3\n",
    "d=4\n",
    "e=5\n",
    "if a==1 or b==3 and c==3 and d==4 or e==6:\n",
    "    print('true')\n",
    " "
   ]
  },
  {
   "cell_type": "code",
   "execution_count": 174,
   "id": "13bf5a7b",
   "metadata": {},
   "outputs": [],
   "source": [
    "d={'key1':'value','key2':'pavan','key3':'kumar'}"
   ]
  },
  {
   "cell_type": "code",
   "execution_count": 180,
   "id": "39f5f764",
   "metadata": {},
   "outputs": [
    {
     "name": "stdout",
     "output_type": "stream",
     "text": [
      "dict_values(['value', 'pavan', 'kumar'])\n"
     ]
    }
   ],
   "source": [
    "if d['key1']=='value' and d['key2']=='pavan':\n",
    "    print(d.values())"
   ]
  },
  {
   "cell_type": "code",
   "execution_count": 181,
   "id": "b138c72f",
   "metadata": {},
   "outputs": [],
   "source": [
    "l=[1,2,3,4]"
   ]
  },
  {
   "cell_type": "code",
   "execution_count": 184,
   "id": "995f18f8",
   "metadata": {},
   "outputs": [
    {
     "data": {
      "text/plain": [
       "[4, 3]"
      ]
     },
     "execution_count": 184,
     "metadata": {},
     "output_type": "execute_result"
    }
   ],
   "source": [
    "l[3:1:-1]"
   ]
  },
  {
   "cell_type": "code",
   "execution_count": 186,
   "id": "12288867",
   "metadata": {},
   "outputs": [
    {
     "name": "stdout",
     "output_type": "stream",
     "text": [
      "1\n",
      "2\n",
      "3\n",
      "4\n"
     ]
    }
   ],
   "source": [
    "for i in l:\n",
    "    print (i)"
   ]
  },
  {
   "cell_type": "code",
   "execution_count": 187,
   "id": "3a29c10e",
   "metadata": {},
   "outputs": [
    {
     "name": "stdout",
     "output_type": "stream",
     "text": [
      "2\n",
      "3\n",
      "4\n",
      "5\n"
     ]
    }
   ],
   "source": [
    "for i in l:\n",
    "    print(i+1)"
   ]
  },
  {
   "cell_type": "code",
   "execution_count": 188,
   "id": "5f1cc9cf",
   "metadata": {},
   "outputs": [],
   "source": [
    "l1=[1,'pavan']"
   ]
  },
  {
   "cell_type": "code",
   "execution_count": 189,
   "id": "f1a1231e",
   "metadata": {},
   "outputs": [
    {
     "name": "stdout",
     "output_type": "stream",
     "text": [
      "2\n"
     ]
    },
    {
     "ename": "TypeError",
     "evalue": "can only concatenate str (not \"int\") to str",
     "output_type": "error",
     "traceback": [
      "\u001b[1;31m---------------------------------------------------------------------------\u001b[0m",
      "\u001b[1;31mTypeError\u001b[0m                                 Traceback (most recent call last)",
      "Input \u001b[1;32mIn [189]\u001b[0m, in \u001b[0;36m<cell line: 1>\u001b[1;34m()\u001b[0m\n\u001b[0;32m      1\u001b[0m \u001b[38;5;28;01mfor\u001b[39;00m i \u001b[38;5;129;01min\u001b[39;00m l1:\n\u001b[1;32m----> 2\u001b[0m     \u001b[38;5;28mprint\u001b[39m(\u001b[43mi\u001b[49m\u001b[38;5;241;43m+\u001b[39;49m\u001b[38;5;241;43m1\u001b[39;49m)\n",
      "\u001b[1;31mTypeError\u001b[0m: can only concatenate str (not \"int\") to str"
     ]
    }
   ],
   "source": [
    "for i in l1:\n",
    "    print(i+1)"
   ]
  },
  {
   "cell_type": "code",
   "execution_count": 191,
   "id": "b9ac36af",
   "metadata": {},
   "outputs": [
    {
     "name": "stdout",
     "output_type": "stream",
     "text": [
      "2\n",
      "3\n",
      "4\n",
      "5\n"
     ]
    }
   ],
   "source": [
    "for i in l:\n",
    "    if type(i)==int:\n",
    "        print(i+1)\n",
    "    elif type(i)==str:\n",
    "        print(i+str(1))"
   ]
  },
  {
   "cell_type": "code",
   "execution_count": 192,
   "id": "38e43c2c",
   "metadata": {},
   "outputs": [
    {
     "name": "stdout",
     "output_type": "stream",
     "text": [
      "2\n",
      "pavan1\n"
     ]
    }
   ],
   "source": [
    "for i in l1:\n",
    "    if type(i)==int:\n",
    "        print(i+1)\n",
    "    elif type(i)==str:\n",
    "        print(i+str(1))"
   ]
  },
  {
   "cell_type": "code",
   "execution_count": 193,
   "id": "6f44c470",
   "metadata": {},
   "outputs": [],
   "source": [
    "l2=[1.3,2.4,'pavan',1]"
   ]
  },
  {
   "cell_type": "code",
   "execution_count": 196,
   "id": "943add41",
   "metadata": {},
   "outputs": [
    {
     "name": "stdout",
     "output_type": "stream",
     "text": [
      "pavan1\n",
      "0\n"
     ]
    }
   ],
   "source": [
    "for i in l2:\n",
    "    if type(i)==int:\n",
    "        print(i-1)\n",
    "    elif type(i)==str:\n",
    "        print(i+str(1))\n",
    "    elif type(i)==float:\n",
    "        l1.append(i)"
   ]
  },
  {
   "cell_type": "code",
   "execution_count": 197,
   "id": "e0f9623c",
   "metadata": {},
   "outputs": [
    {
     "data": {
      "text/plain": [
       "[1, 'pavan', 1.3, 2.4]"
      ]
     },
     "execution_count": 197,
     "metadata": {},
     "output_type": "execute_result"
    }
   ],
   "source": [
    "l1"
   ]
  },
  {
   "cell_type": "code",
   "execution_count": 198,
   "id": "ecc5449c",
   "metadata": {},
   "outputs": [],
   "source": [
    "for i in l2:\n",
    "    if type(i)==int:\n",
    "        l.append(i)"
   ]
  },
  {
   "cell_type": "code",
   "execution_count": 199,
   "id": "93d2f0d6",
   "metadata": {},
   "outputs": [
    {
     "data": {
      "text/plain": [
       "[1, 2, 3, 4, 1]"
      ]
     },
     "execution_count": 199,
     "metadata": {},
     "output_type": "execute_result"
    }
   ],
   "source": [
    "l"
   ]
  },
  {
   "cell_type": "code",
   "execution_count": 201,
   "id": "a4c1078e",
   "metadata": {},
   "outputs": [],
   "source": [
    "l.sort()"
   ]
  },
  {
   "cell_type": "code",
   "execution_count": 202,
   "id": "7c1ac6a9",
   "metadata": {},
   "outputs": [
    {
     "data": {
      "text/plain": [
       "[1, 1, 2, 3, 4]"
      ]
     },
     "execution_count": 202,
     "metadata": {},
     "output_type": "execute_result"
    }
   ],
   "source": [
    "l"
   ]
  },
  {
   "cell_type": "code",
   "execution_count": 207,
   "id": "7741ce5b",
   "metadata": {},
   "outputs": [],
   "source": [
    "l.sort(reverse=True)"
   ]
  },
  {
   "cell_type": "code",
   "execution_count": 208,
   "id": "25f60b2c",
   "metadata": {},
   "outputs": [
    {
     "data": {
      "text/plain": [
       "[4, 3, 2, 1, 1]"
      ]
     },
     "execution_count": 208,
     "metadata": {},
     "output_type": "execute_result"
    }
   ],
   "source": [
    "l"
   ]
  },
  {
   "cell_type": "code",
   "execution_count": 209,
   "id": "7ca2601a",
   "metadata": {},
   "outputs": [],
   "source": [
    "s='pavan'"
   ]
  },
  {
   "cell_type": "code",
   "execution_count": 211,
   "id": "7a82aacc",
   "metadata": {},
   "outputs": [
    {
     "data": {
      "text/plain": [
       "False"
      ]
     },
     "execution_count": 211,
     "metadata": {},
     "output_type": "execute_result"
    }
   ],
   "source": [
    "s.isnumeric()"
   ]
  },
  {
   "cell_type": "code",
   "execution_count": 214,
   "id": "2154ba6f",
   "metadata": {},
   "outputs": [
    {
     "data": {
      "text/plain": [
       "True"
      ]
     },
     "execution_count": 214,
     "metadata": {},
     "output_type": "execute_result"
    }
   ],
   "source": [
    "s.isalpha()"
   ]
  },
  {
   "cell_type": "code",
   "execution_count": 223,
   "id": "82f0e2a3",
   "metadata": {},
   "outputs": [],
   "source": [
    "s1='pavan1232'"
   ]
  },
  {
   "cell_type": "code",
   "execution_count": 224,
   "id": "87d26f63",
   "metadata": {},
   "outputs": [
    {
     "data": {
      "text/plain": [
       "True"
      ]
     },
     "execution_count": 224,
     "metadata": {},
     "output_type": "execute_result"
    }
   ],
   "source": [
    "s1.isalnum()"
   ]
  },
  {
   "cell_type": "code",
   "execution_count": 226,
   "id": "56b9a256",
   "metadata": {},
   "outputs": [
    {
     "data": {
      "text/plain": [
       "False"
      ]
     },
     "execution_count": 226,
     "metadata": {},
     "output_type": "execute_result"
    }
   ],
   "source": [
    "s1.isnumeric()"
   ]
  },
  {
   "cell_type": "code",
   "execution_count": 227,
   "id": "167ba7c6",
   "metadata": {},
   "outputs": [
    {
     "data": {
      "text/plain": [
       "False"
      ]
     },
     "execution_count": 227,
     "metadata": {},
     "output_type": "execute_result"
    }
   ],
   "source": [
    "s1.isalpha()"
   ]
  },
  {
   "cell_type": "code",
   "execution_count": null,
   "id": "3518cc78",
   "metadata": {},
   "outputs": [],
   "source": []
  }
 ],
 "metadata": {
  "kernelspec": {
   "display_name": "Python 3 (ipykernel)",
   "language": "python",
   "name": "python3"
  },
  "language_info": {
   "codemirror_mode": {
    "name": "ipython",
    "version": 3
   },
   "file_extension": ".py",
   "mimetype": "text/x-python",
   "name": "python",
   "nbconvert_exporter": "python",
   "pygments_lexer": "ipython3",
   "version": "3.9.12"
  }
 },
 "nbformat": 4,
 "nbformat_minor": 5
}
